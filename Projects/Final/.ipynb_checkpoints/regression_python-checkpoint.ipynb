{
 "cells": [
  {
   "cell_type": "code",
   "execution_count": 47,
   "id": "1a01e930",
   "metadata": {},
   "outputs": [],
   "source": [
    "import numpy as np\n",
    "import pandas as pd\n",
    "import matplotlib.pyplot as plt\n",
    "import seaborn as sns "
   ]
  },
  {
   "cell_type": "code",
   "execution_count": 41,
   "id": "2cfdd103",
   "metadata": {},
   "outputs": [],
   "source": [
    "from sklearn import linear_model\n",
    "from sklearn.metrics import mean_squared_error, r2_score "
   ]
  },
  {
   "cell_type": "code",
   "execution_count": 2,
   "id": "a27c0acc",
   "metadata": {},
   "outputs": [],
   "source": [
    "df = pd.read_csv (\"cases_keywords_complete_V2 - Hoja 1.csv\")"
   ]
  },
  {
   "cell_type": "code",
   "execution_count": 3,
   "id": "b0c75e18",
   "metadata": {},
   "outputs": [
    {
     "data": {
      "text/html": [
       "<div>\n",
       "<style scoped>\n",
       "    .dataframe tbody tr th:only-of-type {\n",
       "        vertical-align: middle;\n",
       "    }\n",
       "\n",
       "    .dataframe tbody tr th {\n",
       "        vertical-align: top;\n",
       "    }\n",
       "\n",
       "    .dataframe thead th {\n",
       "        text-align: right;\n",
       "    }\n",
       "</style>\n",
       "<table border=\"1\" class=\"dataframe\">\n",
       "  <thead>\n",
       "    <tr style=\"text-align: right;\">\n",
       "      <th></th>\n",
       "      <th>fecha</th>\n",
       "      <th>Index</th>\n",
       "      <th>casos</th>\n",
       "      <th>tos</th>\n",
       "      <th>dolor de garganta</th>\n",
       "      <th>fiebre</th>\n",
       "      <th>cansancio</th>\n",
       "      <th>dolor de cabeza</th>\n",
       "      <th>suma_keys_sintomas</th>\n",
       "      <th>tengo covid</th>\n",
       "      <th>sintomas covid</th>\n",
       "      <th>test covid</th>\n",
       "      <th>suma_keys_preguntas</th>\n",
       "    </tr>\n",
       "  </thead>\n",
       "  <tbody>\n",
       "    <tr>\n",
       "      <th>0</th>\n",
       "      <td>1/1/20</td>\n",
       "      <td>1</td>\n",
       "      <td>1.0</td>\n",
       "      <td>27.0</td>\n",
       "      <td>4.0</td>\n",
       "      <td>17.0</td>\n",
       "      <td>2.0</td>\n",
       "      <td>12.0</td>\n",
       "      <td>62.0</td>\n",
       "      <td>0.0</td>\n",
       "      <td>0.0</td>\n",
       "      <td>0.0</td>\n",
       "      <td>0.0</td>\n",
       "    </tr>\n",
       "    <tr>\n",
       "      <th>1</th>\n",
       "      <td>2/1/20</td>\n",
       "      <td>2</td>\n",
       "      <td>0.0</td>\n",
       "      <td>16.0</td>\n",
       "      <td>4.0</td>\n",
       "      <td>17.0</td>\n",
       "      <td>2.0</td>\n",
       "      <td>5.0</td>\n",
       "      <td>44.0</td>\n",
       "      <td>0.0</td>\n",
       "      <td>0.0</td>\n",
       "      <td>0.0</td>\n",
       "      <td>0.0</td>\n",
       "    </tr>\n",
       "    <tr>\n",
       "      <th>2</th>\n",
       "      <td>3/1/20</td>\n",
       "      <td>3</td>\n",
       "      <td>1.0</td>\n",
       "      <td>23.0</td>\n",
       "      <td>7.0</td>\n",
       "      <td>19.0</td>\n",
       "      <td>3.0</td>\n",
       "      <td>6.0</td>\n",
       "      <td>58.0</td>\n",
       "      <td>0.0</td>\n",
       "      <td>0.0</td>\n",
       "      <td>0.0</td>\n",
       "      <td>0.0</td>\n",
       "    </tr>\n",
       "    <tr>\n",
       "      <th>3</th>\n",
       "      <td>4/1/20</td>\n",
       "      <td>4</td>\n",
       "      <td>0.0</td>\n",
       "      <td>21.0</td>\n",
       "      <td>4.0</td>\n",
       "      <td>18.0</td>\n",
       "      <td>2.0</td>\n",
       "      <td>7.0</td>\n",
       "      <td>52.0</td>\n",
       "      <td>0.0</td>\n",
       "      <td>0.0</td>\n",
       "      <td>0.0</td>\n",
       "      <td>0.0</td>\n",
       "    </tr>\n",
       "    <tr>\n",
       "      <th>4</th>\n",
       "      <td>5/1/20</td>\n",
       "      <td>5</td>\n",
       "      <td>0.0</td>\n",
       "      <td>16.0</td>\n",
       "      <td>5.0</td>\n",
       "      <td>15.0</td>\n",
       "      <td>2.0</td>\n",
       "      <td>10.0</td>\n",
       "      <td>48.0</td>\n",
       "      <td>0.0</td>\n",
       "      <td>0.0</td>\n",
       "      <td>0.0</td>\n",
       "      <td>0.0</td>\n",
       "    </tr>\n",
       "  </tbody>\n",
       "</table>\n",
       "</div>"
      ],
      "text/plain": [
       "    fecha  Index  casos   tos  dolor de garganta  fiebre  cansancio  \\\n",
       "0  1/1/20      1    1.0  27.0                4.0    17.0        2.0   \n",
       "1  2/1/20      2    0.0  16.0                4.0    17.0        2.0   \n",
       "2  3/1/20      3    1.0  23.0                7.0    19.0        3.0   \n",
       "3  4/1/20      4    0.0  21.0                4.0    18.0        2.0   \n",
       "4  5/1/20      5    0.0  16.0                5.0    15.0        2.0   \n",
       "\n",
       "   dolor de cabeza  suma_keys_sintomas  tengo covid  sintomas covid  \\\n",
       "0             12.0                62.0          0.0             0.0   \n",
       "1              5.0                44.0          0.0             0.0   \n",
       "2              6.0                58.0          0.0             0.0   \n",
       "3              7.0                52.0          0.0             0.0   \n",
       "4             10.0                48.0          0.0             0.0   \n",
       "\n",
       "   test covid  suma_keys_preguntas  \n",
       "0         0.0                  0.0  \n",
       "1         0.0                  0.0  \n",
       "2         0.0                  0.0  \n",
       "3         0.0                  0.0  \n",
       "4         0.0                  0.0  "
      ]
     },
     "execution_count": 3,
     "metadata": {},
     "output_type": "execute_result"
    }
   ],
   "source": [
    "df.head()"
   ]
  },
  {
   "cell_type": "code",
   "execution_count": 5,
   "id": "9cd65b40",
   "metadata": {},
   "outputs": [],
   "source": [
    "data = df.drop([\"fecha\",\"Index\",\"suma_keys_sintomas\",\"suma_keys_preguntas\"],axis=1)"
   ]
  },
  {
   "cell_type": "code",
   "execution_count": 6,
   "id": "92ef7987",
   "metadata": {},
   "outputs": [
    {
     "data": {
      "text/html": [
       "<div>\n",
       "<style scoped>\n",
       "    .dataframe tbody tr th:only-of-type {\n",
       "        vertical-align: middle;\n",
       "    }\n",
       "\n",
       "    .dataframe tbody tr th {\n",
       "        vertical-align: top;\n",
       "    }\n",
       "\n",
       "    .dataframe thead th {\n",
       "        text-align: right;\n",
       "    }\n",
       "</style>\n",
       "<table border=\"1\" class=\"dataframe\">\n",
       "  <thead>\n",
       "    <tr style=\"text-align: right;\">\n",
       "      <th></th>\n",
       "      <th>casos</th>\n",
       "      <th>tos</th>\n",
       "      <th>dolor de garganta</th>\n",
       "      <th>fiebre</th>\n",
       "      <th>cansancio</th>\n",
       "      <th>dolor de cabeza</th>\n",
       "      <th>tengo covid</th>\n",
       "      <th>sintomas covid</th>\n",
       "      <th>test covid</th>\n",
       "    </tr>\n",
       "  </thead>\n",
       "  <tbody>\n",
       "    <tr>\n",
       "      <th>0</th>\n",
       "      <td>1.0</td>\n",
       "      <td>27.0</td>\n",
       "      <td>4.0</td>\n",
       "      <td>17.0</td>\n",
       "      <td>2.0</td>\n",
       "      <td>12.0</td>\n",
       "      <td>0.0</td>\n",
       "      <td>0.0</td>\n",
       "      <td>0.0</td>\n",
       "    </tr>\n",
       "    <tr>\n",
       "      <th>1</th>\n",
       "      <td>0.0</td>\n",
       "      <td>16.0</td>\n",
       "      <td>4.0</td>\n",
       "      <td>17.0</td>\n",
       "      <td>2.0</td>\n",
       "      <td>5.0</td>\n",
       "      <td>0.0</td>\n",
       "      <td>0.0</td>\n",
       "      <td>0.0</td>\n",
       "    </tr>\n",
       "    <tr>\n",
       "      <th>2</th>\n",
       "      <td>1.0</td>\n",
       "      <td>23.0</td>\n",
       "      <td>7.0</td>\n",
       "      <td>19.0</td>\n",
       "      <td>3.0</td>\n",
       "      <td>6.0</td>\n",
       "      <td>0.0</td>\n",
       "      <td>0.0</td>\n",
       "      <td>0.0</td>\n",
       "    </tr>\n",
       "    <tr>\n",
       "      <th>3</th>\n",
       "      <td>0.0</td>\n",
       "      <td>21.0</td>\n",
       "      <td>4.0</td>\n",
       "      <td>18.0</td>\n",
       "      <td>2.0</td>\n",
       "      <td>7.0</td>\n",
       "      <td>0.0</td>\n",
       "      <td>0.0</td>\n",
       "      <td>0.0</td>\n",
       "    </tr>\n",
       "    <tr>\n",
       "      <th>4</th>\n",
       "      <td>0.0</td>\n",
       "      <td>16.0</td>\n",
       "      <td>5.0</td>\n",
       "      <td>15.0</td>\n",
       "      <td>2.0</td>\n",
       "      <td>10.0</td>\n",
       "      <td>0.0</td>\n",
       "      <td>0.0</td>\n",
       "      <td>0.0</td>\n",
       "    </tr>\n",
       "  </tbody>\n",
       "</table>\n",
       "</div>"
      ],
      "text/plain": [
       "   casos   tos  dolor de garganta  fiebre  cansancio  dolor de cabeza  \\\n",
       "0    1.0  27.0                4.0    17.0        2.0             12.0   \n",
       "1    0.0  16.0                4.0    17.0        2.0              5.0   \n",
       "2    1.0  23.0                7.0    19.0        3.0              6.0   \n",
       "3    0.0  21.0                4.0    18.0        2.0              7.0   \n",
       "4    0.0  16.0                5.0    15.0        2.0             10.0   \n",
       "\n",
       "   tengo covid  sintomas covid  test covid  \n",
       "0          0.0             0.0         0.0  \n",
       "1          0.0             0.0         0.0  \n",
       "2          0.0             0.0         0.0  \n",
       "3          0.0             0.0         0.0  \n",
       "4          0.0             0.0         0.0  "
      ]
     },
     "execution_count": 6,
     "metadata": {},
     "output_type": "execute_result"
    }
   ],
   "source": [
    "data.head()"
   ]
  },
  {
   "cell_type": "code",
   "execution_count": 27,
   "id": "bc7de47d",
   "metadata": {},
   "outputs": [],
   "source": [
    "data = data.dropna()"
   ]
  },
  {
   "cell_type": "code",
   "execution_count": 30,
   "id": "2b453724",
   "metadata": {},
   "outputs": [
    {
     "data": {
      "text/plain": [
       "<bound method DataFrame.info of        casos   tos  dolor de garganta  fiebre  cansancio  dolor de cabeza  \\\n",
       "0        1.0  27.0                4.0    17.0        2.0             12.0   \n",
       "1        0.0  16.0                4.0    17.0        2.0              5.0   \n",
       "2        1.0  23.0                7.0    19.0        3.0              6.0   \n",
       "3        0.0  21.0                4.0    18.0        2.0              7.0   \n",
       "4        0.0  16.0                5.0    15.0        2.0             10.0   \n",
       "..       ...   ...                ...     ...        ...              ...   \n",
       "565  18613.0  17.0               11.0   100.0       10.0             19.0   \n",
       "566  15243.0  18.0                6.0    45.0        9.0             14.0   \n",
       "567  30587.0  19.0                8.0    44.0        6.0             13.0   \n",
       "568  29535.0  19.0               11.0    50.0       10.0             20.0   \n",
       "569  31171.0  10.0                8.0    42.0        8.0             22.0   \n",
       "\n",
       "     tengo covid  sintomas covid  test covid  \n",
       "0            0.0             0.0         0.0  \n",
       "1            0.0             0.0         0.0  \n",
       "2            0.0             0.0         0.0  \n",
       "3            0.0             0.0         0.0  \n",
       "4            0.0             0.0         0.0  \n",
       "..           ...             ...         ...  \n",
       "565         13.0            78.0        82.0  \n",
       "566         13.0            48.0       100.0  \n",
       "567         10.0            60.0        71.0  \n",
       "568         20.0            57.0        87.0  \n",
       "569         16.0            60.0        87.0  \n",
       "\n",
       "[570 rows x 9 columns]>"
      ]
     },
     "execution_count": 30,
     "metadata": {},
     "output_type": "execute_result"
    }
   ],
   "source": [
    "data.info"
   ]
  },
  {
   "cell_type": "markdown",
   "id": "c593a9e7",
   "metadata": {},
   "source": [
    "## Set the objective"
   ]
  },
  {
   "cell_type": "code",
   "execution_count": 31,
   "id": "47f68f6b",
   "metadata": {},
   "outputs": [],
   "source": [
    "y = data[\"casos\"]"
   ]
  },
  {
   "cell_type": "code",
   "execution_count": 36,
   "id": "30009c06",
   "metadata": {},
   "outputs": [],
   "source": [
    "X = data.drop([\"casos\"],axis=1)"
   ]
  },
  {
   "cell_type": "code",
   "execution_count": 80,
   "id": "e27fb5b3",
   "metadata": {},
   "outputs": [],
   "source": [
    "lm = linear_model.LinearRegression()"
   ]
  },
  {
   "cell_type": "markdown",
   "id": "f34ec14a",
   "metadata": {},
   "source": [
    "## Apply the model"
   ]
  },
  {
   "cell_type": "code",
   "execution_count": 81,
   "id": "49d32700",
   "metadata": {},
   "outputs": [
    {
     "data": {
      "text/plain": [
       "0.55110026725181"
      ]
     },
     "execution_count": 81,
     "metadata": {},
     "output_type": "execute_result"
    }
   ],
   "source": [
    "line = lm.fit(X,y)\n",
    "lm.score(X,y)"
   ]
  },
  {
   "cell_type": "code",
   "execution_count": 82,
   "id": "e574e1ee",
   "metadata": {},
   "outputs": [
    {
     "data": {
      "text/plain": [
       "array([ 4.88970845e+03,  1.04425627e+03,  2.14031471e+03,  2.57762111e+03,\n",
       "        1.45797293e+03,  1.73902977e+03,  1.88891044e+03,  6.46243057e+02,\n",
       "        2.10106427e+03,  5.23043632e+02,  2.18094176e+03,  9.79575368e+02,\n",
       "        2.33701842e+01, -3.57602394e+02,  5.00350814e+02, -1.02742845e+03,\n",
       "        7.99795290e+02,  8.54778787e+02, -3.19092504e+02,  6.76981070e+00,\n",
       "        4.87685408e+02,  6.23579850e+02,  8.06768191e+02, -1.25136203e+02,\n",
       "        2.14892568e+02,  4.14010663e+02, -4.31277139e+02, -6.38425552e+02,\n",
       "        1.02987021e+03, -7.06007852e+02, -5.00139836e+02,  5.58952411e+02,\n",
       "        2.20386826e+03, -1.75946106e+03,  1.44285367e+02, -7.58546616e+02,\n",
       "       -1.27050211e+03,  1.06085664e+03, -7.43967187e+02,  2.42902084e+03,\n",
       "       -1.58526656e+03, -1.02907906e+03,  1.37960952e+03, -9.49698671e+02,\n",
       "       -6.68958585e+02, -2.08618216e+01, -3.19300721e+01, -4.58138612e+02,\n",
       "       -6.11690844e+02, -6.72313386e+02, -7.02599590e+02,  4.12179711e+02,\n",
       "        1.85569607e+02,  1.74344979e+02,  3.45548076e+03,  4.83520893e+02,\n",
       "       -1.35840775e+03, -8.59002719e+02, -3.13846480e+02, -3.16159336e+02,\n",
       "       -8.69934152e+02,  1.47692206e+03,  1.34415205e+02,  1.58396086e+03,\n",
       "        3.40556003e+02,  1.19757895e+03, -1.24398729e+03,  8.95928832e+02,\n",
       "       -4.16288618e+02,  1.76331748e+03, -1.29320253e+03,  3.39995253e+03,\n",
       "        5.27113909e+03,  3.76208762e+03,  2.89287546e+03,  6.64157245e+03,\n",
       "        6.58260268e+03,  5.63688105e+03,  8.55791729e+03,  1.04628151e+04,\n",
       "        7.20814395e+03,  1.19362807e+04,  6.98039954e+03,  4.09310875e+03,\n",
       "        6.59572594e+03,  6.19011219e+03,  3.56075319e+03,  5.33125529e+03,\n",
       "        4.59681135e+03,  4.10883986e+03,  4.48577106e+03,  4.77322517e+03,\n",
       "        6.50952289e+03,  2.47041211e+03,  4.84942011e+03,  2.34806750e+03,\n",
       "        3.34216077e+03,  3.57497259e+03,  4.83408133e+03,  4.89871212e+03,\n",
       "        5.06747345e+03,  5.54471011e+03,  4.57910524e+03,  3.14912016e+03,\n",
       "        6.05079652e+03,  7.34031464e+03,  5.10852620e+03,  5.02450188e+03,\n",
       "        3.18539768e+03,  5.02378609e+03,  4.02443208e+03,  4.11896719e+03,\n",
       "        8.16815555e+03,  5.13470451e+03,  4.12352579e+03,  4.71580171e+03,\n",
       "        3.46686675e+03,  6.68861380e+03,  5.79425338e+03,  6.37079619e+03,\n",
       "        4.96459546e+03,  2.71991407e+03,  6.06674228e+03,  3.24551960e+03,\n",
       "        4.92219399e+03,  6.08534785e+03,  4.88043863e+03,  7.57974784e+03,\n",
       "        4.47567364e+03,  4.20339730e+03,  2.69173620e+03,  4.24300224e+03,\n",
       "        6.79673596e+03,  9.25188098e+03,  6.70925339e+03,  5.18056758e+03,\n",
       "        4.15610240e+03,  3.34033225e+03,  6.07827163e+03,  5.49107778e+03,\n",
       "        2.73700788e+02,  3.67407302e+03,  2.16858622e+03, -1.19327962e+03,\n",
       "        4.42142569e+03,  3.44801025e+03,  6.33306515e+03,  2.92703545e+03,\n",
       "        4.48183410e+03,  4.67398744e+03,  2.50233462e+03,  2.62987538e+03,\n",
       "        2.56233196e+03, -1.06004346e+03,  2.64948709e+03,  2.55973575e+03,\n",
       "        3.93287293e+03,  1.33095593e+03,  3.23054520e+03,  3.14509056e+03,\n",
       "        2.75001834e+03,  8.86449797e+02,  1.15227719e+02, -7.54970292e+02,\n",
       "        9.41409926e+02,  1.06693345e+03,  1.17401779e+03,  1.93833987e+02,\n",
       "       -2.96722724e+02,  1.44356859e+03,  4.65698400e+02,  2.67846805e+02,\n",
       "        2.59536546e+03,  7.61556204e+02,  5.87638654e+02, -1.17035994e+03,\n",
       "        2.81536058e+02,  1.41828574e+03, -2.62599734e+02,  2.94177325e+03,\n",
       "        3.16971995e+03,  3.91752425e+02,  1.24627412e+03,  6.47152768e+02,\n",
       "       -7.08014020e+02,  6.41404493e+01, -3.14110473e+02,  1.39003352e+03,\n",
       "        2.61105418e+03,  8.87496672e+02,  1.52773224e+03,  4.96985973e+02,\n",
       "       -1.23543210e+03,  1.98803229e+03,  1.62737033e+03, -2.94705635e+02,\n",
       "        2.88499336e+03,  6.77863258e+03,  6.83793821e+03,  2.34290806e+03,\n",
       "        5.12210078e+03,  3.74081862e+03,  6.20733399e+03,  5.99917080e+03,\n",
       "        8.17447163e+03,  7.66369561e+03,  8.20771309e+03,  6.41975725e+03,\n",
       "        6.89559308e+03,  8.34443098e+03,  5.11762571e+03,  1.25198623e+04,\n",
       "        4.58286055e+03,  9.99744119e+03,  1.01092569e+04,  7.71743675e+03,\n",
       "        1.20554853e+04,  1.23282879e+04,  1.13287462e+04,  1.52052793e+04,\n",
       "        1.02886635e+04,  1.03461625e+04,  1.61062007e+04,  1.66549527e+04,\n",
       "        1.25249077e+04,  1.30241714e+04,  1.54771129e+04,  9.59001609e+03,\n",
       "        1.23344239e+04,  1.56045288e+04,  1.72824250e+04,  1.39180872e+04,\n",
       "        1.87557054e+04,  1.71145113e+04,  1.57511368e+04,  1.79700938e+04,\n",
       "        1.71245442e+04,  1.95705903e+04,  1.89687954e+04,  2.00195318e+04,\n",
       "        1.46862364e+04,  1.03692601e+04,  9.87262111e+03,  1.68572250e+04,\n",
       "        1.71053969e+04,  1.62234860e+04,  1.15416111e+04,  1.49718138e+04,\n",
       "        6.75541517e+03,  1.92589898e+04,  1.14825934e+04,  9.92606473e+03,\n",
       "        1.63115154e+04,  1.66289511e+04,  1.07189421e+04,  5.24007708e+03,\n",
       "        1.15774322e+04,  1.15821551e+04,  1.25160460e+04,  1.45542126e+04,\n",
       "        1.68665082e+04,  1.34856159e+04,  1.06182956e+04,  1.89301908e+04,\n",
       "        1.27984433e+04,  1.99052724e+04,  1.72526047e+04,  1.81647454e+04,\n",
       "        1.34729614e+04,  1.58184126e+04,  1.44137578e+04,  2.09708928e+04,\n",
       "        1.16218179e+04,  9.93128501e+03,  1.07389063e+04,  1.21303832e+04,\n",
       "        1.21232887e+04,  1.62357289e+04,  1.27110535e+04,  6.42891450e+03,\n",
       "        4.16236551e+03,  2.23793747e+04,  1.38046612e+04,  1.84344898e+04,\n",
       "        1.04837252e+04,  1.39481991e+04,  8.45574057e+03,  1.24202656e+04,\n",
       "        1.88194900e+04,  1.62727076e+04,  1.69038730e+04,  1.85492154e+04,\n",
       "        1.76755527e+04,  1.91353762e+04,  1.72776774e+04,  2.05998095e+04,\n",
       "        1.86165831e+04,  1.90081939e+04,  1.69639166e+04,  1.99339664e+04,\n",
       "        1.91300356e+04,  2.35956331e+04,  1.75044712e+04,  2.36928076e+04,\n",
       "        1.46722999e+04,  2.12649506e+04,  1.74825081e+04,  1.71477120e+04,\n",
       "        1.13995004e+04,  1.64704773e+04,  1.65709326e+04,  1.37006933e+04,\n",
       "        1.48657294e+04,  1.13419567e+04,  1.42869245e+04,  1.70268876e+04,\n",
       "        1.84944300e+04,  1.33301074e+04,  1.18616044e+04,  1.32844686e+04,\n",
       "        1.39606407e+04,  1.71504029e+04,  1.66229724e+04,  1.19406643e+04,\n",
       "        1.17814242e+04,  7.85173130e+03,  6.21755280e+03,  1.30384095e+04,\n",
       "        1.11259653e+04,  8.88030806e+03,  9.17449103e+03,  6.53182485e+03,\n",
       "        4.49044990e+03,  4.89017633e+03,  7.27132063e+03,  6.13747720e+03,\n",
       "        7.95986448e+03,  1.11707320e+04,  8.81152965e+03,  4.70475597e+03,\n",
       "        7.80025255e+03,  9.90592581e+03,  8.16524787e+03,  6.07125826e+03,\n",
       "        7.97358385e+03,  6.29439073e+03,  7.10317643e+03,  9.46101140e+03,\n",
       "        9.02165169e+03,  1.03450836e+04,  1.02208043e+04,  1.05116786e+04,\n",
       "        1.41880208e+04,  8.50711783e+03,  1.04418642e+04,  1.30639953e+04,\n",
       "        1.04478348e+04,  1.47231646e+04,  8.98736168e+03,  9.58426954e+03,\n",
       "        7.66490314e+03,  9.44219834e+03,  1.09911059e+04,  9.55493834e+03,\n",
       "        1.30470515e+04,  1.32437414e+04,  7.30083775e+03,  1.16139698e+04,\n",
       "        9.90024666e+03,  1.33116343e+04,  1.34030956e+04,  1.01643434e+04,\n",
       "        1.29336202e+04,  1.22948062e+04,  1.25998786e+04,  1.13080456e+04,\n",
       "        9.75182462e+03,  1.30624863e+04,  2.01287385e+04,  1.41358931e+04,\n",
       "        1.41381542e+04,  1.60691143e+04,  1.28544767e+04,  1.46485868e+04,\n",
       "        1.27491863e+04,  1.40059386e+04,  1.41197953e+04,  1.65067079e+04,\n",
       "        1.90590642e+04,  1.29077544e+04,  1.54725398e+04,  1.06939120e+04,\n",
       "        1.59142745e+04,  1.03282174e+04,  1.29576595e+04,  1.14217940e+04,\n",
       "        1.24486567e+04,  1.44516644e+04,  1.18296934e+04,  1.20079172e+04,\n",
       "        1.16935491e+04,  7.87530010e+03,  8.25420415e+03,  9.62271660e+03,\n",
       "        9.48559005e+03,  8.00955388e+03,  5.52432891e+03,  5.35451722e+03,\n",
       "        4.61094465e+03,  3.00122640e+03,  6.20317827e+03,  7.59570903e+03,\n",
       "        1.02201143e+04,  6.09223868e+03,  3.22596368e+03,  4.82804982e+03,\n",
       "        5.79678108e+03,  6.36733806e+03,  5.55807944e+03,  4.21997134e+03,\n",
       "        6.57495688e+03,  4.36540431e+03,  5.28266395e+03,  7.65324827e+03,\n",
       "        5.23691326e+03,  3.79380056e+03,  8.55179630e+03,  3.30857606e+03,\n",
       "        4.84471440e+03,  4.08299803e+03,  3.81032201e+03,  3.97135960e+02,\n",
       "        5.30145193e+03,  5.27137900e+03,  2.36195573e+03,  2.78226547e+03,\n",
       "        2.37266912e+03,  2.83785576e+03,  3.67618392e+03,  3.54735396e+03,\n",
       "        2.25586314e+03,  7.69635301e+03,  2.41937282e+03,  3.12831440e+03,\n",
       "        6.42468362e+03,  4.35021535e+03,  5.23957719e+03,  7.68407512e+03,\n",
       "        7.36304303e+03,  5.47042486e+03,  9.52027451e+03,  4.83387292e+03,\n",
       "        5.61485978e+03,  6.26821169e+03,  5.89757287e+03,  7.40324133e+03,\n",
       "        4.55645817e+03,  6.80036694e+03,  6.61668058e+03,  9.33562946e+03,\n",
       "        1.35175191e+04,  7.51513033e+03,  6.28408975e+03,  6.53230494e+03,\n",
       "        6.97461210e+03,  4.14527119e+03,  9.45372485e+03,  6.20175862e+03,\n",
       "        4.08271937e+03,  3.66821304e+03,  4.31831911e+03,  4.59206364e+03,\n",
       "        7.42437005e+03,  4.48699443e+03,  5.82065307e+03,  7.80486499e+03,\n",
       "        7.51303317e+03,  2.82931041e+03,  3.56696590e+03,  7.99877223e+03,\n",
       "        5.81951394e+03,  5.91460619e+03,  4.90158835e+03,  4.64863093e+03,\n",
       "        1.02715360e+04,  8.41889845e+03,  7.47617344e+03,  7.26502339e+03,\n",
       "        6.28458337e+03,  5.91660042e+03,  6.57836884e+03,  9.01297714e+03,\n",
       "        5.44335624e+03,  2.98515881e+03,  8.32422223e+03,  9.05426653e+03,\n",
       "        7.85769491e+03,  4.89259755e+03,  6.29885956e+03,  7.91474888e+03,\n",
       "        4.42933537e+03,  9.05725545e+03,  7.52003569e+03,  3.34634129e+03,\n",
       "        1.77663577e+03,  4.93607291e+03,  4.54477579e+03,  4.50582665e+03,\n",
       "        7.95856717e+03,  8.34627258e+03,  6.73085922e+03,  4.40971273e+03,\n",
       "        6.51695094e+03,  6.65153323e+03,  4.01917821e+03,  3.92085684e+03,\n",
       "        9.40391002e+03,  3.72789973e+03,  3.70881826e+03,  5.51750240e+03,\n",
       "        4.95136415e+03,  4.87525423e+03,  2.16659727e+03,  6.07103170e+03,\n",
       "        7.01660015e+03,  4.96314256e+03,  3.31902006e+03,  3.90317857e+03,\n",
       "        4.97339704e+03,  2.79754075e+03,  7.60053391e+03,  9.15084870e+03,\n",
       "        8.16717979e+03,  4.10806202e+03,  6.56025217e+03,  6.55343095e+03,\n",
       "        8.36158225e+03,  6.40493500e+03,  3.74380695e+03,  3.64531419e+03,\n",
       "        8.00455152e+03,  7.77284652e+03,  4.99631723e+03,  4.79203848e+03,\n",
       "        9.02763888e+03,  7.58485693e+03,  1.30485927e+04,  1.33609612e+04,\n",
       "        9.38740118e+03,  5.76592972e+03,  1.35919739e+04,  1.66448975e+04,\n",
       "        1.24838470e+04,  1.31653642e+04,  1.34743113e+04,  2.01282019e+04,\n",
       "        1.31313589e+04,  1.22941121e+04,  2.00133249e+04,  1.99517893e+04,\n",
       "        2.15467472e+04,  2.48227117e+04,  2.63230218e+04,  2.43583624e+04,\n",
       "        1.59933301e+04,  1.56008648e+04,  2.20928160e+04,  2.06026509e+04,\n",
       "        2.36212284e+04,  2.22850760e+04])"
      ]
     },
     "execution_count": 82,
     "metadata": {},
     "output_type": "execute_result"
    }
   ],
   "source": [
    "predictions1  = lm.predict(X)\n",
    "predictions1"
   ]
  },
  {
   "cell_type": "code",
   "execution_count": 97,
   "id": "7b5560f0",
   "metadata": {},
   "outputs": [
    {
     "name": "stderr",
     "output_type": "stream",
     "text": [
      "<ipython-input-97-d1d5335dd010>:1: SettingWithCopyWarning: \n",
      "A value is trying to be set on a copy of a slice from a DataFrame.\n",
      "Try using .loc[row_indexer,col_indexer] = value instead\n",
      "\n",
      "See the caveats in the documentation: https://pandas.pydata.org/pandas-docs/stable/user_guide/indexing.html#returning-a-view-versus-a-copy\n",
      "  data[\"prediction\"] = predictions1\n"
     ]
    }
   ],
   "source": [
    "data[\"prediction\"] = predictions1"
   ]
  },
  {
   "cell_type": "code",
   "execution_count": 96,
   "id": "3ec9bab3",
   "metadata": {},
   "outputs": [],
   "source": [
    "predictions1 = predictions1.astype(int)"
   ]
  },
  {
   "cell_type": "code",
   "execution_count": 99,
   "id": "9147f62f",
   "metadata": {},
   "outputs": [
    {
     "data": {
      "text/html": [
       "<div>\n",
       "<style scoped>\n",
       "    .dataframe tbody tr th:only-of-type {\n",
       "        vertical-align: middle;\n",
       "    }\n",
       "\n",
       "    .dataframe tbody tr th {\n",
       "        vertical-align: top;\n",
       "    }\n",
       "\n",
       "    .dataframe thead th {\n",
       "        text-align: right;\n",
       "    }\n",
       "</style>\n",
       "<table border=\"1\" class=\"dataframe\">\n",
       "  <thead>\n",
       "    <tr style=\"text-align: right;\">\n",
       "      <th></th>\n",
       "      <th>casos</th>\n",
       "      <th>tos</th>\n",
       "      <th>dolor de garganta</th>\n",
       "      <th>fiebre</th>\n",
       "      <th>cansancio</th>\n",
       "      <th>dolor de cabeza</th>\n",
       "      <th>tengo covid</th>\n",
       "      <th>sintomas covid</th>\n",
       "      <th>test covid</th>\n",
       "      <th>prediction</th>\n",
       "      <th>fecha</th>\n",
       "    </tr>\n",
       "  </thead>\n",
       "  <tbody>\n",
       "    <tr>\n",
       "      <th>0</th>\n",
       "      <td>1.0</td>\n",
       "      <td>27.0</td>\n",
       "      <td>4.0</td>\n",
       "      <td>17.0</td>\n",
       "      <td>2.0</td>\n",
       "      <td>12.0</td>\n",
       "      <td>0.0</td>\n",
       "      <td>0.0</td>\n",
       "      <td>0.0</td>\n",
       "      <td>4889</td>\n",
       "      <td>1/1/20</td>\n",
       "    </tr>\n",
       "    <tr>\n",
       "      <th>1</th>\n",
       "      <td>0.0</td>\n",
       "      <td>16.0</td>\n",
       "      <td>4.0</td>\n",
       "      <td>17.0</td>\n",
       "      <td>2.0</td>\n",
       "      <td>5.0</td>\n",
       "      <td>0.0</td>\n",
       "      <td>0.0</td>\n",
       "      <td>0.0</td>\n",
       "      <td>1044</td>\n",
       "      <td>2/1/20</td>\n",
       "    </tr>\n",
       "    <tr>\n",
       "      <th>2</th>\n",
       "      <td>1.0</td>\n",
       "      <td>23.0</td>\n",
       "      <td>7.0</td>\n",
       "      <td>19.0</td>\n",
       "      <td>3.0</td>\n",
       "      <td>6.0</td>\n",
       "      <td>0.0</td>\n",
       "      <td>0.0</td>\n",
       "      <td>0.0</td>\n",
       "      <td>2140</td>\n",
       "      <td>3/1/20</td>\n",
       "    </tr>\n",
       "    <tr>\n",
       "      <th>3</th>\n",
       "      <td>0.0</td>\n",
       "      <td>21.0</td>\n",
       "      <td>4.0</td>\n",
       "      <td>18.0</td>\n",
       "      <td>2.0</td>\n",
       "      <td>7.0</td>\n",
       "      <td>0.0</td>\n",
       "      <td>0.0</td>\n",
       "      <td>0.0</td>\n",
       "      <td>2577</td>\n",
       "      <td>4/1/20</td>\n",
       "    </tr>\n",
       "    <tr>\n",
       "      <th>4</th>\n",
       "      <td>0.0</td>\n",
       "      <td>16.0</td>\n",
       "      <td>5.0</td>\n",
       "      <td>15.0</td>\n",
       "      <td>2.0</td>\n",
       "      <td>10.0</td>\n",
       "      <td>0.0</td>\n",
       "      <td>0.0</td>\n",
       "      <td>0.0</td>\n",
       "      <td>1457</td>\n",
       "      <td>5/1/20</td>\n",
       "    </tr>\n",
       "  </tbody>\n",
       "</table>\n",
       "</div>"
      ],
      "text/plain": [
       "   casos   tos  dolor de garganta  fiebre  cansancio  dolor de cabeza  \\\n",
       "0    1.0  27.0                4.0    17.0        2.0             12.0   \n",
       "1    0.0  16.0                4.0    17.0        2.0              5.0   \n",
       "2    1.0  23.0                7.0    19.0        3.0              6.0   \n",
       "3    0.0  21.0                4.0    18.0        2.0              7.0   \n",
       "4    0.0  16.0                5.0    15.0        2.0             10.0   \n",
       "\n",
       "   tengo covid  sintomas covid  test covid  prediction   fecha  \n",
       "0          0.0             0.0         0.0        4889  1/1/20  \n",
       "1          0.0             0.0         0.0        1044  2/1/20  \n",
       "2          0.0             0.0         0.0        2140  3/1/20  \n",
       "3          0.0             0.0         0.0        2577  4/1/20  \n",
       "4          0.0             0.0         0.0        1457  5/1/20  "
      ]
     },
     "execution_count": 99,
     "metadata": {},
     "output_type": "execute_result"
    }
   ],
   "source": [
    "data.head()"
   ]
  },
  {
   "cell_type": "code",
   "execution_count": 86,
   "id": "66197cf7",
   "metadata": {},
   "outputs": [
    {
     "name": "stderr",
     "output_type": "stream",
     "text": [
      "<ipython-input-86-0b1ad5cfb5a0>:1: SettingWithCopyWarning: \n",
      "A value is trying to be set on a copy of a slice from a DataFrame.\n",
      "Try using .loc[row_indexer,col_indexer] = value instead\n",
      "\n",
      "See the caveats in the documentation: https://pandas.pydata.org/pandas-docs/stable/user_guide/indexing.html#returning-a-view-versus-a-copy\n",
      "  data[\"fecha\"] = df[\"fecha\"]\n"
     ]
    }
   ],
   "source": [
    "data[\"fecha\"] = df[\"fecha\"]"
   ]
  },
  {
   "cell_type": "code",
   "execution_count": 101,
   "id": "d152ca1a",
   "metadata": {},
   "outputs": [
    {
     "data": {
      "text/html": [
       "<div>\n",
       "<style scoped>\n",
       "    .dataframe tbody tr th:only-of-type {\n",
       "        vertical-align: middle;\n",
       "    }\n",
       "\n",
       "    .dataframe tbody tr th {\n",
       "        vertical-align: top;\n",
       "    }\n",
       "\n",
       "    .dataframe thead th {\n",
       "        text-align: right;\n",
       "    }\n",
       "</style>\n",
       "<table border=\"1\" class=\"dataframe\">\n",
       "  <thead>\n",
       "    <tr style=\"text-align: right;\">\n",
       "      <th></th>\n",
       "      <th>casos</th>\n",
       "      <th>tos</th>\n",
       "      <th>dolor de garganta</th>\n",
       "      <th>fiebre</th>\n",
       "      <th>cansancio</th>\n",
       "      <th>dolor de cabeza</th>\n",
       "      <th>tengo covid</th>\n",
       "      <th>sintomas covid</th>\n",
       "      <th>test covid</th>\n",
       "      <th>prediction</th>\n",
       "      <th>fecha</th>\n",
       "    </tr>\n",
       "  </thead>\n",
       "  <tbody>\n",
       "    <tr>\n",
       "      <th>565</th>\n",
       "      <td>18613.0</td>\n",
       "      <td>17.0</td>\n",
       "      <td>11.0</td>\n",
       "      <td>100.0</td>\n",
       "      <td>10.0</td>\n",
       "      <td>19.0</td>\n",
       "      <td>13.0</td>\n",
       "      <td>78.0</td>\n",
       "      <td>82.0</td>\n",
       "      <td>15600</td>\n",
       "      <td>19/7/21</td>\n",
       "    </tr>\n",
       "    <tr>\n",
       "      <th>566</th>\n",
       "      <td>15243.0</td>\n",
       "      <td>18.0</td>\n",
       "      <td>6.0</td>\n",
       "      <td>45.0</td>\n",
       "      <td>9.0</td>\n",
       "      <td>14.0</td>\n",
       "      <td>13.0</td>\n",
       "      <td>48.0</td>\n",
       "      <td>100.0</td>\n",
       "      <td>22092</td>\n",
       "      <td>20/7/21</td>\n",
       "    </tr>\n",
       "    <tr>\n",
       "      <th>567</th>\n",
       "      <td>30587.0</td>\n",
       "      <td>19.0</td>\n",
       "      <td>8.0</td>\n",
       "      <td>44.0</td>\n",
       "      <td>6.0</td>\n",
       "      <td>13.0</td>\n",
       "      <td>10.0</td>\n",
       "      <td>60.0</td>\n",
       "      <td>71.0</td>\n",
       "      <td>20602</td>\n",
       "      <td>21/7/21</td>\n",
       "    </tr>\n",
       "    <tr>\n",
       "      <th>568</th>\n",
       "      <td>29535.0</td>\n",
       "      <td>19.0</td>\n",
       "      <td>11.0</td>\n",
       "      <td>50.0</td>\n",
       "      <td>10.0</td>\n",
       "      <td>20.0</td>\n",
       "      <td>20.0</td>\n",
       "      <td>57.0</td>\n",
       "      <td>87.0</td>\n",
       "      <td>23621</td>\n",
       "      <td>22/7/21</td>\n",
       "    </tr>\n",
       "    <tr>\n",
       "      <th>569</th>\n",
       "      <td>31171.0</td>\n",
       "      <td>10.0</td>\n",
       "      <td>8.0</td>\n",
       "      <td>42.0</td>\n",
       "      <td>8.0</td>\n",
       "      <td>22.0</td>\n",
       "      <td>16.0</td>\n",
       "      <td>60.0</td>\n",
       "      <td>87.0</td>\n",
       "      <td>22285</td>\n",
       "      <td>23/7/21</td>\n",
       "    </tr>\n",
       "  </tbody>\n",
       "</table>\n",
       "</div>"
      ],
      "text/plain": [
       "       casos   tos  dolor de garganta  fiebre  cansancio  dolor de cabeza  \\\n",
       "565  18613.0  17.0               11.0   100.0       10.0             19.0   \n",
       "566  15243.0  18.0                6.0    45.0        9.0             14.0   \n",
       "567  30587.0  19.0                8.0    44.0        6.0             13.0   \n",
       "568  29535.0  19.0               11.0    50.0       10.0             20.0   \n",
       "569  31171.0  10.0                8.0    42.0        8.0             22.0   \n",
       "\n",
       "     tengo covid  sintomas covid  test covid  prediction    fecha  \n",
       "565         13.0            78.0        82.0       15600  19/7/21  \n",
       "566         13.0            48.0       100.0       22092  20/7/21  \n",
       "567         10.0            60.0        71.0       20602  21/7/21  \n",
       "568         20.0            57.0        87.0       23621  22/7/21  \n",
       "569         16.0            60.0        87.0       22285  23/7/21  "
      ]
     },
     "execution_count": 101,
     "metadata": {},
     "output_type": "execute_result"
    }
   ],
   "source": [
    "data.tail()"
   ]
  },
  {
   "cell_type": "code",
   "execution_count": 100,
   "id": "9688234b",
   "metadata": {},
   "outputs": [],
   "source": [
    "data.to_csv(r\"/Users/walterconde/Ironhack/Repositories/IronWalter/Projects/Final/CSV1.2.csv\", index = False)"
   ]
  },
  {
   "cell_type": "code",
   "execution_count": 42,
   "id": "05d1d07b",
   "metadata": {},
   "outputs": [
    {
     "data": {
      "text/plain": [
       "0.55110026725181"
      ]
     },
     "execution_count": 42,
     "metadata": {},
     "output_type": "execute_result"
    }
   ],
   "source": [
    "r2_score(y, predictions)"
   ]
  },
  {
   "cell_type": "code",
   "execution_count": 43,
   "id": "8e5ab36b",
   "metadata": {},
   "outputs": [
    {
     "data": {
      "text/plain": [
       "28336122.975683164"
      ]
     },
     "execution_count": 43,
     "metadata": {},
     "output_type": "execute_result"
    }
   ],
   "source": [
    "mean_squared_error(y, predictions)"
   ]
  },
  {
   "cell_type": "code",
   "execution_count": 44,
   "id": "55b260c8",
   "metadata": {},
   "outputs": [
    {
     "data": {
      "text/plain": [
       "-243.09413888421022"
      ]
     },
     "execution_count": 44,
     "metadata": {},
     "output_type": "execute_result"
    }
   ],
   "source": [
    "lm.intercept_"
   ]
  },
  {
   "cell_type": "code",
   "execution_count": 45,
   "id": "e6f31464",
   "metadata": {},
   "outputs": [
    {
     "data": {
      "text/plain": [
       "array([ 316.73193685, -151.53128763, -153.55223213, -410.99548411,\n",
       "         51.62869636,  412.30072667,  185.12592791,  131.83977061])"
      ]
     },
     "execution_count": 45,
     "metadata": {},
     "output_type": "execute_result"
    }
   ],
   "source": [
    "lm.coef_"
   ]
  },
  {
   "cell_type": "code",
   "execution_count": 48,
   "id": "4885be5e",
   "metadata": {},
   "outputs": [
    {
     "data": {
      "image/png": "[encoded data removed]",
      "text/plain": [
       "<Figure size 720x576 with 2 Axes>"
      ]
     },
     "metadata": {
      "needs_background": "light"
     },
     "output_type": "display_data"
    }
   ],
   "source": [
    "correlations_matrix=data.corr()\n",
    "mask=np.zeros_like(correlations_matrix)\n",
    "mask[np.triu_indices_from(mask)]=True\n",
    "fig,ax= plt.subplots(figsize=(10,8))\n",
    "ax = sns.heatmap(correlations_matrix, mask=mask, annot=True, cmap='seismic', center=0)\n",
    "plt.show()"
   ]
  },
  {
   "cell_type": "code",
   "execution_count": 104,
   "id": "0f76b6d5",
   "metadata": {},
   "outputs": [],
   "source": [
    "from sklearn.model_selection import train_test_split"
   ]
  },
  {
   "cell_type": "code",
   "execution_count": 105,
   "id": "628768f6",
   "metadata": {},
   "outputs": [],
   "source": [
    "X_train, X_test, y_train, y_test = train_test_split(X,y, test_size=0.3, random_state=10)"
   ]
  },
  {
   "cell_type": "code",
   "execution_count": 106,
   "id": "44d832d6",
   "metadata": {},
   "outputs": [
    {
     "data": {
      "text/plain": [
       "0.5102444561413001"
      ]
     },
     "execution_count": 106,
     "metadata": {},
     "output_type": "execute_result"
    }
   ],
   "source": [
    "lm=linear_model.LinearRegression()\n",
    "model=lm.fit(X_train,y_train) # teach the model to find the line of best fit \n",
    "predictions=lm.predict(X_test) # run predictions based on X_test (we cannot see y_test)\n",
    "r2_score(y_test, predictions)#c"
   ]
  },
  {
   "cell_type": "code",
   "execution_count": 107,
   "id": "481e080e",
   "metadata": {
    "scrolled": true
   },
   "outputs": [
    {
     "data": {
      "text/plain": [
       "array([ 2717.22350343, 13050.81329613, 10672.88103298, 11375.09248759,\n",
       "        3736.8557938 ,  2915.87254119, 15110.59395172,  6685.94554011,\n",
       "       13481.90755363,  8811.20096929,  2337.85191363,  5473.47217461,\n",
       "        -486.55135011,  3251.79969698, 18830.64813658, 15497.21765945,\n",
       "        5965.24367854, 11228.57222641,  4381.5204176 ,  7947.72761989,\n",
       "        8778.46918704,  2022.06232013,  8281.46247116,  9205.62731204,\n",
       "        5013.68265865, 13148.08250378,  8197.28797416,  4169.35307619,\n",
       "       15393.18285858, 12439.77089034, 13961.024822  , 16180.85906968,\n",
       "        6211.88144133, 12713.85539742,  6033.0547797 , 11441.93966166,\n",
       "       14372.77387615,  -201.52201961, 17687.98007104,   -70.85403415,\n",
       "        3719.83179032,  8440.8478596 ,  3108.65779481, 12071.84266147,\n",
       "        4643.75172095,   168.49720002,  -977.70879582,  1988.1605218 ,\n",
       "         285.44689712,   224.21500006, 10731.39387563,  5914.32541728,\n",
       "        4369.78771422, 18082.78758034, 12864.35653734, 15819.54026835,\n",
       "         305.95740504, 11406.65147934,  5037.73361756,  3065.7288712 ,\n",
       "        9023.52597294,  7993.71987291,   695.91979139,  5806.69977076,\n",
       "        9217.85952731, 17101.65372678,  5376.09906512,  1401.64254977,\n",
       "        4917.12211682,  1798.06396609, 13845.51777829, 21430.66848871,\n",
       "       16070.2829748 ,  3945.84546804, 13127.16330703, 12075.42840044,\n",
       "       11295.66321864, 11498.03142283, 10653.0884879 , 13242.30072936,\n",
       "       16708.42664233,  5120.48476322,  8707.53710125,  1136.50209237,\n",
       "        4756.69394594,  6614.85914771,  6747.56734111,  1344.23812451,\n",
       "       12890.34620532,  7055.65748791,  5412.64091115, 12163.02954846,\n",
       "         388.90085009,  2561.06245541, 15588.85835303, 17208.57235148,\n",
       "        5762.25788124,  8899.02385369, 15912.14802877,  9533.07234152,\n",
       "        3063.62244782,  5820.89142837,  -464.8901961 ,  2625.85667858,\n",
       "        5612.82525272,   690.45834136,  1075.6417153 ,  3961.34271368,\n",
       "       14626.54297747,  2235.32515921,  3925.55801395, 10884.0653892 ,\n",
       "       11810.71061842, 10554.34192766, 22334.35607571, 19061.54071367,\n",
       "        5106.10858892,   339.58098428,  4959.55708714,  8491.78058001,\n",
       "        7111.64537163,  5274.5870987 ,  7002.64834267,   809.67645465,\n",
       "       16671.97865502,  5576.94554264,  6546.1406202 , 16222.50920111,\n",
       "         378.24841405,  2185.02443578,  3862.42473761,  4259.00547445,\n",
       "        -235.75017329, 12080.69938311,  4745.71040939, 14342.99640721,\n",
       "        5925.09846942,  6124.99973324, 11785.67921299,   882.50265826,\n",
       "        2882.83142538,  -189.44498367,  1264.66179946, 12317.27919323,\n",
       "        -640.67672047, 16307.29430799,  3392.90011424,  8748.07631657,\n",
       "        9931.41580922,  4890.50218105,  5745.16619845, 14649.15525541,\n",
       "        7531.05747166,  4818.43213304, 15848.78511663, 11910.65324446,\n",
       "        4409.16371351,  3966.77289478,  1152.42921545,  1729.34232787,\n",
       "       11279.99139688, 18861.76619896, 15417.6098432 , 11382.43337658,\n",
       "        -437.23148431,   175.80291824,  3773.12351602,  7195.16241943,\n",
       "         786.18566967, 13274.29706026,  2795.354113  ])"
      ]
     },
     "execution_count": 107,
     "metadata": {},
     "output_type": "execute_result"
    }
   ],
   "source": [
    "predictions"
   ]
  },
  {
   "cell_type": "code",
   "execution_count": 108,
   "id": "f7798bac",
   "metadata": {},
   "outputs": [
    {
     "data": {
      "text/html": [
       "<div>\n",
       "<style scoped>\n",
       "    .dataframe tbody tr th:only-of-type {\n",
       "        vertical-align: middle;\n",
       "    }\n",
       "\n",
       "    .dataframe tbody tr th {\n",
       "        vertical-align: top;\n",
       "    }\n",
       "\n",
       "    .dataframe thead th {\n",
       "        text-align: right;\n",
       "    }\n",
       "</style>\n",
       "<table border=\"1\" class=\"dataframe\">\n",
       "  <thead>\n",
       "    <tr style=\"text-align: right;\">\n",
       "      <th></th>\n",
       "      <th>reales</th>\n",
       "      <th>predicted</th>\n",
       "    </tr>\n",
       "  </thead>\n",
       "  <tbody>\n",
       "    <tr>\n",
       "      <th>172</th>\n",
       "      <td>256.0</td>\n",
       "      <td>2717.223503</td>\n",
       "    </tr>\n",
       "    <tr>\n",
       "      <th>554</th>\n",
       "      <td>20585.0</td>\n",
       "      <td>13050.813296</td>\n",
       "    </tr>\n",
       "    <tr>\n",
       "      <th>374</th>\n",
       "      <td>26812.0</td>\n",
       "      <td>10672.881033</td>\n",
       "    </tr>\n",
       "    <tr>\n",
       "      <th>370</th>\n",
       "      <td>29244.0</td>\n",
       "      <td>11375.092488</td>\n",
       "    </tr>\n",
       "    <tr>\n",
       "      <th>419</th>\n",
       "      <td>6256.0</td>\n",
       "      <td>3736.855794</td>\n",
       "    </tr>\n",
       "    <tr>\n",
       "      <th>...</th>\n",
       "      <td>...</td>\n",
       "      <td>...</td>\n",
       "    </tr>\n",
       "    <tr>\n",
       "      <th>108</th>\n",
       "      <td>1679.0</td>\n",
       "      <td>3773.123516</td>\n",
       "    </tr>\n",
       "    <tr>\n",
       "      <th>458</th>\n",
       "      <td>6905.0</td>\n",
       "      <td>7195.162419</td>\n",
       "    </tr>\n",
       "    <tr>\n",
       "      <th>173</th>\n",
       "      <td>324.0</td>\n",
       "      <td>786.185670</td>\n",
       "    </tr>\n",
       "    <tr>\n",
       "      <th>240</th>\n",
       "      <td>10874.0</td>\n",
       "      <td>13274.297060</td>\n",
       "    </tr>\n",
       "    <tr>\n",
       "      <th>436</th>\n",
       "      <td>5086.0</td>\n",
       "      <td>2795.354113</td>\n",
       "    </tr>\n",
       "  </tbody>\n",
       "</table>\n",
       "<p>171 rows × 2 columns</p>\n",
       "</div>"
      ],
      "text/plain": [
       "      reales     predicted\n",
       "172    256.0   2717.223503\n",
       "554  20585.0  13050.813296\n",
       "374  26812.0  10672.881033\n",
       "370  29244.0  11375.092488\n",
       "419   6256.0   3736.855794\n",
       "..       ...           ...\n",
       "108   1679.0   3773.123516\n",
       "458   6905.0   7195.162419\n",
       "173    324.0    786.185670\n",
       "240  10874.0  13274.297060\n",
       "436   5086.0   2795.354113\n",
       "\n",
       "[171 rows x 2 columns]"
      ]
     },
     "execution_count": 108,
     "metadata": {},
     "output_type": "execute_result"
    }
   ],
   "source": [
    "pd.DataFrame({\"reales\":y_test, \"predicted\":predictions})"
   ]
  },
  {
   "cell_type": "code",
   "execution_count": 109,
   "id": "439dd68c",
   "metadata": {},
   "outputs": [
    {
     "ename": "ValueError",
     "evalue": "could not convert string to float: '1/1/20'",
     "output_type": "error",
     "traceback": [
      "\u001b[0;31m---------------------------------------------------------------------------\u001b[0m",
      "\u001b[0;31mValueError\u001b[0m                                Traceback (most recent call last)",
      "\u001b[0;32m<ipython-input-109-f3dbbdec8f69>\u001b[0m in \u001b[0;36m<module>\u001b[0;34m\u001b[0m\n\u001b[0;32m----> 1\u001b[0;31m \u001b[0mlm\u001b[0m\u001b[0;34m.\u001b[0m\u001b[0mpredict\u001b[0m\u001b[0;34m(\u001b[0m\u001b[0mdata\u001b[0m\u001b[0;34m)\u001b[0m\u001b[0;34m\u001b[0m\u001b[0;34m\u001b[0m\u001b[0m\n\u001b[0m",
      "\u001b[0;32m/opt/anaconda3/envs/ironhack/lib/python3.8/site-packages/sklearn/linear_model/_base.py\u001b[0m in \u001b[0;36mpredict\u001b[0;34m(self, X)\u001b[0m\n\u001b[1;32m    236\u001b[0m             \u001b[0mReturns\u001b[0m \u001b[0mpredicted\u001b[0m \u001b[0mvalues\u001b[0m\u001b[0;34m.\u001b[0m\u001b[0;34m\u001b[0m\u001b[0;34m\u001b[0m\u001b[0m\n\u001b[1;32m    237\u001b[0m         \"\"\"\n\u001b[0;32m--> 238\u001b[0;31m         \u001b[0;32mreturn\u001b[0m \u001b[0mself\u001b[0m\u001b[0;34m.\u001b[0m\u001b[0m_decision_function\u001b[0m\u001b[0;34m(\u001b[0m\u001b[0mX\u001b[0m\u001b[0;34m)\u001b[0m\u001b[0;34m\u001b[0m\u001b[0;34m\u001b[0m\u001b[0m\n\u001b[0m\u001b[1;32m    239\u001b[0m \u001b[0;34m\u001b[0m\u001b[0m\n\u001b[1;32m    240\u001b[0m     \u001b[0m_preprocess_data\u001b[0m \u001b[0;34m=\u001b[0m \u001b[0mstaticmethod\u001b[0m\u001b[0;34m(\u001b[0m\u001b[0m_preprocess_data\u001b[0m\u001b[0;34m)\u001b[0m\u001b[0;34m\u001b[0m\u001b[0;34m\u001b[0m\u001b[0m\n",
      "\u001b[0;32m/opt/anaconda3/envs/ironhack/lib/python3.8/site-packages/sklearn/linear_model/_base.py\u001b[0m in \u001b[0;36m_decision_function\u001b[0;34m(self, X)\u001b[0m\n\u001b[1;32m    218\u001b[0m         \u001b[0mcheck_is_fitted\u001b[0m\u001b[0;34m(\u001b[0m\u001b[0mself\u001b[0m\u001b[0;34m)\u001b[0m\u001b[0;34m\u001b[0m\u001b[0;34m\u001b[0m\u001b[0m\n\u001b[1;32m    219\u001b[0m \u001b[0;34m\u001b[0m\u001b[0m\n\u001b[0;32m--> 220\u001b[0;31m         \u001b[0mX\u001b[0m \u001b[0;34m=\u001b[0m \u001b[0mcheck_array\u001b[0m\u001b[0;34m(\u001b[0m\u001b[0mX\u001b[0m\u001b[0;34m,\u001b[0m \u001b[0maccept_sparse\u001b[0m\u001b[0;34m=\u001b[0m\u001b[0;34m[\u001b[0m\u001b[0;34m'csr'\u001b[0m\u001b[0;34m,\u001b[0m \u001b[0;34m'csc'\u001b[0m\u001b[0;34m,\u001b[0m \u001b[0;34m'coo'\u001b[0m\u001b[0;34m]\u001b[0m\u001b[0;34m)\u001b[0m\u001b[0;34m\u001b[0m\u001b[0;34m\u001b[0m\u001b[0m\n\u001b[0m\u001b[1;32m    221\u001b[0m         return safe_sparse_dot(X, self.coef_.T,\n\u001b[1;32m    222\u001b[0m                                dense_output=True) + self.intercept_\n",
      "\u001b[0;32m/opt/anaconda3/envs/ironhack/lib/python3.8/site-packages/sklearn/utils/validation.py\u001b[0m in \u001b[0;36minner_f\u001b[0;34m(*args, **kwargs)\u001b[0m\n\u001b[1;32m     61\u001b[0m             \u001b[0mextra_args\u001b[0m \u001b[0;34m=\u001b[0m \u001b[0mlen\u001b[0m\u001b[0;34m(\u001b[0m\u001b[0margs\u001b[0m\u001b[0;34m)\u001b[0m \u001b[0;34m-\u001b[0m \u001b[0mlen\u001b[0m\u001b[0;34m(\u001b[0m\u001b[0mall_args\u001b[0m\u001b[0;34m)\u001b[0m\u001b[0;34m\u001b[0m\u001b[0;34m\u001b[0m\u001b[0m\n\u001b[1;32m     62\u001b[0m             \u001b[0;32mif\u001b[0m \u001b[0mextra_args\u001b[0m \u001b[0;34m<=\u001b[0m \u001b[0;36m0\u001b[0m\u001b[0;34m:\u001b[0m\u001b[0;34m\u001b[0m\u001b[0;34m\u001b[0m\u001b[0m\n\u001b[0;32m---> 63\u001b[0;31m                 \u001b[0;32mreturn\u001b[0m \u001b[0mf\u001b[0m\u001b[0;34m(\u001b[0m\u001b[0;34m*\u001b[0m\u001b[0margs\u001b[0m\u001b[0;34m,\u001b[0m \u001b[0;34m**\u001b[0m\u001b[0mkwargs\u001b[0m\u001b[0;34m)\u001b[0m\u001b[0;34m\u001b[0m\u001b[0;34m\u001b[0m\u001b[0m\n\u001b[0m\u001b[1;32m     64\u001b[0m \u001b[0;34m\u001b[0m\u001b[0m\n\u001b[1;32m     65\u001b[0m             \u001b[0;31m# extra_args > 0\u001b[0m\u001b[0;34m\u001b[0m\u001b[0;34m\u001b[0m\u001b[0;34m\u001b[0m\u001b[0m\n",
      "\u001b[0;32m/opt/anaconda3/envs/ironhack/lib/python3.8/site-packages/sklearn/utils/validation.py\u001b[0m in \u001b[0;36mcheck_array\u001b[0;34m(array, accept_sparse, accept_large_sparse, dtype, order, copy, force_all_finite, ensure_2d, allow_nd, ensure_min_samples, ensure_min_features, estimator)\u001b[0m\n\u001b[1;32m    671\u001b[0m                     \u001b[0marray\u001b[0m \u001b[0;34m=\u001b[0m \u001b[0marray\u001b[0m\u001b[0;34m.\u001b[0m\u001b[0mastype\u001b[0m\u001b[0;34m(\u001b[0m\u001b[0mdtype\u001b[0m\u001b[0;34m,\u001b[0m \u001b[0mcasting\u001b[0m\u001b[0;34m=\u001b[0m\u001b[0;34m\"unsafe\"\u001b[0m\u001b[0;34m,\u001b[0m \u001b[0mcopy\u001b[0m\u001b[0;34m=\u001b[0m\u001b[0;32mFalse\u001b[0m\u001b[0;34m)\u001b[0m\u001b[0;34m\u001b[0m\u001b[0;34m\u001b[0m\u001b[0m\n\u001b[1;32m    672\u001b[0m                 \u001b[0;32melse\u001b[0m\u001b[0;34m:\u001b[0m\u001b[0;34m\u001b[0m\u001b[0;34m\u001b[0m\u001b[0m\n\u001b[0;32m--> 673\u001b[0;31m                     \u001b[0marray\u001b[0m \u001b[0;34m=\u001b[0m \u001b[0mnp\u001b[0m\u001b[0;34m.\u001b[0m\u001b[0masarray\u001b[0m\u001b[0;34m(\u001b[0m\u001b[0marray\u001b[0m\u001b[0;34m,\u001b[0m \u001b[0morder\u001b[0m\u001b[0;34m=\u001b[0m\u001b[0morder\u001b[0m\u001b[0;34m,\u001b[0m \u001b[0mdtype\u001b[0m\u001b[0;34m=\u001b[0m\u001b[0mdtype\u001b[0m\u001b[0;34m)\u001b[0m\u001b[0;34m\u001b[0m\u001b[0;34m\u001b[0m\u001b[0m\n\u001b[0m\u001b[1;32m    674\u001b[0m             \u001b[0;32mexcept\u001b[0m \u001b[0mComplexWarning\u001b[0m \u001b[0;32mas\u001b[0m \u001b[0mcomplex_warning\u001b[0m\u001b[0;34m:\u001b[0m\u001b[0;34m\u001b[0m\u001b[0;34m\u001b[0m\u001b[0m\n\u001b[1;32m    675\u001b[0m                 raise ValueError(\"Complex data not supported\\n\"\n",
      "\u001b[0;32m/opt/anaconda3/envs/ironhack/lib/python3.8/site-packages/numpy/core/_asarray.py\u001b[0m in \u001b[0;36masarray\u001b[0;34m(a, dtype, order, like)\u001b[0m\n\u001b[1;32m    100\u001b[0m         \u001b[0;32mreturn\u001b[0m \u001b[0m_asarray_with_like\u001b[0m\u001b[0;34m(\u001b[0m\u001b[0ma\u001b[0m\u001b[0;34m,\u001b[0m \u001b[0mdtype\u001b[0m\u001b[0;34m=\u001b[0m\u001b[0mdtype\u001b[0m\u001b[0;34m,\u001b[0m \u001b[0morder\u001b[0m\u001b[0;34m=\u001b[0m\u001b[0morder\u001b[0m\u001b[0;34m,\u001b[0m \u001b[0mlike\u001b[0m\u001b[0;34m=\u001b[0m\u001b[0mlike\u001b[0m\u001b[0;34m)\u001b[0m\u001b[0;34m\u001b[0m\u001b[0;34m\u001b[0m\u001b[0m\n\u001b[1;32m    101\u001b[0m \u001b[0;34m\u001b[0m\u001b[0m\n\u001b[0;32m--> 102\u001b[0;31m     \u001b[0;32mreturn\u001b[0m \u001b[0marray\u001b[0m\u001b[0;34m(\u001b[0m\u001b[0ma\u001b[0m\u001b[0;34m,\u001b[0m \u001b[0mdtype\u001b[0m\u001b[0;34m,\u001b[0m \u001b[0mcopy\u001b[0m\u001b[0;34m=\u001b[0m\u001b[0;32mFalse\u001b[0m\u001b[0;34m,\u001b[0m \u001b[0morder\u001b[0m\u001b[0;34m=\u001b[0m\u001b[0morder\u001b[0m\u001b[0;34m)\u001b[0m\u001b[0;34m\u001b[0m\u001b[0;34m\u001b[0m\u001b[0m\n\u001b[0m\u001b[1;32m    103\u001b[0m \u001b[0;34m\u001b[0m\u001b[0m\n\u001b[1;32m    104\u001b[0m \u001b[0;34m\u001b[0m\u001b[0m\n",
      "\u001b[0;32m/opt/anaconda3/envs/ironhack/lib/python3.8/site-packages/pandas/core/generic.py\u001b[0m in \u001b[0;36m__array__\u001b[0;34m(self, dtype)\u001b[0m\n\u001b[1;32m   1897\u001b[0m \u001b[0;34m\u001b[0m\u001b[0m\n\u001b[1;32m   1898\u001b[0m     \u001b[0;32mdef\u001b[0m \u001b[0m__array__\u001b[0m\u001b[0;34m(\u001b[0m\u001b[0mself\u001b[0m\u001b[0;34m,\u001b[0m \u001b[0mdtype\u001b[0m\u001b[0;34m=\u001b[0m\u001b[0;32mNone\u001b[0m\u001b[0;34m)\u001b[0m \u001b[0;34m->\u001b[0m \u001b[0mnp\u001b[0m\u001b[0;34m.\u001b[0m\u001b[0mndarray\u001b[0m\u001b[0;34m:\u001b[0m\u001b[0;34m\u001b[0m\u001b[0;34m\u001b[0m\u001b[0m\n\u001b[0;32m-> 1899\u001b[0;31m         \u001b[0;32mreturn\u001b[0m \u001b[0mnp\u001b[0m\u001b[0;34m.\u001b[0m\u001b[0masarray\u001b[0m\u001b[0;34m(\u001b[0m\u001b[0mself\u001b[0m\u001b[0;34m.\u001b[0m\u001b[0m_values\u001b[0m\u001b[0;34m,\u001b[0m \u001b[0mdtype\u001b[0m\u001b[0;34m=\u001b[0m\u001b[0mdtype\u001b[0m\u001b[0;34m)\u001b[0m\u001b[0;34m\u001b[0m\u001b[0;34m\u001b[0m\u001b[0m\n\u001b[0m\u001b[1;32m   1900\u001b[0m \u001b[0;34m\u001b[0m\u001b[0m\n\u001b[1;32m   1901\u001b[0m     def __array_wrap__(\n",
      "\u001b[0;32m/opt/anaconda3/envs/ironhack/lib/python3.8/site-packages/numpy/core/_asarray.py\u001b[0m in \u001b[0;36masarray\u001b[0;34m(a, dtype, order, like)\u001b[0m\n\u001b[1;32m    100\u001b[0m         \u001b[0;32mreturn\u001b[0m \u001b[0m_asarray_with_like\u001b[0m\u001b[0;34m(\u001b[0m\u001b[0ma\u001b[0m\u001b[0;34m,\u001b[0m \u001b[0mdtype\u001b[0m\u001b[0;34m=\u001b[0m\u001b[0mdtype\u001b[0m\u001b[0;34m,\u001b[0m \u001b[0morder\u001b[0m\u001b[0;34m=\u001b[0m\u001b[0morder\u001b[0m\u001b[0;34m,\u001b[0m \u001b[0mlike\u001b[0m\u001b[0;34m=\u001b[0m\u001b[0mlike\u001b[0m\u001b[0;34m)\u001b[0m\u001b[0;34m\u001b[0m\u001b[0;34m\u001b[0m\u001b[0m\n\u001b[1;32m    101\u001b[0m \u001b[0;34m\u001b[0m\u001b[0m\n\u001b[0;32m--> 102\u001b[0;31m     \u001b[0;32mreturn\u001b[0m \u001b[0marray\u001b[0m\u001b[0;34m(\u001b[0m\u001b[0ma\u001b[0m\u001b[0;34m,\u001b[0m \u001b[0mdtype\u001b[0m\u001b[0;34m,\u001b[0m \u001b[0mcopy\u001b[0m\u001b[0;34m=\u001b[0m\u001b[0;32mFalse\u001b[0m\u001b[0;34m,\u001b[0m \u001b[0morder\u001b[0m\u001b[0;34m=\u001b[0m\u001b[0morder\u001b[0m\u001b[0;34m)\u001b[0m\u001b[0;34m\u001b[0m\u001b[0;34m\u001b[0m\u001b[0m\n\u001b[0m\u001b[1;32m    103\u001b[0m \u001b[0;34m\u001b[0m\u001b[0m\n\u001b[1;32m    104\u001b[0m \u001b[0;34m\u001b[0m\u001b[0m\n",
      "\u001b[0;31mValueError\u001b[0m: could not convert string to float: '1/1/20'"
     ]
    }
   ],
   "source": [
    "lm.predict(data)"
   ]
  },
  {
   "cell_type": "code",
   "execution_count": 55,
   "id": "0d23a380",
   "metadata": {},
   "outputs": [
    {
     "data": {
      "text/plain": [
       "(171, 8)"
      ]
     },
     "execution_count": 55,
     "metadata": {},
     "output_type": "execute_result"
    }
   ],
   "source": [
    "X_test.shape"
   ]
  },
  {
   "cell_type": "code",
   "execution_count": 64,
   "id": "c3b3936f",
   "metadata": {},
   "outputs": [
    {
     "data": {
      "text/plain": [
       "(171,)"
      ]
     },
     "execution_count": 64,
     "metadata": {},
     "output_type": "execute_result"
    }
   ],
   "source": [
    "\n",
    "y_test.shape"
   ]
  },
  {
   "cell_type": "code",
   "execution_count": 74,
   "id": "94dcb392",
   "metadata": {},
   "outputs": [
    {
     "data": {
      "image/png": "[encoded data removed]",
      "text/plain": [
       "<Figure size 432x288 with 1 Axes>"
      ]
     },
     "metadata": {
      "needs_background": "light"
     },
     "output_type": "display_data"
    }
   ],
   "source": [
    "\n",
    "plt.plot(y_train, lm.predict(X_train), color = \"green\")\n",
    "\n",
    "plt.show()"
   ]
  },
  {
   "cell_type": "code",
   "execution_count": null,
   "id": "61ba08c0",
   "metadata": {},
   "outputs": [],
   "source": []
  }
 ],
 "metadata": {
  "kernelspec": {
   "display_name": "Python 3",
   "language": "python",
   "name": "python3"
  },
  "language_info": {
   "codemirror_mode": {
    "name": "ipython",
    "version": 3
   },
   "file_extension": ".py",
   "mimetype": "text/x-python",
   "name": "python",
   "nbconvert_exporter": "python",
   "pygments_lexer": "ipython3",
   "version": "3.8.8"
  }
 },
 "nbformat": 4,
 "nbformat_minor": 5
}
