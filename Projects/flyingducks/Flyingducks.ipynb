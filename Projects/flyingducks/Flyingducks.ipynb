{
 "cells": [
  {
   "cell_type": "code",
   "execution_count": 1,
   "id": "bdb7f8af",
   "metadata": {},
   "outputs": [],
   "source": [
    "import pandas as pd \n",
    "import numpy as np \n",
    "import matplotlib.pyplot as plt\n",
    "import seaborn as sns "
   ]
  },
  {
   "cell_type": "code",
   "execution_count": 3,
   "id": "93a70097",
   "metadata": {},
   "outputs": [
    {
     "name": "stdout",
     "output_type": "stream",
     "text": [
      "Collecting sklearn\n",
      "  Downloading sklearn-0.0.tar.gz (1.1 kB)\n",
      "Collecting scikit-learn\n",
      "  Downloading scikit_learn-0.24.2-cp39-cp39-macosx_10_13_x86_64.whl (7.3 MB)\n",
      "\u001b[K     |████████████████████████████████| 7.3 MB 1.5 MB/s eta 0:00:01\n",
      "\u001b[?25hCollecting threadpoolctl>=2.0.0\n",
      "  Downloading threadpoolctl-2.1.0-py3-none-any.whl (12 kB)\n",
      "Requirement already satisfied: numpy>=1.13.3 in /usr/local/Cellar/jupyterlab/3.0.16/libexec/lib/python3.9/site-packages (from scikit-learn->sklearn) (1.20.3)\n",
      "Collecting joblib>=0.11\n",
      "  Downloading joblib-1.0.1-py3-none-any.whl (303 kB)\n",
      "\u001b[K     |████████████████████████████████| 303 kB 7.8 MB/s eta 0:00:01\n",
      "\u001b[?25hRequirement already satisfied: scipy>=0.19.1 in /usr/local/Cellar/jupyterlab/3.0.16/libexec/lib/python3.9/site-packages (from scikit-learn->sklearn) (1.6.3)\n",
      "Using legacy 'setup.py install' for sklearn, since package 'wheel' is not installed.\n",
      "Installing collected packages: threadpoolctl, joblib, scikit-learn, sklearn\n",
      "    Running setup.py install for sklearn ... \u001b[?25ldone\n",
      "\u001b[?25hSuccessfully installed joblib-1.0.1 scikit-learn-0.24.2 sklearn-0.0 threadpoolctl-2.1.0\n",
      "\u001b[33mWARNING: You are using pip version 21.1.1; however, version 21.1.2 is available.\n",
      "You should consider upgrading via the '/usr/local/Cellar/jupyterlab/3.0.16/libexec/bin/python3.9 -m pip install --upgrade pip' command.\u001b[0m\n"
     ]
    }
   ],
   "source": [
    "import sys\n",
    "!{sys.executable} -m pip install sklearn"
   ]
  },
  {
   "cell_type": "code",
   "execution_count": 4,
   "id": "0881b746",
   "metadata": {},
   "outputs": [],
   "source": [
    "from sklearn import linear_model"
   ]
  },
  {
   "cell_type": "code",
   "execution_count": 5,
   "id": "7a5610b8",
   "metadata": {},
   "outputs": [],
   "source": [
    "def clean_data(df):\n",
    "    df.columns=[e.lower().replace(' ', '_') for e in df.columns]\n",
    "    print(df.columns)\n",
    "    df=df.dropna()\n",
    "    df = df.drop_duplicates()\n",
    "    df = df.reset_index(drop=True)\n",
    "    return df"
   ]
  },
  {
   "cell_type": "code",
   "execution_count": 8,
   "id": "ae41b3f3",
   "metadata": {},
   "outputs": [
    {
     "name": "stdout",
     "output_type": "stream",
     "text": [
      "Index(['position', 'company', 'description', 'reviews', 'location'], dtype='object')\n"
     ]
    }
   ],
   "source": [
    "data = pd.read_csv(\"alldata.csv\")\n",
    "data = clean_data(data)\n",
    "# data = data.drop(\"description\", axis=1)\n",
    "data[\"reviews\"] = data.reviews.astype(int)"
   ]
  },
  {
   "cell_type": "code",
   "execution_count": 9,
   "id": "0ae6b7ce",
   "metadata": {},
   "outputs": [
    {
     "name": "stdout",
     "output_type": "stream",
     "text": [
      "<class 'pandas.core.frame.DataFrame'>\n",
      "RangeIndex: 5326 entries, 0 to 5325\n",
      "Data columns (total 5 columns):\n",
      " #   Column       Non-Null Count  Dtype \n",
      "---  ------       --------------  ----- \n",
      " 0   position     5326 non-null   object\n",
      " 1   company      5326 non-null   object\n",
      " 2   description  5326 non-null   object\n",
      " 3   reviews      5326 non-null   int64 \n",
      " 4   location     5326 non-null   object\n",
      "dtypes: int64(1), object(4)\n",
      "memory usage: 56.2 MB\n"
     ]
    }
   ],
   "source": [
    "data.describe(include='all')\n",
    "data.info(memory_usage='deep')"
   ]
  },
  {
   "cell_type": "code",
   "execution_count": 10,
   "id": "b8875dfd",
   "metadata": {},
   "outputs": [
    {
     "data": {
      "text/plain": [
       "0       False\n",
       "1       False\n",
       "2       False\n",
       "3       False\n",
       "4       False\n",
       "        ...  \n",
       "5321    False\n",
       "5322    False\n",
       "5323    False\n",
       "5324    False\n",
       "5325    False\n",
       "Length: 5326, dtype: bool"
      ]
     },
     "execution_count": 10,
     "metadata": {},
     "output_type": "execute_result"
    }
   ],
   "source": [
    "# check for null\n",
    "data.isna().all(axis=0)\n",
    "data.isna().all(axis=1)"
   ]
  },
  {
   "cell_type": "code",
   "execution_count": 12,
   "id": "7b3c37f4",
   "metadata": {},
   "outputs": [
    {
     "name": "stdout",
     "output_type": "stream",
     "text": [
      "<class 'pandas.core.frame.DataFrame'>\n",
      "RangeIndex: 5326 entries, 0 to 5325\n",
      "Data columns (total 1 columns):\n",
      " #   Column   Non-Null Count  Dtype\n",
      "---  ------   --------------  -----\n",
      " 0   reviews  5326 non-null   int64\n",
      "dtypes: int64(1)\n",
      "memory usage: 41.7 KB\n"
     ]
    }
   ],
   "source": [
    "# data.value_counts()\n",
    "\n",
    "# split categorical Features and Numerical Features.\n",
    "numerical = data._get_numeric_data()\n",
    "categorical = data[set(data.columns) - set(numerical.columns)]\n",
    "\n",
    "numerical.describe(include=\"all\")\n",
    "numerical.info(memory_usage='deep')"
   ]
  },
  {
   "cell_type": "code",
   "execution_count": 13,
   "id": "f20004af",
   "metadata": {},
   "outputs": [
    {
     "data": {
      "text/plain": [
       "[Data Scientist                                            204\n",
       " Senior Data Scientist                                      53\n",
       " Research Analyst                                           44\n",
       " Data Engineer                                              39\n",
       " Machine Learning Engineer                                  26\n",
       "                                                          ... \n",
       " Development Associate, Donor Systems - Data Management      1\n",
       " Senior Software Engineer, Cloud Engineering                 1\n",
       " Lead Data Scientist - Ad Tech / Marketing                   1\n",
       " Manager, Data and Analysis                                  1\n",
       " Senior Software Engineer - Platform Team                    1\n",
       " Name: position, Length: 4221, dtype: int64,\n",
       " Amazon.com            357\n",
       " Ball Aerospace        187\n",
       " Microsoft             137\n",
       " Google                134\n",
       " NYU Langone Health     76\n",
       "                      ... \n",
       " SKA                     1\n",
       " Quidel Corporation      1\n",
       " XL Catlin               1\n",
       " Amyx Inc                1\n",
       " Vituity                 1\n",
       " Name: company, Length: 1302, dtype: int64,\n",
       " 25902    224\n",
       " 108      193\n",
       " 2        191\n",
       " 5        138\n",
       " 4        131\n",
       "         ... \n",
       " 413        1\n",
       " 397        1\n",
       " 325        1\n",
       " 55         1\n",
       " 2049       1\n",
       " Name: reviews, Length: 560, dtype: int64,\n",
       " Seattle, WA              474\n",
       " Cambridge, MA            368\n",
       " New York, NY             338\n",
       " Boston, MA               305\n",
       " San Francisco, CA        287\n",
       "                         ... \n",
       " New York, NY 10004         1\n",
       " Los Angeles, CA 90017      1\n",
       " Atlanta, GA 30306          1\n",
       " Chicago, IL 60657          1\n",
       " Orangeburg, NY 10962       1\n",
       " Name: location, Length: 328, dtype: int64]"
      ]
     },
     "execution_count": 13,
     "metadata": {},
     "output_type": "execute_result"
    }
   ],
   "source": [
    "# find the unique values in each column\n",
    "[data[c].value_counts() for c in data.columns.drop(\"description\")]"
   ]
  },
  {
   "cell_type": "code",
   "execution_count": 14,
   "id": "0c32996b",
   "metadata": {},
   "outputs": [
    {
     "name": "stdout",
     "output_type": "stream",
     "text": [
      "Data Scientist                                            204\n",
      "Senior Data Scientist                                      53\n",
      "Research Analyst                                           44\n",
      "Data Engineer                                              39\n",
      "Machine Learning Engineer                                  26\n",
      "                                                         ... \n",
      "Development Associate, Donor Systems - Data Management      1\n",
      "Senior Software Engineer, Cloud Engineering                 1\n",
      "Lead Data Scientist - Ad Tech / Marketing                   1\n",
      "Manager, Data and Analysis                                  1\n",
      "Senior Software Engineer - Platform Team                    1\n",
      "Name: position, Length: 4221, dtype: int64\n",
      "the position with the highest demand is the data scientist position\n"
     ]
    }
   ],
   "source": [
    "### Who gets hired? What kind of talent do employers want when they are hiring a data scientist?\n",
    "# from scipy import stats\n",
    "\n",
    "print(data[\"position\"].value_counts()) \n",
    "print(\"the position with the highest demand is the data scientist position\")\n",
    "\n"
   ]
  },
  {
   "cell_type": "code",
   "execution_count": 18,
   "id": "3562b7e2",
   "metadata": {},
   "outputs": [
    {
     "name": "stdout",
     "output_type": "stream",
     "text": [
      "Seattle, WA                474\n",
      "Cambridge, MA              368\n",
      "New York, NY               338\n",
      "Boston, MA                 305\n",
      "San Francisco, CA          287\n",
      "                          ... \n",
      "San Francisco, CA 94122      1\n",
      "Atlanta, GA 30329            1\n",
      "New York, NY 10168           1\n",
      "Atlanta, GA 30339            1\n",
      "Orangeburg, NY 10962         1\n",
      "Name: location, Length: 328, dtype: int64\n",
      "474 positions were offered in Seattle\n"
     ]
    }
   ],
   "source": [
    "### Which location has the most opportunities?\n",
    "print(data[\"location\"].value_counts().sort_values(ascending = False))\n",
    "print(\"%d positions were offered in Seattle\" %\n",
    "      data[\"location\"].value_counts().sort_values(ascending = False)[0])"
   ]
  },
  {
   "cell_type": "code",
   "execution_count": 19,
   "id": "6196cf01",
   "metadata": {},
   "outputs": [
    {
     "data": {
      "text/plain": [
       "Seattle, WA                474\n",
       "Cambridge, MA              368\n",
       "New York, NY               338\n",
       "Boston, MA                 305\n",
       "San Francisco, CA          287\n",
       "                          ... \n",
       "San Francisco, CA 94122      1\n",
       "Atlanta, GA 30329            1\n",
       "New York, NY 10168           1\n",
       "Atlanta, GA 30339            1\n",
       "Orangeburg, NY 10962         1\n",
       "Name: location, Length: 328, dtype: int64"
      ]
     },
     "execution_count": 19,
     "metadata": {},
     "output_type": "execute_result"
    }
   ],
   "source": [
    "data[\"location\"].value_counts().sum()\n",
    "data[\"location\"].value_counts().sort_values(ascending = False)"
   ]
  },
  {
   "cell_type": "code",
   "execution_count": 20,
   "id": "c0aa3a0f",
   "metadata": {},
   "outputs": [],
   "source": [
    "### What skills, tools, degrees or majors do employers want the most for data scientists?\n",
    "skills = [\"Python\",\n",
    "          \"SQL\",\n",
    "          \"Excel\",\n",
    "          \"R\",\n",
    "          \"Scala\",\n",
    "          \"machine learning\",\n",
    "          \"modeling\",\n",
    "          \"optimization\",\n",
    "          \"data visualization\",\n",
    "          \"artificial intelligence\",\n",
    "          \"aws\"]\n",
    "\n",
    "\n",
    "degrees = [\"Computer Science\", \"Statistics\", \"Mathematics\", \"Economics\", \"Data Science\"]\n",
    "\n",
    "keywords = skills + degrees\n"
   ]
  },
  {
   "cell_type": "code",
   "execution_count": 21,
   "id": "cf771aa7",
   "metadata": {},
   "outputs": [],
   "source": [
    "# data_scientist_positions\n",
    "dsp = data[data[\"position\"].str.match('.*(?i)data.*' )]"
   ]
  },
  {
   "cell_type": "code",
   "execution_count": 22,
   "id": "eca0cef1",
   "metadata": {},
   "outputs": [],
   "source": [
    "# equivalent labels for \"Data Scientist\"\n",
    "names = dsp[\"position\"].value_counts()"
   ]
  },
  {
   "cell_type": "code",
   "execution_count": 23,
   "id": "cfd0b006",
   "metadata": {},
   "outputs": [],
   "source": [
    "# r = '(.*(?i)tool.*)|(.*(?i)degree.*)|(.*(?i)bachelor.*)|(.*(?i)phd.*)'\n",
    "\n",
    "# data[data[\"position\"].str.match('.*(?i)Python.*' )]\n",
    "# data[data[\"position\"].str.match(r)]\n",
    "\n",
    "def mkreg(arg):\n",
    "    return '.*(?i)' + arg + \".*\"\n"
   ]
  },
  {
   "cell_type": "code",
   "execution_count": 25,
   "id": "f9678edb",
   "metadata": {},
   "outputs": [],
   "source": [
    "# kw_stats represents the frequency of each keyword in the description columns of \"data scientist\" positions\n",
    "kw_stats = pd.DataFrame()\n",
    "for kw in keywords:\n",
    "    matches = len(dsp[dsp[\"description\"].str.match(mkreg(kw))])\n",
    "    kw_stats[kw] = [matches]\n"
   ]
  },
  {
   "cell_type": "code",
   "execution_count": 27,
   "id": "75e946e6",
   "metadata": {},
   "outputs": [
    {
     "name": "stdout",
     "output_type": "stream",
     "text": [
      "       Python   SQL  Excel       R  Scala  machine learning  modeling  \\\n",
      "count     1.0   1.0    1.0     1.0    1.0               1.0       1.0   \n",
      "mean     41.0  37.0  114.0  1390.0   20.0             106.0      52.0   \n",
      "std       NaN   NaN    NaN     NaN    NaN               NaN       NaN   \n",
      "min      41.0  37.0  114.0  1390.0   20.0             106.0      52.0   \n",
      "25%      41.0  37.0  114.0  1390.0   20.0             106.0      52.0   \n",
      "50%      41.0  37.0  114.0  1390.0   20.0             106.0      52.0   \n",
      "75%      41.0  37.0  114.0  1390.0   20.0             106.0      52.0   \n",
      "max      41.0  37.0  114.0  1390.0   20.0             106.0      52.0   \n",
      "\n",
      "       optimization  data visualization  artificial intelligence   aws  \\\n",
      "count           1.0                 1.0                      1.0   1.0   \n",
      "mean           78.0                14.0                     34.0  16.0   \n",
      "std             NaN                 NaN                      NaN   NaN   \n",
      "min            78.0                14.0                     34.0  16.0   \n",
      "25%            78.0                14.0                     34.0  16.0   \n",
      "50%            78.0                14.0                     34.0  16.0   \n",
      "75%            78.0                14.0                     34.0  16.0   \n",
      "max            78.0                14.0                     34.0  16.0   \n",
      "\n",
      "       Computer Science  Statistics  Mathematics  Economics  Data Science  \n",
      "count               1.0         1.0          1.0        1.0           1.0  \n",
      "mean               25.0        40.0         21.0       21.0         173.0  \n",
      "std                 NaN         NaN          NaN        NaN           NaN  \n",
      "min                25.0        40.0         21.0       21.0         173.0  \n",
      "25%                25.0        40.0         21.0       21.0         173.0  \n",
      "50%                25.0        40.0         21.0       21.0         173.0  \n",
      "75%                25.0        40.0         21.0       21.0         173.0  \n",
      "max                25.0        40.0         21.0       21.0         173.0  \n"
     ]
    }
   ],
   "source": [
    "print(kw_stats.describe())"
   ]
  },
  {
   "cell_type": "code",
   "execution_count": 28,
   "id": "77685f13",
   "metadata": {},
   "outputs": [
    {
     "data": {
      "text/html": [
       "<div>\n",
       "<style scoped>\n",
       "    .dataframe tbody tr th:only-of-type {\n",
       "        vertical-align: middle;\n",
       "    }\n",
       "\n",
       "    .dataframe tbody tr th {\n",
       "        vertical-align: top;\n",
       "    }\n",
       "\n",
       "    .dataframe thead th {\n",
       "        text-align: right;\n",
       "    }\n",
       "</style>\n",
       "<table border=\"1\" class=\"dataframe\">\n",
       "  <thead>\n",
       "    <tr style=\"text-align: right;\">\n",
       "      <th></th>\n",
       "      <th>position</th>\n",
       "      <th>company</th>\n",
       "      <th>description</th>\n",
       "      <th>reviews</th>\n",
       "      <th>location</th>\n",
       "    </tr>\n",
       "  </thead>\n",
       "  <tbody>\n",
       "    <tr>\n",
       "      <th>721</th>\n",
       "      <td>Senior Data Scientist / Python Developer</td>\n",
       "      <td>WinterWyman</td>\n",
       "      <td>One of the region's premier investment managem...</td>\n",
       "      <td>30</td>\n",
       "      <td>Boston, MA 02111</td>\n",
       "    </tr>\n",
       "    <tr>\n",
       "      <th>980</th>\n",
       "      <td>Data Engineer with Python Experience</td>\n",
       "      <td>Workbridge Associates</td>\n",
       "      <td>A successful consulting firm located in Cambri...</td>\n",
       "      <td>40</td>\n",
       "      <td>Boston, MA</td>\n",
       "    </tr>\n",
       "    <tr>\n",
       "      <th>1133</th>\n",
       "      <td>Lead Data Scientist - Python SME</td>\n",
       "      <td>84.51°</td>\n",
       "      <td>We are a community of analysts that act as the...</td>\n",
       "      <td>2</td>\n",
       "      <td>Chicago, IL</td>\n",
       "    </tr>\n",
       "    <tr>\n",
       "      <th>1151</th>\n",
       "      <td>Mid-Level Data Scientist (Python, Pandas, NumP...</td>\n",
       "      <td>Workbridge Associates</td>\n",
       "      <td>A thriving company located in Downtown Chicago...</td>\n",
       "      <td>40</td>\n",
       "      <td>Chicago, IL</td>\n",
       "    </tr>\n",
       "    <tr>\n",
       "      <th>1280</th>\n",
       "      <td>Mid to Senior Level Data Engineer (Python, Spa...</td>\n",
       "      <td>Workbridge Associates</td>\n",
       "      <td>A quicken loans company located in the River N...</td>\n",
       "      <td>40</td>\n",
       "      <td>Chicago, IL</td>\n",
       "    </tr>\n",
       "    <tr>\n",
       "      <th>2205</th>\n",
       "      <td>Python Software Developer - AMAZON ALEXA Machi...</td>\n",
       "      <td>Amazon.com</td>\n",
       "      <td>Job Description\\nPython Software Development E...</td>\n",
       "      <td>25902</td>\n",
       "      <td>Cambridge, MA</td>\n",
       "    </tr>\n",
       "    <tr>\n",
       "      <th>2541</th>\n",
       "      <td>Test Engineer (Machine Learning) with Python o...</td>\n",
       "      <td>GlobalLogic, Inc.</td>\n",
       "      <td>Job Description\\n\\nMinimum qualifications:\\n\\n...</td>\n",
       "      <td>353</td>\n",
       "      <td>Mountain View, CA</td>\n",
       "    </tr>\n",
       "    <tr>\n",
       "      <th>2782</th>\n",
       "      <td>Python Developer</td>\n",
       "      <td>Nielsen</td>\n",
       "      <td>Everyone knows about the Nielsen Ratings - but...</td>\n",
       "      <td>1918</td>\n",
       "      <td>New York, NY 10003</td>\n",
       "    </tr>\n",
       "    <tr>\n",
       "      <th>3096</th>\n",
       "      <td>Data Reporting Developer (Python) - Accounting</td>\n",
       "      <td>Hudson River Trading</td>\n",
       "      <td>Hudson River Trading's Accounting team is look...</td>\n",
       "      <td>2</td>\n",
       "      <td>New York, NY 10005</td>\n",
       "    </tr>\n",
       "    <tr>\n",
       "      <th>3255</th>\n",
       "      <td>Data Engineer Python &amp; Spark</td>\n",
       "      <td>Mount Sinai Health System</td>\n",
       "      <td>Strength Through DiversityGround breaking scie...</td>\n",
       "      <td>1029</td>\n",
       "      <td>New York, NY 10019</td>\n",
       "    </tr>\n",
       "    <tr>\n",
       "      <th>3377</th>\n",
       "      <td>Data Scientist (R, SAS/ Python)</td>\n",
       "      <td>Diverse Lynx</td>\n",
       "      <td>Detail of Requirement\\n\\nRole\\nData Scientist ...</td>\n",
       "      <td>82</td>\n",
       "      <td>Redmond, WA</td>\n",
       "    </tr>\n",
       "    <tr>\n",
       "      <th>4808</th>\n",
       "      <td>Senior NLP Data Scientist (Python, NLTK, AWS, ...</td>\n",
       "      <td>Jobspring Partners</td>\n",
       "      <td>Job Description\\n\\nThis company located in dow...</td>\n",
       "      <td>27</td>\n",
       "      <td>San Francisco, CA</td>\n",
       "    </tr>\n",
       "    <tr>\n",
       "      <th>4848</th>\n",
       "      <td>Python Software Engineer, Data Integration</td>\n",
       "      <td>Doximity</td>\n",
       "      <td>Doximity is transforming the healthcare indust...</td>\n",
       "      <td>2</td>\n",
       "      <td>San Francisco, CA</td>\n",
       "    </tr>\n",
       "    <tr>\n",
       "      <th>4890</th>\n",
       "      <td>Senior Data Scientist (Python, AWS, Spark)</td>\n",
       "      <td>Jobspring Partners</td>\n",
       "      <td>Title: Senior Data Scientist (Python, AWS, Spa...</td>\n",
       "      <td>27</td>\n",
       "      <td>San Francisco, CA</td>\n",
       "    </tr>\n",
       "  </tbody>\n",
       "</table>\n",
       "</div>"
      ],
      "text/plain": [
       "                                               position  \\\n",
       "721            Senior Data Scientist / Python Developer   \n",
       "980                Data Engineer with Python Experience   \n",
       "1133                   Lead Data Scientist - Python SME   \n",
       "1151  Mid-Level Data Scientist (Python, Pandas, NumP...   \n",
       "1280  Mid to Senior Level Data Engineer (Python, Spa...   \n",
       "2205  Python Software Developer - AMAZON ALEXA Machi...   \n",
       "2541  Test Engineer (Machine Learning) with Python o...   \n",
       "2782                                   Python Developer   \n",
       "3096     Data Reporting Developer (Python) - Accounting   \n",
       "3255                       Data Engineer Python & Spark   \n",
       "3377                    Data Scientist (R, SAS/ Python)   \n",
       "4808  Senior NLP Data Scientist (Python, NLTK, AWS, ...   \n",
       "4848         Python Software Engineer, Data Integration   \n",
       "4890         Senior Data Scientist (Python, AWS, Spark)   \n",
       "\n",
       "                        company  \\\n",
       "721                 WinterWyman   \n",
       "980       Workbridge Associates   \n",
       "1133                     84.51°   \n",
       "1151      Workbridge Associates   \n",
       "1280      Workbridge Associates   \n",
       "2205                 Amazon.com   \n",
       "2541          GlobalLogic, Inc.   \n",
       "2782                    Nielsen   \n",
       "3096       Hudson River Trading   \n",
       "3255  Mount Sinai Health System   \n",
       "3377               Diverse Lynx   \n",
       "4808         Jobspring Partners   \n",
       "4848                   Doximity   \n",
       "4890         Jobspring Partners   \n",
       "\n",
       "                                            description  reviews  \\\n",
       "721   One of the region's premier investment managem...       30   \n",
       "980   A successful consulting firm located in Cambri...       40   \n",
       "1133  We are a community of analysts that act as the...        2   \n",
       "1151  A thriving company located in Downtown Chicago...       40   \n",
       "1280  A quicken loans company located in the River N...       40   \n",
       "2205  Job Description\\nPython Software Development E...    25902   \n",
       "2541  Job Description\\n\\nMinimum qualifications:\\n\\n...      353   \n",
       "2782  Everyone knows about the Nielsen Ratings - but...     1918   \n",
       "3096  Hudson River Trading's Accounting team is look...        2   \n",
       "3255  Strength Through DiversityGround breaking scie...     1029   \n",
       "3377  Detail of Requirement\\n\\nRole\\nData Scientist ...       82   \n",
       "4808  Job Description\\n\\nThis company located in dow...       27   \n",
       "4848  Doximity is transforming the healthcare indust...        2   \n",
       "4890  Title: Senior Data Scientist (Python, AWS, Spa...       27   \n",
       "\n",
       "                 location  \n",
       "721      Boston, MA 02111  \n",
       "980            Boston, MA  \n",
       "1133          Chicago, IL  \n",
       "1151          Chicago, IL  \n",
       "1280          Chicago, IL  \n",
       "2205        Cambridge, MA  \n",
       "2541    Mountain View, CA  \n",
       "2782  New York, NY 10003   \n",
       "3096  New York, NY 10005   \n",
       "3255  New York, NY 10019   \n",
       "3377          Redmond, WA  \n",
       "4808    San Francisco, CA  \n",
       "4848    San Francisco, CA  \n",
       "4890    San Francisco, CA  "
      ]
     },
     "execution_count": 28,
     "metadata": {},
     "output_type": "execute_result"
    }
   ],
   "source": [
    "data[data[\"position\"].str.match(mkreg(\"Python\"))]"
   ]
  },
  {
   "cell_type": "code",
   "execution_count": null,
   "id": "8da46f4c",
   "metadata": {},
   "outputs": [],
   "source": []
  }
 ],
 "metadata": {
  "kernelspec": {
   "display_name": "Python 3",
   "language": "python",
   "name": "python3"
  },
  "language_info": {
   "codemirror_mode": {
    "name": "ipython",
    "version": 3
   },
   "file_extension": ".py",
   "mimetype": "text/x-python",
   "name": "python",
   "nbconvert_exporter": "python",
   "pygments_lexer": "ipython3",
   "version": "3.9.5"
  }
 },
 "nbformat": 4,
 "nbformat_minor": 5
}
