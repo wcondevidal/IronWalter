{
 "cells": [
  {
   "cell_type": "markdown",
   "id": "a070570c",
   "metadata": {},
   "source": [
    "**Activity 3:** Read this [blog article](https://thedatafrog.com/en/articles/dogs-vs-cats/). Link the url to your notebook using the appropriate markdown technique and add a summary into your notebook (as markdown) of any image processing steps you saw the author employ. \n",
    "\n",
    "Specifically, what did the coder have to do to PROCESS the images in the cat v dogs dataset to enable the image classification method to be accurate\n",
    "\n",
    "**Commentary:** "
   ]
  },
  {
   "cell_type": "code",
   "execution_count": null,
   "id": "49baebda",
   "metadata": {},
   "outputs": [],
   "source": []
  }
 ],
 "metadata": {
  "kernelspec": {
   "display_name": "Python 3",
   "language": "python",
   "name": "python3"
  },
  "language_info": {
   "codemirror_mode": {
    "name": "ipython",
    "version": 3
   },
   "file_extension": ".py",
   "mimetype": "text/x-python",
   "name": "python",
   "nbconvert_exporter": "python",
   "pygments_lexer": "ipython3",
   "version": "3.8.8"
  }
 },
 "nbformat": 4,
 "nbformat_minor": 5
}
