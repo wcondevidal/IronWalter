{
 "cells": [
  {
   "cell_type": "markdown",
   "id": "9ca104a3",
   "metadata": {},
   "source": [
    "# 1. Object types"
   ]
  },
  {
   "cell_type": "code",
   "execution_count": 2,
   "id": "0e64fa3b",
   "metadata": {},
   "outputs": [
    {
     "data": {
      "text/plain": [
       "4480014832"
      ]
     },
     "execution_count": 2,
     "metadata": {},
     "output_type": "execute_result"
    }
   ],
   "source": [
    "id(\"hello world\")"
   ]
  },
  {
   "cell_type": "code",
   "execution_count": 3,
   "id": "6fb2ffd1",
   "metadata": {},
   "outputs": [
    {
     "data": {
      "text/plain": [
       "str"
      ]
     },
     "execution_count": 3,
     "metadata": {},
     "output_type": "execute_result"
    }
   ],
   "source": [
    "type(\"hello world\")"
   ]
  },
  {
   "cell_type": "code",
   "execution_count": 4,
   "id": "d410b78e",
   "metadata": {},
   "outputs": [
    {
     "data": {
      "text/plain": [
       "'hello world'"
      ]
     },
     "execution_count": 4,
     "metadata": {},
     "output_type": "execute_result"
    }
   ],
   "source": [
    "\"hello world\""
   ]
  },
  {
   "cell_type": "code",
   "execution_count": 6,
   "id": "a1465b77",
   "metadata": {},
   "outputs": [
    {
     "data": {
      "text/plain": [
       "False"
      ]
     },
     "execution_count": 6,
     "metadata": {},
     "output_type": "execute_result"
    }
   ],
   "source": [
    "isinstance(12213.23, str)"
   ]
  },
  {
   "cell_type": "markdown",
   "id": "976959b8",
   "metadata": {},
   "source": [
    "The class contains all the attributes(properties, values) and methods(functions). It tells us, what the resulting object is and what it can do. You can always find this out with..."
   ]
  },
  {
   "cell_type": "code",
   "execution_count": 7,
   "id": "fe94fab8",
   "metadata": {},
   "outputs": [
    {
     "data": {
      "text/plain": [
       "'sgsfgdfgsgsh'"
      ]
     },
     "execution_count": 7,
     "metadata": {},
     "output_type": "execute_result"
    }
   ],
   "source": [
    "\"sgsfg\"+\"dfgsgsh\""
   ]
  },
  {
   "cell_type": "code",
   "execution_count": 8,
   "id": "693fd3ad",
   "metadata": {},
   "outputs": [
    {
     "data": {
      "text/plain": [
       "['__add__',\n",
       " '__class__',\n",
       " '__contains__',\n",
       " '__delattr__',\n",
       " '__dir__',\n",
       " '__doc__',\n",
       " '__eq__',\n",
       " '__format__',\n",
       " '__ge__',\n",
       " '__getattribute__',\n",
       " '__getitem__',\n",
       " '__getnewargs__',\n",
       " '__gt__',\n",
       " '__hash__',\n",
       " '__init__',\n",
       " '__init_subclass__',\n",
       " '__iter__',\n",
       " '__le__',\n",
       " '__len__',\n",
       " '__lt__',\n",
       " '__mod__',\n",
       " '__mul__',\n",
       " '__ne__',\n",
       " '__new__',\n",
       " '__reduce__',\n",
       " '__reduce_ex__',\n",
       " '__repr__',\n",
       " '__rmod__',\n",
       " '__rmul__',\n",
       " '__setattr__',\n",
       " '__sizeof__',\n",
       " '__str__',\n",
       " '__subclasshook__',\n",
       " 'capitalize',\n",
       " 'casefold',\n",
       " 'center',\n",
       " 'count',\n",
       " 'encode',\n",
       " 'endswith',\n",
       " 'expandtabs',\n",
       " 'find',\n",
       " 'format',\n",
       " 'format_map',\n",
       " 'index',\n",
       " 'isalnum',\n",
       " 'isalpha',\n",
       " 'isascii',\n",
       " 'isdecimal',\n",
       " 'isdigit',\n",
       " 'isidentifier',\n",
       " 'islower',\n",
       " 'isnumeric',\n",
       " 'isprintable',\n",
       " 'isspace',\n",
       " 'istitle',\n",
       " 'isupper',\n",
       " 'join',\n",
       " 'ljust',\n",
       " 'lower',\n",
       " 'lstrip',\n",
       " 'maketrans',\n",
       " 'partition',\n",
       " 'removeprefix',\n",
       " 'removesuffix',\n",
       " 'replace',\n",
       " 'rfind',\n",
       " 'rindex',\n",
       " 'rjust',\n",
       " 'rpartition',\n",
       " 'rsplit',\n",
       " 'rstrip',\n",
       " 'split',\n",
       " 'splitlines',\n",
       " 'startswith',\n",
       " 'strip',\n",
       " 'swapcase',\n",
       " 'title',\n",
       " 'translate',\n",
       " 'upper',\n",
       " 'zfill']"
      ]
     },
     "execution_count": 8,
     "metadata": {},
     "output_type": "execute_result"
    }
   ],
   "source": [
    "dir(\"hello\")"
   ]
  },
  {
   "cell_type": "code",
   "execution_count": 20,
   "id": "ed4c3e4a",
   "metadata": {},
   "outputs": [
    {
     "data": {
      "text/plain": [
       "'hello world'"
      ]
     },
     "execution_count": 20,
     "metadata": {},
     "output_type": "execute_result"
    }
   ],
   "source": [
    "\"hello\".__add__(\" world\")"
   ]
  },
  {
   "cell_type": "code",
   "execution_count": 11,
   "id": "595432f1",
   "metadata": {},
   "outputs": [
    {
     "data": {
      "text/plain": [
       "'dfdf'"
      ]
     },
     "execution_count": 11,
     "metadata": {},
     "output_type": "execute_result"
    }
   ],
   "source": [
    "\"fdfdf\".lstrip(\"f\")"
   ]
  },
  {
   "cell_type": "code",
   "execution_count": 18,
   "id": "f0bb2a6d",
   "metadata": {},
   "outputs": [
    {
     "data": {
      "text/plain": [
       "'hell'"
      ]
     },
     "execution_count": 18,
     "metadata": {},
     "output_type": "execute_result"
    }
   ],
   "source": [
    "\"hello\".rstrip(\"o\")"
   ]
  },
  {
   "cell_type": "markdown",
   "id": "6ff0efce",
   "metadata": {},
   "source": [
    "The key to succesfully working with python is knowing what type jout object are!"
   ]
  },
  {
   "cell_type": "code",
   "execution_count": 21,
   "id": "a9b9852c",
   "metadata": {},
   "outputs": [],
   "source": [
    "a = \"Hello World\""
   ]
  },
  {
   "cell_type": "code",
   "execution_count": 22,
   "id": "f5d9966f",
   "metadata": {},
   "outputs": [],
   "source": [
    "a = \"Hello Walt\""
   ]
  },
  {
   "cell_type": "markdown",
   "id": "52b8864f",
   "metadata": {},
   "source": [
    "# 2. String Operations\n",
    "## lower(), upper()"
   ]
  },
  {
   "cell_type": "code",
   "execution_count": 25,
   "id": "9ffdc32e",
   "metadata": {},
   "outputs": [],
   "source": [
    "a = \"Hello World\""
   ]
  },
  {
   "cell_type": "code",
   "execution_count": 26,
   "id": "5cb6b56e",
   "metadata": {},
   "outputs": [
    {
     "data": {
      "text/plain": [
       "'hello world'"
      ]
     },
     "execution_count": 26,
     "metadata": {},
     "output_type": "execute_result"
    }
   ],
   "source": [
    "a.lower()"
   ]
  },
  {
   "cell_type": "code",
   "execution_count": 27,
   "id": "947392df",
   "metadata": {},
   "outputs": [
    {
     "data": {
      "text/plain": [
       "'HELLO WORLD'"
      ]
     },
     "execution_count": 27,
     "metadata": {},
     "output_type": "execute_result"
    }
   ],
   "source": [
    "a.upper()"
   ]
  },
  {
   "cell_type": "markdown",
   "id": "cb2ef723",
   "metadata": {},
   "source": [
    "## lstrip( ), rstrip( ), strip( )"
   ]
  },
  {
   "cell_type": "code",
   "execution_count": 29,
   "id": "b6b286af",
   "metadata": {},
   "outputs": [],
   "source": [
    "b = \"how are you?\""
   ]
  },
  {
   "cell_type": "code",
   "execution_count": 30,
   "id": "7d3c6aa3",
   "metadata": {},
   "outputs": [
    {
     "data": {
      "text/plain": [
       "'how are you?'"
      ]
     },
     "execution_count": 30,
     "metadata": {},
     "output_type": "execute_result"
    }
   ],
   "source": [
    "b.strip()"
   ]
  },
  {
   "cell_type": "code",
   "execution_count": 31,
   "id": "f30dd637",
   "metadata": {},
   "outputs": [
    {
     "data": {
      "text/plain": [
       "'w are you?'"
      ]
     },
     "execution_count": 31,
     "metadata": {},
     "output_type": "execute_result"
    }
   ],
   "source": [
    "b.strip(\" ho\")"
   ]
  },
  {
   "cell_type": "code",
   "execution_count": 32,
   "id": "3810af83",
   "metadata": {},
   "outputs": [
    {
     "data": {
      "text/plain": [
       "'w are you?'"
      ]
     },
     "execution_count": 32,
     "metadata": {},
     "output_type": "execute_result"
    }
   ],
   "source": [
    "b.lstrip(\"you h\")"
   ]
  },
  {
   "cell_type": "markdown",
   "id": "2db5eb4d",
   "metadata": {},
   "source": [
    "# join()"
   ]
  },
  {
   "cell_type": "code",
   "execution_count": 35,
   "id": "9f9bf7b4",
   "metadata": {},
   "outputs": [],
   "source": [
    "a = [\"monday\", \"tuesday\", \"wednesday\"]"
   ]
  },
  {
   "cell_type": "code",
   "execution_count": 36,
   "id": "b32b7f4e",
   "metadata": {},
   "outputs": [
    {
     "data": {
      "text/plain": [
       "'monday-tuesday-wednesday'"
      ]
     },
     "execution_count": 36,
     "metadata": {},
     "output_type": "execute_result"
    }
   ],
   "source": [
    "\"-\".join(a)"
   ]
  },
  {
   "cell_type": "code",
   "execution_count": 37,
   "id": "edf7308a",
   "metadata": {},
   "outputs": [
    {
     "data": {
      "text/plain": [
       "'h*e*l*l*o*w*o*r*l*d'"
      ]
     },
     "execution_count": 37,
     "metadata": {},
     "output_type": "execute_result"
    }
   ],
   "source": [
    "c = \"helloworld\"\n",
    "\"*\".join(c)"
   ]
  },
  {
   "cell_type": "markdown",
   "id": "7317e6a7",
   "metadata": {},
   "source": [
    "# split()"
   ]
  },
  {
   "cell_type": "code",
   "execution_count": 38,
   "id": "88c3c282",
   "metadata": {},
   "outputs": [],
   "source": [
    "sentence = \"hello world! how are you\""
   ]
  },
  {
   "cell_type": "code",
   "execution_count": 39,
   "id": "c75874dc",
   "metadata": {},
   "outputs": [
    {
     "data": {
      "text/plain": [
       "['hello', 'world!', 'how', 'are', 'you']"
      ]
     },
     "execution_count": 39,
     "metadata": {},
     "output_type": "execute_result"
    }
   ],
   "source": [
    "sentence.split()"
   ]
  },
  {
   "cell_type": "code",
   "execution_count": 40,
   "id": "c4ea2cda",
   "metadata": {},
   "outputs": [
    {
     "data": {
      "text/plain": [
       "['hello world', ' how are you']"
      ]
     },
     "execution_count": 40,
     "metadata": {},
     "output_type": "execute_result"
    }
   ],
   "source": [
    "sentence.split(\"!\")"
   ]
  },
  {
   "cell_type": "code",
   "execution_count": 41,
   "id": "7b44c7ce",
   "metadata": {},
   "outputs": [
    {
     "data": {
      "text/plain": [
       "['hello world! how are you']"
      ]
     },
     "execution_count": 41,
     "metadata": {},
     "output_type": "execute_result"
    }
   ],
   "source": [
    "sentence.split(\"x\")"
   ]
  },
  {
   "cell_type": "markdown",
   "id": "88b33a69",
   "metadata": {},
   "source": [
    "# replace()"
   ]
  },
  {
   "cell_type": "code",
   "execution_count": 42,
   "id": "cd6d31f1",
   "metadata": {},
   "outputs": [
    {
     "data": {
      "text/plain": [
       "'hello_world!_how_are_you'"
      ]
     },
     "execution_count": 42,
     "metadata": {},
     "output_type": "execute_result"
    }
   ],
   "source": [
    "sentence.replace(\" \", \"_\")"
   ]
  },
  {
   "cell_type": "code",
   "execution_count": 44,
   "id": "dd123763",
   "metadata": {},
   "outputs": [
    {
     "data": {
      "text/plain": [
       "'helloworld!howareyou'"
      ]
     },
     "execution_count": 44,
     "metadata": {},
     "output_type": "execute_result"
    }
   ],
   "source": [
    "sentence.replace(\" \", \"\")"
   ]
  },
  {
   "cell_type": "markdown",
   "id": "c54b1ed1",
   "metadata": {},
   "source": [
    "# format strings"
   ]
  },
  {
   "cell_type": "code",
   "execution_count": 45,
   "id": "809e5eb3",
   "metadata": {},
   "outputs": [],
   "source": [
    "name = \"flo\"\n",
    "name2 = \"walt\"\n",
    "\n",
    "sentence1 = \"hello my name is flo\""
   ]
  },
  {
   "cell_type": "code",
   "execution_count": 48,
   "id": "78bf274a",
   "metadata": {},
   "outputs": [
    {
     "data": {
      "text/plain": [
       "'hello my name is walt'"
      ]
     },
     "execution_count": 48,
     "metadata": {},
     "output_type": "execute_result"
    }
   ],
   "source": [
    "f\"hello my name is {name2}\""
   ]
  },
  {
   "cell_type": "code",
   "execution_count": 49,
   "id": "935a3bea",
   "metadata": {},
   "outputs": [
    {
     "data": {
      "text/plain": [
       "'There are 4 lions and 5 giraffes in the zoo'"
      ]
     },
     "execution_count": 49,
     "metadata": {},
     "output_type": "execute_result"
    }
   ],
   "source": [
    "\"There are {} lions and {} giraffes in the zoo\".format(4,5)"
   ]
  },
  {
   "cell_type": "code",
   "execution_count": 50,
   "id": "dcc58a8c",
   "metadata": {},
   "outputs": [
    {
     "data": {
      "text/plain": [
       "'there are 4 lions and 5 giraffes in the zoo'"
      ]
     },
     "execution_count": 50,
     "metadata": {},
     "output_type": "execute_result"
    }
   ],
   "source": [
    "\"there are {l} lions and {g} giraffes in the zoo\".format(l=4,g=5)"
   ]
  },
  {
   "cell_type": "markdown",
   "id": "7e3b62f7",
   "metadata": {},
   "source": [
    "# 3. A bit more on for loops"
   ]
  },
  {
   "cell_type": "code",
   "execution_count": 51,
   "id": "af0f24c2",
   "metadata": {},
   "outputs": [
    {
     "name": "stdout",
     "output_type": "stream",
     "text": [
      "a-\n",
      "b-\n",
      "c-\n",
      "d-\n",
      "e-\n",
      "f-\n",
      "g-\n"
     ]
    }
   ],
   "source": [
    "for letter in \"abcdefg\":\n",
    "    print(letter + \"-\")"
   ]
  },
  {
   "cell_type": "code",
   "execution_count": 53,
   "id": "2af915c2",
   "metadata": {},
   "outputs": [
    {
     "name": "stdout",
     "output_type": "stream",
     "text": [
      "2\n",
      "3\n",
      "4\n",
      "5\n",
      "6\n",
      "7\n",
      "8\n",
      "9\n"
     ]
    }
   ],
   "source": [
    "for i in range(2,10):\n",
    "    print(i)"
   ]
  },
  {
   "cell_type": "markdown",
   "id": "589a803e",
   "metadata": {},
   "source": [
    "break and continue (also work with while)"
   ]
  },
  {
   "cell_type": "code",
   "execution_count": 55,
   "id": "18f65a89",
   "metadata": {},
   "outputs": [
    {
     "name": "stdout",
     "output_type": "stream",
     "text": [
      "0\n",
      "1\n",
      "2\n",
      "3\n",
      "4\n",
      "5\n",
      "6\n",
      "7\n",
      "8\n",
      "9\n"
     ]
    }
   ],
   "source": [
    "for i in range(20):\n",
    "    if i < 10:\n",
    "        print(i)\n",
    "    else:\n",
    "        break"
   ]
  },
  {
   "cell_type": "code",
   "execution_count": 58,
   "id": "574c26aa",
   "metadata": {},
   "outputs": [
    {
     "name": "stdout",
     "output_type": "stream",
     "text": [
      "0\n",
      "1\n",
      "2\n",
      "3\n",
      "4\n",
      "5\n",
      "6\n",
      "7\n",
      "8\n",
      "9\n",
      "10 after continue\n",
      "11 after continue\n",
      "12 after continue\n",
      "13 after continue\n",
      "14 after continue\n",
      "15 after continue\n",
      "16 after continue\n",
      "17 after continue\n",
      "18 after continue\n",
      "19 after continue\n"
     ]
    }
   ],
   "source": [
    "for i in range(20):\n",
    "    if i < 10:\n",
    "        print(i)\n",
    "    else:\n",
    "        print(f\"{i} after continue\")\n",
    "        continue"
   ]
  },
  {
   "cell_type": "markdown",
   "id": "22bfc8dc",
   "metadata": {},
   "source": [
    "# 4. Debugging and error handling"
   ]
  },
  {
   "cell_type": "code",
   "execution_count": 59,
   "id": "31aba39a",
   "metadata": {},
   "outputs": [],
   "source": [
    "from IPython.display import display, Image"
   ]
  },
  {
   "cell_type": "code",
   "execution_count": 68,
   "id": "7e29b5c0",
   "metadata": {},
   "outputs": [
    {
     "data": {
      "text/html": [
       "<img src=\"https://upload.wikimedia.org/wikipedia/commons/thumb/7/72/Noto_Emoji_Oreo_1f405.svg/240px-Noto_Emoji_Oreo_1f405.svg.png\" width=\"50\"/>"
      ],
      "text/plain": [
       "<IPython.core.display.Image object>"
      ]
     },
     "metadata": {},
     "output_type": "display_data"
    },
    {
     "data": {
      "text/html": [
       "<img src=\"https://upload.wikimedia.org/wikipedia/commons/thumb/8/84/Noto_Emoji_Pie_1f52b.svg/240px-Noto_Emoji_Pie_1f52b.svg.png\" width=\"50\"/>"
      ],
      "text/plain": [
       "<IPython.core.display.Image object>"
      ]
     },
     "metadata": {},
     "output_type": "display_data"
    },
    {
     "data": {
      "text/html": [
       "<img src=\"https://upload.wikimedia.org/wikipedia/commons/thumb/6/63/Noto_Emoji_Oreo_1f602.svg/240px-Noto_Emoji_Oreo_1f602.svg.png\" width=\"50\"/>"
      ],
      "text/plain": [
       "<IPython.core.display.Image object>"
      ]
     },
     "metadata": {},
     "output_type": "display_data"
    }
   ],
   "source": [
    "urls = [\"https://upload.wikimedia.org/wikipedia/commons/thumb/7/72/Noto_Emoji_Oreo_1f405.svg/240px-Noto_Emoji_Oreo_1f405.svg.png\",\n",
    "        \"https://upload.wikimedia.org/wikipedia/commons/thumb/8/84/Noto_Emoji_Pie_1f52b.svg/240px-Noto_Emoji_Pie_1f52b.svg.png\",\n",
    "        \"https://upload.wikimedia.org/wikipedia/commons/thumb/6/63/Noto_Emoji_Oreo_1f602.svg/240px-Noto_Emoji_Oreo_1f602.svg.png\",\n",
    "       ]\n",
    "\n",
    "def img_displayer(url_lst):\n",
    "    for url in url_lst:\n",
    "        img = Image(url=url, width=50)\n",
    "        display(img)\n",
    "        \n",
    "img_displayer(urls)"
   ]
  },
  {
   "cell_type": "markdown",
   "id": "3a1425e7",
   "metadata": {},
   "source": [
    "# 5. More on functions"
   ]
  },
  {
   "cell_type": "code",
   "execution_count": 79,
   "id": "4e6ba967",
   "metadata": {},
   "outputs": [],
   "source": [
    "def odd_even_checker(number):\n",
    "    if number % 2 == 0:\n",
    "        print(str(number) + \" is even\")\n",
    "    else:\n",
    "        print(str(number) + \" is odd\")\n",
    "    return"
   ]
  },
  {
   "cell_type": "code",
   "execution_count": 78,
   "id": "ebe20745",
   "metadata": {},
   "outputs": [
    {
     "name": "stdout",
     "output_type": "stream",
     "text": [
      "7 is odd\n"
     ]
    }
   ],
   "source": [
    "odd_even_checker(7)"
   ]
  },
  {
   "cell_type": "code",
   "execution_count": 75,
   "id": "ce022c5e",
   "metadata": {},
   "outputs": [
    {
     "name": "stdout",
     "output_type": "stream",
     "text": [
      "7 is odd\n"
     ]
    },
    {
     "data": {
      "text/plain": [
       "NoneType"
      ]
     },
     "execution_count": 75,
     "metadata": {},
     "output_type": "execute_result"
    }
   ],
   "source": [
    "type(odd_even_checker(7))"
   ]
  },
  {
   "cell_type": "code",
   "execution_count": 76,
   "id": "ec397a92",
   "metadata": {},
   "outputs": [],
   "source": [
    "def return_something():\n",
    "    return"
   ]
  },
  {
   "cell_type": "code",
   "execution_count": 80,
   "id": "433119b6",
   "metadata": {},
   "outputs": [
    {
     "data": {
      "text/plain": [
       "NoneType"
      ]
     },
     "execution_count": 80,
     "metadata": {},
     "output_type": "execute_result"
    }
   ],
   "source": [
    "type(return_something())"
   ]
  },
  {
   "cell_type": "code",
   "execution_count": 81,
   "id": "34b6d5c2",
   "metadata": {},
   "outputs": [
    {
     "data": {
      "text/plain": [
       "NoneType"
      ]
     },
     "execution_count": 81,
     "metadata": {},
     "output_type": "execute_result"
    }
   ],
   "source": [
    "def return_pass():\n",
    "    pass\n",
    "\n",
    "type(return_pass())"
   ]
  },
  {
   "cell_type": "code",
   "execution_count": 82,
   "id": "f68a02c5",
   "metadata": {},
   "outputs": [
    {
     "name": "stdout",
     "output_type": "stream",
     "text": [
      "hello world\n"
     ]
    },
    {
     "data": {
      "text/plain": [
       "NoneType"
      ]
     },
     "execution_count": 82,
     "metadata": {},
     "output_type": "execute_result"
    }
   ],
   "source": [
    "type(print(\"hello world\"))"
   ]
  },
  {
   "cell_type": "code",
   "execution_count": 83,
   "id": "09c0075f",
   "metadata": {},
   "outputs": [],
   "source": [
    "def myfunc():\n",
    "    return 2 "
   ]
  },
  {
   "cell_type": "code",
   "execution_count": 84,
   "id": "3b51af0c",
   "metadata": {},
   "outputs": [
    {
     "data": {
      "text/plain": [
       "int"
      ]
     },
     "execution_count": 84,
     "metadata": {},
     "output_type": "execute_result"
    }
   ],
   "source": [
    "type(myfunc())"
   ]
  },
  {
   "cell_type": "code",
   "execution_count": 85,
   "id": "a573dc37",
   "metadata": {},
   "outputs": [
    {
     "data": {
      "text/plain": [
       "int"
      ]
     },
     "execution_count": 85,
     "metadata": {},
     "output_type": "execute_result"
    }
   ],
   "source": [
    "def inner_function():\n",
    "    return 7\n",
    "\n",
    "type(inner_function())"
   ]
  },
  {
   "cell_type": "code",
   "execution_count": 90,
   "id": "3531dd76",
   "metadata": {},
   "outputs": [],
   "source": [
    "def outer_function():\n",
    "    inner_function()"
   ]
  },
  {
   "cell_type": "code",
   "execution_count": 91,
   "id": "16fbb848",
   "metadata": {},
   "outputs": [
    {
     "data": {
      "text/plain": [
       "NoneType"
      ]
     },
     "execution_count": 91,
     "metadata": {},
     "output_type": "execute_result"
    }
   ],
   "source": [
    "type(outer_function())"
   ]
  },
  {
   "cell_type": "code",
   "execution_count": null,
   "id": "06297148",
   "metadata": {},
   "outputs": [],
   "source": [
    "def add_numbers(x,y)"
   ]
  },
  {
   "cell_type": "markdown",
   "id": "c7eed12e",
   "metadata": {},
   "source": [
    "# 6. List comprehensions"
   ]
  },
  {
   "cell_type": "code",
   "execution_count": 95,
   "id": "2e988a0a",
   "metadata": {},
   "outputs": [
    {
     "data": {
      "text/plain": [
       "['monday', 'tuesday', 'friday']"
      ]
     },
     "execution_count": 95,
     "metadata": {},
     "output_type": "execute_result"
    }
   ],
   "source": [
    "dirty_data = [\" monday\", \"tuesday\", \" friday\"]\n",
    "\n",
    "clean_data = []\n",
    "for day in dirty_data:\n",
    "    clean_data.append(day.strip())\n",
    "    \n",
    "clean_data"
   ]
  },
  {
   "cell_type": "code",
   "execution_count": 97,
   "id": "99140448",
   "metadata": {},
   "outputs": [
    {
     "data": {
      "text/plain": [
       "['monday', 'tuesday', 'friday']"
      ]
     },
     "execution_count": 97,
     "metadata": {},
     "output_type": "execute_result"
    }
   ],
   "source": [
    "clean_data = [day.strip() for day in dirty_data]\n",
    "\n",
    "clean_data"
   ]
  },
  {
   "cell_type": "code",
   "execution_count": 100,
   "id": "ae749f35",
   "metadata": {},
   "outputs": [
    {
     "data": {
      "text/plain": [
       "['MONDAY']"
      ]
     },
     "execution_count": 100,
     "metadata": {},
     "output_type": "execute_result"
    }
   ],
   "source": [
    "[day.strip().upper() for day in dirty_data if day.strip() in [\"monday\", \"wednesday\"]]"
   ]
  },
  {
   "cell_type": "code",
   "execution_count": 103,
   "id": "bb6c0681",
   "metadata": {},
   "outputs": [
    {
     "data": {
      "text/plain": [
       "'e-l-l-o-o-r-l-d'"
      ]
     },
     "execution_count": 103,
     "metadata": {},
     "output_type": "execute_result"
    }
   ],
   "source": [
    "\"-\".join(letter for letter in \"Hello World\" if letter.islower())"
   ]
  },
  {
   "cell_type": "code",
   "execution_count": null,
   "id": "7049b0a0",
   "metadata": {},
   "outputs": [],
   "source": []
  },
  {
   "cell_type": "code",
   "execution_count": null,
   "id": "8811985b",
   "metadata": {},
   "outputs": [],
   "source": []
  }
 ],
 "metadata": {
  "kernelspec": {
   "display_name": "Python 3",
   "language": "python",
   "name": "python3"
  },
  "language_info": {
   "codemirror_mode": {
    "name": "ipython",
    "version": 3
   },
   "file_extension": ".py",
   "mimetype": "text/x-python",
   "name": "python",
   "nbconvert_exporter": "python",
   "pygments_lexer": "ipython3",
   "version": "3.9.5"
  }
 },
 "nbformat": 4,
 "nbformat_minor": 5
}
