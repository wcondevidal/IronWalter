{
 "cells": [
  {
   "cell_type": "markdown",
   "metadata": {},
   "source": [
    "## Spotipy API\n",
    "\n",
    "Create an Spotify account and follow these steps to register an app: https://developer.spotify.com/documentation/general/guides/app-settings/\n",
    "\n",
    "After the app is created, you can see it on your dashboard\n",
    "https://developer.spotify.com/dashboard/applications\n",
    "\n",
    "Click on it and you'll find the client id and client secret."
   ]
  },
  {
   "cell_type": "markdown",
   "metadata": {},
   "source": [
    "####Import Libraries"
   ]
  },
  {
   "cell_type": "code",
   "execution_count": 1,
   "metadata": {},
   "outputs": [],
   "source": [
    "import spotipy\n",
    "from spotipy.oauth2 import SpotifyClientCredentials\n",
    "import pandas as pd\n",
    "import getpass"
   ]
  },
  {
   "cell_type": "markdown",
   "metadata": {},
   "source": [
    "## Password security "
   ]
  },
  {
   "cell_type": "code",
   "execution_count": null,
   "metadata": {},
   "outputs": [
    {
     "name": "stdout",
     "output_type": "stream",
     "text": [
      "client_id?········\n"
     ]
    }
   ],
   "source": [
    "client_id=str(getpass.getpass('client_id?'))\n",
    "client_secret=str(getpass.getpass('client_secret?'))"
   ]
  },
  {
   "cell_type": "code",
   "execution_count": 205,
   "metadata": {},
   "outputs": [],
   "source": [
    "#Initialize SpotiPy with user credentials (see password section below)\n",
    "\n",
    "sp = spotipy.Spotify(auth_manager=SpotifyClientCredentials(client_id=client_id, client_secret=client_secret))"
   ]
  },
  {
   "cell_type": "markdown",
   "metadata": {},
   "source": [
    "#### Playlist import"
   ]
  },
  {
   "cell_type": "code",
   "execution_count": 206,
   "metadata": {},
   "outputs": [],
   "source": [
    "playlist = sp.user_playlist_tracks(\"Walter\", \"3VE0WsnukXaPrNKazIgAWx\")"
   ]
  },
  {
   "cell_type": "code",
   "execution_count": 207,
   "metadata": {},
   "outputs": [],
   "source": [
    "playlist1 = sp.user_playlist_tracks(\"Andrea Fought\",\"5mzECKhirkq6GKtsAvvtsx\")"
   ]
  },
  {
   "cell_type": "code",
   "execution_count": 208,
   "metadata": {},
   "outputs": [],
   "source": [
    "playlist2= sp.user_playlist_tracks(\"Spotify\",\"37i9dQZF1DXbXD9pMSZomS\") "
   ]
  },
  {
   "cell_type": "code",
   "execution_count": 209,
   "metadata": {},
   "outputs": [],
   "source": [
    "playlist3= sp.user_playlist_tracks(\"Spotify\",\"37i9dQZF1DX0r3x8OtiwEM\")   "
   ]
  },
  {
   "cell_type": "code",
   "execution_count": 210,
   "metadata": {},
   "outputs": [],
   "source": [
    "playlist4=sp.user_playlist_tracks(\"Maria Paradell\", \"7MkQSGPP5ImrZpmTw5vyAp\")"
   ]
  },
  {
   "cell_type": "code",
   "execution_count": 211,
   "metadata": {},
   "outputs": [],
   "source": [
    "playlist5=sp.user_playlist_tracks(\"Walter\",\"39KvOzjZCHb7ZrxhT3AX5a\")"
   ]
  },
  {
   "cell_type": "code",
   "execution_count": 212,
   "metadata": {},
   "outputs": [],
   "source": [
    "playlist6=sp.user_playlist_tracks(\"Walter\",\"3nEqaksi7BK6c6lSca7ocF\")"
   ]
  },
  {
   "cell_type": "code",
   "execution_count": 213,
   "metadata": {},
   "outputs": [],
   "source": [
    "playlist7=sp.user_playlist_tracks(\"Alfonso Peña\",\"07L4PVTpeuzHJkeEz4iggs\")"
   ]
  },
  {
   "cell_type": "code",
   "execution_count": 214,
   "metadata": {},
   "outputs": [],
   "source": [
    "playlist8=sp.user_playlist_tracks(\"Eric Shoemaker\",\"2ZggLIDqac8GLh3NvuSY5d\")"
   ]
  },
  {
   "cell_type": "code",
   "execution_count": 215,
   "metadata": {},
   "outputs": [],
   "source": [
    "playlist9=sp.user_playlist_tracks(\"Andrea Ribó\",\"2b5O7A12NefJUhNAYeWxXH\")"
   ]
  },
  {
   "cell_type": "code",
   "execution_count": 216,
   "metadata": {},
   "outputs": [],
   "source": [
    "playlist10=sp.user_playlist_tracks(\"Pablo Morillo\",\"4Kjib49e5gleKbslnywJB9\")"
   ]
  },
  {
   "cell_type": "markdown",
   "metadata": {},
   "source": [
    "Spotify songs are identified by either a \"url\", a \"uri\" or an \"id\". \n",
    "\n",
    "- The `id` is an alphanumeric code, and it's the nuclear part of the identifier.\n",
    "\n",
    "- The `uri` contains \"spotify:track\" before the id. An uri is useful because it can be searched manually in the Spotify app.\n",
    "\n",
    "- The `url` is a link to the song on the Spotify web player.\n",
    "\n",
    "We'll use the `uri` in this code-along, but feel free to use whatever you think fits best your needs."
   ]
  },
  {
   "cell_type": "code",
   "execution_count": 217,
   "metadata": {},
   "outputs": [
    {
     "data": {
      "text/plain": [
       "dict_keys(['href', 'items', 'limit', 'next', 'offset', 'previous', 'total'])"
      ]
     },
     "execution_count": 217,
     "metadata": {},
     "output_type": "execute_result"
    }
   ],
   "source": [
    "playlist.keys()"
   ]
  },
  {
   "cell_type": "code",
   "execution_count": 218,
   "metadata": {},
   "outputs": [
    {
     "data": {
      "text/plain": [
       "'Lightweight - Sandy Rivera Remix'"
      ]
     },
     "execution_count": 218,
     "metadata": {},
     "output_type": "execute_result"
    }
   ],
   "source": [
    "playlist['items'][0]['track']['name']"
   ]
  },
  {
   "cell_type": "code",
   "execution_count": 219,
   "metadata": {},
   "outputs": [
    {
     "data": {
      "text/plain": [
       "'Jason Burns'"
      ]
     },
     "execution_count": 219,
     "metadata": {},
     "output_type": "execute_result"
    }
   ],
   "source": [
    "playlist['items'][0]['track']['artists'][0]['name']"
   ]
  },
  {
   "cell_type": "code",
   "execution_count": 220,
   "metadata": {},
   "outputs": [],
   "source": [
    "playlist_names = []\n",
    "for item in playlist['items']:\n",
    "        playlist_names.append(item['track']['name'])"
   ]
  },
  {
   "cell_type": "code",
   "execution_count": 221,
   "metadata": {},
   "outputs": [],
   "source": [
    "playlist_artists = []\n",
    "for i in playlist['items']:\n",
    "        playlist_artists.append(i['track']['artists'][0]['name'])"
   ]
  },
  {
   "cell_type": "code",
   "execution_count": 222,
   "metadata": {},
   "outputs": [],
   "source": [
    "playlist_uri=[]\n",
    "for item in playlist['items']:\n",
    "    playlist_uri.append(item['track']['uri'])"
   ]
  },
  {
   "cell_type": "code",
   "execution_count": 162,
   "metadata": {},
   "outputs": [],
   "source": [
    "audio_playlist_df=pd.DataFrame(sp.audio_features(tracks=playlist_uri))"
   ]
  },
  {
   "cell_type": "code",
   "execution_count": 163,
   "metadata": {},
   "outputs": [],
   "source": [
    "audio_playlist_df['Name'] = playlist_names"
   ]
  },
  {
   "cell_type": "code",
   "execution_count": 164,
   "metadata": {},
   "outputs": [],
   "source": [
    "audio_playlist_df['Artist'] = playlist_artists"
   ]
  },
  {
   "cell_type": "code",
   "execution_count": 223,
   "metadata": {},
   "outputs": [
    {
     "data": {
      "text/html": [
       "<div>\n",
       "<style scoped>\n",
       "    .dataframe tbody tr th:only-of-type {\n",
       "        vertical-align: middle;\n",
       "    }\n",
       "\n",
       "    .dataframe tbody tr th {\n",
       "        vertical-align: top;\n",
       "    }\n",
       "\n",
       "    .dataframe thead th {\n",
       "        text-align: right;\n",
       "    }\n",
       "</style>\n",
       "<table border=\"1\" class=\"dataframe\">\n",
       "  <thead>\n",
       "    <tr style=\"text-align: right;\">\n",
       "      <th></th>\n",
       "      <th>danceability</th>\n",
       "      <th>energy</th>\n",
       "      <th>key</th>\n",
       "      <th>loudness</th>\n",
       "      <th>mode</th>\n",
       "      <th>speechiness</th>\n",
       "      <th>acousticness</th>\n",
       "      <th>instrumentalness</th>\n",
       "      <th>liveness</th>\n",
       "      <th>valence</th>\n",
       "      <th>tempo</th>\n",
       "      <th>type</th>\n",
       "      <th>id</th>\n",
       "      <th>uri</th>\n",
       "      <th>track_href</th>\n",
       "      <th>analysis_url</th>\n",
       "      <th>duration_ms</th>\n",
       "      <th>time_signature</th>\n",
       "      <th>Name</th>\n",
       "      <th>Artist</th>\n",
       "    </tr>\n",
       "  </thead>\n",
       "  <tbody>\n",
       "    <tr>\n",
       "      <th>0</th>\n",
       "      <td>0.774</td>\n",
       "      <td>0.505</td>\n",
       "      <td>5</td>\n",
       "      <td>-9.047</td>\n",
       "      <td>0</td>\n",
       "      <td>0.0469</td>\n",
       "      <td>0.01200</td>\n",
       "      <td>0.0416</td>\n",
       "      <td>0.1070</td>\n",
       "      <td>0.446</td>\n",
       "      <td>118.010</td>\n",
       "      <td>audio_features</td>\n",
       "      <td>0YDiCJBXYH6qmp2oIlPf6Z</td>\n",
       "      <td>spotify:track:0YDiCJBXYH6qmp2oIlPf6Z</td>\n",
       "      <td>https://api.spotify.com/v1/tracks/0YDiCJBXYH6q...</td>\n",
       "      <td>https://api.spotify.com/v1/audio-analysis/0YDi...</td>\n",
       "      <td>391397</td>\n",
       "      <td>4</td>\n",
       "      <td>Lightweight - Sandy Rivera Remix</td>\n",
       "      <td>Jason Burns</td>\n",
       "    </tr>\n",
       "    <tr>\n",
       "      <th>1</th>\n",
       "      <td>0.795</td>\n",
       "      <td>0.558</td>\n",
       "      <td>9</td>\n",
       "      <td>-7.939</td>\n",
       "      <td>0</td>\n",
       "      <td>0.0312</td>\n",
       "      <td>0.11800</td>\n",
       "      <td>0.0591</td>\n",
       "      <td>0.1050</td>\n",
       "      <td>0.246</td>\n",
       "      <td>112.029</td>\n",
       "      <td>audio_features</td>\n",
       "      <td>5mEdU0a2nw4vsuA8Pr8Av2</td>\n",
       "      <td>spotify:track:5mEdU0a2nw4vsuA8Pr8Av2</td>\n",
       "      <td>https://api.spotify.com/v1/tracks/5mEdU0a2nw4v...</td>\n",
       "      <td>https://api.spotify.com/v1/audio-analysis/5mEd...</td>\n",
       "      <td>209648</td>\n",
       "      <td>4</td>\n",
       "      <td>War (feat. August+Us)</td>\n",
       "      <td>Witness</td>\n",
       "    </tr>\n",
       "    <tr>\n",
       "      <th>2</th>\n",
       "      <td>0.867</td>\n",
       "      <td>0.603</td>\n",
       "      <td>2</td>\n",
       "      <td>-7.427</td>\n",
       "      <td>0</td>\n",
       "      <td>0.0637</td>\n",
       "      <td>0.35600</td>\n",
       "      <td>0.0553</td>\n",
       "      <td>0.0765</td>\n",
       "      <td>0.677</td>\n",
       "      <td>114.977</td>\n",
       "      <td>audio_features</td>\n",
       "      <td>6MzuROznsagl5Szc8w3Smj</td>\n",
       "      <td>spotify:track:6MzuROznsagl5Szc8w3Smj</td>\n",
       "      <td>https://api.spotify.com/v1/tracks/6MzuROznsagl...</td>\n",
       "      <td>https://api.spotify.com/v1/audio-analysis/6Mzu...</td>\n",
       "      <td>225181</td>\n",
       "      <td>4</td>\n",
       "      <td>Something About You</td>\n",
       "      <td>Hayden James</td>\n",
       "    </tr>\n",
       "    <tr>\n",
       "      <th>3</th>\n",
       "      <td>0.817</td>\n",
       "      <td>0.623</td>\n",
       "      <td>8</td>\n",
       "      <td>-6.856</td>\n",
       "      <td>1</td>\n",
       "      <td>0.0603</td>\n",
       "      <td>0.03490</td>\n",
       "      <td>0.2770</td>\n",
       "      <td>0.0619</td>\n",
       "      <td>0.506</td>\n",
       "      <td>115.989</td>\n",
       "      <td>audio_features</td>\n",
       "      <td>0JNBcMPvsCeH8Ac4praGMo</td>\n",
       "      <td>spotify:track:0JNBcMPvsCeH8Ac4praGMo</td>\n",
       "      <td>https://api.spotify.com/v1/tracks/0JNBcMPvsCeH...</td>\n",
       "      <td>https://api.spotify.com/v1/audio-analysis/0JNB...</td>\n",
       "      <td>380690</td>\n",
       "      <td>4</td>\n",
       "      <td>Dolphins - Dub Mix</td>\n",
       "      <td>Freddy Verano</td>\n",
       "    </tr>\n",
       "    <tr>\n",
       "      <th>4</th>\n",
       "      <td>0.790</td>\n",
       "      <td>0.647</td>\n",
       "      <td>8</td>\n",
       "      <td>-6.732</td>\n",
       "      <td>0</td>\n",
       "      <td>0.0375</td>\n",
       "      <td>0.20000</td>\n",
       "      <td>0.1090</td>\n",
       "      <td>0.0766</td>\n",
       "      <td>0.749</td>\n",
       "      <td>105.012</td>\n",
       "      <td>audio_features</td>\n",
       "      <td>3hxRKXzZS0XRYGZ123JDNH</td>\n",
       "      <td>spotify:track:3hxRKXzZS0XRYGZ123JDNH</td>\n",
       "      <td>https://api.spotify.com/v1/tracks/3hxRKXzZS0XR...</td>\n",
       "      <td>https://api.spotify.com/v1/audio-analysis/3hxR...</td>\n",
       "      <td>194707</td>\n",
       "      <td>4</td>\n",
       "      <td>Djon maya maï (feat. Victor Démé)</td>\n",
       "      <td>Synapson</td>\n",
       "    </tr>\n",
       "    <tr>\n",
       "      <th>...</th>\n",
       "      <td>...</td>\n",
       "      <td>...</td>\n",
       "      <td>...</td>\n",
       "      <td>...</td>\n",
       "      <td>...</td>\n",
       "      <td>...</td>\n",
       "      <td>...</td>\n",
       "      <td>...</td>\n",
       "      <td>...</td>\n",
       "      <td>...</td>\n",
       "      <td>...</td>\n",
       "      <td>...</td>\n",
       "      <td>...</td>\n",
       "      <td>...</td>\n",
       "      <td>...</td>\n",
       "      <td>...</td>\n",
       "      <td>...</td>\n",
       "      <td>...</td>\n",
       "      <td>...</td>\n",
       "      <td>...</td>\n",
       "    </tr>\n",
       "    <tr>\n",
       "      <th>94</th>\n",
       "      <td>0.833</td>\n",
       "      <td>0.482</td>\n",
       "      <td>9</td>\n",
       "      <td>-13.008</td>\n",
       "      <td>0</td>\n",
       "      <td>0.1580</td>\n",
       "      <td>0.10800</td>\n",
       "      <td>0.5030</td>\n",
       "      <td>0.1060</td>\n",
       "      <td>0.382</td>\n",
       "      <td>119.000</td>\n",
       "      <td>audio_features</td>\n",
       "      <td>0TsXdSKxK3Snezeuw88RnO</td>\n",
       "      <td>spotify:track:0TsXdSKxK3Snezeuw88RnO</td>\n",
       "      <td>https://api.spotify.com/v1/tracks/0TsXdSKxK3Sn...</td>\n",
       "      <td>https://api.spotify.com/v1/audio-analysis/0TsX...</td>\n",
       "      <td>445800</td>\n",
       "      <td>4</td>\n",
       "      <td>Roach Fingers</td>\n",
       "      <td>Jesse Bru</td>\n",
       "    </tr>\n",
       "    <tr>\n",
       "      <th>95</th>\n",
       "      <td>0.789</td>\n",
       "      <td>0.446</td>\n",
       "      <td>10</td>\n",
       "      <td>-8.264</td>\n",
       "      <td>0</td>\n",
       "      <td>0.0942</td>\n",
       "      <td>0.00454</td>\n",
       "      <td>0.0893</td>\n",
       "      <td>0.2300</td>\n",
       "      <td>0.508</td>\n",
       "      <td>118.011</td>\n",
       "      <td>audio_features</td>\n",
       "      <td>0M4GK1taHqdIOuvXnEJFiw</td>\n",
       "      <td>spotify:track:0M4GK1taHqdIOuvXnEJFiw</td>\n",
       "      <td>https://api.spotify.com/v1/tracks/0M4GK1taHqdI...</td>\n",
       "      <td>https://api.spotify.com/v1/audio-analysis/0M4G...</td>\n",
       "      <td>191537</td>\n",
       "      <td>4</td>\n",
       "      <td>Lights Up (feat. Channel Tres)</td>\n",
       "      <td>Flight Facilities</td>\n",
       "    </tr>\n",
       "    <tr>\n",
       "      <th>96</th>\n",
       "      <td>0.763</td>\n",
       "      <td>0.445</td>\n",
       "      <td>5</td>\n",
       "      <td>-17.393</td>\n",
       "      <td>0</td>\n",
       "      <td>0.1110</td>\n",
       "      <td>0.58300</td>\n",
       "      <td>0.0629</td>\n",
       "      <td>0.2390</td>\n",
       "      <td>0.644</td>\n",
       "      <td>123.981</td>\n",
       "      <td>audio_features</td>\n",
       "      <td>4olb6ECWuZeWSUycRH3EN1</td>\n",
       "      <td>spotify:track:4olb6ECWuZeWSUycRH3EN1</td>\n",
       "      <td>https://api.spotify.com/v1/tracks/4olb6ECWuZeW...</td>\n",
       "      <td>https://api.spotify.com/v1/audio-analysis/4olb...</td>\n",
       "      <td>522452</td>\n",
       "      <td>4</td>\n",
       "      <td>Your Dreams - Lucid Version</td>\n",
       "      <td>Stimming</td>\n",
       "    </tr>\n",
       "    <tr>\n",
       "      <th>97</th>\n",
       "      <td>0.950</td>\n",
       "      <td>0.434</td>\n",
       "      <td>6</td>\n",
       "      <td>-10.460</td>\n",
       "      <td>0</td>\n",
       "      <td>0.0598</td>\n",
       "      <td>0.01640</td>\n",
       "      <td>0.4260</td>\n",
       "      <td>0.0886</td>\n",
       "      <td>0.128</td>\n",
       "      <td>115.042</td>\n",
       "      <td>audio_features</td>\n",
       "      <td>4snT9aRs3dBI4NjKIazBXR</td>\n",
       "      <td>spotify:track:4snT9aRs3dBI4NjKIazBXR</td>\n",
       "      <td>https://api.spotify.com/v1/tracks/4snT9aRs3dBI...</td>\n",
       "      <td>https://api.spotify.com/v1/audio-analysis/4snT...</td>\n",
       "      <td>217500</td>\n",
       "      <td>4</td>\n",
       "      <td>Zermatt</td>\n",
       "      <td>Kamaliza</td>\n",
       "    </tr>\n",
       "    <tr>\n",
       "      <th>98</th>\n",
       "      <td>0.826</td>\n",
       "      <td>0.451</td>\n",
       "      <td>11</td>\n",
       "      <td>-11.676</td>\n",
       "      <td>0</td>\n",
       "      <td>0.0705</td>\n",
       "      <td>0.58600</td>\n",
       "      <td>0.7290</td>\n",
       "      <td>0.1120</td>\n",
       "      <td>0.471</td>\n",
       "      <td>115.986</td>\n",
       "      <td>audio_features</td>\n",
       "      <td>2BEDsNidFZnq0Rcnj6WoPO</td>\n",
       "      <td>spotify:track:2BEDsNidFZnq0Rcnj6WoPO</td>\n",
       "      <td>https://api.spotify.com/v1/tracks/2BEDsNidFZnq...</td>\n",
       "      <td>https://api.spotify.com/v1/audio-analysis/2BED...</td>\n",
       "      <td>211590</td>\n",
       "      <td>4</td>\n",
       "      <td>Tough As Nails</td>\n",
       "      <td>Mindchatter</td>\n",
       "    </tr>\n",
       "  </tbody>\n",
       "</table>\n",
       "<p>99 rows × 20 columns</p>\n",
       "</div>"
      ],
      "text/plain": [
       "    danceability  energy  key  loudness  mode  speechiness  acousticness  \\\n",
       "0          0.774   0.505    5    -9.047     0       0.0469       0.01200   \n",
       "1          0.795   0.558    9    -7.939     0       0.0312       0.11800   \n",
       "2          0.867   0.603    2    -7.427     0       0.0637       0.35600   \n",
       "3          0.817   0.623    8    -6.856     1       0.0603       0.03490   \n",
       "4          0.790   0.647    8    -6.732     0       0.0375       0.20000   \n",
       "..           ...     ...  ...       ...   ...          ...           ...   \n",
       "94         0.833   0.482    9   -13.008     0       0.1580       0.10800   \n",
       "95         0.789   0.446   10    -8.264     0       0.0942       0.00454   \n",
       "96         0.763   0.445    5   -17.393     0       0.1110       0.58300   \n",
       "97         0.950   0.434    6   -10.460     0       0.0598       0.01640   \n",
       "98         0.826   0.451   11   -11.676     0       0.0705       0.58600   \n",
       "\n",
       "    instrumentalness  liveness  valence    tempo            type  \\\n",
       "0             0.0416    0.1070    0.446  118.010  audio_features   \n",
       "1             0.0591    0.1050    0.246  112.029  audio_features   \n",
       "2             0.0553    0.0765    0.677  114.977  audio_features   \n",
       "3             0.2770    0.0619    0.506  115.989  audio_features   \n",
       "4             0.1090    0.0766    0.749  105.012  audio_features   \n",
       "..               ...       ...      ...      ...             ...   \n",
       "94            0.5030    0.1060    0.382  119.000  audio_features   \n",
       "95            0.0893    0.2300    0.508  118.011  audio_features   \n",
       "96            0.0629    0.2390    0.644  123.981  audio_features   \n",
       "97            0.4260    0.0886    0.128  115.042  audio_features   \n",
       "98            0.7290    0.1120    0.471  115.986  audio_features   \n",
       "\n",
       "                        id                                   uri  \\\n",
       "0   0YDiCJBXYH6qmp2oIlPf6Z  spotify:track:0YDiCJBXYH6qmp2oIlPf6Z   \n",
       "1   5mEdU0a2nw4vsuA8Pr8Av2  spotify:track:5mEdU0a2nw4vsuA8Pr8Av2   \n",
       "2   6MzuROznsagl5Szc8w3Smj  spotify:track:6MzuROznsagl5Szc8w3Smj   \n",
       "3   0JNBcMPvsCeH8Ac4praGMo  spotify:track:0JNBcMPvsCeH8Ac4praGMo   \n",
       "4   3hxRKXzZS0XRYGZ123JDNH  spotify:track:3hxRKXzZS0XRYGZ123JDNH   \n",
       "..                     ...                                   ...   \n",
       "94  0TsXdSKxK3Snezeuw88RnO  spotify:track:0TsXdSKxK3Snezeuw88RnO   \n",
       "95  0M4GK1taHqdIOuvXnEJFiw  spotify:track:0M4GK1taHqdIOuvXnEJFiw   \n",
       "96  4olb6ECWuZeWSUycRH3EN1  spotify:track:4olb6ECWuZeWSUycRH3EN1   \n",
       "97  4snT9aRs3dBI4NjKIazBXR  spotify:track:4snT9aRs3dBI4NjKIazBXR   \n",
       "98  2BEDsNidFZnq0Rcnj6WoPO  spotify:track:2BEDsNidFZnq0Rcnj6WoPO   \n",
       "\n",
       "                                           track_href  \\\n",
       "0   https://api.spotify.com/v1/tracks/0YDiCJBXYH6q...   \n",
       "1   https://api.spotify.com/v1/tracks/5mEdU0a2nw4v...   \n",
       "2   https://api.spotify.com/v1/tracks/6MzuROznsagl...   \n",
       "3   https://api.spotify.com/v1/tracks/0JNBcMPvsCeH...   \n",
       "4   https://api.spotify.com/v1/tracks/3hxRKXzZS0XR...   \n",
       "..                                                ...   \n",
       "94  https://api.spotify.com/v1/tracks/0TsXdSKxK3Sn...   \n",
       "95  https://api.spotify.com/v1/tracks/0M4GK1taHqdI...   \n",
       "96  https://api.spotify.com/v1/tracks/4olb6ECWuZeW...   \n",
       "97  https://api.spotify.com/v1/tracks/4snT9aRs3dBI...   \n",
       "98  https://api.spotify.com/v1/tracks/2BEDsNidFZnq...   \n",
       "\n",
       "                                         analysis_url  duration_ms  \\\n",
       "0   https://api.spotify.com/v1/audio-analysis/0YDi...       391397   \n",
       "1   https://api.spotify.com/v1/audio-analysis/5mEd...       209648   \n",
       "2   https://api.spotify.com/v1/audio-analysis/6Mzu...       225181   \n",
       "3   https://api.spotify.com/v1/audio-analysis/0JNB...       380690   \n",
       "4   https://api.spotify.com/v1/audio-analysis/3hxR...       194707   \n",
       "..                                                ...          ...   \n",
       "94  https://api.spotify.com/v1/audio-analysis/0TsX...       445800   \n",
       "95  https://api.spotify.com/v1/audio-analysis/0M4G...       191537   \n",
       "96  https://api.spotify.com/v1/audio-analysis/4olb...       522452   \n",
       "97  https://api.spotify.com/v1/audio-analysis/4snT...       217500   \n",
       "98  https://api.spotify.com/v1/audio-analysis/2BED...       211590   \n",
       "\n",
       "    time_signature                               Name             Artist  \n",
       "0                4   Lightweight - Sandy Rivera Remix        Jason Burns  \n",
       "1                4              War (feat. August+Us)            Witness  \n",
       "2                4                Something About You       Hayden James  \n",
       "3                4                 Dolphins - Dub Mix      Freddy Verano  \n",
       "4                4  Djon maya maï (feat. Victor Démé)           Synapson  \n",
       "..             ...                                ...                ...  \n",
       "94               4                      Roach Fingers          Jesse Bru  \n",
       "95               4     Lights Up (feat. Channel Tres)  Flight Facilities  \n",
       "96               4        Your Dreams - Lucid Version           Stimming  \n",
       "97               4                            Zermatt           Kamaliza  \n",
       "98               4                     Tough As Nails        Mindchatter  \n",
       "\n",
       "[99 rows x 20 columns]"
      ]
     },
     "execution_count": 223,
     "metadata": {},
     "output_type": "execute_result"
    }
   ],
   "source": [
    "audio_playlist_df"
   ]
  },
  {
   "cell_type": "code",
   "execution_count": null,
   "metadata": {},
   "outputs": [],
   "source": []
  },
  {
   "cell_type": "code",
   "execution_count": 224,
   "metadata": {},
   "outputs": [],
   "source": [
    "playlist1_names = []\n",
    "for item in playlist1['items']:\n",
    "        playlist1_names.append(item['track']['name'])"
   ]
  },
  {
   "cell_type": "code",
   "execution_count": 225,
   "metadata": {},
   "outputs": [],
   "source": [
    "playlist1_artists = []\n",
    "for i in playlist1['items']:\n",
    "        playlist1_artists.append(i['track']['artists'][0]['name'])"
   ]
  },
  {
   "cell_type": "code",
   "execution_count": 226,
   "metadata": {},
   "outputs": [],
   "source": [
    "playlist1_uri=[]\n",
    "for item in playlist1['items']:\n",
    "    playlist1_uri.append(item['track']['uri'])"
   ]
  },
  {
   "cell_type": "code",
   "execution_count": 227,
   "metadata": {},
   "outputs": [],
   "source": [
    "audio_playlist1_df=pd.DataFrame(sp.audio_features(tracks=playlist1_uri))"
   ]
  },
  {
   "cell_type": "code",
   "execution_count": 228,
   "metadata": {},
   "outputs": [],
   "source": [
    "audio_playlist1_df['Name'] = playlist1_names"
   ]
  },
  {
   "cell_type": "code",
   "execution_count": 229,
   "metadata": {},
   "outputs": [],
   "source": [
    "audio_playlist1_df['Artist'] = playlist1_artists"
   ]
  },
  {
   "cell_type": "code",
   "execution_count": 230,
   "metadata": {},
   "outputs": [
    {
     "data": {
      "text/plain": [
       "(100, 20)"
      ]
     },
     "execution_count": 230,
     "metadata": {},
     "output_type": "execute_result"
    }
   ],
   "source": [
    "audio_playlist1_df.shape"
   ]
  },
  {
   "cell_type": "code",
   "execution_count": null,
   "metadata": {},
   "outputs": [],
   "source": []
  },
  {
   "cell_type": "code",
   "execution_count": 231,
   "metadata": {},
   "outputs": [],
   "source": [
    "playlist2_names = []\n",
    "for item in playlist2['items']:\n",
    "        playlist2_names.append(item['track']['name'])"
   ]
  },
  {
   "cell_type": "code",
   "execution_count": 232,
   "metadata": {},
   "outputs": [],
   "source": [
    "playlist2_artists = []\n",
    "for i in playlist2['items']:\n",
    "        playlist2_artists.append(i['track']['artists'][0]['name'])"
   ]
  },
  {
   "cell_type": "code",
   "execution_count": 233,
   "metadata": {},
   "outputs": [],
   "source": [
    "playlist2_uri=[]\n",
    "for item in playlist2['items']:\n",
    "    playlist2_uri.append(item['track']['uri'])"
   ]
  },
  {
   "cell_type": "code",
   "execution_count": 234,
   "metadata": {},
   "outputs": [],
   "source": [
    "audio_playlist2_df=pd.DataFrame(sp.audio_features(tracks=playlist2_uri))"
   ]
  },
  {
   "cell_type": "code",
   "execution_count": 235,
   "metadata": {},
   "outputs": [],
   "source": [
    "audio_playlist2_df['Name'] = playlist2_names"
   ]
  },
  {
   "cell_type": "code",
   "execution_count": 236,
   "metadata": {},
   "outputs": [],
   "source": [
    "audio_playlist2_df['Artist'] = playlist2_artists"
   ]
  },
  {
   "cell_type": "code",
   "execution_count": 237,
   "metadata": {},
   "outputs": [],
   "source": [
    "playlist3_names = []\n",
    "for item in playlist3['items']:\n",
    "        playlist3_names.append(item['track']['name'])"
   ]
  },
  {
   "cell_type": "code",
   "execution_count": 238,
   "metadata": {},
   "outputs": [],
   "source": [
    "playlist3_artists = []\n",
    "for i in playlist3['items']:\n",
    "        playlist3_artists.append(i['track']['artists'][0]['name'])"
   ]
  },
  {
   "cell_type": "code",
   "execution_count": 239,
   "metadata": {},
   "outputs": [],
   "source": [
    "playlist3_uri=[]\n",
    "for item in playlist3['items']:\n",
    "    playlist3_uri.append(item['track']['uri'])"
   ]
  },
  {
   "cell_type": "code",
   "execution_count": 240,
   "metadata": {},
   "outputs": [],
   "source": [
    "audio_playlist3_df=pd.DataFrame(sp.audio_features(tracks=playlist3_uri))"
   ]
  },
  {
   "cell_type": "code",
   "execution_count": 241,
   "metadata": {},
   "outputs": [],
   "source": [
    "audio_playlist3_df['Name'] = playlist3_names"
   ]
  },
  {
   "cell_type": "code",
   "execution_count": 242,
   "metadata": {},
   "outputs": [],
   "source": [
    "audio_playlist3_df['Artist'] = playlist3_artists"
   ]
  },
  {
   "cell_type": "code",
   "execution_count": null,
   "metadata": {},
   "outputs": [],
   "source": []
  },
  {
   "cell_type": "code",
   "execution_count": 183,
   "metadata": {},
   "outputs": [],
   "source": [
    "playlist4_names = []\n",
    "for item in playlist4['items']:\n",
    "        playlist4_names.append(item['track']['name'])"
   ]
  },
  {
   "cell_type": "code",
   "execution_count": 184,
   "metadata": {},
   "outputs": [],
   "source": [
    "playlist4_artists = []\n",
    "for i in playlist4['items']:\n",
    "        playlist4_artists.append(i['track']['artists'][0]['name'])"
   ]
  },
  {
   "cell_type": "code",
   "execution_count": 185,
   "metadata": {},
   "outputs": [],
   "source": [
    "playlist4_uri=[]\n",
    "for item in playlist4['items']:\n",
    "    playlist4_uri.append(item['track']['uri'])"
   ]
  },
  {
   "cell_type": "code",
   "execution_count": 186,
   "metadata": {},
   "outputs": [],
   "source": [
    "audio_playlist4_df=pd.DataFrame(sp.audio_features(tracks=playlist4_uri))"
   ]
  },
  {
   "cell_type": "code",
   "execution_count": 187,
   "metadata": {},
   "outputs": [],
   "source": [
    "audio_playlist4_df['Name'] = playlist4_names"
   ]
  },
  {
   "cell_type": "code",
   "execution_count": 188,
   "metadata": {},
   "outputs": [],
   "source": [
    "audio_playlist4_df['Artist'] = playlist4_artists"
   ]
  },
  {
   "cell_type": "code",
   "execution_count": null,
   "metadata": {},
   "outputs": [],
   "source": []
  },
  {
   "cell_type": "code",
   "execution_count": 189,
   "metadata": {},
   "outputs": [],
   "source": [
    "playlist5_names = []\n",
    "for item in playlist5['items']:\n",
    "        playlist5_names.append(item['track']['name'])"
   ]
  },
  {
   "cell_type": "code",
   "execution_count": 190,
   "metadata": {},
   "outputs": [],
   "source": [
    "playlist5_artists = []\n",
    "for i in playlist5['items']:\n",
    "        playlist5_artists.append(i['track']['artists'][0]['name'])"
   ]
  },
  {
   "cell_type": "code",
   "execution_count": 191,
   "metadata": {},
   "outputs": [],
   "source": [
    "playlist5_uri=[]\n",
    "for item in playlist5['items']:\n",
    "    playlist5_uri.append(item['track']['uri'])"
   ]
  },
  {
   "cell_type": "code",
   "execution_count": 192,
   "metadata": {},
   "outputs": [],
   "source": [
    "audio_playlist5_df=pd.DataFrame(sp.audio_features(tracks=playlist5_uri))"
   ]
  },
  {
   "cell_type": "code",
   "execution_count": 193,
   "metadata": {},
   "outputs": [],
   "source": [
    "audio_playlist5_df['Name'] = playlist5_names"
   ]
  },
  {
   "cell_type": "code",
   "execution_count": 194,
   "metadata": {},
   "outputs": [],
   "source": [
    "audio_playlist5_df['Artist'] = playlist5_artists"
   ]
  },
  {
   "cell_type": "code",
   "execution_count": null,
   "metadata": {},
   "outputs": [],
   "source": []
  },
  {
   "cell_type": "code",
   "execution_count": 195,
   "metadata": {},
   "outputs": [],
   "source": [
    "playlist6_names = []\n",
    "for item in playlist6['items']:\n",
    "        playlist6_names.append(item['track']['name'])"
   ]
  },
  {
   "cell_type": "code",
   "execution_count": 196,
   "metadata": {},
   "outputs": [],
   "source": [
    "playlist6_artists = []\n",
    "for i in playlist6['items']:\n",
    "        playlist6_artists.append(i['track']['artists'][0]['name'])"
   ]
  },
  {
   "cell_type": "code",
   "execution_count": 197,
   "metadata": {},
   "outputs": [],
   "source": [
    "playlist6_uri=[]\n",
    "for item in playlist6['items']:\n",
    "    playlist6_uri.append(item['track']['uri'])"
   ]
  },
  {
   "cell_type": "code",
   "execution_count": 198,
   "metadata": {},
   "outputs": [],
   "source": [
    "audio_playlist6_df=pd.DataFrame(sp.audio_features(tracks=playlist6_uri))"
   ]
  },
  {
   "cell_type": "code",
   "execution_count": 199,
   "metadata": {},
   "outputs": [],
   "source": [
    "audio_playlist6_df['Name'] = playlist6_names"
   ]
  },
  {
   "cell_type": "code",
   "execution_count": 200,
   "metadata": {},
   "outputs": [],
   "source": [
    "audio_playlist6_df['Artist'] = playlist6_artists"
   ]
  },
  {
   "cell_type": "code",
   "execution_count": null,
   "metadata": {},
   "outputs": [],
   "source": []
  },
  {
   "cell_type": "code",
   "execution_count": 251,
   "metadata": {},
   "outputs": [],
   "source": [
    "playlist7_names = []\n",
    "for item in playlist7['items']:\n",
    "        playlist7_names.append(item['track']['name'])"
   ]
  },
  {
   "cell_type": "code",
   "execution_count": 247,
   "metadata": {},
   "outputs": [],
   "source": [
    "playlist7_artists = []\n",
    "for i in playlist7['items']:\n",
    "        playlist7_artists.append(i['track']['artists'][0]['name'])"
   ]
  },
  {
   "cell_type": "code",
   "execution_count": 248,
   "metadata": {},
   "outputs": [],
   "source": [
    "playlist7_uri=[]\n",
    "for item in playlist7['items']:\n",
    "    playlist7_uri.append(item['track']['uri'])"
   ]
  },
  {
   "cell_type": "code",
   "execution_count": 249,
   "metadata": {},
   "outputs": [],
   "source": [
    "audio_playlist7_df=pd.DataFrame(sp.audio_features(tracks=playlist7_uri))"
   ]
  },
  {
   "cell_type": "code",
   "execution_count": 252,
   "metadata": {},
   "outputs": [],
   "source": [
    "audio_playlist7_df['Name'] = playlist7_names"
   ]
  },
  {
   "cell_type": "code",
   "execution_count": 253,
   "metadata": {},
   "outputs": [],
   "source": [
    "audio_playlist6_df['Artist'] = playlist6_artists"
   ]
  },
  {
   "cell_type": "code",
   "execution_count": null,
   "metadata": {},
   "outputs": [],
   "source": []
  },
  {
   "cell_type": "code",
   "execution_count": 254,
   "metadata": {},
   "outputs": [],
   "source": [
    "playlist8_names = []\n",
    "for item in playlist8['items']:\n",
    "        playlist8_names.append(item['track']['name'])"
   ]
  },
  {
   "cell_type": "code",
   "execution_count": 255,
   "metadata": {},
   "outputs": [],
   "source": [
    "playlist8_artists = []\n",
    "for i in playlist8['items']:\n",
    "        playlist8_artists.append(i['track']['artists'][0]['name'])"
   ]
  },
  {
   "cell_type": "code",
   "execution_count": 256,
   "metadata": {},
   "outputs": [],
   "source": [
    "playlist8_uri=[]\n",
    "for item in playlist8['items']:\n",
    "    playlist8_uri.append(item['track']['uri'])"
   ]
  },
  {
   "cell_type": "code",
   "execution_count": 257,
   "metadata": {},
   "outputs": [],
   "source": [
    "audio_playlist8_df=pd.DataFrame(sp.audio_features(tracks=playlist8_uri))"
   ]
  },
  {
   "cell_type": "code",
   "execution_count": 258,
   "metadata": {},
   "outputs": [],
   "source": [
    "audio_playlist8_df['Name'] = playlist8_names"
   ]
  },
  {
   "cell_type": "code",
   "execution_count": 259,
   "metadata": {},
   "outputs": [],
   "source": [
    "audio_playlist8_df['Artist'] = playlist8_artists"
   ]
  },
  {
   "cell_type": "code",
   "execution_count": null,
   "metadata": {},
   "outputs": [],
   "source": []
  },
  {
   "cell_type": "code",
   "execution_count": 260,
   "metadata": {},
   "outputs": [],
   "source": [
    "playlist9_names = []\n",
    "for item in playlist9['items']:\n",
    "        playlist9_names.append(item['track']['name'])"
   ]
  },
  {
   "cell_type": "code",
   "execution_count": 261,
   "metadata": {},
   "outputs": [],
   "source": [
    "playlist9_artists = []\n",
    "for i in playlist9['items']:\n",
    "        playlist9_artists.append(i['track']['artists'][0]['name'])"
   ]
  },
  {
   "cell_type": "code",
   "execution_count": 262,
   "metadata": {},
   "outputs": [],
   "source": [
    "playlist9_uri=[]\n",
    "for item in playlist9['items']:\n",
    "    playlist9_uri.append(item['track']['uri'])"
   ]
  },
  {
   "cell_type": "code",
   "execution_count": 263,
   "metadata": {},
   "outputs": [],
   "source": [
    "audio_playlist9_df=pd.DataFrame(sp.audio_features(tracks=playlist9_uri))"
   ]
  },
  {
   "cell_type": "code",
   "execution_count": 264,
   "metadata": {},
   "outputs": [],
   "source": [
    "audio_playlist9_df['Name'] = playlist9_names"
   ]
  },
  {
   "cell_type": "code",
   "execution_count": 265,
   "metadata": {},
   "outputs": [],
   "source": [
    "audio_playlist9_df['Artist'] = playlist9_artists"
   ]
  },
  {
   "cell_type": "code",
   "execution_count": null,
   "metadata": {},
   "outputs": [],
   "source": []
  },
  {
   "cell_type": "code",
   "execution_count": 267,
   "metadata": {},
   "outputs": [],
   "source": [
    "playlist10_names = []\n",
    "for item in playlist10['items']:\n",
    "        playlist10_names.append(item['track']['name'])"
   ]
  },
  {
   "cell_type": "code",
   "execution_count": 268,
   "metadata": {},
   "outputs": [],
   "source": [
    "playlist10_artists = []\n",
    "for i in playlist10['items']:\n",
    "        playlist10_artists.append(i['track']['artists'][0]['name'])"
   ]
  },
  {
   "cell_type": "code",
   "execution_count": 269,
   "metadata": {},
   "outputs": [],
   "source": [
    "playlist10_uri=[]\n",
    "for item in playlist10['items']:\n",
    "    playlist10_uri.append(item['track']['uri'])"
   ]
  },
  {
   "cell_type": "code",
   "execution_count": 270,
   "metadata": {},
   "outputs": [],
   "source": [
    "audio_playlist10_df=pd.DataFrame(sp.audio_features(tracks=playlist10_uri))"
   ]
  },
  {
   "cell_type": "code",
   "execution_count": 271,
   "metadata": {},
   "outputs": [],
   "source": [
    "audio_playlist10_df['Name'] = playlist10_names"
   ]
  },
  {
   "cell_type": "code",
   "execution_count": 272,
   "metadata": {},
   "outputs": [],
   "source": [
    "audio_playlist10_df['Artist'] = playlist10_artists"
   ]
  },
  {
   "cell_type": "code",
   "execution_count": null,
   "metadata": {},
   "outputs": [],
   "source": []
  },
  {
   "cell_type": "code",
   "execution_count": 273,
   "metadata": {},
   "outputs": [],
   "source": [
    "playlist_final = pd.concat([audio_playlist_df,audio_playlist1_df,audio_playlist2_df,audio_playlist3_df,audio_playlist4_df,audio_playlist5_df,audio_playlist6_df,audio_playlist7_df,audio_playlist8_df,audio_playlist9_df,audio_playlist10_df])\n"
   ]
  },
  {
   "cell_type": "code",
   "execution_count": 274,
   "metadata": {},
   "outputs": [
    {
     "data": {
      "text/plain": [
       "(973, 20)"
      ]
     },
     "execution_count": 274,
     "metadata": {},
     "output_type": "execute_result"
    }
   ],
   "source": [
    "playlist_final.shape"
   ]
  },
  {
   "cell_type": "code",
   "execution_count": 275,
   "metadata": {},
   "outputs": [
    {
     "data": {
      "text/html": [
       "<div>\n",
       "<style scoped>\n",
       "    .dataframe tbody tr th:only-of-type {\n",
       "        vertical-align: middle;\n",
       "    }\n",
       "\n",
       "    .dataframe tbody tr th {\n",
       "        vertical-align: top;\n",
       "    }\n",
       "\n",
       "    .dataframe thead th {\n",
       "        text-align: right;\n",
       "    }\n",
       "</style>\n",
       "<table border=\"1\" class=\"dataframe\">\n",
       "  <thead>\n",
       "    <tr style=\"text-align: right;\">\n",
       "      <th></th>\n",
       "      <th>danceability</th>\n",
       "      <th>energy</th>\n",
       "      <th>key</th>\n",
       "      <th>loudness</th>\n",
       "      <th>mode</th>\n",
       "      <th>speechiness</th>\n",
       "      <th>acousticness</th>\n",
       "      <th>instrumentalness</th>\n",
       "      <th>liveness</th>\n",
       "      <th>valence</th>\n",
       "      <th>tempo</th>\n",
       "      <th>type</th>\n",
       "      <th>id</th>\n",
       "      <th>uri</th>\n",
       "      <th>track_href</th>\n",
       "      <th>analysis_url</th>\n",
       "      <th>duration_ms</th>\n",
       "      <th>time_signature</th>\n",
       "      <th>Name</th>\n",
       "      <th>Artist</th>\n",
       "    </tr>\n",
       "  </thead>\n",
       "  <tbody>\n",
       "    <tr>\n",
       "      <th>0</th>\n",
       "      <td>0.774</td>\n",
       "      <td>0.505</td>\n",
       "      <td>5</td>\n",
       "      <td>-9.047</td>\n",
       "      <td>0</td>\n",
       "      <td>0.0469</td>\n",
       "      <td>0.012000</td>\n",
       "      <td>0.0416</td>\n",
       "      <td>0.1070</td>\n",
       "      <td>0.4460</td>\n",
       "      <td>118.010</td>\n",
       "      <td>audio_features</td>\n",
       "      <td>0YDiCJBXYH6qmp2oIlPf6Z</td>\n",
       "      <td>spotify:track:0YDiCJBXYH6qmp2oIlPf6Z</td>\n",
       "      <td>https://api.spotify.com/v1/tracks/0YDiCJBXYH6q...</td>\n",
       "      <td>https://api.spotify.com/v1/audio-analysis/0YDi...</td>\n",
       "      <td>391397</td>\n",
       "      <td>4</td>\n",
       "      <td>Lightweight - Sandy Rivera Remix</td>\n",
       "      <td>Jason Burns</td>\n",
       "    </tr>\n",
       "    <tr>\n",
       "      <th>1</th>\n",
       "      <td>0.795</td>\n",
       "      <td>0.558</td>\n",
       "      <td>9</td>\n",
       "      <td>-7.939</td>\n",
       "      <td>0</td>\n",
       "      <td>0.0312</td>\n",
       "      <td>0.118000</td>\n",
       "      <td>0.0591</td>\n",
       "      <td>0.1050</td>\n",
       "      <td>0.2460</td>\n",
       "      <td>112.029</td>\n",
       "      <td>audio_features</td>\n",
       "      <td>5mEdU0a2nw4vsuA8Pr8Av2</td>\n",
       "      <td>spotify:track:5mEdU0a2nw4vsuA8Pr8Av2</td>\n",
       "      <td>https://api.spotify.com/v1/tracks/5mEdU0a2nw4v...</td>\n",
       "      <td>https://api.spotify.com/v1/audio-analysis/5mEd...</td>\n",
       "      <td>209648</td>\n",
       "      <td>4</td>\n",
       "      <td>War (feat. August+Us)</td>\n",
       "      <td>Witness</td>\n",
       "    </tr>\n",
       "    <tr>\n",
       "      <th>2</th>\n",
       "      <td>0.867</td>\n",
       "      <td>0.603</td>\n",
       "      <td>2</td>\n",
       "      <td>-7.427</td>\n",
       "      <td>0</td>\n",
       "      <td>0.0637</td>\n",
       "      <td>0.356000</td>\n",
       "      <td>0.0553</td>\n",
       "      <td>0.0765</td>\n",
       "      <td>0.6770</td>\n",
       "      <td>114.977</td>\n",
       "      <td>audio_features</td>\n",
       "      <td>6MzuROznsagl5Szc8w3Smj</td>\n",
       "      <td>spotify:track:6MzuROznsagl5Szc8w3Smj</td>\n",
       "      <td>https://api.spotify.com/v1/tracks/6MzuROznsagl...</td>\n",
       "      <td>https://api.spotify.com/v1/audio-analysis/6Mzu...</td>\n",
       "      <td>225181</td>\n",
       "      <td>4</td>\n",
       "      <td>Something About You</td>\n",
       "      <td>Hayden James</td>\n",
       "    </tr>\n",
       "    <tr>\n",
       "      <th>3</th>\n",
       "      <td>0.817</td>\n",
       "      <td>0.623</td>\n",
       "      <td>8</td>\n",
       "      <td>-6.856</td>\n",
       "      <td>1</td>\n",
       "      <td>0.0603</td>\n",
       "      <td>0.034900</td>\n",
       "      <td>0.2770</td>\n",
       "      <td>0.0619</td>\n",
       "      <td>0.5060</td>\n",
       "      <td>115.989</td>\n",
       "      <td>audio_features</td>\n",
       "      <td>0JNBcMPvsCeH8Ac4praGMo</td>\n",
       "      <td>spotify:track:0JNBcMPvsCeH8Ac4praGMo</td>\n",
       "      <td>https://api.spotify.com/v1/tracks/0JNBcMPvsCeH...</td>\n",
       "      <td>https://api.spotify.com/v1/audio-analysis/0JNB...</td>\n",
       "      <td>380690</td>\n",
       "      <td>4</td>\n",
       "      <td>Dolphins - Dub Mix</td>\n",
       "      <td>Freddy Verano</td>\n",
       "    </tr>\n",
       "    <tr>\n",
       "      <th>4</th>\n",
       "      <td>0.790</td>\n",
       "      <td>0.647</td>\n",
       "      <td>8</td>\n",
       "      <td>-6.732</td>\n",
       "      <td>0</td>\n",
       "      <td>0.0375</td>\n",
       "      <td>0.200000</td>\n",
       "      <td>0.1090</td>\n",
       "      <td>0.0766</td>\n",
       "      <td>0.7490</td>\n",
       "      <td>105.012</td>\n",
       "      <td>audio_features</td>\n",
       "      <td>3hxRKXzZS0XRYGZ123JDNH</td>\n",
       "      <td>spotify:track:3hxRKXzZS0XRYGZ123JDNH</td>\n",
       "      <td>https://api.spotify.com/v1/tracks/3hxRKXzZS0XR...</td>\n",
       "      <td>https://api.spotify.com/v1/audio-analysis/3hxR...</td>\n",
       "      <td>194707</td>\n",
       "      <td>4</td>\n",
       "      <td>Djon maya maï (feat. Victor Démé)</td>\n",
       "      <td>Synapson</td>\n",
       "    </tr>\n",
       "    <tr>\n",
       "      <th>...</th>\n",
       "      <td>...</td>\n",
       "      <td>...</td>\n",
       "      <td>...</td>\n",
       "      <td>...</td>\n",
       "      <td>...</td>\n",
       "      <td>...</td>\n",
       "      <td>...</td>\n",
       "      <td>...</td>\n",
       "      <td>...</td>\n",
       "      <td>...</td>\n",
       "      <td>...</td>\n",
       "      <td>...</td>\n",
       "      <td>...</td>\n",
       "      <td>...</td>\n",
       "      <td>...</td>\n",
       "      <td>...</td>\n",
       "      <td>...</td>\n",
       "      <td>...</td>\n",
       "      <td>...</td>\n",
       "      <td>...</td>\n",
       "    </tr>\n",
       "    <tr>\n",
       "      <th>95</th>\n",
       "      <td>0.798</td>\n",
       "      <td>0.880</td>\n",
       "      <td>11</td>\n",
       "      <td>-6.626</td>\n",
       "      <td>1</td>\n",
       "      <td>0.0445</td>\n",
       "      <td>0.000768</td>\n",
       "      <td>0.9270</td>\n",
       "      <td>0.1070</td>\n",
       "      <td>0.0685</td>\n",
       "      <td>125.992</td>\n",
       "      <td>audio_features</td>\n",
       "      <td>4b7qHjTUwT752wMn6BCxVK</td>\n",
       "      <td>spotify:track:4b7qHjTUwT752wMn6BCxVK</td>\n",
       "      <td>https://api.spotify.com/v1/tracks/4b7qHjTUwT75...</td>\n",
       "      <td>https://api.spotify.com/v1/audio-analysis/4b7q...</td>\n",
       "      <td>398229</td>\n",
       "      <td>4</td>\n",
       "      <td>Nine of You</td>\n",
       "      <td>Adam Beyer</td>\n",
       "    </tr>\n",
       "    <tr>\n",
       "      <th>96</th>\n",
       "      <td>0.809</td>\n",
       "      <td>0.746</td>\n",
       "      <td>7</td>\n",
       "      <td>-12.131</td>\n",
       "      <td>1</td>\n",
       "      <td>0.0468</td>\n",
       "      <td>0.000061</td>\n",
       "      <td>0.9400</td>\n",
       "      <td>0.1140</td>\n",
       "      <td>0.0370</td>\n",
       "      <td>121.998</td>\n",
       "      <td>audio_features</td>\n",
       "      <td>7KvBNIC7MEQLTpC7RbTMtI</td>\n",
       "      <td>spotify:track:7KvBNIC7MEQLTpC7RbTMtI</td>\n",
       "      <td>https://api.spotify.com/v1/tracks/7KvBNIC7MEQL...</td>\n",
       "      <td>https://api.spotify.com/v1/audio-analysis/7KvB...</td>\n",
       "      <td>484841</td>\n",
       "      <td>4</td>\n",
       "      <td>Holding Pattern</td>\n",
       "      <td>Karmon</td>\n",
       "    </tr>\n",
       "    <tr>\n",
       "      <th>97</th>\n",
       "      <td>0.688</td>\n",
       "      <td>0.961</td>\n",
       "      <td>9</td>\n",
       "      <td>-8.262</td>\n",
       "      <td>1</td>\n",
       "      <td>0.0432</td>\n",
       "      <td>0.169000</td>\n",
       "      <td>0.7810</td>\n",
       "      <td>0.1080</td>\n",
       "      <td>0.3070</td>\n",
       "      <td>135.118</td>\n",
       "      <td>audio_features</td>\n",
       "      <td>3RCYUa66bzSqIXQ34QGeHd</td>\n",
       "      <td>spotify:track:3RCYUa66bzSqIXQ34QGeHd</td>\n",
       "      <td>https://api.spotify.com/v1/tracks/3RCYUa66bzSq...</td>\n",
       "      <td>https://api.spotify.com/v1/audio-analysis/3RCY...</td>\n",
       "      <td>505465</td>\n",
       "      <td>4</td>\n",
       "      <td>Voco Me - Flim Flam Remix</td>\n",
       "      <td>DJ Icon</td>\n",
       "    </tr>\n",
       "    <tr>\n",
       "      <th>98</th>\n",
       "      <td>0.802</td>\n",
       "      <td>0.588</td>\n",
       "      <td>10</td>\n",
       "      <td>-11.046</td>\n",
       "      <td>0</td>\n",
       "      <td>0.0595</td>\n",
       "      <td>0.029900</td>\n",
       "      <td>0.8780</td>\n",
       "      <td>0.0822</td>\n",
       "      <td>0.0506</td>\n",
       "      <td>128.989</td>\n",
       "      <td>audio_features</td>\n",
       "      <td>2BWiEuSIWsagua4DewdXY5</td>\n",
       "      <td>spotify:track:2BWiEuSIWsagua4DewdXY5</td>\n",
       "      <td>https://api.spotify.com/v1/tracks/2BWiEuSIWsag...</td>\n",
       "      <td>https://api.spotify.com/v1/audio-analysis/2BWi...</td>\n",
       "      <td>419351</td>\n",
       "      <td>4</td>\n",
       "      <td>Exile 007 B2</td>\n",
       "      <td>Johannes Heil</td>\n",
       "    </tr>\n",
       "    <tr>\n",
       "      <th>99</th>\n",
       "      <td>0.728</td>\n",
       "      <td>0.975</td>\n",
       "      <td>8</td>\n",
       "      <td>-8.270</td>\n",
       "      <td>1</td>\n",
       "      <td>0.0670</td>\n",
       "      <td>0.002890</td>\n",
       "      <td>0.9240</td>\n",
       "      <td>0.1100</td>\n",
       "      <td>0.1300</td>\n",
       "      <td>125.026</td>\n",
       "      <td>audio_features</td>\n",
       "      <td>2lsokLfwtWTJhJ8e9agbca</td>\n",
       "      <td>spotify:track:2lsokLfwtWTJhJ8e9agbca</td>\n",
       "      <td>https://api.spotify.com/v1/tracks/2lsokLfwtWTJ...</td>\n",
       "      <td>https://api.spotify.com/v1/audio-analysis/2lso...</td>\n",
       "      <td>412609</td>\n",
       "      <td>4</td>\n",
       "      <td>Classified - Original Mix</td>\n",
       "      <td>Andres Campo</td>\n",
       "    </tr>\n",
       "  </tbody>\n",
       "</table>\n",
       "<p>973 rows × 20 columns</p>\n",
       "</div>"
      ],
      "text/plain": [
       "    danceability  energy  key  loudness  mode  speechiness  acousticness  \\\n",
       "0          0.774   0.505    5    -9.047     0       0.0469      0.012000   \n",
       "1          0.795   0.558    9    -7.939     0       0.0312      0.118000   \n",
       "2          0.867   0.603    2    -7.427     0       0.0637      0.356000   \n",
       "3          0.817   0.623    8    -6.856     1       0.0603      0.034900   \n",
       "4          0.790   0.647    8    -6.732     0       0.0375      0.200000   \n",
       "..           ...     ...  ...       ...   ...          ...           ...   \n",
       "95         0.798   0.880   11    -6.626     1       0.0445      0.000768   \n",
       "96         0.809   0.746    7   -12.131     1       0.0468      0.000061   \n",
       "97         0.688   0.961    9    -8.262     1       0.0432      0.169000   \n",
       "98         0.802   0.588   10   -11.046     0       0.0595      0.029900   \n",
       "99         0.728   0.975    8    -8.270     1       0.0670      0.002890   \n",
       "\n",
       "    instrumentalness  liveness  valence    tempo            type  \\\n",
       "0             0.0416    0.1070   0.4460  118.010  audio_features   \n",
       "1             0.0591    0.1050   0.2460  112.029  audio_features   \n",
       "2             0.0553    0.0765   0.6770  114.977  audio_features   \n",
       "3             0.2770    0.0619   0.5060  115.989  audio_features   \n",
       "4             0.1090    0.0766   0.7490  105.012  audio_features   \n",
       "..               ...       ...      ...      ...             ...   \n",
       "95            0.9270    0.1070   0.0685  125.992  audio_features   \n",
       "96            0.9400    0.1140   0.0370  121.998  audio_features   \n",
       "97            0.7810    0.1080   0.3070  135.118  audio_features   \n",
       "98            0.8780    0.0822   0.0506  128.989  audio_features   \n",
       "99            0.9240    0.1100   0.1300  125.026  audio_features   \n",
       "\n",
       "                        id                                   uri  \\\n",
       "0   0YDiCJBXYH6qmp2oIlPf6Z  spotify:track:0YDiCJBXYH6qmp2oIlPf6Z   \n",
       "1   5mEdU0a2nw4vsuA8Pr8Av2  spotify:track:5mEdU0a2nw4vsuA8Pr8Av2   \n",
       "2   6MzuROznsagl5Szc8w3Smj  spotify:track:6MzuROznsagl5Szc8w3Smj   \n",
       "3   0JNBcMPvsCeH8Ac4praGMo  spotify:track:0JNBcMPvsCeH8Ac4praGMo   \n",
       "4   3hxRKXzZS0XRYGZ123JDNH  spotify:track:3hxRKXzZS0XRYGZ123JDNH   \n",
       "..                     ...                                   ...   \n",
       "95  4b7qHjTUwT752wMn6BCxVK  spotify:track:4b7qHjTUwT752wMn6BCxVK   \n",
       "96  7KvBNIC7MEQLTpC7RbTMtI  spotify:track:7KvBNIC7MEQLTpC7RbTMtI   \n",
       "97  3RCYUa66bzSqIXQ34QGeHd  spotify:track:3RCYUa66bzSqIXQ34QGeHd   \n",
       "98  2BWiEuSIWsagua4DewdXY5  spotify:track:2BWiEuSIWsagua4DewdXY5   \n",
       "99  2lsokLfwtWTJhJ8e9agbca  spotify:track:2lsokLfwtWTJhJ8e9agbca   \n",
       "\n",
       "                                           track_href  \\\n",
       "0   https://api.spotify.com/v1/tracks/0YDiCJBXYH6q...   \n",
       "1   https://api.spotify.com/v1/tracks/5mEdU0a2nw4v...   \n",
       "2   https://api.spotify.com/v1/tracks/6MzuROznsagl...   \n",
       "3   https://api.spotify.com/v1/tracks/0JNBcMPvsCeH...   \n",
       "4   https://api.spotify.com/v1/tracks/3hxRKXzZS0XR...   \n",
       "..                                                ...   \n",
       "95  https://api.spotify.com/v1/tracks/4b7qHjTUwT75...   \n",
       "96  https://api.spotify.com/v1/tracks/7KvBNIC7MEQL...   \n",
       "97  https://api.spotify.com/v1/tracks/3RCYUa66bzSq...   \n",
       "98  https://api.spotify.com/v1/tracks/2BWiEuSIWsag...   \n",
       "99  https://api.spotify.com/v1/tracks/2lsokLfwtWTJ...   \n",
       "\n",
       "                                         analysis_url  duration_ms  \\\n",
       "0   https://api.spotify.com/v1/audio-analysis/0YDi...       391397   \n",
       "1   https://api.spotify.com/v1/audio-analysis/5mEd...       209648   \n",
       "2   https://api.spotify.com/v1/audio-analysis/6Mzu...       225181   \n",
       "3   https://api.spotify.com/v1/audio-analysis/0JNB...       380690   \n",
       "4   https://api.spotify.com/v1/audio-analysis/3hxR...       194707   \n",
       "..                                                ...          ...   \n",
       "95  https://api.spotify.com/v1/audio-analysis/4b7q...       398229   \n",
       "96  https://api.spotify.com/v1/audio-analysis/7KvB...       484841   \n",
       "97  https://api.spotify.com/v1/audio-analysis/3RCY...       505465   \n",
       "98  https://api.spotify.com/v1/audio-analysis/2BWi...       419351   \n",
       "99  https://api.spotify.com/v1/audio-analysis/2lso...       412609   \n",
       "\n",
       "    time_signature                               Name         Artist  \n",
       "0                4   Lightweight - Sandy Rivera Remix    Jason Burns  \n",
       "1                4              War (feat. August+Us)        Witness  \n",
       "2                4                Something About You   Hayden James  \n",
       "3                4                 Dolphins - Dub Mix  Freddy Verano  \n",
       "4                4  Djon maya maï (feat. Victor Démé)       Synapson  \n",
       "..             ...                                ...            ...  \n",
       "95               4                        Nine of You     Adam Beyer  \n",
       "96               4                    Holding Pattern         Karmon  \n",
       "97               4          Voco Me - Flim Flam Remix        DJ Icon  \n",
       "98               4                       Exile 007 B2  Johannes Heil  \n",
       "99               4          Classified - Original Mix   Andres Campo  \n",
       "\n",
       "[973 rows x 20 columns]"
      ]
     },
     "execution_count": 275,
     "metadata": {},
     "output_type": "execute_result"
    }
   ],
   "source": [
    "playlist_final"
   ]
  },
  {
   "cell_type": "code",
   "execution_count": null,
   "metadata": {},
   "outputs": [],
   "source": [
    "#EDA"
   ]
  },
  {
   "cell_type": "code",
   "execution_count": 277,
   "metadata": {},
   "outputs": [
    {
     "name": "stdout",
     "output_type": "stream",
     "text": [
      "<class 'pandas.core.frame.DataFrame'>\n",
      "Int64Index: 973 entries, 0 to 99\n",
      "Data columns (total 20 columns):\n",
      " #   Column            Non-Null Count  Dtype  \n",
      "---  ------            --------------  -----  \n",
      " 0   danceability      973 non-null    float64\n",
      " 1   energy            973 non-null    float64\n",
      " 2   key               973 non-null    int64  \n",
      " 3   loudness          973 non-null    float64\n",
      " 4   mode              973 non-null    int64  \n",
      " 5   speechiness       973 non-null    float64\n",
      " 6   acousticness      973 non-null    float64\n",
      " 7   instrumentalness  973 non-null    float64\n",
      " 8   liveness          973 non-null    float64\n",
      " 9   valence           973 non-null    float64\n",
      " 10  tempo             973 non-null    float64\n",
      " 11  type              973 non-null    object \n",
      " 12  id                973 non-null    object \n",
      " 13  uri               973 non-null    object \n",
      " 14  track_href        973 non-null    object \n",
      " 15  analysis_url      973 non-null    object \n",
      " 16  duration_ms       973 non-null    int64  \n",
      " 17  time_signature    973 non-null    int64  \n",
      " 18  Name              973 non-null    object \n",
      " 19  Artist            873 non-null    object \n",
      "dtypes: float64(9), int64(4), object(7)\n",
      "memory usage: 159.6+ KB\n"
     ]
    }
   ],
   "source": [
    "playlist_final.info()"
   ]
  },
  {
   "cell_type": "code",
   "execution_count": 279,
   "metadata": {},
   "outputs": [
    {
     "ename": "AttributeError",
     "evalue": "'DataFrame' object has no attribute 'getnull'",
     "output_type": "error",
     "traceback": [
      "\u001b[0;31m---------------------------------------------------------------------------\u001b[0m",
      "\u001b[0;31mAttributeError\u001b[0m                            Traceback (most recent call last)",
      "\u001b[0;32m<ipython-input-279-38098c607fc6>\u001b[0m in \u001b[0;36m<module>\u001b[0;34m\u001b[0m\n\u001b[0;32m----> 1\u001b[0;31m \u001b[0mplaylist_final\u001b[0m\u001b[0;34m.\u001b[0m\u001b[0mgetnull\u001b[0m\u001b[0;34m(\u001b[0m\u001b[0;34m)\u001b[0m\u001b[0;34m\u001b[0m\u001b[0;34m\u001b[0m\u001b[0m\n\u001b[0m",
      "\u001b[0;32m~/opt/anaconda3/lib/python3.8/site-packages/pandas/core/generic.py\u001b[0m in \u001b[0;36m__getattr__\u001b[0;34m(self, name)\u001b[0m\n\u001b[1;32m   5463\u001b[0m             \u001b[0;32mif\u001b[0m \u001b[0mself\u001b[0m\u001b[0;34m.\u001b[0m\u001b[0m_info_axis\u001b[0m\u001b[0;34m.\u001b[0m\u001b[0m_can_hold_identifiers_and_holds_name\u001b[0m\u001b[0;34m(\u001b[0m\u001b[0mname\u001b[0m\u001b[0;34m)\u001b[0m\u001b[0;34m:\u001b[0m\u001b[0;34m\u001b[0m\u001b[0;34m\u001b[0m\u001b[0m\n\u001b[1;32m   5464\u001b[0m                 \u001b[0;32mreturn\u001b[0m \u001b[0mself\u001b[0m\u001b[0;34m[\u001b[0m\u001b[0mname\u001b[0m\u001b[0;34m]\u001b[0m\u001b[0;34m\u001b[0m\u001b[0;34m\u001b[0m\u001b[0m\n\u001b[0;32m-> 5465\u001b[0;31m             \u001b[0;32mreturn\u001b[0m \u001b[0mobject\u001b[0m\u001b[0;34m.\u001b[0m\u001b[0m__getattribute__\u001b[0m\u001b[0;34m(\u001b[0m\u001b[0mself\u001b[0m\u001b[0;34m,\u001b[0m \u001b[0mname\u001b[0m\u001b[0;34m)\u001b[0m\u001b[0;34m\u001b[0m\u001b[0;34m\u001b[0m\u001b[0m\n\u001b[0m\u001b[1;32m   5466\u001b[0m \u001b[0;34m\u001b[0m\u001b[0m\n\u001b[1;32m   5467\u001b[0m     \u001b[0;32mdef\u001b[0m \u001b[0m__setattr__\u001b[0m\u001b[0;34m(\u001b[0m\u001b[0mself\u001b[0m\u001b[0;34m,\u001b[0m \u001b[0mname\u001b[0m\u001b[0;34m:\u001b[0m \u001b[0mstr\u001b[0m\u001b[0;34m,\u001b[0m \u001b[0mvalue\u001b[0m\u001b[0;34m)\u001b[0m \u001b[0;34m->\u001b[0m \u001b[0;32mNone\u001b[0m\u001b[0;34m:\u001b[0m\u001b[0;34m\u001b[0m\u001b[0;34m\u001b[0m\u001b[0m\n",
      "\u001b[0;31mAttributeError\u001b[0m: 'DataFrame' object has no attribute 'getnull'"
     ]
    }
   ],
   "source": [
    "playlist_final.getnull()"
   ]
  },
  {
   "cell_type": "code",
   "execution_count": null,
   "metadata": {},
   "outputs": [],
   "source": []
  }
 ],
 "metadata": {
  "kernelspec": {
   "display_name": "Python 3",
   "language": "python",
   "name": "python3"
  },
  "language_info": {
   "codemirror_mode": {
    "name": "ipython",
    "version": 3
   },
   "file_extension": ".py",
   "mimetype": "text/x-python",
   "name": "python",
   "nbconvert_exporter": "python",
   "pygments_lexer": "ipython3",
   "version": "3.8.8"
  },
  "toc": {
   "base_numbering": 1,
   "nav_menu": {},
   "number_sections": true,
   "sideBar": true,
   "skip_h1_title": false,
   "title_cell": "Table of Contents",
   "title_sidebar": "Contents",
   "toc_cell": false,
   "toc_position": {},
   "toc_section_display": true,
   "toc_window_display": false
  },
  "varInspector": {
   "cols": {
    "lenName": 16,
    "lenType": 16,
    "lenVar": 40
   },
   "kernels_config": {
    "python": {
     "delete_cmd_postfix": "",
     "delete_cmd_prefix": "del ",
     "library": "var_list.py",
     "varRefreshCmd": "print(var_dic_list())"
    },
    "r": {
     "delete_cmd_postfix": ") ",
     "delete_cmd_prefix": "rm(",
     "library": "var_list.r",
     "varRefreshCmd": "cat(var_dic_list()) "
    }
   },
   "types_to_exclude": [
    "module",
    "function",
    "builtin_function_or_method",
    "instance",
    "_Feature"
   ],
   "window_display": false
  }
 },
 "nbformat": 4,
 "nbformat_minor": 4
}
