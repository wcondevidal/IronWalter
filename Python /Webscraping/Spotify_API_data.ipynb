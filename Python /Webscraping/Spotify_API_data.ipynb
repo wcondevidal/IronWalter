{
 "cells": [
  {
   "cell_type": "markdown",
   "metadata": {},
   "source": [
    "## Spotipy API\n",
    "\n",
    "Create an Spotify account and follow these steps to register an app: https://developer.spotify.com/documentation/general/guides/app-settings/\n",
    "\n",
    "After the app is created, you can see it on your dashboard\n",
    "https://developer.spotify.com/dashboard/applications\n",
    "\n",
    "Click on it and you'll find the client id and client secret."
   ]
  },
  {
   "cell_type": "markdown",
   "metadata": {},
   "source": [
    "Import Libraries"
   ]
  },
  {
   "cell_type": "code",
   "execution_count": 2,
   "metadata": {},
   "outputs": [],
   "source": [
    "import spotipy\n",
    "from spotipy.oauth2 import SpotifyClientCredentials\n",
    "import pandas as pd\n",
    "import numpy as np\n",
    "import getpass\n",
    "from sklearn.preprocessing import StandardScaler\n",
    "from sklearn.cluster import KMeans\n",
    "import matplotlib.pyplot as plt\n",
    "from sklearn.metrics import silhouette_score\n",
    "from tqdm.notebook import tqdm\n",
    "from bs4 import BeautifulSoup\n",
    "import requests\n",
    "import random"
   ]
  },
  {
   "cell_type": "markdown",
   "metadata": {},
   "source": [
    "## Password security "
   ]
  },
  {
   "cell_type": "code",
   "execution_count": 11,
   "metadata": {},
   "outputs": [
    {
     "name": "stdout",
     "output_type": "stream",
     "text": [
      "client_id?········\n",
      "client_secret?········\n"
     ]
    }
   ],
   "source": [
    "client_id=str(getpass.getpass('client_id?'))\n",
    "client_secret=str(getpass.getpass('client_secret?'))"
   ]
  },
  {
   "cell_type": "code",
   "execution_count": 12,
   "metadata": {},
   "outputs": [],
   "source": [
    "#Initialize SpotiPy with user credentials (see password section below)\n",
    "\n",
    "sp = spotipy.Spotify(auth_manager=SpotifyClientCredentials(client_id=client_id, client_secret=client_secret))"
   ]
  },
  {
   "cell_type": "markdown",
   "metadata": {},
   "source": [
    "#### Playlist import"
   ]
  },
  {
   "cell_type": "code",
   "execution_count": 13,
   "metadata": {},
   "outputs": [],
   "source": [
    "playlist = sp.user_playlist_tracks(\"Walter\", \"3VE0WsnukXaPrNKazIgAWx\")"
   ]
  },
  {
   "cell_type": "code",
   "execution_count": 14,
   "metadata": {},
   "outputs": [],
   "source": [
    "playlist1 = sp.user_playlist_tracks(\"Andrea Fought\",\"5mzECKhirkq6GKtsAvvtsx\")"
   ]
  },
  {
   "cell_type": "code",
   "execution_count": 15,
   "metadata": {},
   "outputs": [],
   "source": [
    "playlist2= sp.user_playlist_tracks(\"Spotify\",\"37i9dQZF1DXbXD9pMSZomS\") "
   ]
  },
  {
   "cell_type": "code",
   "execution_count": 16,
   "metadata": {},
   "outputs": [],
   "source": [
    "playlist3= sp.user_playlist_tracks(\"Spotify\",\"37i9dQZF1DX0r3x8OtiwEM\")   "
   ]
  },
  {
   "cell_type": "code",
   "execution_count": 17,
   "metadata": {},
   "outputs": [],
   "source": [
    "playlist4=sp.user_playlist_tracks(\"Maria Paradell\", \"7MkQSGPP5ImrZpmTw5vyAp\")"
   ]
  },
  {
   "cell_type": "code",
   "execution_count": 18,
   "metadata": {},
   "outputs": [],
   "source": [
    "playlist5=sp.user_playlist_tracks(\"Walter\",\"39KvOzjZCHb7ZrxhT3AX5a\")"
   ]
  },
  {
   "cell_type": "code",
   "execution_count": 19,
   "metadata": {},
   "outputs": [],
   "source": [
    "playlist6=sp.user_playlist_tracks(\"Walter\",\"3nEqaksi7BK6c6lSca7ocF\")"
   ]
  },
  {
   "cell_type": "code",
   "execution_count": 20,
   "metadata": {},
   "outputs": [],
   "source": [
    "playlist7=sp.user_playlist_tracks(\"Alfonso Peña\",\"07L4PVTpeuzHJkeEz4iggs\")"
   ]
  },
  {
   "cell_type": "code",
   "execution_count": 21,
   "metadata": {},
   "outputs": [],
   "source": [
    "playlist8=sp.user_playlist_tracks(\"Eric Shoemaker\",\"2ZggLIDqac8GLh3NvuSY5d\")"
   ]
  },
  {
   "cell_type": "code",
   "execution_count": 22,
   "metadata": {},
   "outputs": [],
   "source": [
    "playlist9=sp.user_playlist_tracks(\"Andrea Ribó\",\"2b5O7A12NefJUhNAYeWxXH\")"
   ]
  },
  {
   "cell_type": "code",
   "execution_count": 23,
   "metadata": {},
   "outputs": [],
   "source": [
    "playlist10=sp.user_playlist_tracks(\"Pablo Morillo\",\"4Kjib49e5gleKbslnywJB9\")"
   ]
  },
  {
   "cell_type": "markdown",
   "metadata": {},
   "source": [
    "Spotify songs are identified by either a \"url\", a \"uri\" or an \"id\". \n",
    "\n",
    "- The `id` is an alphanumeric code, and it's the nuclear part of the identifier.\n",
    "\n",
    "- The `uri` contains \"spotify:track\" before the id. An uri is useful because it can be searched manually in the Spotify app.\n",
    "\n",
    "- The `url` is a link to the song on the Spotify web player.\n",
    "\n",
    "We'll use the `uri` in this code-along, but feel free to use whatever you think fits best your needs."
   ]
  },
  {
   "cell_type": "code",
   "execution_count": 24,
   "metadata": {},
   "outputs": [
    {
     "data": {
      "text/plain": [
       "dict_keys(['href', 'items', 'limit', 'next', 'offset', 'previous', 'total'])"
      ]
     },
     "execution_count": 24,
     "metadata": {},
     "output_type": "execute_result"
    }
   ],
   "source": [
    "playlist.keys()"
   ]
  },
  {
   "cell_type": "code",
   "execution_count": 25,
   "metadata": {},
   "outputs": [
    {
     "data": {
      "text/plain": [
       "'Lightweight - Sandy Rivera Remix'"
      ]
     },
     "execution_count": 25,
     "metadata": {},
     "output_type": "execute_result"
    }
   ],
   "source": [
    "playlist['items'][0]['track']['name']"
   ]
  },
  {
   "cell_type": "code",
   "execution_count": 26,
   "metadata": {},
   "outputs": [
    {
     "data": {
      "text/plain": [
       "'Jason Burns'"
      ]
     },
     "execution_count": 26,
     "metadata": {},
     "output_type": "execute_result"
    }
   ],
   "source": [
    "playlist['items'][0]['track']['artists'][0]['name']"
   ]
  },
  {
   "cell_type": "code",
   "execution_count": 27,
   "metadata": {},
   "outputs": [],
   "source": [
    "playlist_names = []\n",
    "for item in playlist['items']:\n",
    "        playlist_names.append(item['track']['name'])"
   ]
  },
  {
   "cell_type": "code",
   "execution_count": 28,
   "metadata": {},
   "outputs": [],
   "source": [
    "playlist_artists = []\n",
    "for i in playlist['items']:\n",
    "        playlist_artists.append(i['track']['artists'][0]['name'])"
   ]
  },
  {
   "cell_type": "code",
   "execution_count": 29,
   "metadata": {},
   "outputs": [],
   "source": [
    "playlist_uri=[]\n",
    "for item in playlist['items']:\n",
    "    playlist_uri.append(item['track']['uri'])"
   ]
  },
  {
   "cell_type": "code",
   "execution_count": 30,
   "metadata": {},
   "outputs": [],
   "source": [
    "audio_playlist_df=pd.DataFrame(sp.audio_features(tracks=playlist_uri))"
   ]
  },
  {
   "cell_type": "code",
   "execution_count": 31,
   "metadata": {},
   "outputs": [],
   "source": [
    "audio_playlist_df['Name'] = playlist_names"
   ]
  },
  {
   "cell_type": "code",
   "execution_count": 32,
   "metadata": {},
   "outputs": [],
   "source": [
    "audio_playlist_df['Artist'] = playlist_artists"
   ]
  },
  {
   "cell_type": "code",
   "execution_count": null,
   "metadata": {},
   "outputs": [],
   "source": []
  },
  {
   "cell_type": "code",
   "execution_count": 33,
   "metadata": {},
   "outputs": [],
   "source": [
    "playlist1_names = []\n",
    "for item in playlist1['items']:\n",
    "        playlist1_names.append(item['track']['name'])"
   ]
  },
  {
   "cell_type": "code",
   "execution_count": 34,
   "metadata": {},
   "outputs": [],
   "source": [
    "playlist1_artists = []\n",
    "for i in playlist1['items']:\n",
    "        playlist1_artists.append(i['track']['artists'][0]['name'])"
   ]
  },
  {
   "cell_type": "code",
   "execution_count": 35,
   "metadata": {},
   "outputs": [],
   "source": [
    "playlist1_uri=[]\n",
    "for item in playlist1['items']:\n",
    "    playlist1_uri.append(item['track']['uri'])"
   ]
  },
  {
   "cell_type": "code",
   "execution_count": 36,
   "metadata": {},
   "outputs": [],
   "source": [
    "audio_playlist1_df=pd.DataFrame(sp.audio_features(tracks=playlist1_uri))"
   ]
  },
  {
   "cell_type": "code",
   "execution_count": 37,
   "metadata": {},
   "outputs": [],
   "source": [
    "audio_playlist1_df['Name'] = playlist1_names"
   ]
  },
  {
   "cell_type": "code",
   "execution_count": 38,
   "metadata": {},
   "outputs": [],
   "source": [
    "audio_playlist1_df['Artist'] = playlist1_artists"
   ]
  },
  {
   "cell_type": "code",
   "execution_count": 39,
   "metadata": {},
   "outputs": [
    {
     "data": {
      "text/plain": [
       "(100, 20)"
      ]
     },
     "execution_count": 39,
     "metadata": {},
     "output_type": "execute_result"
    }
   ],
   "source": [
    "audio_playlist1_df.shape"
   ]
  },
  {
   "cell_type": "code",
   "execution_count": null,
   "metadata": {},
   "outputs": [],
   "source": []
  },
  {
   "cell_type": "code",
   "execution_count": 40,
   "metadata": {},
   "outputs": [],
   "source": [
    "playlist2_names = []\n",
    "for item in playlist2['items']:\n",
    "        playlist2_names.append(item['track']['name'])"
   ]
  },
  {
   "cell_type": "code",
   "execution_count": 41,
   "metadata": {},
   "outputs": [],
   "source": [
    "playlist2_artists = []\n",
    "for i in playlist2['items']:\n",
    "        playlist2_artists.append(i['track']['artists'][0]['name'])"
   ]
  },
  {
   "cell_type": "code",
   "execution_count": 42,
   "metadata": {},
   "outputs": [],
   "source": [
    "playlist2_uri=[]\n",
    "for item in playlist2['items']:\n",
    "    playlist2_uri.append(item['track']['uri'])"
   ]
  },
  {
   "cell_type": "code",
   "execution_count": 43,
   "metadata": {},
   "outputs": [],
   "source": [
    "audio_playlist2_df=pd.DataFrame(sp.audio_features(tracks=playlist2_uri))"
   ]
  },
  {
   "cell_type": "code",
   "execution_count": 44,
   "metadata": {},
   "outputs": [],
   "source": [
    "audio_playlist2_df['Name'] = playlist2_names"
   ]
  },
  {
   "cell_type": "code",
   "execution_count": 45,
   "metadata": {},
   "outputs": [],
   "source": [
    "audio_playlist2_df['Artist'] = playlist2_artists"
   ]
  },
  {
   "cell_type": "code",
   "execution_count": 46,
   "metadata": {},
   "outputs": [],
   "source": [
    "playlist3_names = []\n",
    "for item in playlist3['items']:\n",
    "        playlist3_names.append(item['track']['name'])"
   ]
  },
  {
   "cell_type": "code",
   "execution_count": 47,
   "metadata": {},
   "outputs": [],
   "source": [
    "playlist3_artists = []\n",
    "for i in playlist3['items']:\n",
    "        playlist3_artists.append(i['track']['artists'][0]['name'])"
   ]
  },
  {
   "cell_type": "code",
   "execution_count": 48,
   "metadata": {},
   "outputs": [],
   "source": [
    "playlist3_uri=[]\n",
    "for item in playlist3['items']:\n",
    "    playlist3_uri.append(item['track']['uri'])"
   ]
  },
  {
   "cell_type": "code",
   "execution_count": 49,
   "metadata": {},
   "outputs": [],
   "source": [
    "audio_playlist3_df=pd.DataFrame(sp.audio_features(tracks=playlist3_uri))"
   ]
  },
  {
   "cell_type": "code",
   "execution_count": 50,
   "metadata": {},
   "outputs": [],
   "source": [
    "audio_playlist3_df['Name'] = playlist3_names"
   ]
  },
  {
   "cell_type": "code",
   "execution_count": 51,
   "metadata": {},
   "outputs": [],
   "source": [
    "audio_playlist3_df['Artist'] = playlist3_artists"
   ]
  },
  {
   "cell_type": "code",
   "execution_count": null,
   "metadata": {},
   "outputs": [],
   "source": []
  },
  {
   "cell_type": "code",
   "execution_count": 52,
   "metadata": {},
   "outputs": [],
   "source": [
    "playlist4_names = []\n",
    "for item in playlist4['items']:\n",
    "        playlist4_names.append(item['track']['name'])"
   ]
  },
  {
   "cell_type": "code",
   "execution_count": 53,
   "metadata": {},
   "outputs": [],
   "source": [
    "playlist4_artists = []\n",
    "for i in playlist4['items']:\n",
    "        playlist4_artists.append(i['track']['artists'][0]['name'])"
   ]
  },
  {
   "cell_type": "code",
   "execution_count": 54,
   "metadata": {},
   "outputs": [],
   "source": [
    "playlist4_uri=[]\n",
    "for item in playlist4['items']:\n",
    "    playlist4_uri.append(item['track']['uri'])"
   ]
  },
  {
   "cell_type": "code",
   "execution_count": 55,
   "metadata": {},
   "outputs": [],
   "source": [
    "audio_playlist4_df=pd.DataFrame(sp.audio_features(tracks=playlist4_uri))"
   ]
  },
  {
   "cell_type": "code",
   "execution_count": 56,
   "metadata": {},
   "outputs": [],
   "source": [
    "audio_playlist4_df['Name'] = playlist4_names"
   ]
  },
  {
   "cell_type": "code",
   "execution_count": 57,
   "metadata": {},
   "outputs": [],
   "source": [
    "audio_playlist4_df['Artist'] = playlist4_artists"
   ]
  },
  {
   "cell_type": "code",
   "execution_count": null,
   "metadata": {},
   "outputs": [],
   "source": []
  },
  {
   "cell_type": "code",
   "execution_count": 58,
   "metadata": {},
   "outputs": [],
   "source": [
    "playlist5_names = []\n",
    "for item in playlist5['items']:\n",
    "        playlist5_names.append(item['track']['name'])"
   ]
  },
  {
   "cell_type": "code",
   "execution_count": 59,
   "metadata": {},
   "outputs": [],
   "source": [
    "playlist5_artists = []\n",
    "for i in playlist5['items']:\n",
    "        playlist5_artists.append(i['track']['artists'][0]['name'])"
   ]
  },
  {
   "cell_type": "code",
   "execution_count": 60,
   "metadata": {},
   "outputs": [],
   "source": [
    "playlist5_uri=[]\n",
    "for item in playlist5['items']:\n",
    "    playlist5_uri.append(item['track']['uri'])"
   ]
  },
  {
   "cell_type": "code",
   "execution_count": 61,
   "metadata": {},
   "outputs": [],
   "source": [
    "audio_playlist5_df=pd.DataFrame(sp.audio_features(tracks=playlist5_uri))"
   ]
  },
  {
   "cell_type": "code",
   "execution_count": 62,
   "metadata": {},
   "outputs": [],
   "source": [
    "audio_playlist5_df['Name'] = playlist5_names"
   ]
  },
  {
   "cell_type": "code",
   "execution_count": 63,
   "metadata": {},
   "outputs": [],
   "source": [
    "audio_playlist5_df['Artist'] = playlist5_artists"
   ]
  },
  {
   "cell_type": "code",
   "execution_count": null,
   "metadata": {},
   "outputs": [],
   "source": []
  },
  {
   "cell_type": "code",
   "execution_count": 64,
   "metadata": {},
   "outputs": [],
   "source": [
    "playlist6_names = []\n",
    "for item in playlist6['items']:\n",
    "        playlist6_names.append(item['track']['name'])"
   ]
  },
  {
   "cell_type": "code",
   "execution_count": 65,
   "metadata": {},
   "outputs": [],
   "source": [
    "playlist6_artists = []\n",
    "for i in playlist6['items']:\n",
    "        playlist6_artists.append(i['track']['artists'][0]['name'])"
   ]
  },
  {
   "cell_type": "code",
   "execution_count": 66,
   "metadata": {},
   "outputs": [],
   "source": [
    "playlist6_uri=[]\n",
    "for item in playlist6['items']:\n",
    "    playlist6_uri.append(item['track']['uri'])"
   ]
  },
  {
   "cell_type": "code",
   "execution_count": 67,
   "metadata": {},
   "outputs": [],
   "source": [
    "audio_playlist6_df=pd.DataFrame(sp.audio_features(tracks=playlist6_uri))"
   ]
  },
  {
   "cell_type": "code",
   "execution_count": 68,
   "metadata": {},
   "outputs": [],
   "source": [
    "audio_playlist6_df['Name'] = playlist6_names"
   ]
  },
  {
   "cell_type": "code",
   "execution_count": 69,
   "metadata": {},
   "outputs": [],
   "source": [
    "audio_playlist6_df['Artist'] = playlist6_artists"
   ]
  },
  {
   "cell_type": "code",
   "execution_count": null,
   "metadata": {},
   "outputs": [],
   "source": []
  },
  {
   "cell_type": "code",
   "execution_count": 70,
   "metadata": {},
   "outputs": [],
   "source": [
    "playlist7_names = []\n",
    "for item in playlist7['items']:\n",
    "        playlist7_names.append(item['track']['name'])"
   ]
  },
  {
   "cell_type": "code",
   "execution_count": 71,
   "metadata": {},
   "outputs": [],
   "source": [
    "playlist7_artists = []\n",
    "for i in playlist7['items']:\n",
    "        playlist7_artists.append(i['track']['artists'][0]['name'])"
   ]
  },
  {
   "cell_type": "code",
   "execution_count": 72,
   "metadata": {},
   "outputs": [],
   "source": [
    "playlist7_uri=[]\n",
    "for item in playlist7['items']:\n",
    "    playlist7_uri.append(item['track']['uri'])"
   ]
  },
  {
   "cell_type": "code",
   "execution_count": 73,
   "metadata": {},
   "outputs": [],
   "source": [
    "audio_playlist7_df=pd.DataFrame(sp.audio_features(tracks=playlist7_uri))"
   ]
  },
  {
   "cell_type": "code",
   "execution_count": 74,
   "metadata": {},
   "outputs": [],
   "source": [
    "audio_playlist7_df['Name'] = playlist7_names"
   ]
  },
  {
   "cell_type": "code",
   "execution_count": 75,
   "metadata": {},
   "outputs": [],
   "source": [
    "audio_playlist6_df['Artist'] = playlist6_artists"
   ]
  },
  {
   "cell_type": "code",
   "execution_count": null,
   "metadata": {},
   "outputs": [],
   "source": []
  },
  {
   "cell_type": "code",
   "execution_count": 76,
   "metadata": {},
   "outputs": [],
   "source": [
    "playlist8_names = []\n",
    "for item in playlist8['items']:\n",
    "        playlist8_names.append(item['track']['name'])"
   ]
  },
  {
   "cell_type": "code",
   "execution_count": 77,
   "metadata": {},
   "outputs": [],
   "source": [
    "playlist8_artists = []\n",
    "for i in playlist8['items']:\n",
    "        playlist8_artists.append(i['track']['artists'][0]['name'])"
   ]
  },
  {
   "cell_type": "code",
   "execution_count": 78,
   "metadata": {},
   "outputs": [],
   "source": [
    "playlist8_uri=[]\n",
    "for item in playlist8['items']:\n",
    "    playlist8_uri.append(item['track']['uri'])"
   ]
  },
  {
   "cell_type": "code",
   "execution_count": 79,
   "metadata": {},
   "outputs": [],
   "source": [
    "audio_playlist8_df=pd.DataFrame(sp.audio_features(tracks=playlist8_uri))"
   ]
  },
  {
   "cell_type": "code",
   "execution_count": 80,
   "metadata": {},
   "outputs": [],
   "source": [
    "audio_playlist8_df['Name'] = playlist8_names"
   ]
  },
  {
   "cell_type": "code",
   "execution_count": 81,
   "metadata": {},
   "outputs": [],
   "source": [
    "audio_playlist8_df['Artist'] = playlist8_artists"
   ]
  },
  {
   "cell_type": "code",
   "execution_count": null,
   "metadata": {},
   "outputs": [],
   "source": []
  },
  {
   "cell_type": "code",
   "execution_count": 82,
   "metadata": {},
   "outputs": [],
   "source": [
    "playlist9_names = []\n",
    "for item in playlist9['items']:\n",
    "        playlist9_names.append(item['track']['name'])"
   ]
  },
  {
   "cell_type": "code",
   "execution_count": 83,
   "metadata": {},
   "outputs": [],
   "source": [
    "playlist9_artists = []\n",
    "for i in playlist9['items']:\n",
    "        playlist9_artists.append(i['track']['artists'][0]['name'])"
   ]
  },
  {
   "cell_type": "code",
   "execution_count": 84,
   "metadata": {},
   "outputs": [],
   "source": [
    "playlist9_uri=[]\n",
    "for item in playlist9['items']:\n",
    "    playlist9_uri.append(item['track']['uri'])"
   ]
  },
  {
   "cell_type": "code",
   "execution_count": 85,
   "metadata": {},
   "outputs": [],
   "source": [
    "audio_playlist9_df=pd.DataFrame(sp.audio_features(tracks=playlist9_uri))"
   ]
  },
  {
   "cell_type": "code",
   "execution_count": 86,
   "metadata": {},
   "outputs": [],
   "source": [
    "audio_playlist9_df['Name'] = playlist9_names"
   ]
  },
  {
   "cell_type": "code",
   "execution_count": 87,
   "metadata": {},
   "outputs": [],
   "source": [
    "audio_playlist9_df['Artist'] = playlist9_artists"
   ]
  },
  {
   "cell_type": "code",
   "execution_count": null,
   "metadata": {},
   "outputs": [],
   "source": []
  },
  {
   "cell_type": "code",
   "execution_count": 88,
   "metadata": {},
   "outputs": [],
   "source": [
    "playlist10_names = []\n",
    "for item in playlist10['items']:\n",
    "        playlist10_names.append(item['track']['name'])"
   ]
  },
  {
   "cell_type": "code",
   "execution_count": 89,
   "metadata": {},
   "outputs": [],
   "source": [
    "playlist10_artists = []\n",
    "for i in playlist10['items']:\n",
    "        playlist10_artists.append(i['track']['artists'][0]['name'])"
   ]
  },
  {
   "cell_type": "code",
   "execution_count": 90,
   "metadata": {},
   "outputs": [],
   "source": [
    "playlist10_uri=[]\n",
    "for item in playlist10['items']:\n",
    "    playlist10_uri.append(item['track']['uri'])"
   ]
  },
  {
   "cell_type": "code",
   "execution_count": 91,
   "metadata": {},
   "outputs": [],
   "source": [
    "audio_playlist10_df=pd.DataFrame(sp.audio_features(tracks=playlist10_uri))"
   ]
  },
  {
   "cell_type": "code",
   "execution_count": 92,
   "metadata": {},
   "outputs": [],
   "source": [
    "audio_playlist10_df['Name'] = playlist10_names"
   ]
  },
  {
   "cell_type": "code",
   "execution_count": 93,
   "metadata": {},
   "outputs": [],
   "source": [
    "audio_playlist10_df['Artist'] = playlist10_artists"
   ]
  },
  {
   "cell_type": "code",
   "execution_count": null,
   "metadata": {},
   "outputs": [],
   "source": []
  },
  {
   "cell_type": "code",
   "execution_count": 94,
   "metadata": {},
   "outputs": [],
   "source": [
    "playlist_final = pd.concat([audio_playlist_df,audio_playlist1_df,audio_playlist2_df,audio_playlist3_df,audio_playlist4_df,audio_playlist5_df,audio_playlist6_df,audio_playlist7_df,audio_playlist8_df,audio_playlist9_df,audio_playlist10_df])\n"
   ]
  },
  {
   "cell_type": "code",
   "execution_count": 95,
   "metadata": {},
   "outputs": [
    {
     "data": {
      "text/plain": [
       "(973, 20)"
      ]
     },
     "execution_count": 95,
     "metadata": {},
     "output_type": "execute_result"
    }
   ],
   "source": [
    "playlist_final.shape"
   ]
  },
  {
   "cell_type": "code",
   "execution_count": 96,
   "metadata": {},
   "outputs": [
    {
     "data": {
      "text/html": [
       "<div>\n",
       "<style scoped>\n",
       "    .dataframe tbody tr th:only-of-type {\n",
       "        vertical-align: middle;\n",
       "    }\n",
       "\n",
       "    .dataframe tbody tr th {\n",
       "        vertical-align: top;\n",
       "    }\n",
       "\n",
       "    .dataframe thead th {\n",
       "        text-align: right;\n",
       "    }\n",
       "</style>\n",
       "<table border=\"1\" class=\"dataframe\">\n",
       "  <thead>\n",
       "    <tr style=\"text-align: right;\">\n",
       "      <th></th>\n",
       "      <th>danceability</th>\n",
       "      <th>energy</th>\n",
       "      <th>key</th>\n",
       "      <th>loudness</th>\n",
       "      <th>mode</th>\n",
       "      <th>speechiness</th>\n",
       "      <th>acousticness</th>\n",
       "      <th>instrumentalness</th>\n",
       "      <th>liveness</th>\n",
       "      <th>valence</th>\n",
       "      <th>tempo</th>\n",
       "      <th>type</th>\n",
       "      <th>id</th>\n",
       "      <th>uri</th>\n",
       "      <th>track_href</th>\n",
       "      <th>analysis_url</th>\n",
       "      <th>duration_ms</th>\n",
       "      <th>time_signature</th>\n",
       "      <th>Name</th>\n",
       "      <th>Artist</th>\n",
       "    </tr>\n",
       "  </thead>\n",
       "  <tbody>\n",
       "    <tr>\n",
       "      <th>0</th>\n",
       "      <td>0.774</td>\n",
       "      <td>0.505</td>\n",
       "      <td>5</td>\n",
       "      <td>-9.047</td>\n",
       "      <td>0</td>\n",
       "      <td>0.0469</td>\n",
       "      <td>0.012000</td>\n",
       "      <td>0.0416</td>\n",
       "      <td>0.1070</td>\n",
       "      <td>0.4460</td>\n",
       "      <td>118.010</td>\n",
       "      <td>audio_features</td>\n",
       "      <td>0YDiCJBXYH6qmp2oIlPf6Z</td>\n",
       "      <td>spotify:track:0YDiCJBXYH6qmp2oIlPf6Z</td>\n",
       "      <td>https://api.spotify.com/v1/tracks/0YDiCJBXYH6q...</td>\n",
       "      <td>https://api.spotify.com/v1/audio-analysis/0YDi...</td>\n",
       "      <td>391397</td>\n",
       "      <td>4</td>\n",
       "      <td>Lightweight - Sandy Rivera Remix</td>\n",
       "      <td>Jason Burns</td>\n",
       "    </tr>\n",
       "    <tr>\n",
       "      <th>1</th>\n",
       "      <td>0.795</td>\n",
       "      <td>0.558</td>\n",
       "      <td>9</td>\n",
       "      <td>-7.939</td>\n",
       "      <td>0</td>\n",
       "      <td>0.0312</td>\n",
       "      <td>0.118000</td>\n",
       "      <td>0.0591</td>\n",
       "      <td>0.1050</td>\n",
       "      <td>0.2460</td>\n",
       "      <td>112.029</td>\n",
       "      <td>audio_features</td>\n",
       "      <td>5mEdU0a2nw4vsuA8Pr8Av2</td>\n",
       "      <td>spotify:track:5mEdU0a2nw4vsuA8Pr8Av2</td>\n",
       "      <td>https://api.spotify.com/v1/tracks/5mEdU0a2nw4v...</td>\n",
       "      <td>https://api.spotify.com/v1/audio-analysis/5mEd...</td>\n",
       "      <td>209648</td>\n",
       "      <td>4</td>\n",
       "      <td>War (feat. August+Us)</td>\n",
       "      <td>Witness</td>\n",
       "    </tr>\n",
       "    <tr>\n",
       "      <th>2</th>\n",
       "      <td>0.867</td>\n",
       "      <td>0.603</td>\n",
       "      <td>2</td>\n",
       "      <td>-7.427</td>\n",
       "      <td>0</td>\n",
       "      <td>0.0637</td>\n",
       "      <td>0.356000</td>\n",
       "      <td>0.0553</td>\n",
       "      <td>0.0765</td>\n",
       "      <td>0.6770</td>\n",
       "      <td>114.977</td>\n",
       "      <td>audio_features</td>\n",
       "      <td>6MzuROznsagl5Szc8w3Smj</td>\n",
       "      <td>spotify:track:6MzuROznsagl5Szc8w3Smj</td>\n",
       "      <td>https://api.spotify.com/v1/tracks/6MzuROznsagl...</td>\n",
       "      <td>https://api.spotify.com/v1/audio-analysis/6Mzu...</td>\n",
       "      <td>225181</td>\n",
       "      <td>4</td>\n",
       "      <td>Something About You</td>\n",
       "      <td>Hayden James</td>\n",
       "    </tr>\n",
       "    <tr>\n",
       "      <th>3</th>\n",
       "      <td>0.817</td>\n",
       "      <td>0.623</td>\n",
       "      <td>8</td>\n",
       "      <td>-6.856</td>\n",
       "      <td>1</td>\n",
       "      <td>0.0603</td>\n",
       "      <td>0.034900</td>\n",
       "      <td>0.2770</td>\n",
       "      <td>0.0619</td>\n",
       "      <td>0.5060</td>\n",
       "      <td>115.989</td>\n",
       "      <td>audio_features</td>\n",
       "      <td>0JNBcMPvsCeH8Ac4praGMo</td>\n",
       "      <td>spotify:track:0JNBcMPvsCeH8Ac4praGMo</td>\n",
       "      <td>https://api.spotify.com/v1/tracks/0JNBcMPvsCeH...</td>\n",
       "      <td>https://api.spotify.com/v1/audio-analysis/0JNB...</td>\n",
       "      <td>380690</td>\n",
       "      <td>4</td>\n",
       "      <td>Dolphins - Dub Mix</td>\n",
       "      <td>Freddy Verano</td>\n",
       "    </tr>\n",
       "    <tr>\n",
       "      <th>4</th>\n",
       "      <td>0.790</td>\n",
       "      <td>0.647</td>\n",
       "      <td>8</td>\n",
       "      <td>-6.732</td>\n",
       "      <td>0</td>\n",
       "      <td>0.0375</td>\n",
       "      <td>0.200000</td>\n",
       "      <td>0.1090</td>\n",
       "      <td>0.0766</td>\n",
       "      <td>0.7490</td>\n",
       "      <td>105.012</td>\n",
       "      <td>audio_features</td>\n",
       "      <td>3hxRKXzZS0XRYGZ123JDNH</td>\n",
       "      <td>spotify:track:3hxRKXzZS0XRYGZ123JDNH</td>\n",
       "      <td>https://api.spotify.com/v1/tracks/3hxRKXzZS0XR...</td>\n",
       "      <td>https://api.spotify.com/v1/audio-analysis/3hxR...</td>\n",
       "      <td>194707</td>\n",
       "      <td>4</td>\n",
       "      <td>Djon maya maï (feat. Victor Démé)</td>\n",
       "      <td>Synapson</td>\n",
       "    </tr>\n",
       "    <tr>\n",
       "      <th>...</th>\n",
       "      <td>...</td>\n",
       "      <td>...</td>\n",
       "      <td>...</td>\n",
       "      <td>...</td>\n",
       "      <td>...</td>\n",
       "      <td>...</td>\n",
       "      <td>...</td>\n",
       "      <td>...</td>\n",
       "      <td>...</td>\n",
       "      <td>...</td>\n",
       "      <td>...</td>\n",
       "      <td>...</td>\n",
       "      <td>...</td>\n",
       "      <td>...</td>\n",
       "      <td>...</td>\n",
       "      <td>...</td>\n",
       "      <td>...</td>\n",
       "      <td>...</td>\n",
       "      <td>...</td>\n",
       "      <td>...</td>\n",
       "    </tr>\n",
       "    <tr>\n",
       "      <th>95</th>\n",
       "      <td>0.798</td>\n",
       "      <td>0.880</td>\n",
       "      <td>11</td>\n",
       "      <td>-6.626</td>\n",
       "      <td>1</td>\n",
       "      <td>0.0445</td>\n",
       "      <td>0.000768</td>\n",
       "      <td>0.9270</td>\n",
       "      <td>0.1070</td>\n",
       "      <td>0.0685</td>\n",
       "      <td>125.992</td>\n",
       "      <td>audio_features</td>\n",
       "      <td>4b7qHjTUwT752wMn6BCxVK</td>\n",
       "      <td>spotify:track:4b7qHjTUwT752wMn6BCxVK</td>\n",
       "      <td>https://api.spotify.com/v1/tracks/4b7qHjTUwT75...</td>\n",
       "      <td>https://api.spotify.com/v1/audio-analysis/4b7q...</td>\n",
       "      <td>398229</td>\n",
       "      <td>4</td>\n",
       "      <td>Nine of You</td>\n",
       "      <td>Adam Beyer</td>\n",
       "    </tr>\n",
       "    <tr>\n",
       "      <th>96</th>\n",
       "      <td>0.809</td>\n",
       "      <td>0.746</td>\n",
       "      <td>7</td>\n",
       "      <td>-12.131</td>\n",
       "      <td>1</td>\n",
       "      <td>0.0468</td>\n",
       "      <td>0.000061</td>\n",
       "      <td>0.9400</td>\n",
       "      <td>0.1140</td>\n",
       "      <td>0.0370</td>\n",
       "      <td>121.998</td>\n",
       "      <td>audio_features</td>\n",
       "      <td>7KvBNIC7MEQLTpC7RbTMtI</td>\n",
       "      <td>spotify:track:7KvBNIC7MEQLTpC7RbTMtI</td>\n",
       "      <td>https://api.spotify.com/v1/tracks/7KvBNIC7MEQL...</td>\n",
       "      <td>https://api.spotify.com/v1/audio-analysis/7KvB...</td>\n",
       "      <td>484841</td>\n",
       "      <td>4</td>\n",
       "      <td>Holding Pattern</td>\n",
       "      <td>Karmon</td>\n",
       "    </tr>\n",
       "    <tr>\n",
       "      <th>97</th>\n",
       "      <td>0.688</td>\n",
       "      <td>0.961</td>\n",
       "      <td>9</td>\n",
       "      <td>-8.262</td>\n",
       "      <td>1</td>\n",
       "      <td>0.0432</td>\n",
       "      <td>0.169000</td>\n",
       "      <td>0.7810</td>\n",
       "      <td>0.1080</td>\n",
       "      <td>0.3070</td>\n",
       "      <td>135.118</td>\n",
       "      <td>audio_features</td>\n",
       "      <td>3RCYUa66bzSqIXQ34QGeHd</td>\n",
       "      <td>spotify:track:3RCYUa66bzSqIXQ34QGeHd</td>\n",
       "      <td>https://api.spotify.com/v1/tracks/3RCYUa66bzSq...</td>\n",
       "      <td>https://api.spotify.com/v1/audio-analysis/3RCY...</td>\n",
       "      <td>505465</td>\n",
       "      <td>4</td>\n",
       "      <td>Voco Me - Flim Flam Remix</td>\n",
       "      <td>DJ Icon</td>\n",
       "    </tr>\n",
       "    <tr>\n",
       "      <th>98</th>\n",
       "      <td>0.802</td>\n",
       "      <td>0.588</td>\n",
       "      <td>10</td>\n",
       "      <td>-11.046</td>\n",
       "      <td>0</td>\n",
       "      <td>0.0595</td>\n",
       "      <td>0.029900</td>\n",
       "      <td>0.8780</td>\n",
       "      <td>0.0822</td>\n",
       "      <td>0.0506</td>\n",
       "      <td>128.989</td>\n",
       "      <td>audio_features</td>\n",
       "      <td>2BWiEuSIWsagua4DewdXY5</td>\n",
       "      <td>spotify:track:2BWiEuSIWsagua4DewdXY5</td>\n",
       "      <td>https://api.spotify.com/v1/tracks/2BWiEuSIWsag...</td>\n",
       "      <td>https://api.spotify.com/v1/audio-analysis/2BWi...</td>\n",
       "      <td>419351</td>\n",
       "      <td>4</td>\n",
       "      <td>Exile 007 B2</td>\n",
       "      <td>Johannes Heil</td>\n",
       "    </tr>\n",
       "    <tr>\n",
       "      <th>99</th>\n",
       "      <td>0.728</td>\n",
       "      <td>0.975</td>\n",
       "      <td>8</td>\n",
       "      <td>-8.270</td>\n",
       "      <td>1</td>\n",
       "      <td>0.0670</td>\n",
       "      <td>0.002890</td>\n",
       "      <td>0.9240</td>\n",
       "      <td>0.1100</td>\n",
       "      <td>0.1300</td>\n",
       "      <td>125.026</td>\n",
       "      <td>audio_features</td>\n",
       "      <td>2lsokLfwtWTJhJ8e9agbca</td>\n",
       "      <td>spotify:track:2lsokLfwtWTJhJ8e9agbca</td>\n",
       "      <td>https://api.spotify.com/v1/tracks/2lsokLfwtWTJ...</td>\n",
       "      <td>https://api.spotify.com/v1/audio-analysis/2lso...</td>\n",
       "      <td>412609</td>\n",
       "      <td>4</td>\n",
       "      <td>Classified - Original Mix</td>\n",
       "      <td>Andres Campo</td>\n",
       "    </tr>\n",
       "  </tbody>\n",
       "</table>\n",
       "<p>973 rows × 20 columns</p>\n",
       "</div>"
      ],
      "text/plain": [
       "    danceability  energy  key  loudness  mode  speechiness  acousticness  \\\n",
       "0          0.774   0.505    5    -9.047     0       0.0469      0.012000   \n",
       "1          0.795   0.558    9    -7.939     0       0.0312      0.118000   \n",
       "2          0.867   0.603    2    -7.427     0       0.0637      0.356000   \n",
       "3          0.817   0.623    8    -6.856     1       0.0603      0.034900   \n",
       "4          0.790   0.647    8    -6.732     0       0.0375      0.200000   \n",
       "..           ...     ...  ...       ...   ...          ...           ...   \n",
       "95         0.798   0.880   11    -6.626     1       0.0445      0.000768   \n",
       "96         0.809   0.746    7   -12.131     1       0.0468      0.000061   \n",
       "97         0.688   0.961    9    -8.262     1       0.0432      0.169000   \n",
       "98         0.802   0.588   10   -11.046     0       0.0595      0.029900   \n",
       "99         0.728   0.975    8    -8.270     1       0.0670      0.002890   \n",
       "\n",
       "    instrumentalness  liveness  valence    tempo            type  \\\n",
       "0             0.0416    0.1070   0.4460  118.010  audio_features   \n",
       "1             0.0591    0.1050   0.2460  112.029  audio_features   \n",
       "2             0.0553    0.0765   0.6770  114.977  audio_features   \n",
       "3             0.2770    0.0619   0.5060  115.989  audio_features   \n",
       "4             0.1090    0.0766   0.7490  105.012  audio_features   \n",
       "..               ...       ...      ...      ...             ...   \n",
       "95            0.9270    0.1070   0.0685  125.992  audio_features   \n",
       "96            0.9400    0.1140   0.0370  121.998  audio_features   \n",
       "97            0.7810    0.1080   0.3070  135.118  audio_features   \n",
       "98            0.8780    0.0822   0.0506  128.989  audio_features   \n",
       "99            0.9240    0.1100   0.1300  125.026  audio_features   \n",
       "\n",
       "                        id                                   uri  \\\n",
       "0   0YDiCJBXYH6qmp2oIlPf6Z  spotify:track:0YDiCJBXYH6qmp2oIlPf6Z   \n",
       "1   5mEdU0a2nw4vsuA8Pr8Av2  spotify:track:5mEdU0a2nw4vsuA8Pr8Av2   \n",
       "2   6MzuROznsagl5Szc8w3Smj  spotify:track:6MzuROznsagl5Szc8w3Smj   \n",
       "3   0JNBcMPvsCeH8Ac4praGMo  spotify:track:0JNBcMPvsCeH8Ac4praGMo   \n",
       "4   3hxRKXzZS0XRYGZ123JDNH  spotify:track:3hxRKXzZS0XRYGZ123JDNH   \n",
       "..                     ...                                   ...   \n",
       "95  4b7qHjTUwT752wMn6BCxVK  spotify:track:4b7qHjTUwT752wMn6BCxVK   \n",
       "96  7KvBNIC7MEQLTpC7RbTMtI  spotify:track:7KvBNIC7MEQLTpC7RbTMtI   \n",
       "97  3RCYUa66bzSqIXQ34QGeHd  spotify:track:3RCYUa66bzSqIXQ34QGeHd   \n",
       "98  2BWiEuSIWsagua4DewdXY5  spotify:track:2BWiEuSIWsagua4DewdXY5   \n",
       "99  2lsokLfwtWTJhJ8e9agbca  spotify:track:2lsokLfwtWTJhJ8e9agbca   \n",
       "\n",
       "                                           track_href  \\\n",
       "0   https://api.spotify.com/v1/tracks/0YDiCJBXYH6q...   \n",
       "1   https://api.spotify.com/v1/tracks/5mEdU0a2nw4v...   \n",
       "2   https://api.spotify.com/v1/tracks/6MzuROznsagl...   \n",
       "3   https://api.spotify.com/v1/tracks/0JNBcMPvsCeH...   \n",
       "4   https://api.spotify.com/v1/tracks/3hxRKXzZS0XR...   \n",
       "..                                                ...   \n",
       "95  https://api.spotify.com/v1/tracks/4b7qHjTUwT75...   \n",
       "96  https://api.spotify.com/v1/tracks/7KvBNIC7MEQL...   \n",
       "97  https://api.spotify.com/v1/tracks/3RCYUa66bzSq...   \n",
       "98  https://api.spotify.com/v1/tracks/2BWiEuSIWsag...   \n",
       "99  https://api.spotify.com/v1/tracks/2lsokLfwtWTJ...   \n",
       "\n",
       "                                         analysis_url  duration_ms  \\\n",
       "0   https://api.spotify.com/v1/audio-analysis/0YDi...       391397   \n",
       "1   https://api.spotify.com/v1/audio-analysis/5mEd...       209648   \n",
       "2   https://api.spotify.com/v1/audio-analysis/6Mzu...       225181   \n",
       "3   https://api.spotify.com/v1/audio-analysis/0JNB...       380690   \n",
       "4   https://api.spotify.com/v1/audio-analysis/3hxR...       194707   \n",
       "..                                                ...          ...   \n",
       "95  https://api.spotify.com/v1/audio-analysis/4b7q...       398229   \n",
       "96  https://api.spotify.com/v1/audio-analysis/7KvB...       484841   \n",
       "97  https://api.spotify.com/v1/audio-analysis/3RCY...       505465   \n",
       "98  https://api.spotify.com/v1/audio-analysis/2BWi...       419351   \n",
       "99  https://api.spotify.com/v1/audio-analysis/2lso...       412609   \n",
       "\n",
       "    time_signature                               Name         Artist  \n",
       "0                4   Lightweight - Sandy Rivera Remix    Jason Burns  \n",
       "1                4              War (feat. August+Us)        Witness  \n",
       "2                4                Something About You   Hayden James  \n",
       "3                4                 Dolphins - Dub Mix  Freddy Verano  \n",
       "4                4  Djon maya maï (feat. Victor Démé)       Synapson  \n",
       "..             ...                                ...            ...  \n",
       "95               4                        Nine of You     Adam Beyer  \n",
       "96               4                    Holding Pattern         Karmon  \n",
       "97               4          Voco Me - Flim Flam Remix        DJ Icon  \n",
       "98               4                       Exile 007 B2  Johannes Heil  \n",
       "99               4          Classified - Original Mix   Andres Campo  \n",
       "\n",
       "[973 rows x 20 columns]"
      ]
     },
     "execution_count": 96,
     "metadata": {},
     "output_type": "execute_result"
    }
   ],
   "source": [
    "playlist_final"
   ]
  },
  {
   "cell_type": "code",
   "execution_count": 97,
   "metadata": {},
   "outputs": [],
   "source": [
    "#EDA"
   ]
  },
  {
   "cell_type": "code",
   "execution_count": 98,
   "metadata": {},
   "outputs": [
    {
     "name": "stdout",
     "output_type": "stream",
     "text": [
      "<class 'pandas.core.frame.DataFrame'>\n",
      "Int64Index: 973 entries, 0 to 99\n",
      "Data columns (total 20 columns):\n",
      " #   Column            Non-Null Count  Dtype  \n",
      "---  ------            --------------  -----  \n",
      " 0   danceability      973 non-null    float64\n",
      " 1   energy            973 non-null    float64\n",
      " 2   key               973 non-null    int64  \n",
      " 3   loudness          973 non-null    float64\n",
      " 4   mode              973 non-null    int64  \n",
      " 5   speechiness       973 non-null    float64\n",
      " 6   acousticness      973 non-null    float64\n",
      " 7   instrumentalness  973 non-null    float64\n",
      " 8   liveness          973 non-null    float64\n",
      " 9   valence           973 non-null    float64\n",
      " 10  tempo             973 non-null    float64\n",
      " 11  type              973 non-null    object \n",
      " 12  id                973 non-null    object \n",
      " 13  uri               973 non-null    object \n",
      " 14  track_href        973 non-null    object \n",
      " 15  analysis_url      973 non-null    object \n",
      " 16  duration_ms       973 non-null    int64  \n",
      " 17  time_signature    973 non-null    int64  \n",
      " 18  Name              973 non-null    object \n",
      " 19  Artist            873 non-null    object \n",
      "dtypes: float64(9), int64(4), object(7)\n",
      "memory usage: 159.6+ KB\n"
     ]
    }
   ],
   "source": [
    "playlist_final.info()"
   ]
  },
  {
   "cell_type": "code",
   "execution_count": 99,
   "metadata": {},
   "outputs": [],
   "source": [
    "playlist_final = playlist_final.drop_duplicates()"
   ]
  },
  {
   "cell_type": "code",
   "execution_count": 100,
   "metadata": {},
   "outputs": [
    {
     "data": {
      "image/png": "[encoded data removed]",
      "text/plain": [
       "<Figure size 1080x720 with 16 Axes>"
      ]
     },
     "metadata": {
      "needs_background": "light"
     },
     "output_type": "display_data"
    }
   ],
   "source": [
    "playlist_final.hist(figsize=(15,10));"
   ]
  },
  {
   "cell_type": "code",
   "execution_count": 101,
   "metadata": {},
   "outputs": [
    {
     "data": {
      "text/html": [
       "<div>\n",
       "<style scoped>\n",
       "    .dataframe tbody tr th:only-of-type {\n",
       "        vertical-align: middle;\n",
       "    }\n",
       "\n",
       "    .dataframe tbody tr th {\n",
       "        vertical-align: top;\n",
       "    }\n",
       "\n",
       "    .dataframe thead th {\n",
       "        text-align: right;\n",
       "    }\n",
       "</style>\n",
       "<table border=\"1\" class=\"dataframe\">\n",
       "  <thead>\n",
       "    <tr style=\"text-align: right;\">\n",
       "      <th></th>\n",
       "      <th>danceability</th>\n",
       "      <th>energy</th>\n",
       "      <th>key</th>\n",
       "      <th>loudness</th>\n",
       "      <th>mode</th>\n",
       "      <th>speechiness</th>\n",
       "      <th>acousticness</th>\n",
       "      <th>instrumentalness</th>\n",
       "      <th>liveness</th>\n",
       "      <th>valence</th>\n",
       "      <th>tempo</th>\n",
       "      <th>duration_ms</th>\n",
       "      <th>time_signature</th>\n",
       "    </tr>\n",
       "  </thead>\n",
       "  <tbody>\n",
       "    <tr>\n",
       "      <th>count</th>\n",
       "      <td>919.000000</td>\n",
       "      <td>919.000000</td>\n",
       "      <td>919.000000</td>\n",
       "      <td>919.000000</td>\n",
       "      <td>919.000000</td>\n",
       "      <td>919.000000</td>\n",
       "      <td>919.000000</td>\n",
       "      <td>919.000000</td>\n",
       "      <td>919.000000</td>\n",
       "      <td>919.000000</td>\n",
       "      <td>919.000000</td>\n",
       "      <td>919.000000</td>\n",
       "      <td>919.000000</td>\n",
       "    </tr>\n",
       "    <tr>\n",
       "      <th>mean</th>\n",
       "      <td>0.775175</td>\n",
       "      <td>0.695765</td>\n",
       "      <td>5.579978</td>\n",
       "      <td>-8.593845</td>\n",
       "      <td>0.489663</td>\n",
       "      <td>0.075747</td>\n",
       "      <td>0.086658</td>\n",
       "      <td>0.533457</td>\n",
       "      <td>0.145439</td>\n",
       "      <td>0.442908</td>\n",
       "      <td>122.353711</td>\n",
       "      <td>332386.883569</td>\n",
       "      <td>3.974973</td>\n",
       "    </tr>\n",
       "    <tr>\n",
       "      <th>std</th>\n",
       "      <td>0.096404</td>\n",
       "      <td>0.177368</td>\n",
       "      <td>3.672288</td>\n",
       "      <td>2.721049</td>\n",
       "      <td>0.500165</td>\n",
       "      <td>0.060106</td>\n",
       "      <td>0.166011</td>\n",
       "      <td>0.346001</td>\n",
       "      <td>0.136769</td>\n",
       "      <td>0.249603</td>\n",
       "      <td>9.635487</td>\n",
       "      <td>111385.548608</td>\n",
       "      <td>0.199193</td>\n",
       "    </tr>\n",
       "    <tr>\n",
       "      <th>min</th>\n",
       "      <td>0.349000</td>\n",
       "      <td>0.078600</td>\n",
       "      <td>0.000000</td>\n",
       "      <td>-21.739000</td>\n",
       "      <td>0.000000</td>\n",
       "      <td>0.025700</td>\n",
       "      <td>0.000008</td>\n",
       "      <td>0.000000</td>\n",
       "      <td>0.022600</td>\n",
       "      <td>0.033600</td>\n",
       "      <td>74.885000</td>\n",
       "      <td>96000.000000</td>\n",
       "      <td>1.000000</td>\n",
       "    </tr>\n",
       "    <tr>\n",
       "      <th>25%</th>\n",
       "      <td>0.725500</td>\n",
       "      <td>0.575000</td>\n",
       "      <td>2.000000</td>\n",
       "      <td>-10.010000</td>\n",
       "      <td>0.000000</td>\n",
       "      <td>0.045300</td>\n",
       "      <td>0.002390</td>\n",
       "      <td>0.161500</td>\n",
       "      <td>0.075950</td>\n",
       "      <td>0.234500</td>\n",
       "      <td>120.024500</td>\n",
       "      <td>230026.500000</td>\n",
       "      <td>4.000000</td>\n",
       "    </tr>\n",
       "    <tr>\n",
       "      <th>50%</th>\n",
       "      <td>0.795000</td>\n",
       "      <td>0.716000</td>\n",
       "      <td>6.000000</td>\n",
       "      <td>-8.280000</td>\n",
       "      <td>0.000000</td>\n",
       "      <td>0.058000</td>\n",
       "      <td>0.015000</td>\n",
       "      <td>0.644000</td>\n",
       "      <td>0.102000</td>\n",
       "      <td>0.419000</td>\n",
       "      <td>123.022000</td>\n",
       "      <td>345506.000000</td>\n",
       "      <td>4.000000</td>\n",
       "    </tr>\n",
       "    <tr>\n",
       "      <th>75%</th>\n",
       "      <td>0.835000</td>\n",
       "      <td>0.837000</td>\n",
       "      <td>9.000000</td>\n",
       "      <td>-6.765500</td>\n",
       "      <td>1.000000</td>\n",
       "      <td>0.078300</td>\n",
       "      <td>0.085800</td>\n",
       "      <td>0.856000</td>\n",
       "      <td>0.137000</td>\n",
       "      <td>0.642000</td>\n",
       "      <td>125.007000</td>\n",
       "      <td>412554.500000</td>\n",
       "      <td>4.000000</td>\n",
       "    </tr>\n",
       "    <tr>\n",
       "      <th>max</th>\n",
       "      <td>0.985000</td>\n",
       "      <td>0.995000</td>\n",
       "      <td>11.000000</td>\n",
       "      <td>-1.956000</td>\n",
       "      <td>1.000000</td>\n",
       "      <td>0.533000</td>\n",
       "      <td>0.945000</td>\n",
       "      <td>0.976000</td>\n",
       "      <td>0.950000</td>\n",
       "      <td>0.980000</td>\n",
       "      <td>247.957000</td>\n",
       "      <td>849960.000000</td>\n",
       "      <td>5.000000</td>\n",
       "    </tr>\n",
       "  </tbody>\n",
       "</table>\n",
       "</div>"
      ],
      "text/plain": [
       "       danceability      energy         key    loudness        mode  \\\n",
       "count    919.000000  919.000000  919.000000  919.000000  919.000000   \n",
       "mean       0.775175    0.695765    5.579978   -8.593845    0.489663   \n",
       "std        0.096404    0.177368    3.672288    2.721049    0.500165   \n",
       "min        0.349000    0.078600    0.000000  -21.739000    0.000000   \n",
       "25%        0.725500    0.575000    2.000000  -10.010000    0.000000   \n",
       "50%        0.795000    0.716000    6.000000   -8.280000    0.000000   \n",
       "75%        0.835000    0.837000    9.000000   -6.765500    1.000000   \n",
       "max        0.985000    0.995000   11.000000   -1.956000    1.000000   \n",
       "\n",
       "       speechiness  acousticness  instrumentalness    liveness     valence  \\\n",
       "count   919.000000    919.000000        919.000000  919.000000  919.000000   \n",
       "mean      0.075747      0.086658          0.533457    0.145439    0.442908   \n",
       "std       0.060106      0.166011          0.346001    0.136769    0.249603   \n",
       "min       0.025700      0.000008          0.000000    0.022600    0.033600   \n",
       "25%       0.045300      0.002390          0.161500    0.075950    0.234500   \n",
       "50%       0.058000      0.015000          0.644000    0.102000    0.419000   \n",
       "75%       0.078300      0.085800          0.856000    0.137000    0.642000   \n",
       "max       0.533000      0.945000          0.976000    0.950000    0.980000   \n",
       "\n",
       "            tempo    duration_ms  time_signature  \n",
       "count  919.000000     919.000000      919.000000  \n",
       "mean   122.353711  332386.883569        3.974973  \n",
       "std      9.635487  111385.548608        0.199193  \n",
       "min     74.885000   96000.000000        1.000000  \n",
       "25%    120.024500  230026.500000        4.000000  \n",
       "50%    123.022000  345506.000000        4.000000  \n",
       "75%    125.007000  412554.500000        4.000000  \n",
       "max    247.957000  849960.000000        5.000000  "
      ]
     },
     "execution_count": 101,
     "metadata": {},
     "output_type": "execute_result"
    }
   ],
   "source": [
    "playlist_final.describe()"
   ]
  },
  {
   "cell_type": "code",
   "execution_count": 102,
   "metadata": {},
   "outputs": [],
   "source": [
    "num_X = playlist_final.select_dtypes(include=np.number)"
   ]
  },
  {
   "cell_type": "code",
   "execution_count": 103,
   "metadata": {},
   "outputs": [],
   "source": [
    "columns = num_X.columns"
   ]
  },
  {
   "cell_type": "code",
   "execution_count": 104,
   "metadata": {},
   "outputs": [],
   "source": [
    "scaler = StandardScaler()"
   ]
  },
  {
   "cell_type": "code",
   "execution_count": 105,
   "metadata": {},
   "outputs": [
    {
     "data": {
      "text/plain": [
       "StandardScaler()"
      ]
     },
     "execution_count": 105,
     "metadata": {},
     "output_type": "execute_result"
    }
   ],
   "source": [
    "scaler.fit(num_X)"
   ]
  },
  {
   "cell_type": "code",
   "execution_count": 106,
   "metadata": {},
   "outputs": [],
   "source": [
    "X_prep = scaler.transform(num_X)"
   ]
  },
  {
   "cell_type": "code",
   "execution_count": 107,
   "metadata": {},
   "outputs": [],
   "source": [
    "X_prep_df = pd.DataFrame(X_prep, columns = columns)"
   ]
  },
  {
   "cell_type": "code",
   "execution_count": 108,
   "metadata": {},
   "outputs": [
    {
     "data": {
      "text/html": [
       "<div>\n",
       "<style scoped>\n",
       "    .dataframe tbody tr th:only-of-type {\n",
       "        vertical-align: middle;\n",
       "    }\n",
       "\n",
       "    .dataframe tbody tr th {\n",
       "        vertical-align: top;\n",
       "    }\n",
       "\n",
       "    .dataframe thead th {\n",
       "        text-align: right;\n",
       "    }\n",
       "</style>\n",
       "<table border=\"1\" class=\"dataframe\">\n",
       "  <thead>\n",
       "    <tr style=\"text-align: right;\">\n",
       "      <th></th>\n",
       "      <th>danceability</th>\n",
       "      <th>energy</th>\n",
       "      <th>key</th>\n",
       "      <th>loudness</th>\n",
       "      <th>mode</th>\n",
       "      <th>speechiness</th>\n",
       "      <th>acousticness</th>\n",
       "      <th>instrumentalness</th>\n",
       "      <th>liveness</th>\n",
       "      <th>valence</th>\n",
       "      <th>tempo</th>\n",
       "      <th>duration_ms</th>\n",
       "      <th>time_signature</th>\n",
       "    </tr>\n",
       "  </thead>\n",
       "  <tbody>\n",
       "    <tr>\n",
       "      <th>0</th>\n",
       "      <td>-0.012197</td>\n",
       "      <td>-1.076114</td>\n",
       "      <td>-0.158020</td>\n",
       "      <td>-0.166627</td>\n",
       "      <td>-0.979535</td>\n",
       "      <td>-0.480199</td>\n",
       "      <td>-0.449962</td>\n",
       "      <td>-1.422319</td>\n",
       "      <td>-0.281204</td>\n",
       "      <td>0.012395</td>\n",
       "      <td>-0.451049</td>\n",
       "      <td>0.530071</td>\n",
       "      <td>0.125711</td>\n",
       "    </tr>\n",
       "    <tr>\n",
       "      <th>1</th>\n",
       "      <td>0.205755</td>\n",
       "      <td>-0.777138</td>\n",
       "      <td>0.931813</td>\n",
       "      <td>0.240790</td>\n",
       "      <td>-0.979535</td>\n",
       "      <td>-0.741547</td>\n",
       "      <td>0.188898</td>\n",
       "      <td>-1.371714</td>\n",
       "      <td>-0.295835</td>\n",
       "      <td>-0.789314</td>\n",
       "      <td>-1.072113</td>\n",
       "      <td>-1.102528</td>\n",
       "      <td>0.125711</td>\n",
       "    </tr>\n",
       "    <tr>\n",
       "      <th>2</th>\n",
       "      <td>0.953020</td>\n",
       "      <td>-0.523290</td>\n",
       "      <td>-0.975394</td>\n",
       "      <td>0.429055</td>\n",
       "      <td>-0.979535</td>\n",
       "      <td>-0.200539</td>\n",
       "      <td>1.623320</td>\n",
       "      <td>-1.382702</td>\n",
       "      <td>-0.504329</td>\n",
       "      <td>0.938368</td>\n",
       "      <td>-0.765994</td>\n",
       "      <td>-0.963000</td>\n",
       "      <td>0.125711</td>\n",
       "    </tr>\n",
       "    <tr>\n",
       "      <th>3</th>\n",
       "      <td>0.434086</td>\n",
       "      <td>-0.410469</td>\n",
       "      <td>0.659354</td>\n",
       "      <td>0.639015</td>\n",
       "      <td>1.020893</td>\n",
       "      <td>-0.257137</td>\n",
       "      <td>-0.311944</td>\n",
       "      <td>-0.741604</td>\n",
       "      <td>-0.611136</td>\n",
       "      <td>0.252907</td>\n",
       "      <td>-0.660909</td>\n",
       "      <td>0.433893</td>\n",
       "      <td>0.125711</td>\n",
       "    </tr>\n",
       "    <tr>\n",
       "      <th>4</th>\n",
       "      <td>0.153862</td>\n",
       "      <td>-0.275084</td>\n",
       "      <td>0.659354</td>\n",
       "      <td>0.684611</td>\n",
       "      <td>-0.979535</td>\n",
       "      <td>-0.636675</td>\n",
       "      <td>0.683111</td>\n",
       "      <td>-1.227416</td>\n",
       "      <td>-0.503597</td>\n",
       "      <td>1.226983</td>\n",
       "      <td>-1.800755</td>\n",
       "      <td>-1.236739</td>\n",
       "      <td>0.125711</td>\n",
       "    </tr>\n",
       "    <tr>\n",
       "      <th>...</th>\n",
       "      <td>...</td>\n",
       "      <td>...</td>\n",
       "      <td>...</td>\n",
       "      <td>...</td>\n",
       "      <td>...</td>\n",
       "      <td>...</td>\n",
       "      <td>...</td>\n",
       "      <td>...</td>\n",
       "      <td>...</td>\n",
       "      <td>...</td>\n",
       "      <td>...</td>\n",
       "      <td>...</td>\n",
       "      <td>...</td>\n",
       "    </tr>\n",
       "    <tr>\n",
       "      <th>914</th>\n",
       "      <td>0.236891</td>\n",
       "      <td>1.039284</td>\n",
       "      <td>1.476729</td>\n",
       "      <td>0.723587</td>\n",
       "      <td>1.020893</td>\n",
       "      <td>-0.520150</td>\n",
       "      <td>-0.517657</td>\n",
       "      <td>1.138024</td>\n",
       "      <td>-0.281204</td>\n",
       "      <td>-1.500830</td>\n",
       "      <td>0.377798</td>\n",
       "      <td>0.591441</td>\n",
       "      <td>0.125711</td>\n",
       "    </tr>\n",
       "    <tr>\n",
       "      <th>915</th>\n",
       "      <td>0.351057</td>\n",
       "      <td>0.283381</td>\n",
       "      <td>0.386896</td>\n",
       "      <td>-1.300631</td>\n",
       "      <td>1.020893</td>\n",
       "      <td>-0.481863</td>\n",
       "      <td>-0.521920</td>\n",
       "      <td>1.175616</td>\n",
       "      <td>-0.229995</td>\n",
       "      <td>-1.627099</td>\n",
       "      <td>-0.036937</td>\n",
       "      <td>1.369452</td>\n",
       "      <td>0.125711</td>\n",
       "    </tr>\n",
       "    <tr>\n",
       "      <th>916</th>\n",
       "      <td>-0.904763</td>\n",
       "      <td>1.496210</td>\n",
       "      <td>0.931813</td>\n",
       "      <td>0.122021</td>\n",
       "      <td>1.020893</td>\n",
       "      <td>-0.541790</td>\n",
       "      <td>0.496274</td>\n",
       "      <td>0.715830</td>\n",
       "      <td>-0.273889</td>\n",
       "      <td>-0.544793</td>\n",
       "      <td>1.325438</td>\n",
       "      <td>1.554711</td>\n",
       "      <td>0.125711</td>\n",
       "    </tr>\n",
       "    <tr>\n",
       "      <th>917</th>\n",
       "      <td>0.278406</td>\n",
       "      <td>-0.607906</td>\n",
       "      <td>1.204271</td>\n",
       "      <td>-0.901670</td>\n",
       "      <td>-0.979535</td>\n",
       "      <td>-0.270454</td>\n",
       "      <td>-0.342079</td>\n",
       "      <td>0.996329</td>\n",
       "      <td>-0.462630</td>\n",
       "      <td>-1.572583</td>\n",
       "      <td>0.689005</td>\n",
       "      <td>0.781174</td>\n",
       "      <td>0.125711</td>\n",
       "    </tr>\n",
       "    <tr>\n",
       "      <th>918</th>\n",
       "      <td>-0.489616</td>\n",
       "      <td>1.575184</td>\n",
       "      <td>0.659354</td>\n",
       "      <td>0.119080</td>\n",
       "      <td>1.020893</td>\n",
       "      <td>-0.145606</td>\n",
       "      <td>-0.504868</td>\n",
       "      <td>1.129349</td>\n",
       "      <td>-0.259258</td>\n",
       "      <td>-1.254305</td>\n",
       "      <td>0.277489</td>\n",
       "      <td>0.720612</td>\n",
       "      <td>0.125711</td>\n",
       "    </tr>\n",
       "  </tbody>\n",
       "</table>\n",
       "<p>919 rows × 13 columns</p>\n",
       "</div>"
      ],
      "text/plain": [
       "     danceability    energy       key  loudness      mode  speechiness  \\\n",
       "0       -0.012197 -1.076114 -0.158020 -0.166627 -0.979535    -0.480199   \n",
       "1        0.205755 -0.777138  0.931813  0.240790 -0.979535    -0.741547   \n",
       "2        0.953020 -0.523290 -0.975394  0.429055 -0.979535    -0.200539   \n",
       "3        0.434086 -0.410469  0.659354  0.639015  1.020893    -0.257137   \n",
       "4        0.153862 -0.275084  0.659354  0.684611 -0.979535    -0.636675   \n",
       "..            ...       ...       ...       ...       ...          ...   \n",
       "914      0.236891  1.039284  1.476729  0.723587  1.020893    -0.520150   \n",
       "915      0.351057  0.283381  0.386896 -1.300631  1.020893    -0.481863   \n",
       "916     -0.904763  1.496210  0.931813  0.122021  1.020893    -0.541790   \n",
       "917      0.278406 -0.607906  1.204271 -0.901670 -0.979535    -0.270454   \n",
       "918     -0.489616  1.575184  0.659354  0.119080  1.020893    -0.145606   \n",
       "\n",
       "     acousticness  instrumentalness  liveness   valence     tempo  \\\n",
       "0       -0.449962         -1.422319 -0.281204  0.012395 -0.451049   \n",
       "1        0.188898         -1.371714 -0.295835 -0.789314 -1.072113   \n",
       "2        1.623320         -1.382702 -0.504329  0.938368 -0.765994   \n",
       "3       -0.311944         -0.741604 -0.611136  0.252907 -0.660909   \n",
       "4        0.683111         -1.227416 -0.503597  1.226983 -1.800755   \n",
       "..            ...               ...       ...       ...       ...   \n",
       "914     -0.517657          1.138024 -0.281204 -1.500830  0.377798   \n",
       "915     -0.521920          1.175616 -0.229995 -1.627099 -0.036937   \n",
       "916      0.496274          0.715830 -0.273889 -0.544793  1.325438   \n",
       "917     -0.342079          0.996329 -0.462630 -1.572583  0.689005   \n",
       "918     -0.504868          1.129349 -0.259258 -1.254305  0.277489   \n",
       "\n",
       "     duration_ms  time_signature  \n",
       "0       0.530071        0.125711  \n",
       "1      -1.102528        0.125711  \n",
       "2      -0.963000        0.125711  \n",
       "3       0.433893        0.125711  \n",
       "4      -1.236739        0.125711  \n",
       "..           ...             ...  \n",
       "914     0.591441        0.125711  \n",
       "915     1.369452        0.125711  \n",
       "916     1.554711        0.125711  \n",
       "917     0.781174        0.125711  \n",
       "918     0.720612        0.125711  \n",
       "\n",
       "[919 rows x 13 columns]"
      ]
     },
     "execution_count": 108,
     "metadata": {},
     "output_type": "execute_result"
    }
   ],
   "source": [
    "X_prep_df"
   ]
  },
  {
   "cell_type": "code",
   "execution_count": 109,
   "metadata": {},
   "outputs": [
    {
     "name": "stdout",
     "output_type": "stream",
     "text": [
      "[10620.700934879447, 9702.187684071589, 9135.166493038581, 8637.830802889197, 8227.651533190745, 7608.771761058328, 7183.509646879808, 6902.951413836224, 6687.650861830196, 6504.254838781267, 6343.964692944139, 6209.558432080525, 6068.283171505699, 5899.557518108498, 5790.66644947821, 5571.577829236305, 5471.913010648783, 5272.246290292302, 5341.391619962781, 5144.308471260955, 5050.570914625428, 4987.744415258042, 4906.385024503615, 4857.164544579177, 4766.234159480577, 4661.314582017587, 4632.911693027943, 4613.092907218935, 4514.3975207650565, 4511.543948418635, 4424.582514266137, 4414.451758433205, 4324.392121358614, 4313.2837782057395, 4275.249360819444, 4183.311038694739, 4150.314019814967, 4130.415810600941, 4108.056533791355, 4068.872108475071, 4032.168941799904, 4037.6385019686863, 4020.7193463480376, 3996.2001677809126, 3935.221343856557, 3914.633625618183, 3865.849051945672, 3853.4496981612265]\n"
     ]
    }
   ],
   "source": [
    "# Try to run Kmeans with all values of K, from 2 to 20\n",
    "K = range(2, 50)\n",
    "\n",
    "# For each model, store the inertia in a list\n",
    "inertia = []\n",
    "\n",
    "for i in K:\n",
    "    kmeans1 = KMeans(n_clusters=i, init=\"random\", n_init=10, max_iter=200,tol=0,algorithm=\"full\", random_state=40)\n",
    "    kmeans1.fit(X_prep)\n",
    "    inertia.append(kmeans1.inertia_)\n",
    "\n",
    "\n",
    "print(inertia)"
   ]
  },
  {
   "cell_type": "code",
   "execution_count": 110,
   "metadata": {},
   "outputs": [
    {
     "data": {
      "text/plain": [
       "Text(0.5, 1.0, 'Elbow Method showing the optimal k')"
      ]
     },
     "execution_count": 110,
     "metadata": {},
     "output_type": "execute_result"
    },
    {
     "data": {
      "image/png": "[encoded data removed]",
      "text/plain": [
       "<Figure size 1152x576 with 1 Axes>"
      ]
     },
     "metadata": {
      "needs_background": "light"
     },
     "output_type": "display_data"
    }
   ],
   "source": [
    "%matplotlib inline\n",
    "\n",
    "plt.figure(figsize=(16,8))\n",
    "plt.plot(K, inertia, 'bx-')\n",
    "plt.xlabel('k')\n",
    "plt.ylabel('inertia')\n",
    "plt.xticks(np.arange(min(K), max(K)+1, 1.0))\n",
    "plt.title('Elbow Method showing the optimal k')"
   ]
  },
  {
   "cell_type": "code",
   "execution_count": 111,
   "metadata": {},
   "outputs": [],
   "source": [
    "K = range(2, 20)\n",
    "\n",
    "silhouettes = []\n",
    "\n",
    "for k in K: \n",
    "    kmeans=KMeans(n_clusters=k, random_state=40)\n",
    "    kmeans.fit(X_prep)\n",
    "    silhouettes.append(silhouette_score(X_prep, kmeans.predict(X_prep)))"
   ]
  },
  {
   "cell_type": "code",
   "execution_count": 112,
   "metadata": {},
   "outputs": [
    {
     "data": {
      "text/plain": [
       "Text(0, 0.5, 'silhouette score')"
      ]
     },
     "execution_count": 112,
     "metadata": {},
     "output_type": "execute_result"
    },
    {
     "data": {
      "image/png": "[encoded data removed]",
      "text/plain": [
       "<Figure size 1152x576 with 1 Axes>"
      ]
     },
     "metadata": {
      "needs_background": "light"
     },
     "output_type": "display_data"
    }
   ],
   "source": [
    "plt.figure(figsize=(16,8))\n",
    "plt.plot(K, silhouettes, 'bo-')\n",
    "plt.xlabel('k (number of clusters)')\n",
    "plt.xticks(np.arange(min(K), max(K)+1, 1.0))\n",
    "plt.ylabel('silhouette score')"
   ]
  },
  {
   "cell_type": "code",
   "execution_count": 113,
   "metadata": {
    "scrolled": false
   },
   "outputs": [
    {
     "data": {
      "text/plain": [
       "array([ 4,  4,  1,  1,  6,  6,  3, 10,  0,  4,  4,  4,  3,  0, 10,  3,  4,\n",
       "        6,  3,  1,  4, 10,  4,  4,  4, 10,  3,  4,  5, 11,  8,  0, 10,  0,\n",
       "       10,  5, 10,  8,  4,  4,  2,  2,  3,  8,  1,  3,  0,  8,  2,  3,  6,\n",
       "        1, 10,  1,  8,  8,  1,  8,  6,  4, 10,  4, 10, 11,  5,  2,  0,  4,\n",
       "        1,  8,  3,  3,  4,  0,  2,  4,  3,  4,  3,  5,  4,  4, 10, 11,  0,\n",
       "        3,  2,  3, 10,  4, 10,  8,  4,  4,  4,  4, 10,  4,  2,  0,  1, 10,\n",
       "        6,  2,  7,  4,  3,  1,  1,  4,  3,  0,  7,  0,  4,  0,  0,  0,  6,\n",
       "        1,  0,  3,  7,  4,  8,  0,  6,  8,  1,  6, 10,  5,  3,  4,  1,  4,\n",
       "        6,  4,  3,  3,  1, 10,  3,  8,  1,  0,  0,  3,  5,  8,  6,  3,  0,\n",
       "        1,  4,  0,  1,  3,  3,  3,  7,  3, 10,  1,  0,  1,  7,  1,  0,  1,\n",
       "        1,  0,  1,  5,  3,  5,  1,  0,  5,  4, 10,  7,  1,  1,  4,  4,  4,\n",
       "        8,  7,  3,  1,  6,  1,  1,  4,  1,  3,  2,  5,  2, 10,  7,  5,  2,\n",
       "        2,  2, 10,  2,  0, 11,  7, 10, 10,  4,  4,  0,  6,  6,  4,  1,  2,\n",
       "       10,  4,  9,  4,  2,  3,  2,  0, 10,  2,  3,  6,  9,  9,  2,  0,  0,\n",
       "        0,  7,  8,  4,  5,  2,  2, 10,  3, 10, 10,  2,  5,  0,  4,  7,  0,\n",
       "       10,  3,  8,  8,  0,  3,  4,  0,  0,  8,  8,  8,  0,  0,  8,  3,  4,\n",
       "        4,  8,  3,  0,  2,  9,  0,  9,  8,  1,  0,  0,  2,  8,  8,  3,  2,\n",
       "        8,  2, 11,  0,  0,  0,  0,  3,  9,  1,  0,  8,  9,  5,  8,  0,  8,\n",
       "        3,  8,  0,  0,  3,  8,  3,  3,  8, 10,  1,  1, 10,  3,  6,  0,  6,\n",
       "        1,  5,  6,  0,  0,  1,  3,  1,  5,  4,  3,  7,  7,  1,  3, 10,  3,\n",
       "        6,  0,  3, 10,  0,  0,  6,  7,  1,  6,  0,  7,  8,  7,  1,  9,  4,\n",
       "        3,  0,  3,  1,  1,  2,  3,  5,  0,  8,  0,  5,  8,  6,  7,  6,  6,\n",
       "        6,  3,  1,  1,  3,  6,  3,  7,  6,  3,  6,  0,  7,  8,  5,  6,  6,\n",
       "        7,  1,  6,  7,  6,  1,  9,  6,  6,  6,  0,  1,  5,  1,  6,  1,  3,\n",
       "        8,  6,  1,  8,  5,  3,  1,  1,  1,  1,  6,  1,  3,  3,  0,  1,  6,\n",
       "        1,  5,  7,  4,  0,  1,  6,  0,  0, 10,  1,  1,  3,  7,  0,  1,  7,\n",
       "        7,  8,  4,  6,  0,  3,  3,  6,  7,  3,  1,  1,  3,  1,  6,  7,  1,\n",
       "        0,  1,  3,  1,  6,  6,  4,  3,  6,  1,  6,  3,  1,  0,  8,  3,  6,\n",
       "        6,  6,  3,  0,  7,  1,  4,  6,  4,  4,  7,  3,  6,  1,  6,  4,  1,\n",
       "        3,  0,  6,  6,  1,  1,  6,  7,  6,  4,  0,  6,  4,  1, 10,  7,  7,\n",
       "        4,  6,  4,  5,  5,  0,  5,  4,  6,  2,  6,  6,  6,  3,  4,  7,  6,\n",
       "        4,  1,  5,  6,  5,  1,  0,  6,  6,  5,  6,  6,  4,  6,  1,  4,  8,\n",
       "        1, 11,  4,  8,  5,  4,  8,  8,  1,  7,  3,  8,  7,  6,  7,  7,  1,\n",
       "        3,  6,  1,  1,  1,  8,  6,  1,  4,  1,  3,  6,  4,  1,  1,  6,  6,\n",
       "        1,  4,  7,  8,  4,  6,  0,  8,  1,  7,  7,  6,  4,  3,  1,  3,  6,\n",
       "        6,  0,  6,  1,  6,  6,  4,  8,  7,  4,  4,  7,  3,  4,  7,  1,  6,\n",
       "        3,  6,  6,  6,  4,  6, 10,  6,  0,  1,  6,  3,  9,  6,  7,  6,  6,\n",
       "        1,  1,  6,  7,  3,  0,  8,  8,  6,  1,  8,  8,  7,  8,  6,  6,  0,\n",
       "        6,  7,  4,  8,  8,  6,  0,  8,  6,  6,  1,  1,  1,  7,  6,  8,  7,\n",
       "        8,  0,  2,  7,  7,  8,  1,  8,  1,  8,  8,  8,  4,  1,  1,  5,  8,\n",
       "        8,  1,  7,  8,  5,  6,  8,  8,  8,  8,  8,  1,  8,  7,  8,  6,  6,\n",
       "        5,  6,  3,  0,  6,  8,  8,  8,  8,  8,  8,  8,  4,  8,  1,  3,  8,\n",
       "        8,  8,  7,  5,  6,  6,  8,  8,  9,  7,  8,  4,  8,  8,  8,  8,  1,\n",
       "        8,  6,  8,  8,  9,  3,  0,  5,  7,  4,  1,  0,  3,  3,  3,  3,  0,\n",
       "        1,  6,  6,  6,  5,  3,  1,  1,  6,  0,  3,  4,  0,  3,  3,  0,  3,\n",
       "        6,  3,  6,  4,  6,  7,  8,  0,  6,  1,  6,  7,  3,  3,  1,  3,  9,\n",
       "        6,  6,  3,  5,  3,  4,  1,  0,  3,  1,  7,  1,  3,  0,  6,  8,  1,\n",
       "        0,  7,  3,  0,  1,  4,  4,  3,  0,  1,  4,  3,  0,  3,  7,  0,  0,\n",
       "        1,  0,  3,  1,  4,  3,  9, 10,  0,  0,  6,  0,  4,  0,  3,  0,  3,\n",
       "        3,  0,  0,  4,  0,  0,  0,  3,  3,  3,  6,  6,  1,  4,  0,  0,  3,\n",
       "        6,  3,  6,  0,  3,  7,  9, 10,  4,  0,  0,  0, 11,  3,  4,  3,  0,\n",
       "        0,  3,  6,  6,  6,  3,  0,  1,  0,  1,  4,  1,  3,  6,  1,  6,  0,\n",
       "        6,  3,  3,  0,  3,  7,  9,  3,  3,  3,  0,  1,  6,  3,  3,  6,  9,\n",
       "        0,  0,  0,  9,  9,  6,  4,  3,  3,  7,  3,  0,  6,  3,  3,  3,  0,\n",
       "        3], dtype=int32)"
      ]
     },
     "execution_count": 113,
     "metadata": {},
     "output_type": "execute_result"
    }
   ],
   "source": [
    "kmeans = KMeans(n_clusters=12, random_state=40)\n",
    "kmeans.fit(X_prep)\n",
    "kmeans.predict(X_prep)"
   ]
  },
  {
   "cell_type": "code",
   "execution_count": 114,
   "metadata": {},
   "outputs": [
    {
     "data": {
      "text/plain": [
       "(919, 13)"
      ]
     },
     "execution_count": 114,
     "metadata": {},
     "output_type": "execute_result"
    }
   ],
   "source": [
    "X_prep.shape"
   ]
  },
  {
   "cell_type": "code",
   "execution_count": 115,
   "metadata": {},
   "outputs": [
    {
     "name": "stderr",
     "output_type": "stream",
     "text": [
      "<ipython-input-115-179c972f5317>:1: SettingWithCopyWarning: \n",
      "A value is trying to be set on a copy of a slice from a DataFrame.\n",
      "Try using .loc[row_indexer,col_indexer] = value instead\n",
      "\n",
      "See the caveats in the documentation: https://pandas.pydata.org/pandas-docs/stable/user_guide/indexing.html#returning-a-view-versus-a-copy\n",
      "  playlist_final['Cluster']= kmeans.predict(X_prep)\n"
     ]
    }
   ],
   "source": [
    "playlist_final['Cluster']= kmeans.predict(X_prep)"
   ]
  },
  {
   "cell_type": "code",
   "execution_count": 116,
   "metadata": {},
   "outputs": [
    {
     "data": {
      "text/plain": [
       "(919, 21)"
      ]
     },
     "execution_count": 116,
     "metadata": {},
     "output_type": "execute_result"
    }
   ],
   "source": [
    "playlist_final.shape"
   ]
  },
  {
   "cell_type": "markdown",
   "metadata": {},
   "source": [
    "Prototype"
   ]
  },
  {
   "cell_type": "code",
   "execution_count": 117,
   "metadata": {},
   "outputs": [],
   "source": [
    "url = \"https://www.billboard.com/charts/hot-100\"\n",
    "\n",
    "response = requests.get(url)"
   ]
  },
  {
   "cell_type": "code",
   "execution_count": 118,
   "metadata": {},
   "outputs": [],
   "source": [
    "music = BeautifulSoup(response.content,'html.parser')"
   ]
  },
  {
   "cell_type": "code",
   "execution_count": 119,
   "metadata": {},
   "outputs": [],
   "source": [
    "title = []\n",
    "artist =[]\n",
    "\n",
    "len_music=len(music.select(\"span.chart-element__information__song\"))"
   ]
  },
  {
   "cell_type": "code",
   "execution_count": 120,
   "metadata": {},
   "outputs": [
    {
     "data": {
      "application/vnd.jupyter.widget-view+json": {
       "model_id": "15b53f7a07f740e08fb1726801ad7c19",
       "version_major": 2,
       "version_minor": 0
      },
      "text/plain": [
       "  0%|          | 0/100 [00:00<?, ?it/s]"
      ]
     },
     "metadata": {},
     "output_type": "display_data"
    }
   ],
   "source": [
    "for i in tqdm(range(len_music)):\n",
    "    title.append(music.select(\"span.chart-element__information__song\")[i].text)\n",
    "    artist.append(music.select(\"span.chart-element__information__artist\")[i].text)"
   ]
  },
  {
   "cell_type": "code",
   "execution_count": 121,
   "metadata": {},
   "outputs": [],
   "source": [
    "music_top100 = pd.DataFrame({'title':title,\"artist\":artist})"
   ]
  },
  {
   "cell_type": "code",
   "execution_count": null,
   "metadata": {},
   "outputs": [],
   "source": []
  },
  {
   "cell_type": "code",
   "execution_count": 319,
   "metadata": {},
   "outputs": [
    {
     "name": "stdout",
     "output_type": "stream",
     "text": [
      "What song do you like? Sandstorm\n"
     ]
    }
   ],
   "source": [
    "song = input(\"What song do you like? \")"
   ]
  },
  {
   "cell_type": "code",
   "execution_count": 320,
   "metadata": {},
   "outputs": [
    {
     "name": "stdout",
     "output_type": "stream",
     "text": [
      "Seems like your liked song is off the beaten path, I recommend... Domino\n"
     ]
    }
   ],
   "source": [
    "if song in title:\n",
    "    n = random.choice(title)\n",
    "    print(\"You should like...\" + n)\n",
    "else:\n",
    "    results = sp.search(q= song, limit = 1)\n",
    "    song_features=pd.DataFrame(sp.audio_features(results['tracks']['items'][0]['id']))\n",
    "    X = song_features.select_dtypes(include=np.number)\n",
    "    X_ = scaler.transform(X)\n",
    "    cluster_user = kmeans.predict(X_)[0]\n",
    "    cluster_songs = playlist_final[playlist_final[\"Cluster\"]==cluster_user]\n",
    "    song_features['Cluster']= kmeans.predict(X_)\n",
    "    l = random.choice(cluster_songs['Name'].to_list())\n",
    "    print(\"Seems like your liked song is off the beaten path, I recommend... \"+ l)    "
   ]
  },
  {
   "cell_type": "code",
   "execution_count": null,
   "metadata": {},
   "outputs": [],
   "source": []
  },
  {
   "cell_type": "code",
   "execution_count": 293,
   "metadata": {},
   "outputs": [],
   "source": [
    "results = sp.search(q= song, limit = 1)"
   ]
  },
  {
   "cell_type": "code",
   "execution_count": 294,
   "metadata": {},
   "outputs": [],
   "source": [
    "song_features=pd.DataFrame(sp.audio_features(results['tracks']['items'][0]['id']))"
   ]
  },
  {
   "cell_type": "code",
   "execution_count": 295,
   "metadata": {
    "scrolled": true
   },
   "outputs": [
    {
     "data": {
      "text/html": [
       "<div>\n",
       "<style scoped>\n",
       "    .dataframe tbody tr th:only-of-type {\n",
       "        vertical-align: middle;\n",
       "    }\n",
       "\n",
       "    .dataframe tbody tr th {\n",
       "        vertical-align: top;\n",
       "    }\n",
       "\n",
       "    .dataframe thead th {\n",
       "        text-align: right;\n",
       "    }\n",
       "</style>\n",
       "<table border=\"1\" class=\"dataframe\">\n",
       "  <thead>\n",
       "    <tr style=\"text-align: right;\">\n",
       "      <th></th>\n",
       "      <th>danceability</th>\n",
       "      <th>energy</th>\n",
       "      <th>key</th>\n",
       "      <th>loudness</th>\n",
       "      <th>mode</th>\n",
       "      <th>speechiness</th>\n",
       "      <th>acousticness</th>\n",
       "      <th>instrumentalness</th>\n",
       "      <th>liveness</th>\n",
       "      <th>valence</th>\n",
       "      <th>tempo</th>\n",
       "      <th>type</th>\n",
       "      <th>id</th>\n",
       "      <th>uri</th>\n",
       "      <th>track_href</th>\n",
       "      <th>analysis_url</th>\n",
       "      <th>duration_ms</th>\n",
       "      <th>time_signature</th>\n",
       "    </tr>\n",
       "  </thead>\n",
       "  <tbody>\n",
       "    <tr>\n",
       "      <th>0</th>\n",
       "      <td>0.728</td>\n",
       "      <td>0.859</td>\n",
       "      <td>5</td>\n",
       "      <td>-5.237</td>\n",
       "      <td>0</td>\n",
       "      <td>0.137</td>\n",
       "      <td>0.0401</td>\n",
       "      <td>0</td>\n",
       "      <td>0.111</td>\n",
       "      <td>0.535</td>\n",
       "      <td>65.043</td>\n",
       "      <td>audio_features</td>\n",
       "      <td>6epn3r7S14KUqlReYr77hA</td>\n",
       "      <td>spotify:track:6epn3r7S14KUqlReYr77hA</td>\n",
       "      <td>https://api.spotify.com/v1/tracks/6epn3r7S14KU...</td>\n",
       "      <td>https://api.spotify.com/v1/audio-analysis/6epn...</td>\n",
       "      <td>214240</td>\n",
       "      <td>4</td>\n",
       "    </tr>\n",
       "  </tbody>\n",
       "</table>\n",
       "</div>"
      ],
      "text/plain": [
       "   danceability  energy  key  loudness  mode  speechiness  acousticness  \\\n",
       "0         0.728   0.859    5    -5.237     0        0.137        0.0401   \n",
       "\n",
       "   instrumentalness  liveness  valence   tempo            type  \\\n",
       "0                 0     0.111    0.535  65.043  audio_features   \n",
       "\n",
       "                       id                                   uri  \\\n",
       "0  6epn3r7S14KUqlReYr77hA  spotify:track:6epn3r7S14KUqlReYr77hA   \n",
       "\n",
       "                                          track_href  \\\n",
       "0  https://api.spotify.com/v1/tracks/6epn3r7S14KU...   \n",
       "\n",
       "                                        analysis_url  duration_ms  \\\n",
       "0  https://api.spotify.com/v1/audio-analysis/6epn...       214240   \n",
       "\n",
       "   time_signature  \n",
       "0               4  "
      ]
     },
     "execution_count": 295,
     "metadata": {},
     "output_type": "execute_result"
    }
   ],
   "source": [
    "song_features"
   ]
  },
  {
   "cell_type": "code",
   "execution_count": 296,
   "metadata": {},
   "outputs": [],
   "source": [
    "X = song_features.select_dtypes(include=np.number)"
   ]
  },
  {
   "cell_type": "code",
   "execution_count": 297,
   "metadata": {},
   "outputs": [],
   "source": [
    "X_ = scaler.transform(X)"
   ]
  },
  {
   "cell_type": "code",
   "execution_count": 298,
   "metadata": {},
   "outputs": [
    {
     "data": {
      "text/plain": [
       "(1, 13)"
      ]
     },
     "execution_count": 298,
     "metadata": {},
     "output_type": "execute_result"
    }
   ],
   "source": [
    "X_.shape"
   ]
  },
  {
   "cell_type": "code",
   "execution_count": 299,
   "metadata": {},
   "outputs": [],
   "source": [
    "cluster_user = kmeans.predict(X_)[0]"
   ]
  },
  {
   "cell_type": "code",
   "execution_count": 300,
   "metadata": {},
   "outputs": [
    {
     "data": {
      "text/plain": [
       "8"
      ]
     },
     "execution_count": 300,
     "metadata": {},
     "output_type": "execute_result"
    }
   ],
   "source": [
    "cluster_user"
   ]
  },
  {
   "cell_type": "code",
   "execution_count": 301,
   "metadata": {},
   "outputs": [],
   "source": [
    "cluster_songs = playlist_final[playlist_final[\"Cluster\"]==cluster_user]"
   ]
  },
  {
   "cell_type": "code",
   "execution_count": 302,
   "metadata": {},
   "outputs": [
    {
     "data": {
      "text/html": [
       "<div>\n",
       "<style scoped>\n",
       "    .dataframe tbody tr th:only-of-type {\n",
       "        vertical-align: middle;\n",
       "    }\n",
       "\n",
       "    .dataframe tbody tr th {\n",
       "        vertical-align: top;\n",
       "    }\n",
       "\n",
       "    .dataframe thead th {\n",
       "        text-align: right;\n",
       "    }\n",
       "</style>\n",
       "<table border=\"1\" class=\"dataframe\">\n",
       "  <thead>\n",
       "    <tr style=\"text-align: right;\">\n",
       "      <th></th>\n",
       "      <th>danceability</th>\n",
       "      <th>energy</th>\n",
       "      <th>key</th>\n",
       "      <th>loudness</th>\n",
       "      <th>mode</th>\n",
       "      <th>speechiness</th>\n",
       "      <th>acousticness</th>\n",
       "      <th>instrumentalness</th>\n",
       "      <th>liveness</th>\n",
       "      <th>valence</th>\n",
       "      <th>...</th>\n",
       "      <th>type</th>\n",
       "      <th>id</th>\n",
       "      <th>uri</th>\n",
       "      <th>track_href</th>\n",
       "      <th>analysis_url</th>\n",
       "      <th>duration_ms</th>\n",
       "      <th>time_signature</th>\n",
       "      <th>Name</th>\n",
       "      <th>Artist</th>\n",
       "      <th>Cluster</th>\n",
       "    </tr>\n",
       "  </thead>\n",
       "  <tbody>\n",
       "    <tr>\n",
       "      <th>30</th>\n",
       "      <td>0.775</td>\n",
       "      <td>0.480</td>\n",
       "      <td>7</td>\n",
       "      <td>-8.268</td>\n",
       "      <td>1</td>\n",
       "      <td>0.0363</td>\n",
       "      <td>0.232000</td>\n",
       "      <td>0.033900</td>\n",
       "      <td>0.1580</td>\n",
       "      <td>0.204</td>\n",
       "      <td>...</td>\n",
       "      <td>audio_features</td>\n",
       "      <td>3jAOAIIfPQ80V0s5mANV4g</td>\n",
       "      <td>spotify:track:3jAOAIIfPQ80V0s5mANV4g</td>\n",
       "      <td>https://api.spotify.com/v1/tracks/3jAOAIIfPQ80...</td>\n",
       "      <td>https://api.spotify.com/v1/audio-analysis/3jAO...</td>\n",
       "      <td>177000</td>\n",
       "      <td>4</td>\n",
       "      <td>Morning In Love - Kiso Remix</td>\n",
       "      <td>Addal</td>\n",
       "      <td>8</td>\n",
       "    </tr>\n",
       "    <tr>\n",
       "      <th>37</th>\n",
       "      <td>0.688</td>\n",
       "      <td>0.753</td>\n",
       "      <td>4</td>\n",
       "      <td>-6.580</td>\n",
       "      <td>0</td>\n",
       "      <td>0.0836</td>\n",
       "      <td>0.226000</td>\n",
       "      <td>0.023600</td>\n",
       "      <td>0.0839</td>\n",
       "      <td>0.434</td>\n",
       "      <td>...</td>\n",
       "      <td>audio_features</td>\n",
       "      <td>1sP05DPJ37h2wC9cuZ0at7</td>\n",
       "      <td>spotify:track:1sP05DPJ37h2wC9cuZ0at7</td>\n",
       "      <td>https://api.spotify.com/v1/tracks/1sP05DPJ37h2...</td>\n",
       "      <td>https://api.spotify.com/v1/audio-analysis/1sP0...</td>\n",
       "      <td>290937</td>\n",
       "      <td>4</td>\n",
       "      <td>Valley of Peace</td>\n",
       "      <td>TEYMORI</td>\n",
       "      <td>8</td>\n",
       "    </tr>\n",
       "    <tr>\n",
       "      <th>43</th>\n",
       "      <td>0.726</td>\n",
       "      <td>0.604</td>\n",
       "      <td>0</td>\n",
       "      <td>-10.989</td>\n",
       "      <td>0</td>\n",
       "      <td>0.0394</td>\n",
       "      <td>0.380000</td>\n",
       "      <td>0.445000</td>\n",
       "      <td>0.0963</td>\n",
       "      <td>0.439</td>\n",
       "      <td>...</td>\n",
       "      <td>audio_features</td>\n",
       "      <td>1bfXHP1YvsND2dp3TfFPCa</td>\n",
       "      <td>spotify:track:1bfXHP1YvsND2dp3TfFPCa</td>\n",
       "      <td>https://api.spotify.com/v1/tracks/1bfXHP1YvsND...</td>\n",
       "      <td>https://api.spotify.com/v1/audio-analysis/1bfX...</td>\n",
       "      <td>241920</td>\n",
       "      <td>4</td>\n",
       "      <td>Out Of Touch</td>\n",
       "      <td>CUT_</td>\n",
       "      <td>8</td>\n",
       "    </tr>\n",
       "    <tr>\n",
       "      <th>47</th>\n",
       "      <td>0.714</td>\n",
       "      <td>0.678</td>\n",
       "      <td>10</td>\n",
       "      <td>-7.334</td>\n",
       "      <td>1</td>\n",
       "      <td>0.0395</td>\n",
       "      <td>0.144000</td>\n",
       "      <td>0.156000</td>\n",
       "      <td>0.1060</td>\n",
       "      <td>0.350</td>\n",
       "      <td>...</td>\n",
       "      <td>audio_features</td>\n",
       "      <td>3t5ezU3xAJSszL9Au7pcZy</td>\n",
       "      <td>spotify:track:3t5ezU3xAJSszL9Au7pcZy</td>\n",
       "      <td>https://api.spotify.com/v1/tracks/3t5ezU3xAJSs...</td>\n",
       "      <td>https://api.spotify.com/v1/audio-analysis/3t5e...</td>\n",
       "      <td>411165</td>\n",
       "      <td>4</td>\n",
       "      <td>You'll Never See Me Cry - Ambassadeurs Remix</td>\n",
       "      <td>Ephemerals</td>\n",
       "      <td>8</td>\n",
       "    </tr>\n",
       "    <tr>\n",
       "      <th>54</th>\n",
       "      <td>0.758</td>\n",
       "      <td>0.510</td>\n",
       "      <td>1</td>\n",
       "      <td>-10.645</td>\n",
       "      <td>1</td>\n",
       "      <td>0.0393</td>\n",
       "      <td>0.165000</td>\n",
       "      <td>0.075500</td>\n",
       "      <td>0.2720</td>\n",
       "      <td>0.270</td>\n",
       "      <td>...</td>\n",
       "      <td>audio_features</td>\n",
       "      <td>6eWsgrQLZhLqy5VfGB9iFs</td>\n",
       "      <td>spotify:track:6eWsgrQLZhLqy5VfGB9iFs</td>\n",
       "      <td>https://api.spotify.com/v1/tracks/6eWsgrQLZhLq...</td>\n",
       "      <td>https://api.spotify.com/v1/audio-analysis/6eWs...</td>\n",
       "      <td>196311</td>\n",
       "      <td>4</td>\n",
       "      <td>Gold - Thomas Jack Radio Edit</td>\n",
       "      <td>Gabriel Rios</td>\n",
       "      <td>8</td>\n",
       "    </tr>\n",
       "    <tr>\n",
       "      <th>...</th>\n",
       "      <td>...</td>\n",
       "      <td>...</td>\n",
       "      <td>...</td>\n",
       "      <td>...</td>\n",
       "      <td>...</td>\n",
       "      <td>...</td>\n",
       "      <td>...</td>\n",
       "      <td>...</td>\n",
       "      <td>...</td>\n",
       "      <td>...</td>\n",
       "      <td>...</td>\n",
       "      <td>...</td>\n",
       "      <td>...</td>\n",
       "      <td>...</td>\n",
       "      <td>...</td>\n",
       "      <td>...</td>\n",
       "      <td>...</td>\n",
       "      <td>...</td>\n",
       "      <td>...</td>\n",
       "      <td>...</td>\n",
       "      <td>...</td>\n",
       "    </tr>\n",
       "    <tr>\n",
       "      <th>92</th>\n",
       "      <td>0.534</td>\n",
       "      <td>0.876</td>\n",
       "      <td>10</td>\n",
       "      <td>-8.484</td>\n",
       "      <td>0</td>\n",
       "      <td>0.0473</td>\n",
       "      <td>0.007110</td>\n",
       "      <td>0.655000</td>\n",
       "      <td>0.0815</td>\n",
       "      <td>0.109</td>\n",
       "      <td>...</td>\n",
       "      <td>audio_features</td>\n",
       "      <td>36CmkZ2hvhMAhgE6SZq2EG</td>\n",
       "      <td>spotify:track:36CmkZ2hvhMAhgE6SZq2EG</td>\n",
       "      <td>https://api.spotify.com/v1/tracks/36CmkZ2hvhMA...</td>\n",
       "      <td>https://api.spotify.com/v1/audio-analysis/36Cm...</td>\n",
       "      <td>210968</td>\n",
       "      <td>4</td>\n",
       "      <td>Good Enough (feat. Tailor)</td>\n",
       "      <td>BODÉ</td>\n",
       "      <td>8</td>\n",
       "    </tr>\n",
       "    <tr>\n",
       "      <th>94</th>\n",
       "      <td>0.634</td>\n",
       "      <td>0.728</td>\n",
       "      <td>7</td>\n",
       "      <td>-8.979</td>\n",
       "      <td>1</td>\n",
       "      <td>0.0348</td>\n",
       "      <td>0.000437</td>\n",
       "      <td>0.456000</td>\n",
       "      <td>0.0639</td>\n",
       "      <td>0.288</td>\n",
       "      <td>...</td>\n",
       "      <td>audio_features</td>\n",
       "      <td>538FCHPJnQr2uUwozj7SG2</td>\n",
       "      <td>spotify:track:538FCHPJnQr2uUwozj7SG2</td>\n",
       "      <td>https://api.spotify.com/v1/tracks/538FCHPJnQr2...</td>\n",
       "      <td>https://api.spotify.com/v1/audio-analysis/538F...</td>\n",
       "      <td>239271</td>\n",
       "      <td>4</td>\n",
       "      <td>Sweet Disposition</td>\n",
       "      <td>Gundamea</td>\n",
       "      <td>8</td>\n",
       "    </tr>\n",
       "    <tr>\n",
       "      <th>95</th>\n",
       "      <td>0.624</td>\n",
       "      <td>0.746</td>\n",
       "      <td>5</td>\n",
       "      <td>-8.722</td>\n",
       "      <td>1</td>\n",
       "      <td>0.0371</td>\n",
       "      <td>0.119000</td>\n",
       "      <td>0.723000</td>\n",
       "      <td>0.1370</td>\n",
       "      <td>0.339</td>\n",
       "      <td>...</td>\n",
       "      <td>audio_features</td>\n",
       "      <td>0khE5TLTG1KUFDxiZxri4m</td>\n",
       "      <td>spotify:track:0khE5TLTG1KUFDxiZxri4m</td>\n",
       "      <td>https://api.spotify.com/v1/tracks/0khE5TLTG1KU...</td>\n",
       "      <td>https://api.spotify.com/v1/audio-analysis/0khE...</td>\n",
       "      <td>203453</td>\n",
       "      <td>4</td>\n",
       "      <td>Ecstasy (Over &amp; Over) - Model Man Remix</td>\n",
       "      <td>Prospa</td>\n",
       "      <td>8</td>\n",
       "    </tr>\n",
       "    <tr>\n",
       "      <th>42</th>\n",
       "      <td>0.692</td>\n",
       "      <td>0.866</td>\n",
       "      <td>4</td>\n",
       "      <td>-6.717</td>\n",
       "      <td>0</td>\n",
       "      <td>0.1150</td>\n",
       "      <td>0.021700</td>\n",
       "      <td>0.000003</td>\n",
       "      <td>0.1470</td>\n",
       "      <td>0.663</td>\n",
       "      <td>...</td>\n",
       "      <td>audio_features</td>\n",
       "      <td>6HkxDV61YbCbXfjHj6euAz</td>\n",
       "      <td>spotify:track:6HkxDV61YbCbXfjHj6euAz</td>\n",
       "      <td>https://api.spotify.com/v1/tracks/6HkxDV61YbCb...</td>\n",
       "      <td>https://api.spotify.com/v1/audio-analysis/6Hkx...</td>\n",
       "      <td>179634</td>\n",
       "      <td>4</td>\n",
       "      <td>Freak Like Me (feat. Katy B &amp; MNEK) - Radio Edit</td>\n",
       "      <td>Lee Walker</td>\n",
       "      <td>8</td>\n",
       "    </tr>\n",
       "    <tr>\n",
       "      <th>70</th>\n",
       "      <td>0.791</td>\n",
       "      <td>0.574</td>\n",
       "      <td>0</td>\n",
       "      <td>-7.061</td>\n",
       "      <td>0</td>\n",
       "      <td>0.0673</td>\n",
       "      <td>0.324000</td>\n",
       "      <td>0.000000</td>\n",
       "      <td>0.1020</td>\n",
       "      <td>0.406</td>\n",
       "      <td>...</td>\n",
       "      <td>audio_features</td>\n",
       "      <td>2rWisQk9hxSap9ZtTx45sv</td>\n",
       "      <td>spotify:track:2rWisQk9hxSap9ZtTx45sv</td>\n",
       "      <td>https://api.spotify.com/v1/tracks/2rWisQk9hxSa...</td>\n",
       "      <td>https://api.spotify.com/v1/audio-analysis/2rWi...</td>\n",
       "      <td>182767</td>\n",
       "      <td>4</td>\n",
       "      <td>House Every Weekend - Radio Edit</td>\n",
       "      <td>David Zowie</td>\n",
       "      <td>8</td>\n",
       "    </tr>\n",
       "  </tbody>\n",
       "</table>\n",
       "<p>97 rows × 21 columns</p>\n",
       "</div>"
      ],
      "text/plain": [
       "    danceability  energy  key  loudness  mode  speechiness  acousticness  \\\n",
       "30         0.775   0.480    7    -8.268     1       0.0363      0.232000   \n",
       "37         0.688   0.753    4    -6.580     0       0.0836      0.226000   \n",
       "43         0.726   0.604    0   -10.989     0       0.0394      0.380000   \n",
       "47         0.714   0.678   10    -7.334     1       0.0395      0.144000   \n",
       "54         0.758   0.510    1   -10.645     1       0.0393      0.165000   \n",
       "..           ...     ...  ...       ...   ...          ...           ...   \n",
       "92         0.534   0.876   10    -8.484     0       0.0473      0.007110   \n",
       "94         0.634   0.728    7    -8.979     1       0.0348      0.000437   \n",
       "95         0.624   0.746    5    -8.722     1       0.0371      0.119000   \n",
       "42         0.692   0.866    4    -6.717     0       0.1150      0.021700   \n",
       "70         0.791   0.574    0    -7.061     0       0.0673      0.324000   \n",
       "\n",
       "    instrumentalness  liveness  valence  ...            type  \\\n",
       "30          0.033900    0.1580    0.204  ...  audio_features   \n",
       "37          0.023600    0.0839    0.434  ...  audio_features   \n",
       "43          0.445000    0.0963    0.439  ...  audio_features   \n",
       "47          0.156000    0.1060    0.350  ...  audio_features   \n",
       "54          0.075500    0.2720    0.270  ...  audio_features   \n",
       "..               ...       ...      ...  ...             ...   \n",
       "92          0.655000    0.0815    0.109  ...  audio_features   \n",
       "94          0.456000    0.0639    0.288  ...  audio_features   \n",
       "95          0.723000    0.1370    0.339  ...  audio_features   \n",
       "42          0.000003    0.1470    0.663  ...  audio_features   \n",
       "70          0.000000    0.1020    0.406  ...  audio_features   \n",
       "\n",
       "                        id                                   uri  \\\n",
       "30  3jAOAIIfPQ80V0s5mANV4g  spotify:track:3jAOAIIfPQ80V0s5mANV4g   \n",
       "37  1sP05DPJ37h2wC9cuZ0at7  spotify:track:1sP05DPJ37h2wC9cuZ0at7   \n",
       "43  1bfXHP1YvsND2dp3TfFPCa  spotify:track:1bfXHP1YvsND2dp3TfFPCa   \n",
       "47  3t5ezU3xAJSszL9Au7pcZy  spotify:track:3t5ezU3xAJSszL9Au7pcZy   \n",
       "54  6eWsgrQLZhLqy5VfGB9iFs  spotify:track:6eWsgrQLZhLqy5VfGB9iFs   \n",
       "..                     ...                                   ...   \n",
       "92  36CmkZ2hvhMAhgE6SZq2EG  spotify:track:36CmkZ2hvhMAhgE6SZq2EG   \n",
       "94  538FCHPJnQr2uUwozj7SG2  spotify:track:538FCHPJnQr2uUwozj7SG2   \n",
       "95  0khE5TLTG1KUFDxiZxri4m  spotify:track:0khE5TLTG1KUFDxiZxri4m   \n",
       "42  6HkxDV61YbCbXfjHj6euAz  spotify:track:6HkxDV61YbCbXfjHj6euAz   \n",
       "70  2rWisQk9hxSap9ZtTx45sv  spotify:track:2rWisQk9hxSap9ZtTx45sv   \n",
       "\n",
       "                                           track_href  \\\n",
       "30  https://api.spotify.com/v1/tracks/3jAOAIIfPQ80...   \n",
       "37  https://api.spotify.com/v1/tracks/1sP05DPJ37h2...   \n",
       "43  https://api.spotify.com/v1/tracks/1bfXHP1YvsND...   \n",
       "47  https://api.spotify.com/v1/tracks/3t5ezU3xAJSs...   \n",
       "54  https://api.spotify.com/v1/tracks/6eWsgrQLZhLq...   \n",
       "..                                                ...   \n",
       "92  https://api.spotify.com/v1/tracks/36CmkZ2hvhMA...   \n",
       "94  https://api.spotify.com/v1/tracks/538FCHPJnQr2...   \n",
       "95  https://api.spotify.com/v1/tracks/0khE5TLTG1KU...   \n",
       "42  https://api.spotify.com/v1/tracks/6HkxDV61YbCb...   \n",
       "70  https://api.spotify.com/v1/tracks/2rWisQk9hxSa...   \n",
       "\n",
       "                                         analysis_url duration_ms  \\\n",
       "30  https://api.spotify.com/v1/audio-analysis/3jAO...      177000   \n",
       "37  https://api.spotify.com/v1/audio-analysis/1sP0...      290937   \n",
       "43  https://api.spotify.com/v1/audio-analysis/1bfX...      241920   \n",
       "47  https://api.spotify.com/v1/audio-analysis/3t5e...      411165   \n",
       "54  https://api.spotify.com/v1/audio-analysis/6eWs...      196311   \n",
       "..                                                ...         ...   \n",
       "92  https://api.spotify.com/v1/audio-analysis/36Cm...      210968   \n",
       "94  https://api.spotify.com/v1/audio-analysis/538F...      239271   \n",
       "95  https://api.spotify.com/v1/audio-analysis/0khE...      203453   \n",
       "42  https://api.spotify.com/v1/audio-analysis/6Hkx...      179634   \n",
       "70  https://api.spotify.com/v1/audio-analysis/2rWi...      182767   \n",
       "\n",
       "    time_signature                                              Name  \\\n",
       "30               4                      Morning In Love - Kiso Remix   \n",
       "37               4                                   Valley of Peace   \n",
       "43               4                                      Out Of Touch   \n",
       "47               4      You'll Never See Me Cry - Ambassadeurs Remix   \n",
       "54               4                     Gold - Thomas Jack Radio Edit   \n",
       "..             ...                                               ...   \n",
       "92               4                        Good Enough (feat. Tailor)   \n",
       "94               4                                 Sweet Disposition   \n",
       "95               4           Ecstasy (Over & Over) - Model Man Remix   \n",
       "42               4  Freak Like Me (feat. Katy B & MNEK) - Radio Edit   \n",
       "70               4                  House Every Weekend - Radio Edit   \n",
       "\n",
       "          Artist Cluster  \n",
       "30         Addal       8  \n",
       "37       TEYMORI       8  \n",
       "43          CUT_       8  \n",
       "47    Ephemerals       8  \n",
       "54  Gabriel Rios       8  \n",
       "..           ...     ...  \n",
       "92          BODÉ       8  \n",
       "94      Gundamea       8  \n",
       "95        Prospa       8  \n",
       "42    Lee Walker       8  \n",
       "70   David Zowie       8  \n",
       "\n",
       "[97 rows x 21 columns]"
      ]
     },
     "execution_count": 302,
     "metadata": {},
     "output_type": "execute_result"
    }
   ],
   "source": [
    "cluster_songs"
   ]
  },
  {
   "cell_type": "code",
   "execution_count": 303,
   "metadata": {},
   "outputs": [],
   "source": [
    "song_features['Cluster']= kmeans.predict(X_)"
   ]
  },
  {
   "cell_type": "code",
   "execution_count": 304,
   "metadata": {},
   "outputs": [
    {
     "data": {
      "text/plain": [
       "97"
      ]
     },
     "execution_count": 304,
     "metadata": {},
     "output_type": "execute_result"
    }
   ],
   "source": [
    "len(cluster_songs)"
   ]
  },
  {
   "cell_type": "code",
   "execution_count": 305,
   "metadata": {},
   "outputs": [],
   "source": [
    "t = cluster_songs['Name'].to_list()"
   ]
  },
  {
   "cell_type": "code",
   "execution_count": 306,
   "metadata": {
    "scrolled": false
   },
   "outputs": [],
   "source": [
    "l = random.choice(cluster_songs['Name'].to_list())"
   ]
  },
  {
   "cell_type": "code",
   "execution_count": 307,
   "metadata": {},
   "outputs": [
    {
     "data": {
      "text/plain": [
       "'more than love - Sofi Tukker remix'"
      ]
     },
     "execution_count": 307,
     "metadata": {},
     "output_type": "execute_result"
    }
   ],
   "source": [
    "l"
   ]
  },
  {
   "cell_type": "code",
   "execution_count": null,
   "metadata": {},
   "outputs": [],
   "source": []
  },
  {
   "cell_type": "code",
   "execution_count": null,
   "metadata": {},
   "outputs": [],
   "source": []
  },
  {
   "cell_type": "code",
   "execution_count": null,
   "metadata": {},
   "outputs": [],
   "source": []
  }
 ],
 "metadata": {
  "kernelspec": {
   "display_name": "Python 3",
   "language": "python",
   "name": "python3"
  },
  "language_info": {
   "codemirror_mode": {
    "name": "ipython",
    "version": 3
   },
   "file_extension": ".py",
   "mimetype": "text/x-python",
   "name": "python",
   "nbconvert_exporter": "python",
   "pygments_lexer": "ipython3",
   "version": "3.8.8"
  },
  "toc": {
   "base_numbering": 1,
   "nav_menu": {},
   "number_sections": true,
   "sideBar": true,
   "skip_h1_title": false,
   "title_cell": "Table of Contents",
   "title_sidebar": "Contents",
   "toc_cell": false,
   "toc_position": {},
   "toc_section_display": true,
   "toc_window_display": false
  },
  "varInspector": {
   "cols": {
    "lenName": 16,
    "lenType": 16,
    "lenVar": 40
   },
   "kernels_config": {
    "python": {
     "delete_cmd_postfix": "",
     "delete_cmd_prefix": "del ",
     "library": "var_list.py",
     "varRefreshCmd": "print(var_dic_list())"
    },
    "r": {
     "delete_cmd_postfix": ") ",
     "delete_cmd_prefix": "rm(",
     "library": "var_list.r",
     "varRefreshCmd": "cat(var_dic_list()) "
    }
   },
   "types_to_exclude": [
    "module",
    "function",
    "builtin_function_or_method",
    "instance",
    "_Feature"
   ],
   "window_display": false
  }
 },
 "nbformat": 4,
 "nbformat_minor": 4
}
