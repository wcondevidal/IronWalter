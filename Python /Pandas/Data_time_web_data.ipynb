{
 "cells": [
  {
   "cell_type": "code",
   "execution_count": 1,
   "id": "24b7893a",
   "metadata": {},
   "outputs": [],
   "source": [
    "import numpy as np \n",
    "import pandas as pd "
   ]
  },
  {
   "cell_type": "code",
   "execution_count": 2,
   "id": "72c5ed26",
   "metadata": {},
   "outputs": [],
   "source": [
    "# new library - for times and dates\n",
    "\n",
    "import time \n",
    "from datetime import date"
   ]
  },
  {
   "cell_type": "code",
   "execution_count": 3,
   "id": "7501f435",
   "metadata": {},
   "outputs": [],
   "source": [
    "web=pd.read_csv('web_data.csv')"
   ]
  },
  {
   "cell_type": "code",
   "execution_count": 4,
   "id": "1422cf90",
   "metadata": {},
   "outputs": [
    {
     "data": {
      "text/html": [
       "<div>\n",
       "<style scoped>\n",
       "    .dataframe tbody tr th:only-of-type {\n",
       "        vertical-align: middle;\n",
       "    }\n",
       "\n",
       "    .dataframe tbody tr th {\n",
       "        vertical-align: top;\n",
       "    }\n",
       "\n",
       "    .dataframe thead th {\n",
       "        text-align: right;\n",
       "    }\n",
       "</style>\n",
       "<table border=\"1\" class=\"dataframe\">\n",
       "  <thead>\n",
       "    <tr style=\"text-align: right;\">\n",
       "      <th></th>\n",
       "      <th>web_id</th>\n",
       "      <th>client_id</th>\n",
       "      <th>visitor_id</th>\n",
       "      <th>visit_id</th>\n",
       "      <th>process_step</th>\n",
       "      <th>date_time</th>\n",
       "    </tr>\n",
       "  </thead>\n",
       "  <tbody>\n",
       "    <tr>\n",
       "      <th>0</th>\n",
       "      <td>0</td>\n",
       "      <td>9988021</td>\n",
       "      <td>580560515_7732621733</td>\n",
       "      <td>781255054_21935453173_531117</td>\n",
       "      <td>step_3</td>\n",
       "      <td>4/17/17 15:27</td>\n",
       "    </tr>\n",
       "    <tr>\n",
       "      <th>1</th>\n",
       "      <td>1</td>\n",
       "      <td>9988021</td>\n",
       "      <td>580560515_7732621733</td>\n",
       "      <td>781255054_21935453173_531117</td>\n",
       "      <td>step_2</td>\n",
       "      <td>4/17/17 15:26</td>\n",
       "    </tr>\n",
       "    <tr>\n",
       "      <th>2</th>\n",
       "      <td>2</td>\n",
       "      <td>9988021</td>\n",
       "      <td>580560515_7732621733</td>\n",
       "      <td>781255054_21935453173_531117</td>\n",
       "      <td>step_3</td>\n",
       "      <td>4/17/17 15:19</td>\n",
       "    </tr>\n",
       "    <tr>\n",
       "      <th>3</th>\n",
       "      <td>3</td>\n",
       "      <td>9988021</td>\n",
       "      <td>580560515_7732621733</td>\n",
       "      <td>781255054_21935453173_531117</td>\n",
       "      <td>step_2</td>\n",
       "      <td>4/17/17 15:19</td>\n",
       "    </tr>\n",
       "    <tr>\n",
       "      <th>4</th>\n",
       "      <td>4</td>\n",
       "      <td>9988021</td>\n",
       "      <td>580560515_7732621733</td>\n",
       "      <td>781255054_21935453173_531117</td>\n",
       "      <td>step_3</td>\n",
       "      <td>4/17/17 15:18</td>\n",
       "    </tr>\n",
       "  </tbody>\n",
       "</table>\n",
       "</div>"
      ],
      "text/plain": [
       "   web_id  client_id            visitor_id                      visit_id  \\\n",
       "0       0    9988021  580560515_7732621733  781255054_21935453173_531117   \n",
       "1       1    9988021  580560515_7732621733  781255054_21935453173_531117   \n",
       "2       2    9988021  580560515_7732621733  781255054_21935453173_531117   \n",
       "3       3    9988021  580560515_7732621733  781255054_21935453173_531117   \n",
       "4       4    9988021  580560515_7732621733  781255054_21935453173_531117   \n",
       "\n",
       "  process_step      date_time  \n",
       "0       step_3  4/17/17 15:27  \n",
       "1       step_2  4/17/17 15:26  \n",
       "2       step_3  4/17/17 15:19  \n",
       "3       step_2  4/17/17 15:19  \n",
       "4       step_3  4/17/17 15:18  "
      ]
     },
     "execution_count": 4,
     "metadata": {},
     "output_type": "execute_result"
    }
   ],
   "source": [
    "web.head()"
   ]
  },
  {
   "cell_type": "code",
   "execution_count": 26,
   "id": "8b945485",
   "metadata": {},
   "outputs": [
    {
     "data": {
      "text/html": [
       "<div>\n",
       "<style scoped>\n",
       "    .dataframe tbody tr th:only-of-type {\n",
       "        vertical-align: middle;\n",
       "    }\n",
       "\n",
       "    .dataframe tbody tr th {\n",
       "        vertical-align: top;\n",
       "    }\n",
       "\n",
       "    .dataframe thead th {\n",
       "        text-align: right;\n",
       "    }\n",
       "</style>\n",
       "<table border=\"1\" class=\"dataframe\">\n",
       "  <thead>\n",
       "    <tr style=\"text-align: right;\">\n",
       "      <th></th>\n",
       "      <th>web_id</th>\n",
       "      <th>client_id</th>\n",
       "      <th>visitor_id</th>\n",
       "      <th>visit_id</th>\n",
       "      <th>process_step</th>\n",
       "      <th>date_time</th>\n",
       "    </tr>\n",
       "  </thead>\n",
       "  <tbody>\n",
       "    <tr>\n",
       "      <th>123</th>\n",
       "      <td>123</td>\n",
       "      <td>949210</td>\n",
       "      <td>591670455_4193241312</td>\n",
       "      <td>205836248_53279938801_198414</td>\n",
       "      <td>confirm</td>\n",
       "      <td>2017-04-05 19:50:00</td>\n",
       "    </tr>\n",
       "  </tbody>\n",
       "</table>\n",
       "</div>"
      ],
      "text/plain": [
       "     web_id  client_id            visitor_id                      visit_id  \\\n",
       "123     123     949210  591670455_4193241312  205836248_53279938801_198414   \n",
       "\n",
       "    process_step           date_time  \n",
       "123      confirm 2017-04-05 19:50:00  "
      ]
     },
     "execution_count": 26,
     "metadata": {},
     "output_type": "execute_result"
    }
   ],
   "source": [
    "web.iloc[[123]]"
   ]
  },
  {
   "cell_type": "code",
   "execution_count": 61,
   "id": "7e83ef9e",
   "metadata": {},
   "outputs": [
    {
     "data": {
      "text/plain": [
       "web_id                   int64\n",
       "client_id                int64\n",
       "visitor_id              object\n",
       "visit_id                object\n",
       "process_step            object\n",
       "date_time       datetime64[ns]\n",
       "Month                    int64\n",
       "Day                      int64\n",
       "Weekday                  int64\n",
       "today                   object\n",
       "dtype: object"
      ]
     },
     "execution_count": 61,
     "metadata": {},
     "output_type": "execute_result"
    }
   ],
   "source": [
    "web.dtypes"
   ]
  },
  {
   "cell_type": "code",
   "execution_count": 6,
   "id": "385d64e0",
   "metadata": {},
   "outputs": [
    {
     "name": "stdout",
     "output_type": "stream",
     "text": [
      "<class 'pandas.core.frame.DataFrame'>\n",
      "RangeIndex: 343141 entries, 0 to 343140\n",
      "Data columns (total 6 columns):\n",
      " #   Column        Non-Null Count   Dtype \n",
      "---  ------        --------------   ----- \n",
      " 0   web_id        343141 non-null  int64 \n",
      " 1   client_id     343141 non-null  int64 \n",
      " 2   visitor_id    343141 non-null  object\n",
      " 3   visit_id      343141 non-null  object\n",
      " 4   process_step  343141 non-null  object\n",
      " 5   date_time     343141 non-null  object\n",
      "dtypes: int64(2), object(4)\n",
      "memory usage: 15.7+ MB\n"
     ]
    }
   ],
   "source": [
    "web.info()"
   ]
  },
  {
   "cell_type": "code",
   "execution_count": 7,
   "id": "f6f1f0dc",
   "metadata": {},
   "outputs": [],
   "source": [
    "web['date_time']= pd.to_datetime(web['date_time'], errors='coerce')"
   ]
  },
  {
   "cell_type": "code",
   "execution_count": 8,
   "id": "34565514",
   "metadata": {},
   "outputs": [
    {
     "name": "stdout",
     "output_type": "stream",
     "text": [
      "<class 'pandas.core.frame.DataFrame'>\n",
      "RangeIndex: 343141 entries, 0 to 343140\n",
      "Data columns (total 6 columns):\n",
      " #   Column        Non-Null Count   Dtype         \n",
      "---  ------        --------------   -----         \n",
      " 0   web_id        343141 non-null  int64         \n",
      " 1   client_id     343141 non-null  int64         \n",
      " 2   visitor_id    343141 non-null  object        \n",
      " 3   visit_id      343141 non-null  object        \n",
      " 4   process_step  343141 non-null  object        \n",
      " 5   date_time     343141 non-null  datetime64[ns]\n",
      "dtypes: datetime64[ns](1), int64(2), object(3)\n",
      "memory usage: 15.7+ MB\n"
     ]
    }
   ],
   "source": [
    "web.info()"
   ]
  },
  {
   "cell_type": "code",
   "execution_count": 28,
   "id": "610dd743",
   "metadata": {},
   "outputs": [
    {
     "data": {
      "text/html": [
       "<div>\n",
       "<style scoped>\n",
       "    .dataframe tbody tr th:only-of-type {\n",
       "        vertical-align: middle;\n",
       "    }\n",
       "\n",
       "    .dataframe tbody tr th {\n",
       "        vertical-align: top;\n",
       "    }\n",
       "\n",
       "    .dataframe thead th {\n",
       "        text-align: right;\n",
       "    }\n",
       "</style>\n",
       "<table border=\"1\" class=\"dataframe\">\n",
       "  <thead>\n",
       "    <tr style=\"text-align: right;\">\n",
       "      <th></th>\n",
       "      <th>web_id</th>\n",
       "      <th>client_id</th>\n",
       "      <th>visitor_id</th>\n",
       "      <th>visit_id</th>\n",
       "      <th>process_step</th>\n",
       "      <th>date_time</th>\n",
       "    </tr>\n",
       "  </thead>\n",
       "  <tbody>\n",
       "    <tr>\n",
       "      <th>123</th>\n",
       "      <td>123</td>\n",
       "      <td>949210</td>\n",
       "      <td>591670455_4193241312</td>\n",
       "      <td>205836248_53279938801_198414</td>\n",
       "      <td>confirm</td>\n",
       "      <td>2017-04-05 19:50:00</td>\n",
       "    </tr>\n",
       "  </tbody>\n",
       "</table>\n",
       "</div>"
      ],
      "text/plain": [
       "     web_id  client_id            visitor_id                      visit_id  \\\n",
       "123     123     949210  591670455_4193241312  205836248_53279938801_198414   \n",
       "\n",
       "    process_step           date_time  \n",
       "123      confirm 2017-04-05 19:50:00  "
      ]
     },
     "execution_count": 28,
     "metadata": {},
     "output_type": "execute_result"
    }
   ],
   "source": [
    "web.iloc[[123]]"
   ]
  },
  {
   "cell_type": "code",
   "execution_count": 34,
   "id": "4c536259",
   "metadata": {},
   "outputs": [
    {
     "data": {
      "text/html": [
       "<div>\n",
       "<style scoped>\n",
       "    .dataframe tbody tr th:only-of-type {\n",
       "        vertical-align: middle;\n",
       "    }\n",
       "\n",
       "    .dataframe tbody tr th {\n",
       "        vertical-align: top;\n",
       "    }\n",
       "\n",
       "    .dataframe thead th {\n",
       "        text-align: right;\n",
       "    }\n",
       "</style>\n",
       "<table border=\"1\" class=\"dataframe\">\n",
       "  <thead>\n",
       "    <tr style=\"text-align: right;\">\n",
       "      <th></th>\n",
       "      <th>web_id</th>\n",
       "      <th>client_id</th>\n",
       "      <th>visitor_id</th>\n",
       "      <th>visit_id</th>\n",
       "      <th>process_step</th>\n",
       "      <th>date_time</th>\n",
       "    </tr>\n",
       "  </thead>\n",
       "  <tbody>\n",
       "    <tr>\n",
       "      <th>123</th>\n",
       "      <td>123</td>\n",
       "      <td>949210</td>\n",
       "      <td>591670455_4193241312</td>\n",
       "      <td>205836248_53279938801_198414</td>\n",
       "      <td>confirm</td>\n",
       "      <td>2017-04-05 19:50:00</td>\n",
       "    </tr>\n",
       "  </tbody>\n",
       "</table>\n",
       "</div>"
      ],
      "text/plain": [
       "     web_id  client_id            visitor_id                      visit_id  \\\n",
       "123     123     949210  591670455_4193241312  205836248_53279938801_198414   \n",
       "\n",
       "    process_step           date_time  \n",
       "123      confirm 2017-04-05 19:50:00  "
      ]
     },
     "execution_count": 34,
     "metadata": {},
     "output_type": "execute_result"
    }
   ],
   "source": [
    "web[123:124]"
   ]
  },
  {
   "cell_type": "code",
   "execution_count": 29,
   "id": "b289b146",
   "metadata": {},
   "outputs": [
    {
     "data": {
      "text/plain": [
       "Timestamp('2017-04-05 19:50:00')"
      ]
     },
     "execution_count": 29,
     "metadata": {},
     "output_type": "execute_result"
    }
   ],
   "source": [
    "web['date_time'][123]"
   ]
  },
  {
   "cell_type": "code",
   "execution_count": 31,
   "id": "67fd577c",
   "metadata": {},
   "outputs": [
    {
     "data": {
      "text/plain": [
       "4"
      ]
     },
     "execution_count": 31,
     "metadata": {},
     "output_type": "execute_result"
    }
   ],
   "source": [
    "web['date_time'][123].month"
   ]
  },
  {
   "cell_type": "code",
   "execution_count": 35,
   "id": "cd6873bf",
   "metadata": {},
   "outputs": [
    {
     "data": {
      "text/plain": [
       "'05-04-2017'"
      ]
     },
     "execution_count": 35,
     "metadata": {},
     "output_type": "execute_result"
    }
   ],
   "source": [
    "web['date_time'][123].strftime(format='%d-%m-%Y')"
   ]
  },
  {
   "cell_type": "code",
   "execution_count": 55,
   "id": "8501bf70",
   "metadata": {},
   "outputs": [],
   "source": [
    "web['Weekday']=pd.DatetimeIndex(web['date_time']).weekday"
   ]
  },
  {
   "cell_type": "code",
   "execution_count": 52,
   "id": "61eadcba",
   "metadata": {},
   "outputs": [],
   "source": [
    "#monday is 0, saturday is 5 \n",
    "\n",
    "web_sundays=web.loc[web['date_time'].dt.weekday ==6]"
   ]
  },
  {
   "cell_type": "code",
   "execution_count": 51,
   "id": "3cb249da",
   "metadata": {},
   "outputs": [
    {
     "data": {
      "text/plain": [
       "(30224, 8)"
      ]
     },
     "execution_count": 51,
     "metadata": {},
     "output_type": "execute_result"
    }
   ],
   "source": [
    "web_saturdays.shape"
   ]
  },
  {
   "cell_type": "code",
   "execution_count": 53,
   "id": "888f1fae",
   "metadata": {},
   "outputs": [
    {
     "data": {
      "text/plain": [
       "(35722, 8)"
      ]
     },
     "execution_count": 53,
     "metadata": {},
     "output_type": "execute_result"
    }
   ],
   "source": [
    "web_sundays.shape"
   ]
  },
  {
   "cell_type": "code",
   "execution_count": 54,
   "id": "4c8b50e1",
   "metadata": {},
   "outputs": [
    {
     "data": {
      "text/html": [
       "<div>\n",
       "<style scoped>\n",
       "    .dataframe tbody tr th:only-of-type {\n",
       "        vertical-align: middle;\n",
       "    }\n",
       "\n",
       "    .dataframe tbody tr th {\n",
       "        vertical-align: top;\n",
       "    }\n",
       "\n",
       "    .dataframe thead th {\n",
       "        text-align: right;\n",
       "    }\n",
       "</style>\n",
       "<table border=\"1\" class=\"dataframe\">\n",
       "  <thead>\n",
       "    <tr style=\"text-align: right;\">\n",
       "      <th></th>\n",
       "      <th>web_id</th>\n",
       "      <th>client_id</th>\n",
       "      <th>visitor_id</th>\n",
       "      <th>visit_id</th>\n",
       "      <th>process_step</th>\n",
       "      <th>date_time</th>\n",
       "      <th>Month</th>\n",
       "      <th>Day</th>\n",
       "    </tr>\n",
       "  </thead>\n",
       "  <tbody>\n",
       "    <tr>\n",
       "      <th>31</th>\n",
       "      <td>31</td>\n",
       "      <td>9466803</td>\n",
       "      <td>97277031_5793723360</td>\n",
       "      <td>812185460_4263902139_352107</td>\n",
       "      <td>start</td>\n",
       "      <td>2017-04-16 13:24:00</td>\n",
       "      <td>4</td>\n",
       "      <td>16</td>\n",
       "    </tr>\n",
       "    <tr>\n",
       "      <th>32</th>\n",
       "      <td>32</td>\n",
       "      <td>9466803</td>\n",
       "      <td>97277031_5793723360</td>\n",
       "      <td>812185460_4263902139_352107</td>\n",
       "      <td>step_2</td>\n",
       "      <td>2017-04-16 13:24:00</td>\n",
       "      <td>4</td>\n",
       "      <td>16</td>\n",
       "    </tr>\n",
       "    <tr>\n",
       "      <th>33</th>\n",
       "      <td>33</td>\n",
       "      <td>9466803</td>\n",
       "      <td>97277031_5793723360</td>\n",
       "      <td>812185460_4263902139_352107</td>\n",
       "      <td>step_1</td>\n",
       "      <td>2017-04-16 13:24:00</td>\n",
       "      <td>4</td>\n",
       "      <td>16</td>\n",
       "    </tr>\n",
       "    <tr>\n",
       "      <th>34</th>\n",
       "      <td>34</td>\n",
       "      <td>9466803</td>\n",
       "      <td>97277031_5793723360</td>\n",
       "      <td>812185460_4263902139_352107</td>\n",
       "      <td>start</td>\n",
       "      <td>2017-04-16 13:24:00</td>\n",
       "      <td>4</td>\n",
       "      <td>16</td>\n",
       "    </tr>\n",
       "    <tr>\n",
       "      <th>35</th>\n",
       "      <td>35</td>\n",
       "      <td>9466803</td>\n",
       "      <td>97277031_5793723360</td>\n",
       "      <td>812185460_4263902139_352107</td>\n",
       "      <td>step_1</td>\n",
       "      <td>2017-04-16 13:21:00</td>\n",
       "      <td>4</td>\n",
       "      <td>16</td>\n",
       "    </tr>\n",
       "  </tbody>\n",
       "</table>\n",
       "</div>"
      ],
      "text/plain": [
       "    web_id  client_id           visitor_id                     visit_id  \\\n",
       "31      31    9466803  97277031_5793723360  812185460_4263902139_352107   \n",
       "32      32    9466803  97277031_5793723360  812185460_4263902139_352107   \n",
       "33      33    9466803  97277031_5793723360  812185460_4263902139_352107   \n",
       "34      34    9466803  97277031_5793723360  812185460_4263902139_352107   \n",
       "35      35    9466803  97277031_5793723360  812185460_4263902139_352107   \n",
       "\n",
       "   process_step           date_time  Month  Day  \n",
       "31        start 2017-04-16 13:24:00      4   16  \n",
       "32       step_2 2017-04-16 13:24:00      4   16  \n",
       "33       step_1 2017-04-16 13:24:00      4   16  \n",
       "34        start 2017-04-16 13:24:00      4   16  \n",
       "35       step_1 2017-04-16 13:21:00      4   16  "
      ]
     },
     "execution_count": 54,
     "metadata": {},
     "output_type": "execute_result"
    }
   ],
   "source": [
    "web_sundays.head()"
   ]
  },
  {
   "cell_type": "code",
   "execution_count": 60,
   "id": "d75368c3",
   "metadata": {},
   "outputs": [
    {
     "data": {
      "text/html": [
       "<div>\n",
       "<style scoped>\n",
       "    .dataframe tbody tr th:only-of-type {\n",
       "        vertical-align: middle;\n",
       "    }\n",
       "\n",
       "    .dataframe tbody tr th {\n",
       "        vertical-align: top;\n",
       "    }\n",
       "\n",
       "    .dataframe thead th {\n",
       "        text-align: right;\n",
       "    }\n",
       "</style>\n",
       "<table border=\"1\" class=\"dataframe\">\n",
       "  <thead>\n",
       "    <tr style=\"text-align: right;\">\n",
       "      <th></th>\n",
       "      <th>web_id</th>\n",
       "      <th>client_id</th>\n",
       "      <th>visitor_id</th>\n",
       "      <th>visit_id</th>\n",
       "      <th>process_step</th>\n",
       "      <th>date_time</th>\n",
       "      <th>Month</th>\n",
       "      <th>Day</th>\n",
       "      <th>Weekday</th>\n",
       "      <th>today</th>\n",
       "    </tr>\n",
       "  </thead>\n",
       "  <tbody>\n",
       "    <tr>\n",
       "      <th>0</th>\n",
       "      <td>0</td>\n",
       "      <td>9988021</td>\n",
       "      <td>580560515_7732621733</td>\n",
       "      <td>781255054_21935453173_531117</td>\n",
       "      <td>step_3</td>\n",
       "      <td>2017-04-17 15:27:00</td>\n",
       "      <td>4</td>\n",
       "      <td>17</td>\n",
       "      <td>0</td>\n",
       "      <td>2021-06-04</td>\n",
       "    </tr>\n",
       "    <tr>\n",
       "      <th>1</th>\n",
       "      <td>1</td>\n",
       "      <td>9988021</td>\n",
       "      <td>580560515_7732621733</td>\n",
       "      <td>781255054_21935453173_531117</td>\n",
       "      <td>step_2</td>\n",
       "      <td>2017-04-17 15:26:00</td>\n",
       "      <td>4</td>\n",
       "      <td>17</td>\n",
       "      <td>0</td>\n",
       "      <td>2021-06-04</td>\n",
       "    </tr>\n",
       "    <tr>\n",
       "      <th>2</th>\n",
       "      <td>2</td>\n",
       "      <td>9988021</td>\n",
       "      <td>580560515_7732621733</td>\n",
       "      <td>781255054_21935453173_531117</td>\n",
       "      <td>step_3</td>\n",
       "      <td>2017-04-17 15:19:00</td>\n",
       "      <td>4</td>\n",
       "      <td>17</td>\n",
       "      <td>0</td>\n",
       "      <td>2021-06-04</td>\n",
       "    </tr>\n",
       "    <tr>\n",
       "      <th>3</th>\n",
       "      <td>3</td>\n",
       "      <td>9988021</td>\n",
       "      <td>580560515_7732621733</td>\n",
       "      <td>781255054_21935453173_531117</td>\n",
       "      <td>step_2</td>\n",
       "      <td>2017-04-17 15:19:00</td>\n",
       "      <td>4</td>\n",
       "      <td>17</td>\n",
       "      <td>0</td>\n",
       "      <td>2021-06-04</td>\n",
       "    </tr>\n",
       "    <tr>\n",
       "      <th>4</th>\n",
       "      <td>4</td>\n",
       "      <td>9988021</td>\n",
       "      <td>580560515_7732621733</td>\n",
       "      <td>781255054_21935453173_531117</td>\n",
       "      <td>step_3</td>\n",
       "      <td>2017-04-17 15:18:00</td>\n",
       "      <td>4</td>\n",
       "      <td>17</td>\n",
       "      <td>0</td>\n",
       "      <td>2021-06-04</td>\n",
       "    </tr>\n",
       "  </tbody>\n",
       "</table>\n",
       "</div>"
      ],
      "text/plain": [
       "   web_id  client_id            visitor_id                      visit_id  \\\n",
       "0       0    9988021  580560515_7732621733  781255054_21935453173_531117   \n",
       "1       1    9988021  580560515_7732621733  781255054_21935453173_531117   \n",
       "2       2    9988021  580560515_7732621733  781255054_21935453173_531117   \n",
       "3       3    9988021  580560515_7732621733  781255054_21935453173_531117   \n",
       "4       4    9988021  580560515_7732621733  781255054_21935453173_531117   \n",
       "\n",
       "  process_step           date_time  Month  Day  Weekday       today  \n",
       "0       step_3 2017-04-17 15:27:00      4   17        0  2021-06-04  \n",
       "1       step_2 2017-04-17 15:26:00      4   17        0  2021-06-04  \n",
       "2       step_3 2017-04-17 15:19:00      4   17        0  2021-06-04  \n",
       "3       step_2 2017-04-17 15:19:00      4   17        0  2021-06-04  \n",
       "4       step_3 2017-04-17 15:18:00      4   17        0  2021-06-04  "
      ]
     },
     "execution_count": 60,
     "metadata": {},
     "output_type": "execute_result"
    }
   ],
   "source": [
    "web.head()"
   ]
  },
  {
   "cell_type": "code",
   "execution_count": 59,
   "id": "09b039a2",
   "metadata": {},
   "outputs": [],
   "source": [
    "web['today']=date.today()"
   ]
  },
  {
   "cell_type": "code",
   "execution_count": 58,
   "id": "8293425f",
   "metadata": {},
   "outputs": [
    {
     "data": {
      "text/plain": [
       "time.struct_time(tm_year=2021, tm_mon=6, tm_mday=4, tm_hour=12, tm_min=0, tm_sec=59, tm_wday=4, tm_yday=155, tm_isdst=1)"
      ]
     },
     "execution_count": 58,
     "metadata": {},
     "output_type": "execute_result"
    }
   ],
   "source": [
    "time.localtime(time.time())"
   ]
  },
  {
   "cell_type": "code",
   "execution_count": null,
   "id": "24e0053c",
   "metadata": {},
   "outputs": [],
   "source": [
    "Reference \n",
    "\n",
    "%a Locale’s abbreviated weekday name.\n",
    "%A Locale’s full weekday name.\n",
    "%b Locale’s abbreviated month name.\n",
    "%B Locale’s full month name.\n",
    "%c Locale’s appropriate date and time representation.\n",
    "%d Day of the month as a decimal number [01,31].\n",
    "%H Hour (24-hour clock) as a decimal number [00,23].\n",
    "%I Hour (12-hour clock) as a decimal number [01,12].\n",
    "%j Day of the year as a decimal number [001,366].\n",
    "%m Month as a decimal number [01,12].\n",
    "%M Minute as a decimal number [00,59].\n",
    "%p Locale’s equivalent of either AM or PM.\n",
    "%S Second as a decimal number [00,61].\n",
    "%U Week number of the year (Sunday as the first day of the week) as a decimal number [00,53]. All days in a new year preceding the first Sunday are considered to be in week 0.\n",
    "%w Weekday as a decimal number [0(Sunday),6].\n",
    "%W Week number of the year (Monday as the first day of the week) as a decimal number [00,53]. All days in a new year preceding the first Monday are considered to be in week 0\n",
    "%x Locale’s appropriate date representation.\n",
    "%X Locale’s appropriate time representation.\n",
    "%y Year without century as a decimal number [00,99].\n",
    "%Y Year with century as a decimal number.\n",
    "%z Time zone offset indicating a positive or negative time difference from UTC/GMT of the form +HHMM or -HHMM, where H represents decimal hour digits and M represents decimal minute digits [-23:59, +23:59].\n",
    "%Z Time zone name (no characters if no time zone exists).\n",
    "%% A literal '%' character."
   ]
  }
 ],
 "metadata": {
  "kernelspec": {
   "display_name": "Python 3",
   "language": "python",
   "name": "python3"
  },
  "language_info": {
   "codemirror_mode": {
    "name": "ipython",
    "version": 3
   },
   "file_extension": ".py",
   "mimetype": "text/x-python",
   "name": "python",
   "nbconvert_exporter": "python",
   "pygments_lexer": "ipython3",
   "version": "3.9.4"
  },
  "toc": {
   "base_numbering": 1,
   "nav_menu": {},
   "number_sections": true,
   "sideBar": true,
   "skip_h1_title": false,
   "title_cell": "Table of Contents",
   "title_sidebar": "Contents",
   "toc_cell": false,
   "toc_position": {},
   "toc_section_display": true,
   "toc_window_display": false
  },
  "varInspector": {
   "cols": {
    "lenName": 16,
    "lenType": 16,
    "lenVar": 40
   },
   "kernels_config": {
    "python": {
     "delete_cmd_postfix": "",
     "delete_cmd_prefix": "del ",
     "library": "var_list.py",
     "varRefreshCmd": "print(var_dic_list())"
    },
    "r": {
     "delete_cmd_postfix": ") ",
     "delete_cmd_prefix": "rm(",
     "library": "var_list.r",
     "varRefreshCmd": "cat(var_dic_list()) "
    }
   },
   "types_to_exclude": [
    "module",
    "function",
    "builtin_function_or_method",
    "instance",
    "_Feature"
   ],
   "window_display": false
  }
 },
 "nbformat": 4,
 "nbformat_minor": 5
}
