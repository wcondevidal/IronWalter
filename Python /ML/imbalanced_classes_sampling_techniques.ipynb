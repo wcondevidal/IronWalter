{
 "cells": [
  {
   "cell_type": "markdown",
   "id": "bd05fdd2",
   "metadata": {},
   "source": [
    "## Logistic Regression on a customer churn data set- telecoms subs"
   ]
  },
  {
   "cell_type": "code",
   "execution_count": 32,
   "id": "99a4eadf",
   "metadata": {},
   "outputs": [],
   "source": [
    "import pandas as pd\n",
    "import numpy as np\n",
    "\n",
    "# import plotting libraries\n",
    "import seaborn as sns\n",
    "import matplotlib.pyplot as plt\n",
    "\n",
    "# import sklearn libraries\n",
    "from sklearn.linear_model import LogisticRegression\n",
    "from sklearn.preprocessing import StandardScaler\n",
    "from sklearn.metrics import confusion_matrix\n",
    "from sklearn.metrics import plot_confusion_matrix \n",
    "from sklearn.model_selection import train_test_split"
   ]
  },
  {
   "cell_type": "markdown",
   "id": "c968be79",
   "metadata": {},
   "source": [
    "### Load Data "
   ]
  },
  {
   "cell_type": "code",
   "execution_count": 33,
   "id": "f299c4c8",
   "metadata": {},
   "outputs": [
    {
     "data": {
      "text/html": [
       "<div>\n",
       "<style scoped>\n",
       "    .dataframe tbody tr th:only-of-type {\n",
       "        vertical-align: middle;\n",
       "    }\n",
       "\n",
       "    .dataframe tbody tr th {\n",
       "        vertical-align: top;\n",
       "    }\n",
       "\n",
       "    .dataframe thead th {\n",
       "        text-align: right;\n",
       "    }\n",
       "</style>\n",
       "<table border=\"1\" class=\"dataframe\">\n",
       "  <thead>\n",
       "    <tr style=\"text-align: right;\">\n",
       "      <th></th>\n",
       "      <th>customerID</th>\n",
       "      <th>gender</th>\n",
       "      <th>SeniorCitizen</th>\n",
       "      <th>Partner</th>\n",
       "      <th>Dependents</th>\n",
       "      <th>tenure</th>\n",
       "      <th>PhoneService</th>\n",
       "      <th>MultipleLines</th>\n",
       "      <th>InternetService</th>\n",
       "      <th>OnlineSecurity</th>\n",
       "      <th>...</th>\n",
       "      <th>DeviceProtection</th>\n",
       "      <th>TechSupport</th>\n",
       "      <th>StreamingTV</th>\n",
       "      <th>StreamingMovies</th>\n",
       "      <th>Contract</th>\n",
       "      <th>PaperlessBilling</th>\n",
       "      <th>PaymentMethod</th>\n",
       "      <th>MonthlyCharges</th>\n",
       "      <th>TotalCharges</th>\n",
       "      <th>Churn</th>\n",
       "    </tr>\n",
       "  </thead>\n",
       "  <tbody>\n",
       "    <tr>\n",
       "      <th>0</th>\n",
       "      <td>7590-VHVEG</td>\n",
       "      <td>Female</td>\n",
       "      <td>0</td>\n",
       "      <td>Yes</td>\n",
       "      <td>No</td>\n",
       "      <td>1</td>\n",
       "      <td>No</td>\n",
       "      <td>No phone service</td>\n",
       "      <td>DSL</td>\n",
       "      <td>No</td>\n",
       "      <td>...</td>\n",
       "      <td>No</td>\n",
       "      <td>No</td>\n",
       "      <td>No</td>\n",
       "      <td>No</td>\n",
       "      <td>Month-to-month</td>\n",
       "      <td>Yes</td>\n",
       "      <td>Electronic check</td>\n",
       "      <td>29.85</td>\n",
       "      <td>29.85</td>\n",
       "      <td>No</td>\n",
       "    </tr>\n",
       "    <tr>\n",
       "      <th>1</th>\n",
       "      <td>5575-GNVDE</td>\n",
       "      <td>Male</td>\n",
       "      <td>0</td>\n",
       "      <td>No</td>\n",
       "      <td>No</td>\n",
       "      <td>34</td>\n",
       "      <td>Yes</td>\n",
       "      <td>No</td>\n",
       "      <td>DSL</td>\n",
       "      <td>Yes</td>\n",
       "      <td>...</td>\n",
       "      <td>Yes</td>\n",
       "      <td>No</td>\n",
       "      <td>No</td>\n",
       "      <td>No</td>\n",
       "      <td>One year</td>\n",
       "      <td>No</td>\n",
       "      <td>Mailed check</td>\n",
       "      <td>56.95</td>\n",
       "      <td>1889.5</td>\n",
       "      <td>No</td>\n",
       "    </tr>\n",
       "    <tr>\n",
       "      <th>2</th>\n",
       "      <td>3668-QPYBK</td>\n",
       "      <td>Male</td>\n",
       "      <td>0</td>\n",
       "      <td>No</td>\n",
       "      <td>No</td>\n",
       "      <td>2</td>\n",
       "      <td>Yes</td>\n",
       "      <td>No</td>\n",
       "      <td>DSL</td>\n",
       "      <td>Yes</td>\n",
       "      <td>...</td>\n",
       "      <td>No</td>\n",
       "      <td>No</td>\n",
       "      <td>No</td>\n",
       "      <td>No</td>\n",
       "      <td>Month-to-month</td>\n",
       "      <td>Yes</td>\n",
       "      <td>Mailed check</td>\n",
       "      <td>53.85</td>\n",
       "      <td>108.15</td>\n",
       "      <td>Yes</td>\n",
       "    </tr>\n",
       "    <tr>\n",
       "      <th>3</th>\n",
       "      <td>7795-CFOCW</td>\n",
       "      <td>Male</td>\n",
       "      <td>0</td>\n",
       "      <td>No</td>\n",
       "      <td>No</td>\n",
       "      <td>45</td>\n",
       "      <td>No</td>\n",
       "      <td>No phone service</td>\n",
       "      <td>DSL</td>\n",
       "      <td>Yes</td>\n",
       "      <td>...</td>\n",
       "      <td>Yes</td>\n",
       "      <td>Yes</td>\n",
       "      <td>No</td>\n",
       "      <td>No</td>\n",
       "      <td>One year</td>\n",
       "      <td>No</td>\n",
       "      <td>Bank transfer (automatic)</td>\n",
       "      <td>42.30</td>\n",
       "      <td>1840.75</td>\n",
       "      <td>No</td>\n",
       "    </tr>\n",
       "    <tr>\n",
       "      <th>4</th>\n",
       "      <td>9237-HQITU</td>\n",
       "      <td>Female</td>\n",
       "      <td>0</td>\n",
       "      <td>No</td>\n",
       "      <td>No</td>\n",
       "      <td>2</td>\n",
       "      <td>Yes</td>\n",
       "      <td>No</td>\n",
       "      <td>Fiber optic</td>\n",
       "      <td>No</td>\n",
       "      <td>...</td>\n",
       "      <td>No</td>\n",
       "      <td>No</td>\n",
       "      <td>No</td>\n",
       "      <td>No</td>\n",
       "      <td>Month-to-month</td>\n",
       "      <td>Yes</td>\n",
       "      <td>Electronic check</td>\n",
       "      <td>70.70</td>\n",
       "      <td>151.65</td>\n",
       "      <td>Yes</td>\n",
       "    </tr>\n",
       "  </tbody>\n",
       "</table>\n",
       "<p>5 rows × 21 columns</p>\n",
       "</div>"
      ],
      "text/plain": [
       "   customerID  gender  SeniorCitizen Partner Dependents  tenure PhoneService  \\\n",
       "0  7590-VHVEG  Female              0     Yes         No       1           No   \n",
       "1  5575-GNVDE    Male              0      No         No      34          Yes   \n",
       "2  3668-QPYBK    Male              0      No         No       2          Yes   \n",
       "3  7795-CFOCW    Male              0      No         No      45           No   \n",
       "4  9237-HQITU  Female              0      No         No       2          Yes   \n",
       "\n",
       "      MultipleLines InternetService OnlineSecurity  ... DeviceProtection  \\\n",
       "0  No phone service             DSL             No  ...               No   \n",
       "1                No             DSL            Yes  ...              Yes   \n",
       "2                No             DSL            Yes  ...               No   \n",
       "3  No phone service             DSL            Yes  ...              Yes   \n",
       "4                No     Fiber optic             No  ...               No   \n",
       "\n",
       "  TechSupport StreamingTV StreamingMovies        Contract PaperlessBilling  \\\n",
       "0          No          No              No  Month-to-month              Yes   \n",
       "1          No          No              No        One year               No   \n",
       "2          No          No              No  Month-to-month              Yes   \n",
       "3         Yes          No              No        One year               No   \n",
       "4          No          No              No  Month-to-month              Yes   \n",
       "\n",
       "               PaymentMethod MonthlyCharges  TotalCharges Churn  \n",
       "0           Electronic check          29.85         29.85    No  \n",
       "1               Mailed check          56.95        1889.5    No  \n",
       "2               Mailed check          53.85        108.15   Yes  \n",
       "3  Bank transfer (automatic)          42.30       1840.75    No  \n",
       "4           Electronic check          70.70        151.65   Yes  \n",
       "\n",
       "[5 rows x 21 columns]"
      ]
     },
     "execution_count": 33,
     "metadata": {},
     "output_type": "execute_result"
    }
   ],
   "source": [
    "churnData = pd.read_csv('customer_churn.csv') \n",
    "churnData.head(5)"
   ]
  },
  {
   "cell_type": "markdown",
   "id": "3b096671",
   "metadata": {},
   "source": [
    "### Business question \n",
    "\n",
    "Can we predict if a customer account will churn ?\n",
    "\n",
    "- classification ML problem \n",
    "- we will feed in training data which is labelled churn yes no \n",
    "- model is logistic regression (supervised ML) "
   ]
  },
  {
   "cell_type": "markdown",
   "id": "d4e6e48e",
   "metadata": {},
   "source": [
    "### Normal intermediate steps \n",
    "\n",
    "we are skipping these steps of the process to focus on the data imbalance alone \n",
    "\n",
    "+ EDA \n",
    "\n",
    "+ Data cleaning \n",
    "\n",
    "+ Feature selection and engineering \n",
    "\n",
    "we will attempt to predict churn using just a few numerical features, and see what the baseline model gives us in terms of accuracy in class predictions"
   ]
  },
  {
   "cell_type": "markdown",
   "id": "6ce6ad2b",
   "metadata": {},
   "source": [
    "### Separate the dependent and independent variables "
   ]
  },
  {
   "cell_type": "code",
   "execution_count": 34,
   "id": "54fccfd1",
   "metadata": {},
   "outputs": [],
   "source": [
    "X = churnData[['tenure', 'SeniorCitizen','MonthlyCharges']]\n",
    "y = (churnData.Churn == 'Yes').astype(int)\n",
    "#turns churn yes no into a 1 or 0 - could have used getdummies "
   ]
  },
  {
   "cell_type": "code",
   "execution_count": 35,
   "id": "234e0611",
   "metadata": {},
   "outputs": [
    {
     "name": "stdout",
     "output_type": "stream",
     "text": [
      "<class 'pandas.core.frame.DataFrame'>\n",
      "RangeIndex: 7043 entries, 0 to 7042\n",
      "Data columns (total 3 columns):\n",
      " #   Column          Non-Null Count  Dtype  \n",
      "---  ------          --------------  -----  \n",
      " 0   tenure          7043 non-null   int64  \n",
      " 1   SeniorCitizen   7043 non-null   int64  \n",
      " 2   MonthlyCharges  7043 non-null   float64\n",
      "dtypes: float64(1), int64(2)\n",
      "memory usage: 165.2 KB\n"
     ]
    }
   ],
   "source": [
    "X.info()"
   ]
  },
  {
   "cell_type": "markdown",
   "id": "09af30a8",
   "metadata": {},
   "source": [
    "### Scale the numerical data "
   ]
  },
  {
   "cell_type": "code",
   "execution_count": 36,
   "id": "9f99d77e",
   "metadata": {},
   "outputs": [],
   "source": [
    "transformer = StandardScaler().fit(X)\n",
    "scaled_x = transformer.transform(X)"
   ]
  },
  {
   "cell_type": "code",
   "execution_count": 37,
   "id": "566a870f",
   "metadata": {},
   "outputs": [
    {
     "data": {
      "text/plain": [
       "array([[-1.27744458, -0.43991649, -1.16032292],\n",
       "       [ 0.06632742, -0.43991649, -0.25962894],\n",
       "       [-1.23672422, -0.43991649, -0.36266036],\n",
       "       ...,\n",
       "       [-0.87024095, -0.43991649, -1.1686319 ],\n",
       "       [-1.15528349,  2.27315869,  0.32033821],\n",
       "       [ 1.36937906, -0.43991649,  1.35896134]])"
      ]
     },
     "execution_count": 37,
     "metadata": {},
     "output_type": "execute_result"
    }
   ],
   "source": [
    "scaled_x"
   ]
  },
  {
   "cell_type": "markdown",
   "id": "25c2581b",
   "metadata": {},
   "source": [
    "### Confirm the imbalance in our target label "
   ]
  },
  {
   "cell_type": "code",
   "execution_count": 38,
   "id": "34b57566",
   "metadata": {},
   "outputs": [
    {
     "data": {
      "text/plain": [
       "0    5174\n",
       "1    1869\n",
       "Name: Churn, dtype: int64"
      ]
     },
     "execution_count": 38,
     "metadata": {},
     "output_type": "execute_result"
    }
   ],
   "source": [
    "y.value_counts()"
   ]
  },
  {
   "cell_type": "markdown",
   "id": "24a408b5",
   "metadata": {},
   "source": [
    "https://www.kdnuggets.com/2020/01/5-most-useful-techniques-handle-imbalanced-datasets.html"
   ]
  },
  {
   "cell_type": "markdown",
   "id": "214cd323",
   "metadata": {},
   "source": [
    "### Modeling including model validation with train-test-split"
   ]
  },
  {
   "cell_type": "code",
   "execution_count": 39,
   "id": "458322fa",
   "metadata": {},
   "outputs": [],
   "source": [
    "# train test split \n",
    "X_train, X_test, y_train, y_test = train_test_split(scaled_x, y, test_size=0.3, random_state=100)"
   ]
  },
  {
   "cell_type": "code",
   "execution_count": 40,
   "id": "70414e11",
   "metadata": {},
   "outputs": [],
   "source": [
    "# define and train a LogisticRegression model\n",
    "classification = LogisticRegression(random_state=0, solver='lbfgs',\n",
    "                        multi_class='ovr').fit(X_train, y_train)\n",
    "\n",
    "# creating predictions based on our trained model\n",
    "y_pred=classification.predict(X_test)"
   ]
  },
  {
   "cell_type": "markdown",
   "id": "72fd8ab8",
   "metadata": {},
   "source": [
    "### Evaluate the baseline model with confusion matrix "
   ]
  },
  {
   "cell_type": "code",
   "execution_count": 41,
   "id": "41e7e251",
   "metadata": {},
   "outputs": [
    {
     "data": {
      "image/png": "[encoded data removed]",
      "text/plain": [
       "<Figure size 432x288 with 2 Axes>"
      ]
     },
     "metadata": {},
     "output_type": "display_data"
    }
   ],
   "source": [
    "# confusion matrix \n",
    "confusion_matrix(y_test, y_pred)\n",
    "plot_confusion_matrix(classification, X_test, y_test)\n",
    "plt.show()"
   ]
  },
  {
   "cell_type": "markdown",
   "id": "36540dec",
   "metadata": {},
   "source": [
    "Observation: It's evident that our model is way better in predicting the `Churn=False` customers correctly than the ones that have churned - because of the heavy misbalance within the target variable of `5174` (Did not churn) to `1869` (have churned)"
   ]
  },
  {
   "cell_type": "code",
   "execution_count": 42,
   "id": "8aa75d8b",
   "metadata": {},
   "outputs": [
    {
     "data": {
      "text/plain": [
       "0.7905721993468693"
      ]
     },
     "execution_count": 42,
     "metadata": {},
     "output_type": "execute_result"
    }
   ],
   "source": [
    "classification.score(scaled_x, y)"
   ]
  },
  {
   "cell_type": "code",
   "execution_count": 43,
   "id": "073f76c6",
   "metadata": {},
   "outputs": [
    {
     "data": {
      "image/png": "[encoded data removed]",
      "text/plain": [
       "<Figure size 576x576 with 2 Axes>"
      ]
     },
     "metadata": {},
     "output_type": "display_data"
    }
   ],
   "source": [
    "# % confusion matrix heat map\n",
    "\n",
    "# shortened name\n",
    "cnfmat = confusion_matrix(y_test,y_pred)\n",
    "\n",
    "# creating a Dataframe out of our confusion matrix, easier to plot in seaborn. \n",
    "df_cm = pd.DataFrame(cnfmat, columns=np.unique(y_test), index = np.unique(y_test))\n",
    "\n",
    "# column and index names to our df\n",
    "df_cm.index.name = 'Actual (Churn?)'\n",
    "df_cm.columns.name = 'Predicted (Churn?)'\n",
    "\n",
    "# set the fontsize for my plot\n",
    "sns.set(font_scale=1)\n",
    "\n",
    "# set plot size\n",
    "fig, ax = plt.subplots(figsize=(8,8))\n",
    "\n",
    "# this function formatter is necessary to create a custom function which formats our values as % \n",
    "from matplotlib.ticker import FuncFormatter\n",
    "fmt = lambda x,pos: '{:.0%}'.format(x)\n",
    "\n",
    "# plot the heatmap for our confusion matrix\n",
    "sns.heatmap(df_cm/df_cm.sum().sum(),  # plot the number of values as percentage of all values in the confusion matrix\n",
    "            annot=True,\n",
    "            fmt='.0%',\n",
    "            cmap='hot',\n",
    "            annot_kws={\"size\":15},\n",
    "            cbar_kws={'format': FuncFormatter(fmt)}\n",
    "           );"
   ]
  },
  {
   "cell_type": "markdown",
   "id": "6f35a879",
   "metadata": {},
   "source": [
    "### applying SMOTE - (oversample the minority class of the target label)"
   ]
  },
  {
   "cell_type": "code",
   "execution_count": 44,
   "id": "4eb29ece",
   "metadata": {},
   "outputs": [],
   "source": [
    "from imblearn.over_sampling import SMOTE"
   ]
  },
  {
   "cell_type": "code",
   "execution_count": 45,
   "id": "dc1a18e7",
   "metadata": {},
   "outputs": [],
   "source": [
    "smote= SMOTE(random_state=40)\n",
    "X_sm, y_sm =smote.fit_resample(scaled_x, y)"
   ]
  },
  {
   "cell_type": "code",
   "execution_count": 46,
   "id": "57ffe63e",
   "metadata": {},
   "outputs": [
    {
     "data": {
      "text/plain": [
       "0    5174\n",
       "1    5174\n",
       "Name: Churn, dtype: int64"
      ]
     },
     "execution_count": 46,
     "metadata": {},
     "output_type": "execute_result"
    }
   ],
   "source": [
    "y_sm.value_counts()"
   ]
  },
  {
   "cell_type": "markdown",
   "id": "d06a9d68",
   "metadata": {},
   "source": [
    "### Model again and plot the confusion matrix (same code as above)"
   ]
  },
  {
   "cell_type": "code",
   "execution_count": 47,
   "id": "1c1fedf5",
   "metadata": {},
   "outputs": [],
   "source": [
    "# train test split \n",
    "#run model \n",
    "#get results \n",
    "#confusion matrix "
   ]
  },
  {
   "cell_type": "code",
   "execution_count": 48,
   "id": "d7755037",
   "metadata": {},
   "outputs": [],
   "source": [
    "X_train, X_test, y_train, y_test = train_test_split(X_sm, y_sm, test_size=0.3, random_state=100)"
   ]
  },
  {
   "cell_type": "code",
   "execution_count": 49,
   "id": "f36de11f",
   "metadata": {},
   "outputs": [],
   "source": [
    "# define and train a LogisticRegression model\n",
    "classification = LogisticRegression(random_state=0, solver='lbfgs',\n",
    "                        multi_class='ovr').fit(X_train, y_train)\n",
    "\n",
    "# creating predictions based on our trained model\n",
    "y_pred=classification.predict(X_test)"
   ]
  },
  {
   "cell_type": "code",
   "execution_count": 51,
   "id": "237a4bb9",
   "metadata": {},
   "outputs": [
    {
     "data": {
      "image/png": "[encoded data removed]",
      "text/plain": [
       "<Figure size 432x288 with 2 Axes>"
      ]
     },
     "metadata": {},
     "output_type": "display_data"
    }
   ],
   "source": [
    "# confusion matrix \n",
    "# confusion_matrix(y_test, y_pred)\n",
    "plot_confusion_matrix(classification, X_test, y_test)\n",
    "plt.grid(None)\n",
    "plt.show()\n"
   ]
  },
  {
   "cell_type": "code",
   "execution_count": 52,
   "id": "78c54a7c",
   "metadata": {},
   "outputs": [
    {
     "data": {
      "image/png": "[encoded data removed]",
      "text/plain": [
       "<Figure size 576x576 with 2 Axes>"
      ]
     },
     "metadata": {},
     "output_type": "display_data"
    }
   ],
   "source": [
    "# % confusion matrix heat map\n",
    "\n",
    "# shortened name\n",
    "cnfmat = confusion_matrix(y_test,y_pred)\n",
    "\n",
    "# creating a Dataframe out of our confusion matrix, easier to plot in seaborn. \n",
    "df_cm = pd.DataFrame(cnfmat, columns=np.unique(y_test), index = np.unique(y_test))\n",
    "\n",
    "# column and index names to our df\n",
    "df_cm.index.name = 'Actual (Churn?)'\n",
    "df_cm.columns.name = 'Predicted (Churn?)'\n",
    "\n",
    "# set the fontsize for my plot\n",
    "sns.set(font_scale=1)\n",
    "\n",
    "# set plot size\n",
    "fig, ax = plt.subplots(figsize=(8,8))\n",
    "\n",
    "# this function formatter is necessary to create a custom function which formats our values as % \n",
    "from matplotlib.ticker import FuncFormatter\n",
    "fmt = lambda x,pos: '{:.0%}'.format(x)\n",
    "\n",
    "# plot the heatmap for our confusion matrix\n",
    "sns.heatmap(df_cm/df_cm.sum().sum(),  # plot the number of values as percentage of all values in the confusion matrix\n",
    "            annot=True,\n",
    "            fmt='.0%',\n",
    "            cmap='hot',\n",
    "            annot_kws={\"size\":15},\n",
    "            cbar_kws={'format': FuncFormatter(fmt)}\n",
    "           );"
   ]
  },
  {
   "cell_type": "code",
   "execution_count": null,
   "id": "359093e0",
   "metadata": {},
   "outputs": [],
   "source": []
  },
  {
   "cell_type": "markdown",
   "id": "8ae9b378",
   "metadata": {},
   "source": [
    "Observation\n",
    "\n",
    "- \n",
    "- \n",
    "- \n"
   ]
  },
  {
   "cell_type": "markdown",
   "id": "bfef4f76",
   "metadata": {},
   "source": [
    "### Applying TomekLinks to downsample majority class "
   ]
  },
  {
   "cell_type": "code",
   "execution_count": null,
   "id": "c582552b",
   "metadata": {},
   "outputs": [],
   "source": []
  },
  {
   "cell_type": "code",
   "execution_count": null,
   "id": "0a9c2350",
   "metadata": {},
   "outputs": [],
   "source": []
  },
  {
   "cell_type": "code",
   "execution_count": null,
   "id": "b04e6834",
   "metadata": {},
   "outputs": [],
   "source": []
  },
  {
   "cell_type": "code",
   "execution_count": null,
   "id": "73a71661",
   "metadata": {},
   "outputs": [],
   "source": []
  },
  {
   "cell_type": "code",
   "execution_count": null,
   "id": "4286a804",
   "metadata": {},
   "outputs": [],
   "source": []
  },
  {
   "cell_type": "markdown",
   "id": "cc9067b6",
   "metadata": {},
   "source": [
    "Observation:\n",
    "\n",
    "- \n",
    "- \n",
    "- \n"
   ]
  },
  {
   "cell_type": "markdown",
   "id": "9694f29a",
   "metadata": {},
   "source": [
    "### which method to use ? \n",
    "\n",
    "* if you're unsure which method to use then, give [this article](https://machinelearningmastery.com/data-sampling-methods-for-imbalanced-classification/) a read. \n",
    "* In practice it was shown that combining several sampling techniques often yields the bet result so you can also explore hybrid methods in [this article](https://machinelearningmastery.com/random-oversampling-and-undersampling-for-imbalanced-classification/) to try to improve on the SMOTE result in this notebook"
   ]
  },
  {
   "cell_type": "code",
   "execution_count": null,
   "id": "0a9b7b11",
   "metadata": {},
   "outputs": [],
   "source": []
  }
 ],
 "metadata": {
  "kernelspec": {
   "display_name": "Python 3",
   "language": "python",
   "name": "python3"
  },
  "language_info": {
   "codemirror_mode": {
    "name": "ipython",
    "version": 3
   },
   "file_extension": ".py",
   "mimetype": "text/x-python",
   "name": "python",
   "nbconvert_exporter": "python",
   "pygments_lexer": "ipython3",
   "version": "3.9.4"
  },
  "toc": {
   "base_numbering": 1,
   "nav_menu": {},
   "number_sections": true,
   "sideBar": true,
   "skip_h1_title": false,
   "title_cell": "Table of Contents",
   "title_sidebar": "Contents",
   "toc_cell": false,
   "toc_position": {},
   "toc_section_display": true,
   "toc_window_display": false
  },
  "varInspector": {
   "cols": {
    "lenName": 16,
    "lenType": 16,
    "lenVar": 40
   },
   "kernels_config": {
    "python": {
     "delete_cmd_postfix": "",
     "delete_cmd_prefix": "del ",
     "library": "var_list.py",
     "varRefreshCmd": "print(var_dic_list())"
    },
    "r": {
     "delete_cmd_postfix": ") ",
     "delete_cmd_prefix": "rm(",
     "library": "var_list.r",
     "varRefreshCmd": "cat(var_dic_list()) "
    }
   },
   "types_to_exclude": [
    "module",
    "function",
    "builtin_function_or_method",
    "instance",
    "_Feature"
   ],
   "window_display": false
  }
 },
 "nbformat": 4,
 "nbformat_minor": 5
}
