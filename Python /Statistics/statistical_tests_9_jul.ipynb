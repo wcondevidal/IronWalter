{
 "cells": [
  {
   "cell_type": "code",
   "execution_count": 2,
   "id": "926f8d6b",
   "metadata": {},
   "outputs": [],
   "source": [
    "# import the ingredients \n",
    "\n",
    "from scipy.stats import ttest_1samp"
   ]
  },
  {
   "cell_type": "markdown",
   "id": "f1e5c12a",
   "metadata": {},
   "source": [
    "# One Tailed t test (1)"
   ]
  },
  {
   "cell_type": "code",
   "execution_count": 3,
   "id": "b10edf8e",
   "metadata": {},
   "outputs": [],
   "source": [
    "#shorthand version using ttest_1samp - if we have an array/pandas df \n",
    "\n",
    "#here, data is our observed results (in our sample)\n",
    "\n",
    "data=[87,65,65,67,72,73,97,76]\n",
    "test=ttest_1samp(a=data,popmean=85)"
   ]
  },
  {
   "cell_type": "code",
   "execution_count": 4,
   "id": "c3cfc71c",
   "metadata": {},
   "outputs": [
    {
     "name": "stdout",
     "output_type": "stream",
     "text": [
      "Ttest_1sampResult(statistic=-2.4246798419020434, pvalue=0.045776601950270404)\n"
     ]
    }
   ],
   "source": [
    "print(test)"
   ]
  },
  {
   "cell_type": "markdown",
   "id": "20c1e8d5",
   "metadata": {},
   "source": [
    "#looking at our t table,we find a t stat critical value of 1.895 \n",
    "\n",
    "if test statistic > threshold \n",
    "(derived from 0.05) then reject H0 and accept Ha\n",
    "\n",
    "else we cannot reject H0 \n",
    "\n",
    "test<-1.895\n",
    "\n",
    "+ in this case we can reject H0 based on t statistic, \n",
    "+ and on p value, which is less than 0.05 \n"
   ]
  },
  {
   "cell_type": "markdown",
   "id": "4cfa3e0f",
   "metadata": {},
   "source": [
    "## One tailed T test (2)\n",
    "\n",
    "If we have the summarised statistics we can directly use the normal distribution \n"
   ]
  },
  {
   "cell_type": "code",
   "execution_count": 5,
   "id": "c9157866",
   "metadata": {},
   "outputs": [],
   "source": [
    "from scipy.stats import norm # z distribution "
   ]
  },
  {
   "cell_type": "markdown",
   "id": "e6f75a65",
   "metadata": {},
   "source": [
    "Reference : \n",
    "    https://docs.scipy.org/doc/scipy/reference/generated/scipy.stats.norm.html"
   ]
  },
  {
   "cell_type": "code",
   "execution_count": 6,
   "id": "52dd08b9",
   "metadata": {},
   "outputs": [],
   "source": [
    "import math "
   ]
  },
  {
   "cell_type": "markdown",
   "id": "188272c4",
   "metadata": {},
   "source": [
    "### summarise our statistical test \n",
    "- comparing to the population - (assume this is valid)- mean of 85 -> use Z dist \n",
    "- pop mean is 85 \n",
    "- sample mean 80.84\n",
    "- collected 25 weights in sample (25 boys) \n",
    "- st.dev of sample = 11.6 \n",
    "\n",
    "- one tailed test or a two tailed test ? \n",
    "- one tailed t test - is the sample mean significantly LOWER than 85\n",
    "\n",
    "+ H0 no difference between these boys and population\n",
    "+ Ha boys are underweight - significant evidence \n",
    "\n"
   ]
  },
  {
   "cell_type": "code",
   "execution_count": 7,
   "id": "32385aa6",
   "metadata": {},
   "outputs": [],
   "source": [
    "# define all the variables \n",
    "\n",
    "sample_mean=80.94\n",
    "pop_mean=85\n",
    "sampl_std=11.6\n",
    "n=25"
   ]
  },
  {
   "cell_type": "code",
   "execution_count": 8,
   "id": "5a978f7b",
   "metadata": {},
   "outputs": [
    {
     "data": {
      "text/plain": [
       "-1.7146428199482255"
      ]
     },
     "execution_count": 8,
     "metadata": {},
     "output_type": "execute_result"
    }
   ],
   "source": [
    "# calculate the t statistic \n",
    "#(sample_mean-pop_mean)/ (samplestd/sqrt(n-1))\n",
    "\n",
    "statistic= (sample_mean-pop_mean)/(sampl_std/(math.sqrt(n-1)))\n",
    "statistic #(t value)"
   ]
  },
  {
   "cell_type": "code",
   "execution_count": 9,
   "id": "15b7d7a9",
   "metadata": {},
   "outputs": [
    {
     "data": {
      "text/plain": [
       "-1.6448536269514729"
      ]
     },
     "execution_count": 9,
     "metadata": {},
     "output_type": "execute_result"
    }
   ],
   "source": [
    "# 0.05 conventional threshold -> critical value \n",
    "critical_value=norm.ppf(0.05)\n",
    "critical_value"
   ]
  },
  {
   "cell_type": "code",
   "execution_count": 10,
   "id": "3ce8a8b5",
   "metadata": {},
   "outputs": [
    {
     "data": {
      "text/plain": [
       "0.04320536648684992"
      ]
     },
     "execution_count": 10,
     "metadata": {},
     "output_type": "execute_result"
    }
   ],
   "source": [
    "# on the one tailed t test we have evidence of a statistically significant \n",
    "#difference in the means - reject H0 \n",
    "\n",
    "# p value - is it less than 0.05?\n",
    "\n",
    "p_value= norm.cdf(statistic)\n",
    "p_value \n",
    "\n",
    "# Cumulative distribution function cdf - on the t test, distribution, \n",
    "#return the cumulative norm \n"
   ]
  },
  {
   "cell_type": "markdown",
   "id": "da47f13f",
   "metadata": {},
   "source": [
    "SUMMARY \n",
    "from our two tests - t test and p value \n",
    "\n",
    "accept our Ha - the boys are underweight "
   ]
  },
  {
   "cell_type": "markdown",
   "id": "31366ff9",
   "metadata": {},
   "source": [
    "### What if the sample mean was higher? "
   ]
  },
  {
   "cell_type": "code",
   "execution_count": 11,
   "id": "610f0461",
   "metadata": {},
   "outputs": [
    {
     "data": {
      "text/plain": [
       "1.773768434429199"
      ]
     },
     "execution_count": 11,
     "metadata": {},
     "output_type": "execute_result"
    }
   ],
   "source": [
    "sample_mean=89.2\n",
    "pop_mean=85\n",
    "pop_std=11.6\n",
    "n=25\n",
    "\n",
    "statistic= (sample_mean-pop_mean)/(sampl_std/(math.sqrt(n-1)))\n",
    "statistic #(t value)"
   ]
  },
  {
   "cell_type": "code",
   "execution_count": 12,
   "id": "0ccff0f8",
   "metadata": {},
   "outputs": [
    {
     "data": {
      "text/plain": [
       "1.6448536269514722"
      ]
     },
     "execution_count": 12,
     "metadata": {},
     "output_type": "execute_result"
    }
   ],
   "source": [
    "#1 tailed test \n",
    "critical_value=norm.ppf(1-0.05)\n",
    "critical_value"
   ]
  },
  {
   "cell_type": "code",
   "execution_count": 13,
   "id": "c603d181",
   "metadata": {},
   "outputs": [
    {
     "data": {
      "text/plain": [
       "1.9599639845400545"
      ]
     },
     "execution_count": 13,
     "metadata": {},
     "output_type": "execute_result"
    }
   ],
   "source": [
    "#two tailed test \n",
    "critical_value=abs(norm.ppf(0.025))\n",
    "critical_value\n",
    "# ie we can be above or below this value on either side of the t test"
   ]
  },
  {
   "cell_type": "code",
   "execution_count": 14,
   "id": "a204d3a2",
   "metadata": {},
   "outputs": [
    {
     "data": {
      "text/plain": [
       "0.038050730694828894"
      ]
     },
     "execution_count": 14,
     "metadata": {},
     "output_type": "execute_result"
    }
   ],
   "source": [
    "pvalue = 1-norm.cdf(statistic)\n",
    "pvalue"
   ]
  },
  {
   "cell_type": "markdown",
   "id": "81770bd4",
   "metadata": {},
   "source": [
    "## Compare sample to sample t test "
   ]
  },
  {
   "cell_type": "markdown",
   "id": "ce7e9666",
   "metadata": {},
   "source": [
    "Blood samples from n = 100 people were sent to each of two laboratories (Lab 1 and Lab 2) for cholesterol determinations. The resulting data are summarized here:\n",
    "+ Sample 1 mean: 260.6\n",
    "+ Sample 2 mean: 275\n",
    "+ Mean of differences: -14.4\n",
    "+ Standard deviation difference:  6.77\n",
    "\n",
    "Is there a statistically significant difference at the α = 0.01 level, say, in the (population) mean cholesterol levels reported by Lab 1 and Lab 2?"
   ]
  },
  {
   "cell_type": "code",
   "execution_count": 15,
   "id": "063dc476",
   "metadata": {},
   "outputs": [],
   "source": [
    "# when comparing sample to sample, we will use the t table \n",
    "\n",
    "from scipy.stats import t"
   ]
  },
  {
   "cell_type": "code",
   "execution_count": 16,
   "id": "84663656",
   "metadata": {},
   "outputs": [],
   "source": [
    "n=100"
   ]
  },
  {
   "cell_type": "markdown",
   "id": "262c9273",
   "metadata": {},
   "source": [
    "on a sample size of 100, dof is n-1 (99)\n",
    "\n",
    "As we are looking for a difference, rather than specifically lower or higher, we will conduct a 2 tailed t test "
   ]
  },
  {
   "cell_type": "code",
   "execution_count": 17,
   "id": "6166f0f6",
   "metadata": {},
   "outputs": [
    {
     "data": {
      "text/plain": [
       "-2.626405456385186"
      ]
     },
     "execution_count": 17,
     "metadata": {},
     "output_type": "execute_result"
    }
   ],
   "source": [
    "#we can identify the t table critical value using t. and the n \n",
    "\n",
    "t.ppf(0.005, n-1)"
   ]
  },
  {
   "cell_type": "code",
   "execution_count": 18,
   "id": "3c370b80",
   "metadata": {},
   "outputs": [
    {
     "name": "stdout",
     "output_type": "stream",
     "text": [
      "Statistic is:  -21.270310192023636\n",
      "P value is:  5.3009008432553076e-39\n",
      "Critical Value of z is:  -2.626405456385186\n"
     ]
    }
   ],
   "source": [
    "difference_mean = -14.4\n",
    "difference_std = 6.77\n",
    "n = 100\n",
    "statistic = (difference_mean - 0)/(difference_std/math.sqrt(n))\n",
    "print(\"Statistic is: \", statistic)\n",
    "print(\"P value is: \", t.cdf(statistic,n-1))\n",
    "print(\"Critical Value of z is: \", t.ppf(0.005, n-1)) #alpha=0.01, 2 tailed"
   ]
  },
  {
   "cell_type": "markdown",
   "id": "683f513a",
   "metadata": {},
   "source": [
    "Summary\n",
    "\n",
    "- as t statistic is less than critical value we have evidence to reject H0"
   ]
  },
  {
   "cell_type": "code",
   "execution_count": 19,
   "id": "d6185e41",
   "metadata": {},
   "outputs": [
    {
     "name": "stdout",
     "output_type": "stream",
     "text": [
      "Upper confidence interval limit is:  -16.17807649397277\n",
      "Lower confidence interval limit is:  -12.62192350602723\n"
     ]
    }
   ],
   "source": [
    "t_critical = t.ppf(0.005, n-1)  \n",
    "upperCI =  difference_mean + t_critical*difference_std/math.sqrt(n)\n",
    "print(\"Upper confidence interval limit is: \", upperCI)\n",
    "lowerCI = difference_mean - t_critical*difference_std/math.sqrt(n)\n",
    "print(\"Lower confidence interval limit is: \", lowerCI)"
   ]
  },
  {
   "cell_type": "markdown",
   "id": "29cdb436",
   "metadata": {},
   "source": [
    "## ANOVA test "
   ]
  },
  {
   "cell_type": "markdown",
   "id": "994eee1e",
   "metadata": {},
   "source": [
    "Scenario concerns display designs and sales trend for 4 displays\n",
    "- each display has data from 5 dates (same dates). \n",
    "- samples are independent  \n",
    "- more than 2 samples - use anova "
   ]
  },
  {
   "cell_type": "code",
   "execution_count": 20,
   "id": "67a36ce1",
   "metadata": {},
   "outputs": [],
   "source": [
    "import pandas as pd"
   ]
  },
  {
   "cell_type": "code",
   "execution_count": 21,
   "id": "45c4217e",
   "metadata": {},
   "outputs": [],
   "source": [
    "data=pd.read_excel('anova_class_example_data.xlsx', sheet_name='data_collected')"
   ]
  },
  {
   "cell_type": "code",
   "execution_count": 22,
   "id": "00b5d49e",
   "metadata": {},
   "outputs": [
    {
     "data": {
      "text/html": [
       "<div>\n",
       "<style scoped>\n",
       "    .dataframe tbody tr th:only-of-type {\n",
       "        vertical-align: middle;\n",
       "    }\n",
       "\n",
       "    .dataframe tbody tr th {\n",
       "        vertical-align: top;\n",
       "    }\n",
       "\n",
       "    .dataframe thead th {\n",
       "        text-align: right;\n",
       "    }\n",
       "</style>\n",
       "<table border=\"1\" class=\"dataframe\">\n",
       "  <thead>\n",
       "    <tr style=\"text-align: right;\">\n",
       "      <th></th>\n",
       "      <th>Display_design</th>\n",
       "      <th>Percent_increase_in_sales</th>\n",
       "    </tr>\n",
       "  </thead>\n",
       "  <tbody>\n",
       "    <tr>\n",
       "      <th>0</th>\n",
       "      <td>1</td>\n",
       "      <td>575</td>\n",
       "    </tr>\n",
       "  </tbody>\n",
       "</table>\n",
       "</div>"
      ],
      "text/plain": [
       "   Display_design  Percent_increase_in_sales\n",
       "0               1                        575"
      ]
     },
     "execution_count": 22,
     "metadata": {},
     "output_type": "execute_result"
    }
   ],
   "source": [
    "data.head(1)"
   ]
  },
  {
   "cell_type": "code",
   "execution_count": 23,
   "id": "606a5ccf",
   "metadata": {},
   "outputs": [],
   "source": [
    "import statsmodels.api as sm\n",
    "from statsmodels.formula.api import ols #ordinary least squares "
   ]
  },
  {
   "cell_type": "code",
   "execution_count": 24,
   "id": "eaed3332",
   "metadata": {},
   "outputs": [],
   "source": [
    "model=ols('Percent_increase_in_sales ~ C(Display_design)',data=data).fit() "
   ]
  },
  {
   "cell_type": "code",
   "execution_count": 25,
   "id": "21fef03d",
   "metadata": {},
   "outputs": [],
   "source": [
    "results_table=sm.stats.anova_lm(model)"
   ]
  },
  {
   "cell_type": "code",
   "execution_count": 26,
   "id": "f5a1185b",
   "metadata": {},
   "outputs": [
    {
     "name": "stdout",
     "output_type": "stream",
     "text": [
      "                     df    sum_sq       mean_sq          F        PR(>F)\n",
      "C(Display_design)   3.0  66870.55  22290.183333  66.797073  2.882866e-09\n",
      "Residual           16.0   5339.20    333.700000        NaN           NaN\n"
     ]
    }
   ],
   "source": [
    "print(results_table)"
   ]
  },
  {
   "cell_type": "markdown",
   "id": "588f8f8b",
   "metadata": {},
   "source": [
    "SUMMARY \n",
    "\n",
    "yes there is a statistically significant \n",
    "difference between sales /displays\n",
    "\n",
    "doesnt tell us which display is better - but it informs theres something \n",
    "worth studying "
   ]
  },
  {
   "cell_type": "code",
   "execution_count": null,
   "id": "a3ed4fc3",
   "metadata": {},
   "outputs": [],
   "source": []
  }
 ],
 "metadata": {
  "kernelspec": {
   "display_name": "Python 3",
   "language": "python",
   "name": "python3"
  },
  "language_info": {
   "codemirror_mode": {
    "name": "ipython",
    "version": 3
   },
   "file_extension": ".py",
   "mimetype": "text/x-python",
   "name": "python",
   "nbconvert_exporter": "python",
   "pygments_lexer": "ipython3",
   "version": "3.8.8"
  }
 },
 "nbformat": 4,
 "nbformat_minor": 5
}
