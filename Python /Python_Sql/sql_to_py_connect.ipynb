{
 "cells": [
  {
   "cell_type": "markdown",
   "id": "sized-reminder",
   "metadata": {},
   "source": [
    "### installations \n",
    "command line \n",
    "\n",
    "- conda activate beesjun21 (your env name)\n",
    "- pymysql    conda install -c anaconda pymysql \n",
    "- sqlalchemy   conda install -c anaconda sqlalchemy"
   ]
  },
  {
   "cell_type": "markdown",
   "id": "continued-relay",
   "metadata": {},
   "source": [
    "### connecting to mysql from python "
   ]
  },
  {
   "cell_type": "code",
   "execution_count": 1,
   "id": "amateur-mixer",
   "metadata": {},
   "outputs": [],
   "source": [
    "import pymysql \n",
    "from sqlalchemy import create_engine \n",
    "import pandas as pd \n"
   ]
  },
  {
   "cell_type": "code",
   "execution_count": 2,
   "id": "supreme-trouble",
   "metadata": {},
   "outputs": [],
   "source": [
    "import getpass # to get the password without it being visible "
   ]
  },
  {
   "cell_type": "code",
   "execution_count": 3,
   "id": "cda525ca",
   "metadata": {},
   "outputs": [
    {
     "name": "stdout",
     "output_type": "stream",
     "text": [
      "········\n"
     ]
    }
   ],
   "source": [
    "mysqlpassword= getpass.getpass()"
   ]
  },
  {
   "cell_type": "code",
   "execution_count": 4,
   "id": "noble-fashion",
   "metadata": {},
   "outputs": [],
   "source": [
    "#define a connection string \n",
    "# dialect + driver :// username : password @host(domain) : db name \n",
    "\n",
    "connection_string = 'mysql+pymysql://root:' + mysqlpassword + '@localhost/bank'\n",
    "engine= create_engine(connection_string)"
   ]
  },
  {
   "cell_type": "markdown",
   "id": "01e7b687",
   "metadata": {},
   "source": [
    "### Initial query on loans to check everything works "
   ]
  },
  {
   "cell_type": "code",
   "execution_count": 5,
   "id": "chief-cause",
   "metadata": {},
   "outputs": [],
   "source": [
    "# dataframe creation \n",
    "\n",
    "df= pd.read_sql_query('Select * from loan', engine )"
   ]
  },
  {
   "cell_type": "code",
   "execution_count": 6,
   "id": "bronze-conservation",
   "metadata": {},
   "outputs": [
    {
     "data": {
      "text/html": [
       "<div>\n",
       "<style scoped>\n",
       "    .dataframe tbody tr th:only-of-type {\n",
       "        vertical-align: middle;\n",
       "    }\n",
       "\n",
       "    .dataframe tbody tr th {\n",
       "        vertical-align: top;\n",
       "    }\n",
       "\n",
       "    .dataframe thead th {\n",
       "        text-align: right;\n",
       "    }\n",
       "</style>\n",
       "<table border=\"1\" class=\"dataframe\">\n",
       "  <thead>\n",
       "    <tr style=\"text-align: right;\">\n",
       "      <th></th>\n",
       "      <th>loan_id</th>\n",
       "      <th>account_id</th>\n",
       "      <th>date</th>\n",
       "      <th>amount</th>\n",
       "      <th>duration</th>\n",
       "      <th>payments</th>\n",
       "      <th>status</th>\n",
       "    </tr>\n",
       "  </thead>\n",
       "  <tbody>\n",
       "    <tr>\n",
       "      <th>0</th>\n",
       "      <td>5314</td>\n",
       "      <td>1787</td>\n",
       "      <td>930705</td>\n",
       "      <td>96396</td>\n",
       "      <td>12</td>\n",
       "      <td>8033.0</td>\n",
       "      <td>B</td>\n",
       "    </tr>\n",
       "    <tr>\n",
       "      <th>1</th>\n",
       "      <td>5316</td>\n",
       "      <td>1801</td>\n",
       "      <td>930711</td>\n",
       "      <td>165960</td>\n",
       "      <td>36</td>\n",
       "      <td>4610.0</td>\n",
       "      <td>A</td>\n",
       "    </tr>\n",
       "    <tr>\n",
       "      <th>2</th>\n",
       "      <td>6863</td>\n",
       "      <td>9188</td>\n",
       "      <td>930728</td>\n",
       "      <td>127080</td>\n",
       "      <td>60</td>\n",
       "      <td>2118.0</td>\n",
       "      <td>A</td>\n",
       "    </tr>\n",
       "    <tr>\n",
       "      <th>3</th>\n",
       "      <td>5325</td>\n",
       "      <td>1843</td>\n",
       "      <td>930803</td>\n",
       "      <td>105804</td>\n",
       "      <td>36</td>\n",
       "      <td>2939.0</td>\n",
       "      <td>A</td>\n",
       "    </tr>\n",
       "    <tr>\n",
       "      <th>4</th>\n",
       "      <td>7240</td>\n",
       "      <td>11013</td>\n",
       "      <td>930906</td>\n",
       "      <td>274740</td>\n",
       "      <td>60</td>\n",
       "      <td>4579.0</td>\n",
       "      <td>A</td>\n",
       "    </tr>\n",
       "    <tr>\n",
       "      <th>...</th>\n",
       "      <td>...</td>\n",
       "      <td>...</td>\n",
       "      <td>...</td>\n",
       "      <td>...</td>\n",
       "      <td>...</td>\n",
       "      <td>...</td>\n",
       "      <td>...</td>\n",
       "    </tr>\n",
       "    <tr>\n",
       "      <th>677</th>\n",
       "      <td>4989</td>\n",
       "      <td>105</td>\n",
       "      <td>981205</td>\n",
       "      <td>352704</td>\n",
       "      <td>48</td>\n",
       "      <td>7348.0</td>\n",
       "      <td>C</td>\n",
       "    </tr>\n",
       "    <tr>\n",
       "      <th>678</th>\n",
       "      <td>5221</td>\n",
       "      <td>1284</td>\n",
       "      <td>981205</td>\n",
       "      <td>52512</td>\n",
       "      <td>12</td>\n",
       "      <td>4376.0</td>\n",
       "      <td>C</td>\n",
       "    </tr>\n",
       "    <tr>\n",
       "      <th>679</th>\n",
       "      <td>6402</td>\n",
       "      <td>6922</td>\n",
       "      <td>981206</td>\n",
       "      <td>139488</td>\n",
       "      <td>24</td>\n",
       "      <td>5812.0</td>\n",
       "      <td>C</td>\n",
       "    </tr>\n",
       "    <tr>\n",
       "      <th>680</th>\n",
       "      <td>5346</td>\n",
       "      <td>1928</td>\n",
       "      <td>981206</td>\n",
       "      <td>55632</td>\n",
       "      <td>24</td>\n",
       "      <td>2318.0</td>\n",
       "      <td>C</td>\n",
       "    </tr>\n",
       "    <tr>\n",
       "      <th>681</th>\n",
       "      <td>6748</td>\n",
       "      <td>8645</td>\n",
       "      <td>981208</td>\n",
       "      <td>240900</td>\n",
       "      <td>60</td>\n",
       "      <td>4015.0</td>\n",
       "      <td>C</td>\n",
       "    </tr>\n",
       "  </tbody>\n",
       "</table>\n",
       "<p>682 rows × 7 columns</p>\n",
       "</div>"
      ],
      "text/plain": [
       "     loan_id  account_id    date  amount  duration  payments status\n",
       "0       5314        1787  930705   96396        12    8033.0      B\n",
       "1       5316        1801  930711  165960        36    4610.0      A\n",
       "2       6863        9188  930728  127080        60    2118.0      A\n",
       "3       5325        1843  930803  105804        36    2939.0      A\n",
       "4       7240       11013  930906  274740        60    4579.0      A\n",
       "..       ...         ...     ...     ...       ...       ...    ...\n",
       "677     4989         105  981205  352704        48    7348.0      C\n",
       "678     5221        1284  981205   52512        12    4376.0      C\n",
       "679     6402        6922  981206  139488        24    5812.0      C\n",
       "680     5346        1928  981206   55632        24    2318.0      C\n",
       "681     6748        8645  981208  240900        60    4015.0      C\n",
       "\n",
       "[682 rows x 7 columns]"
      ]
     },
     "execution_count": 6,
     "metadata": {},
     "output_type": "execute_result"
    }
   ],
   "source": [
    "df"
   ]
  },
  {
   "cell_type": "markdown",
   "id": "deac94dd",
   "metadata": {},
   "source": [
    "### aggregated query to select summary rows of loans "
   ]
  },
  {
   "cell_type": "code",
   "execution_count": 7,
   "id": "polished-birthday",
   "metadata": {},
   "outputs": [],
   "source": [
    "dloans=pd.read_sql_query('''select \n",
    "d.A2 as districtname, d.A3 as region,\n",
    "sum(l.amount) as totalborrrowed, \n",
    "count(l.loan_id) as noofloanstaken,\n",
    "round(avg(l.amount)) as avgloanvalue\n",
    " from loan l\n",
    "join account a using(account_id)\n",
    "join district d on \n",
    "a.district_id= d.A1\n",
    "group by d.A2, d.A3\n",
    "order by sum(l.amount) DESC\n",
    "limit 30''',engine)"
   ]
  },
  {
   "cell_type": "code",
   "execution_count": 8,
   "id": "british-county",
   "metadata": {},
   "outputs": [
    {
     "data": {
      "text/html": [
       "<div>\n",
       "<style scoped>\n",
       "    .dataframe tbody tr th:only-of-type {\n",
       "        vertical-align: middle;\n",
       "    }\n",
       "\n",
       "    .dataframe tbody tr th {\n",
       "        vertical-align: top;\n",
       "    }\n",
       "\n",
       "    .dataframe thead th {\n",
       "        text-align: right;\n",
       "    }\n",
       "</style>\n",
       "<table border=\"1\" class=\"dataframe\">\n",
       "  <thead>\n",
       "    <tr style=\"text-align: right;\">\n",
       "      <th></th>\n",
       "      <th>districtname</th>\n",
       "      <th>region</th>\n",
       "      <th>totalborrrowed</th>\n",
       "      <th>noofloanstaken</th>\n",
       "      <th>avgloanvalue</th>\n",
       "    </tr>\n",
       "  </thead>\n",
       "  <tbody>\n",
       "    <tr>\n",
       "      <th>0</th>\n",
       "      <td>Hl.m. Praha</td>\n",
       "      <td>Prague</td>\n",
       "      <td>12932412.0</td>\n",
       "      <td>84</td>\n",
       "      <td>153957.0</td>\n",
       "    </tr>\n",
       "    <tr>\n",
       "      <th>1</th>\n",
       "      <td>Brno - mesto</td>\n",
       "      <td>south Moravia</td>\n",
       "      <td>4049400.0</td>\n",
       "      <td>24</td>\n",
       "      <td>168725.0</td>\n",
       "    </tr>\n",
       "    <tr>\n",
       "      <th>2</th>\n",
       "      <td>Ostrava - mesto</td>\n",
       "      <td>north Moravia</td>\n",
       "      <td>3260220.0</td>\n",
       "      <td>20</td>\n",
       "      <td>163011.0</td>\n",
       "    </tr>\n",
       "    <tr>\n",
       "      <th>3</th>\n",
       "      <td>Karvina</td>\n",
       "      <td>north Moravia</td>\n",
       "      <td>3059820.0</td>\n",
       "      <td>24</td>\n",
       "      <td>127493.0</td>\n",
       "    </tr>\n",
       "    <tr>\n",
       "      <th>4</th>\n",
       "      <td>Zlin</td>\n",
       "      <td>south Moravia</td>\n",
       "      <td>3012768.0</td>\n",
       "      <td>17</td>\n",
       "      <td>177222.0</td>\n",
       "    </tr>\n",
       "    <tr>\n",
       "      <th>5</th>\n",
       "      <td>Prachatice</td>\n",
       "      <td>south Bohemia</td>\n",
       "      <td>2356692.0</td>\n",
       "      <td>14</td>\n",
       "      <td>168335.0</td>\n",
       "    </tr>\n",
       "    <tr>\n",
       "      <th>6</th>\n",
       "      <td>Olomouc</td>\n",
       "      <td>north Moravia</td>\n",
       "      <td>2287596.0</td>\n",
       "      <td>14</td>\n",
       "      <td>163400.0</td>\n",
       "    </tr>\n",
       "    <tr>\n",
       "      <th>7</th>\n",
       "      <td>Usti nad Orlici</td>\n",
       "      <td>east Bohemia</td>\n",
       "      <td>2213160.0</td>\n",
       "      <td>14</td>\n",
       "      <td>158083.0</td>\n",
       "    </tr>\n",
       "    <tr>\n",
       "      <th>8</th>\n",
       "      <td>Svitavy</td>\n",
       "      <td>east Bohemia</td>\n",
       "      <td>2100084.0</td>\n",
       "      <td>12</td>\n",
       "      <td>175007.0</td>\n",
       "    </tr>\n",
       "    <tr>\n",
       "      <th>9</th>\n",
       "      <td>Kutna Hora</td>\n",
       "      <td>central Bohemia</td>\n",
       "      <td>2095980.0</td>\n",
       "      <td>9</td>\n",
       "      <td>232887.0</td>\n",
       "    </tr>\n",
       "    <tr>\n",
       "      <th>10</th>\n",
       "      <td>Frydek - Mistek</td>\n",
       "      <td>north Moravia</td>\n",
       "      <td>2053752.0</td>\n",
       "      <td>16</td>\n",
       "      <td>128360.0</td>\n",
       "    </tr>\n",
       "    <tr>\n",
       "      <th>11</th>\n",
       "      <td>Ceske Budejovice</td>\n",
       "      <td>south Bohemia</td>\n",
       "      <td>2010924.0</td>\n",
       "      <td>8</td>\n",
       "      <td>251366.0</td>\n",
       "    </tr>\n",
       "    <tr>\n",
       "      <th>12</th>\n",
       "      <td>Jesenik</td>\n",
       "      <td>north Moravia</td>\n",
       "      <td>1938432.0</td>\n",
       "      <td>8</td>\n",
       "      <td>242304.0</td>\n",
       "    </tr>\n",
       "    <tr>\n",
       "      <th>13</th>\n",
       "      <td>Kolin</td>\n",
       "      <td>central Bohemia</td>\n",
       "      <td>1901160.0</td>\n",
       "      <td>10</td>\n",
       "      <td>190116.0</td>\n",
       "    </tr>\n",
       "    <tr>\n",
       "      <th>14</th>\n",
       "      <td>Nachod</td>\n",
       "      <td>east Bohemia</td>\n",
       "      <td>1768380.0</td>\n",
       "      <td>6</td>\n",
       "      <td>294730.0</td>\n",
       "    </tr>\n",
       "    <tr>\n",
       "      <th>15</th>\n",
       "      <td>Uherske Hradiste</td>\n",
       "      <td>south Moravia</td>\n",
       "      <td>1682040.0</td>\n",
       "      <td>10</td>\n",
       "      <td>168204.0</td>\n",
       "    </tr>\n",
       "    <tr>\n",
       "      <th>16</th>\n",
       "      <td>Pardubice</td>\n",
       "      <td>east Bohemia</td>\n",
       "      <td>1648368.0</td>\n",
       "      <td>10</td>\n",
       "      <td>164837.0</td>\n",
       "    </tr>\n",
       "    <tr>\n",
       "      <th>17</th>\n",
       "      <td>Louny</td>\n",
       "      <td>north Bohemia</td>\n",
       "      <td>1540056.0</td>\n",
       "      <td>13</td>\n",
       "      <td>118466.0</td>\n",
       "    </tr>\n",
       "    <tr>\n",
       "      <th>18</th>\n",
       "      <td>Opava</td>\n",
       "      <td>north Moravia</td>\n",
       "      <td>1493076.0</td>\n",
       "      <td>8</td>\n",
       "      <td>186635.0</td>\n",
       "    </tr>\n",
       "    <tr>\n",
       "      <th>19</th>\n",
       "      <td>Beroun</td>\n",
       "      <td>central Bohemia</td>\n",
       "      <td>1460796.0</td>\n",
       "      <td>6</td>\n",
       "      <td>243466.0</td>\n",
       "    </tr>\n",
       "    <tr>\n",
       "      <th>20</th>\n",
       "      <td>Chrudim</td>\n",
       "      <td>east Bohemia</td>\n",
       "      <td>1431684.0</td>\n",
       "      <td>8</td>\n",
       "      <td>178961.0</td>\n",
       "    </tr>\n",
       "    <tr>\n",
       "      <th>21</th>\n",
       "      <td>Jindrichuv Hradec</td>\n",
       "      <td>south Bohemia</td>\n",
       "      <td>1339572.0</td>\n",
       "      <td>11</td>\n",
       "      <td>121779.0</td>\n",
       "    </tr>\n",
       "    <tr>\n",
       "      <th>22</th>\n",
       "      <td>Plzen - sever</td>\n",
       "      <td>west Bohemia</td>\n",
       "      <td>1338984.0</td>\n",
       "      <td>7</td>\n",
       "      <td>191283.0</td>\n",
       "    </tr>\n",
       "    <tr>\n",
       "      <th>23</th>\n",
       "      <td>Rokycany</td>\n",
       "      <td>west Bohemia</td>\n",
       "      <td>1329204.0</td>\n",
       "      <td>8</td>\n",
       "      <td>166151.0</td>\n",
       "    </tr>\n",
       "    <tr>\n",
       "      <th>24</th>\n",
       "      <td>Zdar nad Sazavou</td>\n",
       "      <td>south Moravia</td>\n",
       "      <td>1326540.0</td>\n",
       "      <td>7</td>\n",
       "      <td>189506.0</td>\n",
       "    </tr>\n",
       "    <tr>\n",
       "      <th>25</th>\n",
       "      <td>Pribram</td>\n",
       "      <td>central Bohemia</td>\n",
       "      <td>1299192.0</td>\n",
       "      <td>8</td>\n",
       "      <td>162399.0</td>\n",
       "    </tr>\n",
       "    <tr>\n",
       "      <th>26</th>\n",
       "      <td>Plzen - jih</td>\n",
       "      <td>west Bohemia</td>\n",
       "      <td>1294188.0</td>\n",
       "      <td>9</td>\n",
       "      <td>143799.0</td>\n",
       "    </tr>\n",
       "    <tr>\n",
       "      <th>27</th>\n",
       "      <td>Bruntal</td>\n",
       "      <td>north Moravia</td>\n",
       "      <td>1277796.0</td>\n",
       "      <td>6</td>\n",
       "      <td>212966.0</td>\n",
       "    </tr>\n",
       "    <tr>\n",
       "      <th>28</th>\n",
       "      <td>Praha - zapad</td>\n",
       "      <td>central Bohemia</td>\n",
       "      <td>1233096.0</td>\n",
       "      <td>11</td>\n",
       "      <td>112100.0</td>\n",
       "    </tr>\n",
       "    <tr>\n",
       "      <th>29</th>\n",
       "      <td>Brno - venkov</td>\n",
       "      <td>south Moravia</td>\n",
       "      <td>1232232.0</td>\n",
       "      <td>10</td>\n",
       "      <td>123223.0</td>\n",
       "    </tr>\n",
       "  </tbody>\n",
       "</table>\n",
       "</div>"
      ],
      "text/plain": [
       "         districtname           region  totalborrrowed  noofloanstaken  \\\n",
       "0         Hl.m. Praha           Prague      12932412.0              84   \n",
       "1        Brno - mesto    south Moravia       4049400.0              24   \n",
       "2     Ostrava - mesto    north Moravia       3260220.0              20   \n",
       "3             Karvina    north Moravia       3059820.0              24   \n",
       "4                Zlin    south Moravia       3012768.0              17   \n",
       "5          Prachatice    south Bohemia       2356692.0              14   \n",
       "6             Olomouc    north Moravia       2287596.0              14   \n",
       "7     Usti nad Orlici     east Bohemia       2213160.0              14   \n",
       "8             Svitavy     east Bohemia       2100084.0              12   \n",
       "9          Kutna Hora  central Bohemia       2095980.0               9   \n",
       "10    Frydek - Mistek    north Moravia       2053752.0              16   \n",
       "11   Ceske Budejovice    south Bohemia       2010924.0               8   \n",
       "12            Jesenik    north Moravia       1938432.0               8   \n",
       "13              Kolin  central Bohemia       1901160.0              10   \n",
       "14             Nachod     east Bohemia       1768380.0               6   \n",
       "15   Uherske Hradiste    south Moravia       1682040.0              10   \n",
       "16          Pardubice     east Bohemia       1648368.0              10   \n",
       "17              Louny    north Bohemia       1540056.0              13   \n",
       "18              Opava    north Moravia       1493076.0               8   \n",
       "19             Beroun  central Bohemia       1460796.0               6   \n",
       "20            Chrudim     east Bohemia       1431684.0               8   \n",
       "21  Jindrichuv Hradec    south Bohemia       1339572.0              11   \n",
       "22      Plzen - sever     west Bohemia       1338984.0               7   \n",
       "23           Rokycany     west Bohemia       1329204.0               8   \n",
       "24   Zdar nad Sazavou    south Moravia       1326540.0               7   \n",
       "25            Pribram  central Bohemia       1299192.0               8   \n",
       "26        Plzen - jih     west Bohemia       1294188.0               9   \n",
       "27            Bruntal    north Moravia       1277796.0               6   \n",
       "28      Praha - zapad  central Bohemia       1233096.0              11   \n",
       "29      Brno - venkov    south Moravia       1232232.0              10   \n",
       "\n",
       "    avgloanvalue  \n",
       "0       153957.0  \n",
       "1       168725.0  \n",
       "2       163011.0  \n",
       "3       127493.0  \n",
       "4       177222.0  \n",
       "5       168335.0  \n",
       "6       163400.0  \n",
       "7       158083.0  \n",
       "8       175007.0  \n",
       "9       232887.0  \n",
       "10      128360.0  \n",
       "11      251366.0  \n",
       "12      242304.0  \n",
       "13      190116.0  \n",
       "14      294730.0  \n",
       "15      168204.0  \n",
       "16      164837.0  \n",
       "17      118466.0  \n",
       "18      186635.0  \n",
       "19      243466.0  \n",
       "20      178961.0  \n",
       "21      121779.0  \n",
       "22      191283.0  \n",
       "23      166151.0  \n",
       "24      189506.0  \n",
       "25      162399.0  \n",
       "26      143799.0  \n",
       "27      212966.0  \n",
       "28      112100.0  \n",
       "29      123223.0  "
      ]
     },
     "execution_count": 8,
     "metadata": {},
     "output_type": "execute_result"
    }
   ],
   "source": [
    "dloans"
   ]
  },
  {
   "cell_type": "code",
   "execution_count": 9,
   "id": "interior-judge",
   "metadata": {},
   "outputs": [
    {
     "name": "stdout",
     "output_type": "stream",
     "text": [
      "<class 'pandas.core.frame.DataFrame'>\n",
      "RangeIndex: 30 entries, 0 to 29\n",
      "Data columns (total 5 columns):\n",
      " #   Column          Non-Null Count  Dtype  \n",
      "---  ------          --------------  -----  \n",
      " 0   districtname    30 non-null     object \n",
      " 1   region          30 non-null     object \n",
      " 2   totalborrrowed  30 non-null     float64\n",
      " 3   noofloanstaken  30 non-null     int64  \n",
      " 4   avgloanvalue    30 non-null     float64\n",
      "dtypes: float64(2), int64(1), object(2)\n",
      "memory usage: 1.3+ KB\n"
     ]
    }
   ],
   "source": [
    "dloans.info()"
   ]
  },
  {
   "cell_type": "markdown",
   "id": "dressed-check",
   "metadata": {},
   "source": [
    "## next - visualisation!"
   ]
  },
  {
   "cell_type": "code",
   "execution_count": 10,
   "id": "heavy-impression",
   "metadata": {},
   "outputs": [],
   "source": [
    "import matplotlib.pyplot as plt \n",
    "import seaborn as sns \n",
    "\n",
    "#defining the question \n",
    "# right chart type / aggreg to answer the question "
   ]
  },
  {
   "cell_type": "code",
   "execution_count": 11,
   "id": "short-blocking",
   "metadata": {},
   "outputs": [
    {
     "data": {
      "text/plain": [
       "<AxesSubplot:>"
      ]
     },
     "execution_count": 11,
     "metadata": {},
     "output_type": "execute_result"
    },
    {
     "data": {
      "image/png": "[encoded data removed]",
      "text/plain": [
       "<Figure size 432x288 with 1 Axes>"
      ]
     },
     "metadata": {
      "needs_background": "light"
     },
     "output_type": "display_data"
    }
   ],
   "source": [
    "plotdata= dloans\n",
    "plotdata.plot(kind=\"bar\")"
   ]
  },
  {
   "cell_type": "code",
   "execution_count": 12,
   "id": "quality-missile",
   "metadata": {},
   "outputs": [
    {
     "data": {
      "text/plain": [
       "<AxesSubplot:xlabel='totalborrrowed', ylabel='avgloanvalue'>"
      ]
     },
     "execution_count": 12,
     "metadata": {},
     "output_type": "execute_result"
    },
    {
     "data": {
      "image/png": "[encoded data removed]",
      "text/plain": [
       "<Figure size 432x288 with 1 Axes>"
      ]
     },
     "metadata": {
      "needs_background": "light"
     },
     "output_type": "display_data"
    }
   ],
   "source": [
    "#Q: whats the relationship between no of loans, size of loans per district ? \n",
    "sns.scatterplot(x='totalborrrowed', y= 'avgloanvalue',\n",
    "                hue ='noofloanstaken', size = 'noofloanstaken', legend = 0, data = dloans)"
   ]
  },
  {
   "cell_type": "code",
   "execution_count": 13,
   "id": "affecting-centre",
   "metadata": {},
   "outputs": [
    {
     "data": {
      "text/plain": [
       "<seaborn.axisgrid.FacetGrid at 0x7fa939fc0970>"
      ]
     },
     "execution_count": 13,
     "metadata": {},
     "output_type": "execute_result"
    },
    {
     "data": {
      "image/png": "[encoded data removed]",
      "text/plain": [
       "<Figure size 360x360 with 1 Axes>"
      ]
     },
     "metadata": {
      "needs_background": "light"
     },
     "output_type": "display_data"
    }
   ],
   "source": [
    "#Q: in which district have we lent the most ? \n",
    "\n",
    "sns.catplot(y=\"districtname\", x=\"avgloanvalue\", data=dloans)"
   ]
  },
  {
   "cell_type": "code",
   "execution_count": 14,
   "id": "sharp-authentication",
   "metadata": {},
   "outputs": [
    {
     "data": {
      "image/png": "[encoded data removed]",
      "text/plain": [
       "<Figure size 720x432 with 1 Axes>"
      ]
     },
     "metadata": {
      "needs_background": "light"
     },
     "output_type": "display_data"
    }
   ],
   "source": [
    "#Q: in which district have we lent the most ? a better chart \n",
    "\n",
    "plt.figure(figsize=(10,6))\n",
    "sns_plot = sns.barplot(y='districtname',x ='totalborrrowed', data = dloans, palette = \"mako\", order=dloans.sort_values('totalborrrowed', ascending = False).districtname)\n",
    "# set labels\n",
    "plt.xlabel(\"Amount Borrowed\", size=15)\n",
    "plt.ylabel(\"District\", size=15)\n",
    "plt.title(\"Loans per District\", size=18)\n",
    "plt.tight_layout()\n",
    "\n",
    "#export image \n",
    "plt.savefig(\"loansdistrict.png\", dpi=100)"
   ]
  },
  {
   "cell_type": "code",
   "execution_count": 15,
   "id": "ca405e56",
   "metadata": {},
   "outputs": [
    {
     "name": "stdout",
     "output_type": "stream",
     "text": [
      "<class 'pandas.core.frame.DataFrame'>\n",
      "RangeIndex: 30 entries, 0 to 29\n",
      "Data columns (total 5 columns):\n",
      " #   Column          Non-Null Count  Dtype  \n",
      "---  ------          --------------  -----  \n",
      " 0   districtname    30 non-null     object \n",
      " 1   region          30 non-null     object \n",
      " 2   totalborrrowed  30 non-null     float64\n",
      " 3   noofloanstaken  30 non-null     int64  \n",
      " 4   avgloanvalue    30 non-null     float64\n",
      "dtypes: float64(2), int64(1), object(2)\n",
      "memory usage: 1.3+ KB\n"
     ]
    }
   ],
   "source": [
    "dloans.info()"
   ]
  },
  {
   "cell_type": "markdown",
   "id": "b881b537",
   "metadata": {},
   "source": [
    "### adding a specified size to the visual frame "
   ]
  },
  {
   "cell_type": "code",
   "execution_count": 16,
   "id": "1fe437eb",
   "metadata": {},
   "outputs": [],
   "source": [
    "filtered=dloans[dloans['region']!= 'Prague']"
   ]
  },
  {
   "cell_type": "code",
   "execution_count": 42,
   "id": "arctic-grenada",
   "metadata": {},
   "outputs": [
    {
     "data": {
      "image/png": "[encoded data removed]",
      "text/plain": [
       "<Figure size 1224x576 with 1 Axes>"
      ]
     },
     "metadata": {
      "needs_background": "light"
     },
     "output_type": "display_data"
    }
   ],
   "source": [
    "fig = plt.figure(figsize=(17,8))\n",
    "\n",
    "ax = sns.boxplot(x =\"noofloanstaken\", y = \"region\", hue = \"region\",\n",
    "                 data = filtered, palette = \"Set3\")"
   ]
  },
  {
   "cell_type": "markdown",
   "id": "db18b6ec",
   "metadata": {},
   "source": [
    "### Can we do churn analysis without a complex sql query ?"
   ]
  },
  {
   "cell_type": "code",
   "execution_count": 43,
   "id": "00c0d2c9",
   "metadata": {},
   "outputs": [],
   "source": [
    "#note we dont want to just join trans to loans and pull back all the data, as the trans table is very big \n",
    "#we do need the join anyway, thats unavoidable \n",
    "\n",
    "statuses=pd.read_sql_query('''select l.status, t.date,\n",
    "count(distinct t.account_id) as noofaccounts,\n",
    "count(distinct t.trans_id) as nooftrans,\n",
    "sum(t.amount) as movedamount \n",
    "from trans t\n",
    "join disp d using (account_id) \n",
    "join loan l using (account_id) \n",
    "where d.type = 'OWNER'\n",
    "group by l.status, t.date''',engine)"
   ]
  },
  {
   "cell_type": "code",
   "execution_count": 56,
   "id": "ad8637f5",
   "metadata": {},
   "outputs": [
    {
     "data": {
      "text/html": [
       "<div>\n",
       "<style scoped>\n",
       "    .dataframe tbody tr th:only-of-type {\n",
       "        vertical-align: middle;\n",
       "    }\n",
       "\n",
       "    .dataframe tbody tr th {\n",
       "        vertical-align: top;\n",
       "    }\n",
       "\n",
       "    .dataframe thead th {\n",
       "        text-align: right;\n",
       "    }\n",
       "</style>\n",
       "<table border=\"1\" class=\"dataframe\">\n",
       "  <thead>\n",
       "    <tr style=\"text-align: right;\">\n",
       "      <th></th>\n",
       "      <th>status</th>\n",
       "      <th>date</th>\n",
       "      <th>noofaccounts</th>\n",
       "      <th>nooftrans</th>\n",
       "      <th>movedamount</th>\n",
       "      <th>M-Y</th>\n",
       "      <th>statusgroup</th>\n",
       "    </tr>\n",
       "  </thead>\n",
       "  <tbody>\n",
       "    <tr>\n",
       "      <th>0</th>\n",
       "      <td>A</td>\n",
       "      <td>930114</td>\n",
       "      <td>2</td>\n",
       "      <td>2</td>\n",
       "      <td>45749.000000</td>\n",
       "      <td>9301</td>\n",
       "      <td>goodloans</td>\n",
       "    </tr>\n",
       "    <tr>\n",
       "      <th>1</th>\n",
       "      <td>A</td>\n",
       "      <td>930117</td>\n",
       "      <td>1</td>\n",
       "      <td>1</td>\n",
       "      <td>1100.000000</td>\n",
       "      <td>9301</td>\n",
       "      <td>goodloans</td>\n",
       "    </tr>\n",
       "    <tr>\n",
       "      <th>2</th>\n",
       "      <td>A</td>\n",
       "      <td>930119</td>\n",
       "      <td>1</td>\n",
       "      <td>1</td>\n",
       "      <td>700.000000</td>\n",
       "      <td>9301</td>\n",
       "      <td>goodloans</td>\n",
       "    </tr>\n",
       "    <tr>\n",
       "      <th>3</th>\n",
       "      <td>A</td>\n",
       "      <td>930124</td>\n",
       "      <td>1</td>\n",
       "      <td>1</td>\n",
       "      <td>900.000000</td>\n",
       "      <td>9301</td>\n",
       "      <td>goodloans</td>\n",
       "    </tr>\n",
       "    <tr>\n",
       "      <th>4</th>\n",
       "      <td>A</td>\n",
       "      <td>930125</td>\n",
       "      <td>1</td>\n",
       "      <td>1</td>\n",
       "      <td>900.000000</td>\n",
       "      <td>9301</td>\n",
       "      <td>goodloans</td>\n",
       "    </tr>\n",
       "    <tr>\n",
       "      <th>5</th>\n",
       "      <td>A</td>\n",
       "      <td>930130</td>\n",
       "      <td>1</td>\n",
       "      <td>1</td>\n",
       "      <td>1000.000000</td>\n",
       "      <td>9301</td>\n",
       "      <td>goodloans</td>\n",
       "    </tr>\n",
       "    <tr>\n",
       "      <th>6</th>\n",
       "      <td>A</td>\n",
       "      <td>930131</td>\n",
       "      <td>2</td>\n",
       "      <td>3</td>\n",
       "      <td>5392.999997</td>\n",
       "      <td>9301</td>\n",
       "      <td>goodloans</td>\n",
       "    </tr>\n",
       "    <tr>\n",
       "      <th>7</th>\n",
       "      <td>A</td>\n",
       "      <td>930204</td>\n",
       "      <td>1</td>\n",
       "      <td>1</td>\n",
       "      <td>300.000000</td>\n",
       "      <td>9302</td>\n",
       "      <td>goodloans</td>\n",
       "    </tr>\n",
       "    <tr>\n",
       "      <th>8</th>\n",
       "      <td>A</td>\n",
       "      <td>930205</td>\n",
       "      <td>1</td>\n",
       "      <td>1</td>\n",
       "      <td>7618.000000</td>\n",
       "      <td>9302</td>\n",
       "      <td>goodloans</td>\n",
       "    </tr>\n",
       "    <tr>\n",
       "      <th>9</th>\n",
       "      <td>A</td>\n",
       "      <td>930207</td>\n",
       "      <td>2</td>\n",
       "      <td>2</td>\n",
       "      <td>14693.000000</td>\n",
       "      <td>9302</td>\n",
       "      <td>goodloans</td>\n",
       "    </tr>\n",
       "    <tr>\n",
       "      <th>10</th>\n",
       "      <td>A</td>\n",
       "      <td>930208</td>\n",
       "      <td>3</td>\n",
       "      <td>3</td>\n",
       "      <td>2100.000000</td>\n",
       "      <td>9302</td>\n",
       "      <td>goodloans</td>\n",
       "    </tr>\n",
       "    <tr>\n",
       "      <th>11</th>\n",
       "      <td>A</td>\n",
       "      <td>930210</td>\n",
       "      <td>1</td>\n",
       "      <td>1</td>\n",
       "      <td>1100.000000</td>\n",
       "      <td>9302</td>\n",
       "      <td>goodloans</td>\n",
       "    </tr>\n",
       "    <tr>\n",
       "      <th>12</th>\n",
       "      <td>A</td>\n",
       "      <td>930211</td>\n",
       "      <td>1</td>\n",
       "      <td>1</td>\n",
       "      <td>12154.000000</td>\n",
       "      <td>9302</td>\n",
       "      <td>goodloans</td>\n",
       "    </tr>\n",
       "    <tr>\n",
       "      <th>13</th>\n",
       "      <td>A</td>\n",
       "      <td>930212</td>\n",
       "      <td>3</td>\n",
       "      <td>4</td>\n",
       "      <td>93135.000000</td>\n",
       "      <td>9302</td>\n",
       "      <td>goodloans</td>\n",
       "    </tr>\n",
       "    <tr>\n",
       "      <th>14</th>\n",
       "      <td>A</td>\n",
       "      <td>930213</td>\n",
       "      <td>2</td>\n",
       "      <td>2</td>\n",
       "      <td>10500.000000</td>\n",
       "      <td>9302</td>\n",
       "      <td>goodloans</td>\n",
       "    </tr>\n",
       "    <tr>\n",
       "      <th>15</th>\n",
       "      <td>A</td>\n",
       "      <td>930214</td>\n",
       "      <td>1</td>\n",
       "      <td>1</td>\n",
       "      <td>44749.000000</td>\n",
       "      <td>9302</td>\n",
       "      <td>goodloans</td>\n",
       "    </tr>\n",
       "    <tr>\n",
       "      <th>16</th>\n",
       "      <td>A</td>\n",
       "      <td>930216</td>\n",
       "      <td>1</td>\n",
       "      <td>1</td>\n",
       "      <td>4200.000000</td>\n",
       "      <td>9302</td>\n",
       "      <td>goodloans</td>\n",
       "    </tr>\n",
       "    <tr>\n",
       "      <th>17</th>\n",
       "      <td>A</td>\n",
       "      <td>930218</td>\n",
       "      <td>2</td>\n",
       "      <td>2</td>\n",
       "      <td>30623.000000</td>\n",
       "      <td>9302</td>\n",
       "      <td>goodloans</td>\n",
       "    </tr>\n",
       "    <tr>\n",
       "      <th>18</th>\n",
       "      <td>A</td>\n",
       "      <td>930219</td>\n",
       "      <td>1</td>\n",
       "      <td>1</td>\n",
       "      <td>33410.000000</td>\n",
       "      <td>9302</td>\n",
       "      <td>goodloans</td>\n",
       "    </tr>\n",
       "    <tr>\n",
       "      <th>19</th>\n",
       "      <td>A</td>\n",
       "      <td>930220</td>\n",
       "      <td>1</td>\n",
       "      <td>1</td>\n",
       "      <td>700.000000</td>\n",
       "      <td>9302</td>\n",
       "      <td>goodloans</td>\n",
       "    </tr>\n",
       "  </tbody>\n",
       "</table>\n",
       "</div>"
      ],
      "text/plain": [
       "   status    date  noofaccounts  nooftrans   movedamount   M-Y statusgroup\n",
       "0       A  930114             2          2  45749.000000  9301   goodloans\n",
       "1       A  930117             1          1   1100.000000  9301   goodloans\n",
       "2       A  930119             1          1    700.000000  9301   goodloans\n",
       "3       A  930124             1          1    900.000000  9301   goodloans\n",
       "4       A  930125             1          1    900.000000  9301   goodloans\n",
       "5       A  930130             1          1   1000.000000  9301   goodloans\n",
       "6       A  930131             2          3   5392.999997  9301   goodloans\n",
       "7       A  930204             1          1    300.000000  9302   goodloans\n",
       "8       A  930205             1          1   7618.000000  9302   goodloans\n",
       "9       A  930207             2          2  14693.000000  9302   goodloans\n",
       "10      A  930208             3          3   2100.000000  9302   goodloans\n",
       "11      A  930210             1          1   1100.000000  9302   goodloans\n",
       "12      A  930211             1          1  12154.000000  9302   goodloans\n",
       "13      A  930212             3          4  93135.000000  9302   goodloans\n",
       "14      A  930213             2          2  10500.000000  9302   goodloans\n",
       "15      A  930214             1          1  44749.000000  9302   goodloans\n",
       "16      A  930216             1          1   4200.000000  9302   goodloans\n",
       "17      A  930218             2          2  30623.000000  9302   goodloans\n",
       "18      A  930219             1          1  33410.000000  9302   goodloans\n",
       "19      A  930220             1          1    700.000000  9302   goodloans"
      ]
     },
     "execution_count": 56,
     "metadata": {},
     "output_type": "execute_result"
    }
   ],
   "source": [
    "statuses.head(20)"
   ]
  },
  {
   "cell_type": "code",
   "execution_count": 45,
   "id": "b39a76f8",
   "metadata": {},
   "outputs": [
    {
     "name": "stdout",
     "output_type": "stream",
     "text": [
      "<class 'pandas.core.frame.DataFrame'>\n",
      "RangeIndex: 7615 entries, 0 to 7614\n",
      "Data columns (total 5 columns):\n",
      " #   Column        Non-Null Count  Dtype  \n",
      "---  ------        --------------  -----  \n",
      " 0   status        7615 non-null   object \n",
      " 1   date          7615 non-null   int64  \n",
      " 2   noofaccounts  7615 non-null   int64  \n",
      " 3   nooftrans     7615 non-null   int64  \n",
      " 4   movedamount   7615 non-null   float64\n",
      "dtypes: float64(1), int64(3), object(1)\n",
      "memory usage: 297.6+ KB\n"
     ]
    }
   ],
   "source": [
    "statuses.info()"
   ]
  },
  {
   "cell_type": "code",
   "execution_count": null,
   "id": "cf49f28c",
   "metadata": {},
   "outputs": [],
   "source": [
    "statuses.to_csv('statuses.csv', index=False)\n",
    "#extract to csv to visualise in tableau - covert date to date type"
   ]
  },
  {
   "cell_type": "code",
   "execution_count": null,
   "id": "2029fc88",
   "metadata": {},
   "outputs": [],
   "source": [
    "# OR prepare data a little in python to visualise the trend "
   ]
  },
  {
   "cell_type": "code",
   "execution_count": 46,
   "id": "9d307635",
   "metadata": {},
   "outputs": [],
   "source": [
    "#extract month and year from date field \n",
    "\n",
    "statuses['date'] = statuses['date'].astype(str)\n",
    "\n",
    "statuses['M-Y'] = statuses[str('date')].str[:4] "
   ]
  },
  {
   "cell_type": "code",
   "execution_count": 53,
   "id": "036f1a21",
   "metadata": {},
   "outputs": [
    {
     "data": {
      "text/plain": [
       "<AxesSubplot:xlabel='M-Y', ylabel='noofaccounts'>"
      ]
     },
     "execution_count": 53,
     "metadata": {},
     "output_type": "execute_result"
    },
    {
     "data": {
      "image/png": "[encoded data removed]",
      "text/plain": [
       "<Figure size 1152x576 with 1 Axes>"
      ]
     },
     "metadata": {
      "needs_background": "light"
     },
     "output_type": "display_data"
    }
   ],
   "source": [
    "b_status = statuses.query(\"status == 'B'\")\n",
    "fig = plt.figure(figsize=(16, 8))\n",
    "sns.lineplot(data=b_status, x=\"M-Y\", y=\"noofaccounts\", ci= None)"
   ]
  },
  {
   "cell_type": "code",
   "execution_count": null,
   "id": "acf8b1a5",
   "metadata": {},
   "outputs": [],
   "source": [
    "b_status = statuses.query(\"status == 'A'\")\n",
    "fig = plt.figure(figsize=(16, 8))\n",
    "sns.lineplot(data=b_status, x=\"M-Y\", y=\"movedamount\", ci= None)"
   ]
  },
  {
   "cell_type": "code",
   "execution_count": 54,
   "id": "186bc78a",
   "metadata": {},
   "outputs": [],
   "source": [
    "#group the loan statuses - create function\n",
    "def statusgroup(x):\n",
    "    if x in ['B', 'D']:\n",
    "        return 'badloans'\n",
    "    else:\n",
    "        return 'goodloans'"
   ]
  },
  {
   "cell_type": "code",
   "execution_count": 55,
   "id": "fb3c1609",
   "metadata": {},
   "outputs": [],
   "source": [
    "# apply this to a new column using list map \n",
    "statuses['statusgroup']= list(map(statusgroup,statuses['status']))"
   ]
  },
  {
   "cell_type": "code",
   "execution_count": 57,
   "id": "dd2a5350",
   "metadata": {},
   "outputs": [
    {
     "data": {
      "text/plain": [
       "M-Y   statusgroup\n",
       "9301  badloans         3\n",
       "      goodloans       10\n",
       "9302  badloans         3\n",
       "      goodloans       42\n",
       "9303  badloans        13\n",
       "      goodloans       86\n",
       "9304  badloans        18\n",
       "      goodloans      127\n",
       "9305  badloans        27\n",
       "      goodloans      182\n",
       "Name: nooftrans, dtype: int64"
      ]
     },
     "execution_count": 57,
     "metadata": {},
     "output_type": "execute_result"
    }
   ],
   "source": [
    "#create a group by df \n",
    "grouped=statuses.groupby([\"M-Y\", \"statusgroup\"])[\"nooftrans\"].sum()\n",
    "grouped.head(10)"
   ]
  },
  {
   "cell_type": "code",
   "execution_count": 64,
   "id": "0d007f46",
   "metadata": {},
   "outputs": [
    {
     "data": {
      "image/png": "[encoded data removed]",
      "text/plain": [
       "<Figure size 1152x576 with 1 Axes>"
      ]
     },
     "metadata": {
      "needs_background": "light"
     },
     "output_type": "display_data"
    }
   ],
   "source": [
    "fig = plt.figure(figsize=(16, 8))\n",
    "g=sns.lineplot(data=statuses, x=\"M-Y\", y=\"nooftrans\", hue=\"statusgroup\", ci= None)\n",
    "g.set(xticklabels=[])\n",
    "g.set(xlabel='Month and year')\n",
    "g.set(title='account activity over time associated with good or bad loans')\n",
    "g.tick_params(bottom=False)\n",
    "plt.show()"
   ]
  },
  {
   "cell_type": "code",
   "execution_count": null,
   "id": "3c2bbc27",
   "metadata": {},
   "outputs": [],
   "source": []
  }
 ],
 "metadata": {
  "kernelspec": {
   "display_name": "Python 3",
   "language": "python",
   "name": "python3"
  },
  "language_info": {
   "codemirror_mode": {
    "name": "ipython",
    "version": 3
   },
   "file_extension": ".py",
   "mimetype": "text/x-python",
   "name": "python",
   "nbconvert_exporter": "python",
   "pygments_lexer": "ipython3",
   "version": "3.8.8"
  },
  "toc": {
   "base_numbering": 1,
   "nav_menu": {},
   "number_sections": true,
   "sideBar": true,
   "skip_h1_title": false,
   "title_cell": "Table of Contents",
   "title_sidebar": "Contents",
   "toc_cell": false,
   "toc_position": {},
   "toc_section_display": true,
   "toc_window_display": false
  },
  "varInspector": {
   "cols": {
    "lenName": 16,
    "lenType": 16,
    "lenVar": 40
   },
   "kernels_config": {
    "python": {
     "delete_cmd_postfix": "",
     "delete_cmd_prefix": "del ",
     "library": "var_list.py",
     "varRefreshCmd": "print(var_dic_list())"
    },
    "r": {
     "delete_cmd_postfix": ") ",
     "delete_cmd_prefix": "rm(",
     "library": "var_list.r",
     "varRefreshCmd": "cat(var_dic_list()) "
    }
   },
   "types_to_exclude": [
    "module",
    "function",
    "builtin_function_or_method",
    "instance",
    "_Feature"
   ],
   "window_display": false
  }
 },
 "nbformat": 4,
 "nbformat_minor": 5
}
